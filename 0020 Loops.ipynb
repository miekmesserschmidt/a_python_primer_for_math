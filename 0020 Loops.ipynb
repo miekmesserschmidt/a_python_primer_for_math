{
 "cells": [
  {
   "cell_type": "markdown",
   "metadata": {},
   "source": [
    "Loops\n",
    "===="
   ]
  },
  {
   "cell_type": "markdown",
   "metadata": {},
   "source": [
    "Loops are used to perform a single operation over and over."
   ]
  },
  {
   "cell_type": "markdown",
   "metadata": {},
   "source": [
    "For-loops\n",
    "-------\n",
    "The for-loop is the most used kind of loop. One can think of their operation as follows: \"For every element in ...(container), do ...(action) on that element\".\n",
    "\n",
    "The \"range\" functon is a useful container to loop over. The following example prints every number in the range 0,2,3,...,9:"
   ]
  },
  {
   "cell_type": "code",
   "execution_count": 1,
   "metadata": {},
   "outputs": [
    {
     "name": "stdout",
     "output_type": "stream",
     "text": [
      "0\n",
      "1\n",
      "2\n",
      "3\n",
      "4\n",
      "5\n",
      "6\n",
      "7\n",
      "8\n",
      "9\n"
     ]
    }
   ],
   "source": [
    "for i in range(10): \n",
    "    print(i)"
   ]
  },
  {
   "cell_type": "markdown",
   "metadata": {},
   "source": [
    "... do the same, but loop over 4,5,...,9"
   ]
  },
  {
   "cell_type": "code",
   "execution_count": 2,
   "metadata": {},
   "outputs": [
    {
     "name": "stdout",
     "output_type": "stream",
     "text": [
      "4\n",
      "5\n",
      "6\n",
      "7\n",
      "8\n",
      "9\n"
     ]
    }
   ],
   "source": [
    "for i in range(4, 10): \n",
    "    print(i)"
   ]
  },
  {
   "cell_type": "markdown",
   "metadata": {},
   "source": [
    "We are not limited to loop over \"ranges\", we can loop over any container. This is the preferred way to loop over a list in Python:"
   ]
  },
  {
   "cell_type": "code",
   "execution_count": 3,
   "metadata": {},
   "outputs": [
    {
     "name": "stdout",
     "output_type": "stream",
     "text": [
      "alice\n",
      "beatrice\n",
      "candy\n",
      "dolly\n",
      "elaine\n",
      "francine\n",
      "geraldine\n"
     ]
    }
   ],
   "source": [
    "girl_names = [\"alice\", \"beatrice\", \"candy\", \n",
    "    \"dolly\", \"elaine\", \"francine\", \"geraldine\"]\n",
    "\n",
    "for name in girl_names:\n",
    "    print(name)"
   ]
  },
  {
   "cell_type": "markdown",
   "metadata": {},
   "source": [
    "We can loop in reverse order by just applying the \"reversed\" function to our list:"
   ]
  },
  {
   "cell_type": "code",
   "execution_count": 4,
   "metadata": {},
   "outputs": [
    {
     "name": "stdout",
     "output_type": "stream",
     "text": [
      "geraldine\n",
      "francine\n",
      "elaine\n",
      "dolly\n",
      "candy\n",
      "beatrice\n",
      "alice\n"
     ]
    }
   ],
   "source": [
    "for name in reversed(girl_names):\n",
    "    print(name)"
   ]
  },
  {
   "cell_type": "markdown",
   "metadata": {},
   "source": [
    "Often one want's to keep a running index. This is easily done with the \"enumerate\" function."
   ]
  },
  {
   "cell_type": "code",
   "execution_count": 5,
   "metadata": {},
   "outputs": [
    {
     "name": "stdout",
     "output_type": "stream",
     "text": [
      "0  ->  alice\n",
      "1  ->  beatrice\n",
      "2  ->  candy\n",
      "3  ->  dolly\n",
      "4  ->  elaine\n",
      "5  ->  francine\n",
      "6  ->  geraldine\n"
     ]
    }
   ],
   "source": [
    "for index, name in enumerate(girl_names):   #<------(notice the unpacking)\n",
    "    print(index, \" -> \", name)"
   ]
  },
  {
   "cell_type": "markdown",
   "metadata": {},
   "source": [
    "We can also loop directly over zip objects using unpacking"
   ]
  },
  {
   "cell_type": "code",
   "execution_count": 6,
   "metadata": {},
   "outputs": [
    {
     "name": "stdout",
     "output_type": "stream",
     "text": [
      "name :  alice\n",
      "   age  :  3\n",
      "name :  beatrice\n",
      "   age  :  3\n",
      "name :  candy\n",
      "   age  :  7\n",
      "name :  dolly\n",
      "   age  :  10\n",
      "name :  elaine\n",
      "   age  :  15\n",
      "name :  francine\n",
      "   age  :  11\n",
      "name :  geraldine\n",
      "   age  :  31\n"
     ]
    }
   ],
   "source": [
    "girl_names = [\"alice\", \"beatrice\", \"candy\", \n",
    "    \"dolly\", \"elaine\", \"francine\", \"geraldine\"]\n",
    "their_ages = [3,3,7,10,15,11,31]\n",
    "\n",
    "# ... and we can loop over zips\n",
    "for name, age in zip(girl_names, their_ages):\n",
    "    print(\"name : \", name )\n",
    "    print(\"   age  : \", age)"
   ]
  },
  {
   "cell_type": "markdown",
   "metadata": {},
   "source": [
    "While loops\n",
    "----------\n",
    "While loops are useful when we do not know before hand how many times a loop should execute. One can think of their operation as follows: \"While ... (condition) is True, do ...(action)\".\n"
   ]
  },
  {
   "cell_type": "code",
   "execution_count": 7,
   "metadata": {},
   "outputs": [
    {
     "name": "stdout",
     "output_type": "stream",
     "text": [
      "9\n"
     ]
    }
   ],
   "source": [
    "number = 144\n",
    "while number % 2 == 0 :   # while number is divisible by 2,  ...\n",
    "    number = number // 2  # divide it by two\n",
    "\n",
    "print(number)"
   ]
  },
  {
   "cell_type": "markdown",
   "metadata": {},
   "source": [
    "You should loop like a Pythonista not a C-snake.\n",
    "-----------------------"
   ]
  },
  {
   "cell_type": "markdown",
   "metadata": {},
   "source": [
    "Python is not like classic languages e.g., C. We should not use standard C-idioms in Python. Doing so will result in ugly, unreadable and un maintainable code.\n",
    "\n",
    "DO NOT DO ANY OF THE FOLLOWING THINGS IN PYTHON. Compare the following bad looping idioms with the proper Pythonic looping idioms above.\n"
   ]
  },
  {
   "cell_type": "markdown",
   "metadata": {},
   "source": [
    "Consider the lists"
   ]
  },
  {
   "cell_type": "code",
   "execution_count": 13,
   "metadata": {},
   "outputs": [],
   "source": [
    "girl_names = [\"alice\", \"beatrice\", \"candy\", \n",
    "    \"dolly\", \"elaine\", \"francine\", \"geraldine\"]\n",
    "their_ages = [3,3,7,10,15,11,31]\n",
    "\n",
    "\n"
   ]
  },
  {
   "cell_type": "markdown",
   "metadata": {},
   "source": [
    "DO NOT Loop over a range object unecessarily:"
   ]
  },
  {
   "cell_type": "code",
   "execution_count": 9,
   "metadata": {},
   "outputs": [
    {
     "name": "stdout",
     "output_type": "stream",
     "text": [
      "alice\n",
      "beatrice\n",
      "candy\n",
      "dolly\n",
      "elaine\n",
      "francine\n",
      "geraldine\n"
     ]
    }
   ],
   "source": [
    "for i in range(len(girl_names)):\n",
    "    print(girl_names[i])    \n"
   ]
  },
  {
   "cell_type": "markdown",
   "metadata": {},
   "source": [
    "DO NOT loop in reverse order by accessing indeces:"
   ]
  },
  {
   "cell_type": "code",
   "execution_count": 13,
   "metadata": {},
   "outputs": [
    {
     "name": "stdout",
     "output_type": "stream",
     "text": [
      "geraldine\n",
      "francine\n",
      "elaine\n",
      "dolly\n",
      "candy\n",
      "beatrice\n",
      "alice\n"
     ]
    }
   ],
   "source": [
    "for i in range(len(girl_names)):\n",
    "    print(girl_names[len(girl_names) - i -1])    \n"
   ]
  },
  {
   "cell_type": "markdown",
   "metadata": {},
   "source": [
    "DO NOT keep a running index manually:"
   ]
  },
  {
   "cell_type": "code",
   "execution_count": 15,
   "metadata": {},
   "outputs": [
    {
     "name": "stdout",
     "output_type": "stream",
     "text": [
      "0  ->  alice\n",
      "1  ->  beatrice\n",
      "2  ->  candy\n",
      "3  ->  dolly\n",
      "4  ->  elaine\n",
      "5  ->  francine\n",
      "6  ->  geraldine\n"
     ]
    }
   ],
   "source": [
    "index = 0\n",
    "for name in girl_names:\n",
    "    print(index, \" -> \", name)\n",
    "    index = index +1"
   ]
  },
  {
   "cell_type": "markdown",
   "metadata": {},
   "source": [
    "DO NOT loop over two lists using indeces:"
   ]
  },
  {
   "cell_type": "code",
   "execution_count": 12,
   "metadata": {},
   "outputs": [
    {
     "name": "stdout",
     "output_type": "stream",
     "text": [
      "name :  alice\n",
      "   age  :  3\n",
      "name :  beatrice\n",
      "   age  :  3\n",
      "name :  candy\n",
      "   age  :  7\n",
      "name :  dolly\n",
      "   age  :  10\n",
      "name :  elaine\n",
      "   age  :  15\n",
      "name :  francine\n",
      "   age  :  11\n",
      "name :  geraldine\n",
      "   age  :  31\n"
     ]
    }
   ],
   "source": [
    "for i in range(min(len(girl_names), len(their_ages))):\n",
    "    print(\"name : \", girl_names[i] )\n",
    "    print(\"   age  : \", their_ages[i])        "
   ]
  }
 ],
 "metadata": {
  "kernelspec": {
   "display_name": "Python 3",
   "language": "python",
   "name": "python3"
  },
  "language_info": {
   "codemirror_mode": {
    "name": "ipython",
    "version": 3
   },
   "file_extension": ".py",
   "mimetype": "text/x-python",
   "name": "python",
   "nbconvert_exporter": "python",
   "pygments_lexer": "ipython3",
   "version": "3.5.2"
  }
 },
 "nbformat": 4,
 "nbformat_minor": 2
}
