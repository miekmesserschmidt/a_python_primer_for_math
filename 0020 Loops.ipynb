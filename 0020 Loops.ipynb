{
 "cells": [
  {
   "cell_type": "markdown",
   "metadata": {},
   "source": [
    "Loops\n",
    "===="
   ]
  },
  {
   "cell_type": "markdown",
   "metadata": {},
   "source": [
    "For-loops\n",
    "-------"
   ]
  },
  {
   "cell_type": "code",
   "execution_count": 2,
   "metadata": {},
   "outputs": [
    {
     "name": "stdout",
     "output_type": "stream",
     "text": [
      "0\n",
      "1\n",
      "2\n",
      "3\n",
      "4\n",
      "5\n",
      "6\n",
      "7\n",
      "8\n",
      "9\n"
     ]
    }
   ],
   "source": [
    "# How to loop over numbers 0 to 9\n",
    "for i in range(10): \n",
    "    print(i)"
   ]
  },
  {
   "cell_type": "code",
   "execution_count": 3,
   "metadata": {},
   "outputs": [
    {
     "name": "stdout",
     "output_type": "stream",
     "text": [
      "4\n",
      "5\n",
      "6\n",
      "7\n",
      "8\n",
      "9\n"
     ]
    }
   ],
   "source": [
    "# ... starting at 4\n",
    "for i in range(4, 10): \n",
    "    print(i)"
   ]
  },
  {
   "cell_type": "code",
   "execution_count": 2,
   "metadata": {},
   "outputs": [
    {
     "name": "stdout",
     "output_type": "stream",
     "text": [
      "alice\n",
      "beatrice\n",
      "candy\n",
      "dolly\n",
      "elaine\n",
      "francine\n",
      "geraldine\n"
     ]
    }
   ],
   "source": [
    "# We can loop over any list\n",
    "girl_names = [\"alice\", \"beatrice\", \"candy\", \n",
    "    \"dolly\", \"elaine\", \"francine\", \"geraldine\"]\n",
    "\n",
    "for name in girl_names:\n",
    "    print(name)"
   ]
  },
  {
   "cell_type": "code",
   "execution_count": 5,
   "metadata": {},
   "outputs": [
    {
     "name": "stdout",
     "output_type": "stream",
     "text": [
      "geraldine\n",
      "francine\n",
      "elaine\n",
      "dolly\n",
      "candy\n",
      "beatrice\n",
      "alice\n"
     ]
    }
   ],
   "source": [
    "# ... and in reverse order\n",
    "for name in reversed(girl_names):\n",
    "    print(name)"
   ]
  },
  {
   "cell_type": "code",
   "execution_count": 6,
   "metadata": {},
   "outputs": [
    {
     "name": "stdout",
     "output_type": "stream",
     "text": [
      "0  ->  alice\n",
      "1  ->  beatrice\n",
      "2  ->  candy\n",
      "3  ->  dolly\n",
      "4  ->  elaine\n",
      "5  ->  francine\n",
      "6  ->  geraldine\n"
     ]
    }
   ],
   "source": [
    "# ... and keeping a running index\n",
    "for index, name in enumerate(girl_names):\n",
    "    print(index, \" -> \", name)"
   ]
  },
  {
   "cell_type": "code",
   "execution_count": 18,
   "metadata": {},
   "outputs": [
    {
     "name": "stdout",
     "output_type": "stream",
     "text": [
      "name :  alice\n",
      "   age  :  3\n",
      "name :  beatrice\n",
      "   age  :  3\n",
      "name :  candy\n",
      "   age  :  7\n",
      "name :  dolly\n",
      "   age  :  10\n",
      "name :  elaine\n",
      "   age  :  15\n",
      "name :  francine\n",
      "   age  :  11\n",
      "name :  geraldine\n",
      "   age  :  31\n"
     ]
    }
   ],
   "source": [
    "girl_names = [\"alice\", \"beatrice\", \"candy\", \n",
    "    \"dolly\", \"elaine\", \"francine\", \"geraldine\"]\n",
    "their_ages = [3,3,7,10,15,11,31]\n",
    "\n",
    "# ... and we can loop over zips\n",
    "for name, age in zip(girl_names, their_ages):\n",
    "    print(\"name : \", name )\n",
    "    print(\"   age  : \", age)"
   ]
  },
  {
   "cell_type": "markdown",
   "metadata": {},
   "source": [
    "While loops\n",
    "----------"
   ]
  },
  {
   "cell_type": "code",
   "execution_count": 1,
   "metadata": {},
   "outputs": [
    {
     "name": "stdout",
     "output_type": "stream",
     "text": [
      "9\n"
     ]
    }
   ],
   "source": [
    "# Do something while some statement is true\n",
    "number = 144\n",
    "while number % 2 == 0 : # while number is divisible by 2,  ...\n",
    "    number = number // 2 # divide it by two\n",
    "\n",
    "print(number)"
   ]
  },
  {
   "cell_type": "markdown",
   "metadata": {},
   "source": [
    "Looping like a pythonista\n",
    "-----------------------"
   ]
  },
  {
   "cell_type": "markdown",
   "metadata": {},
   "source": [
    "Python is not like classic languages (C, Fortran, Pascal).\n",
    "\n",
    "DO NOT DO ANY OF THE FOLLOWING THINGS IN PYTHON:\n"
   ]
  },
  {
   "cell_type": "code",
   "execution_count": 12,
   "metadata": {},
   "outputs": [
    {
     "name": "stdout",
     "output_type": "stream",
     "text": [
      "alice\n",
      "beatrice\n",
      "candy\n",
      "dolly\n",
      "elaine\n",
      "francine\n",
      "geraldine\n"
     ]
    }
   ],
   "source": [
    "girl_names = [\"alice\", \"beatrice\", \"candy\", \n",
    "    \"dolly\", \"elaine\", \"francine\", \"geraldine\"]\n",
    "their_ages = [3,3,7,10,15,11,31]\n",
    "\n",
    "# Looping over a list...\n",
    "# This works, but is terrible!\n",
    "# YOU SHOULD NOT LOOP LIKE THIS!!\n",
    "for i in range(len(girl_names)):\n",
    "    print(girl_names[i])    \n"
   ]
  },
  {
   "cell_type": "code",
   "execution_count": 13,
   "metadata": {},
   "outputs": [
    {
     "name": "stdout",
     "output_type": "stream",
     "text": [
      "geraldine\n",
      "francine\n",
      "elaine\n",
      "dolly\n",
      "candy\n",
      "beatrice\n",
      "alice\n"
     ]
    }
   ],
   "source": [
    "# Looping in reverse over a list...\n",
    "# This works, but is terrible!\n",
    "# YOU SHOULD NOT LOOP LIKE THIS!!\n",
    "for i in range(len(girl_names)):\n",
    "    print(girl_names[len(girl_names) - i -1])    \n"
   ]
  },
  {
   "cell_type": "code",
   "execution_count": 14,
   "metadata": {},
   "outputs": [
    {
     "name": "stdout",
     "output_type": "stream",
     "text": [
      "geraldine\n",
      "francine\n",
      "elaine\n",
      "dolly\n",
      "candy\n",
      "beatrice\n",
      "alice\n"
     ]
    }
   ],
   "source": [
    "# Looping in reverse over a list...\n",
    "# This works, but is terrible!\n",
    "# YOU SHOULD NOT LOOP LIKE THIS!!\n",
    "for i in range(len(girl_names)):\n",
    "    print(girl_names[len(girl_names) - i -1])    "
   ]
  },
  {
   "cell_type": "code",
   "execution_count": 15,
   "metadata": {},
   "outputs": [
    {
     "name": "stdout",
     "output_type": "stream",
     "text": [
      "0  ->  alice\n",
      "1  ->  beatrice\n",
      "2  ->  candy\n",
      "3  ->  dolly\n",
      "4  ->  elaine\n",
      "5  ->  francine\n",
      "6  ->  geraldine\n"
     ]
    }
   ],
   "source": [
    "# Keeping a running index.\n",
    "# This works, but is terrible!\n",
    "# YOU SHOULD NOT LOOP LIKE THIS!!\n",
    "index = 0\n",
    "for name in girl_names:\n",
    "    print(index, \" -> \", name)\n",
    "    index = index +1"
   ]
  },
  {
   "cell_type": "code",
   "execution_count": 17,
   "metadata": {},
   "outputs": [
    {
     "name": "stdout",
     "output_type": "stream",
     "text": [
      "name :  alice\n",
      "   age  :  3\n",
      "name :  beatrice\n",
      "   age  :  3\n",
      "name :  candy\n",
      "   age  :  7\n",
      "name :  dolly\n",
      "   age  :  10\n",
      "name :  elaine\n",
      "   age  :  15\n",
      "name :  francine\n",
      "   age  :  11\n",
      "name :  geraldine\n",
      "   age  :  31\n"
     ]
    }
   ],
   "source": [
    "# Looping over two lists.\n",
    "# This works, but is terrible!\n",
    "# YOU SHOULD NOT LOOP LIKE THIS!!\n",
    "for i in range(min(len(girl_names), len(their_ages))):\n",
    "    print(\"name : \", girl_names[i] )\n",
    "    print(\"   age  : \", their_ages[i])        "
   ]
  },
  {
   "cell_type": "code",
   "execution_count": null,
   "metadata": {
    "collapsed": true
   },
   "outputs": [],
   "source": []
  }
 ],
 "metadata": {
  "kernelspec": {
   "display_name": "Python 3",
   "language": "python",
   "name": "python3"
  },
  "language_info": {
   "codemirror_mode": {
    "name": "ipython",
    "version": 3
   },
   "file_extension": ".py",
   "mimetype": "text/x-python",
   "name": "python",
   "nbconvert_exporter": "python",
   "pygments_lexer": "ipython3",
   "version": "3.5.2"
  }
 },
 "nbformat": 4,
 "nbformat_minor": 2
}
