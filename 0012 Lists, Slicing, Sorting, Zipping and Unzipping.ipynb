{
 "cells": [
  {
   "cell_type": "markdown",
   "metadata": {},
   "source": [
    "Lists, Slicing and Sorting\n",
    "========================"
   ]
  },
  {
   "cell_type": "markdown",
   "metadata": {},
   "source": [
    "Lists\n",
    "-------"
   ]
  },
  {
   "cell_type": "code",
   "execution_count": 1,
   "metadata": {
    "collapsed": true
   },
   "outputs": [],
   "source": [
    "# We make a list using the [ ... ] notation\n",
    "boy_names = [\n",
    "    \"benny\", \"adam\", \"bobby\", \n",
    "    \"randal\", \"timmy\", \"cartman\", \n",
    "    \"morty\",\"junior-son\", \n",
    "    \"voldemort\", \"boeta\", \"pula\",\n",
    "    \"zane\"]"
   ]
  },
  {
   "cell_type": "code",
   "execution_count": 2,
   "metadata": {},
   "outputs": [
    {
     "data": {
      "text/plain": [
       "12"
      ]
     },
     "execution_count": 2,
     "metadata": {},
     "output_type": "execute_result"
    }
   ],
   "source": [
    "# How long is the list?\n",
    "len(boy_names)"
   ]
  },
  {
   "cell_type": "code",
   "execution_count": 3,
   "metadata": {
    "scrolled": true
   },
   "outputs": [
    {
     "data": {
      "text/plain": [
       "True"
      ]
     },
     "execution_count": 3,
     "metadata": {},
     "output_type": "execute_result"
    }
   ],
   "source": [
    "# is \"morty\" in the list?\n",
    "\"morty\" in boy_names "
   ]
  },
  {
   "cell_type": "code",
   "execution_count": 4,
   "metadata": {},
   "outputs": [
    {
     "data": {
      "text/plain": [
       "False"
      ]
     },
     "execution_count": 4,
     "metadata": {},
     "output_type": "execute_result"
    }
   ],
   "source": [
    "# is \"xavier\" in the list?\n",
    "\"xavier\" in boy_names "
   ]
  },
  {
   "cell_type": "code",
   "execution_count": 5,
   "metadata": {},
   "outputs": [
    {
     "data": {
      "text/plain": [
       "'benny'"
      ]
     },
     "execution_count": 5,
     "metadata": {},
     "output_type": "execute_result"
    }
   ],
   "source": [
    "# We can get the zeroth element in the list. \n",
    "boy_names[0] "
   ]
  },
  {
   "cell_type": "code",
   "execution_count": 6,
   "metadata": {
    "collapsed": true
   },
   "outputs": [],
   "source": [
    "# WARNING!\n",
    "# Remember that we always start index from zero!!!!\n",
    "\n",
    "# We distinguish between the \"first\" and \"oneth\" element.\n",
    "# \"First element of boy_names\" is ambiguous, \n",
    "# do we mean boy_names[0] or boy_names[1] ?\n",
    "\n",
    "# By \"oneth\" or \"1-th\" we always mean boy_names[1]."
   ]
  },
  {
   "cell_type": "code",
   "execution_count": 82,
   "metadata": {},
   "outputs": [
    {
     "data": {
      "text/plain": [
       "'adam'"
      ]
     },
     "execution_count": 82,
     "metadata": {},
     "output_type": "execute_result"
    }
   ],
   "source": [
    "# Get the oneth element in the list. \n",
    "boy_names[1]"
   ]
  },
  {
   "cell_type": "code",
   "execution_count": 83,
   "metadata": {},
   "outputs": [
    {
     "data": {
      "text/plain": [
       "'zane'"
      ]
     },
     "execution_count": 83,
     "metadata": {},
     "output_type": "execute_result"
    }
   ],
   "source": [
    "# Get the last-th element in the list. \n",
    "boy_names[-1]\n",
    "\n",
    "# This is why we index from zero."
   ]
  },
  {
   "cell_type": "code",
   "execution_count": 84,
   "metadata": {},
   "outputs": [
    {
     "data": {
      "text/plain": [
       "'pula'"
      ]
     },
     "execution_count": 84,
     "metadata": {},
     "output_type": "execute_result"
    }
   ],
   "source": [
    "# Get the second-last-th element in the list. \n",
    "boy_names[-2]"
   ]
  },
  {
   "cell_type": "code",
   "execution_count": 16,
   "metadata": {},
   "outputs": [
    {
     "data": {
      "text/plain": [
       "['benny',\n",
       " 'adriaan',\n",
       " 'bobby',\n",
       " 'randal',\n",
       " 'timmy',\n",
       " 'cartman',\n",
       " 'morty',\n",
       " 'junior-son',\n",
       " 'voldemort',\n",
       " 'boeta',\n",
       " 'pula',\n",
       " 'zane']"
      ]
     },
     "execution_count": 16,
     "metadata": {},
     "output_type": "execute_result"
    }
   ],
   "source": [
    "# We can replace an element\n",
    "boy_names[1] = \"adriaan\"\n",
    "boy_names"
   ]
  },
  {
   "cell_type": "code",
   "execution_count": 17,
   "metadata": {},
   "outputs": [
    {
     "data": {
      "text/plain": [
       "['benny',\n",
       " 'bobby',\n",
       " 'randal',\n",
       " 'timmy',\n",
       " 'cartman',\n",
       " 'morty',\n",
       " 'junior-son',\n",
       " 'voldemort',\n",
       " 'boeta',\n",
       " 'pula',\n",
       " 'zane']"
      ]
     },
     "execution_count": 17,
     "metadata": {},
     "output_type": "execute_result"
    }
   ],
   "source": [
    "# remove the oneth element from the list\n",
    "del boy_names[1] \n",
    "boy_names"
   ]
  },
  {
   "cell_type": "markdown",
   "metadata": {},
   "source": [
    "Tuples\n",
    "----------"
   ]
  },
  {
   "cell_type": "code",
   "execution_count": 21,
   "metadata": {
    "collapsed": true
   },
   "outputs": [],
   "source": [
    "# We make a tuple using the ( ... ) notation\n",
    "boy_names_tuple = (\n",
    "    \"benny\", \"adam\", \"bobby\", \n",
    "    \"randal\", \"timmy\", \"cartman\", \n",
    "    \"morty\",\"junior-son\", \n",
    "    \"voldemort\", \"boeta\", \"pula\",\n",
    "    \"zane\")\n",
    "\n",
    "# Tuples work exactly like lists.\n",
    "\n",
    "\n",
    "# with one difference.\n",
    "# Lists can be changed, while tuples cannot\n",
    "\n"
   ]
  },
  {
   "cell_type": "code",
   "execution_count": 22,
   "metadata": {},
   "outputs": [
    {
     "data": {
      "text/plain": [
       "12"
      ]
     },
     "execution_count": 22,
     "metadata": {},
     "output_type": "execute_result"
    }
   ],
   "source": [
    "# How long is the list?\n",
    "len(boy_names_tuple)"
   ]
  },
  {
   "cell_type": "code",
   "execution_count": 23,
   "metadata": {},
   "outputs": [
    {
     "data": {
      "text/plain": [
       "True"
      ]
     },
     "execution_count": 23,
     "metadata": {},
     "output_type": "execute_result"
    }
   ],
   "source": [
    "\"morty\" in boy_names_tuple "
   ]
  },
  {
   "cell_type": "code",
   "execution_count": 24,
   "metadata": {},
   "outputs": [
    {
     "data": {
      "text/plain": [
       "'zane'"
      ]
     },
     "execution_count": 24,
     "metadata": {},
     "output_type": "execute_result"
    }
   ],
   "source": [
    "boy_names_tuple[-1]"
   ]
  },
  {
   "cell_type": "code",
   "execution_count": 26,
   "metadata": {},
   "outputs": [
    {
     "ename": "TypeError",
     "evalue": "'tuple' object does not support item assignment",
     "output_type": "error",
     "traceback": [
      "\u001b[0;31m---------------------------------------------------------------------------\u001b[0m",
      "\u001b[0;31mTypeError\u001b[0m                                 Traceback (most recent call last)",
      "\u001b[0;32m<ipython-input-26-a413017d2cc0>\u001b[0m in \u001b[0;36m<module>\u001b[0;34m()\u001b[0m\n\u001b[1;32m      1\u001b[0m \u001b[0;34m\u001b[0m\u001b[0m\n\u001b[0;32m----> 2\u001b[0;31m \u001b[0mboy_names_tuple\u001b[0m\u001b[0;34m[\u001b[0m\u001b[0;36m1\u001b[0m\u001b[0;34m]\u001b[0m \u001b[0;34m=\u001b[0m \u001b[0;34m\"adriaan\"\u001b[0m\u001b[0;34m\u001b[0m\u001b[0m\n\u001b[0m",
      "\u001b[0;31mTypeError\u001b[0m: 'tuple' object does not support item assignment"
     ]
    }
   ],
   "source": [
    "# We cannot change a tuple, so the\n",
    "# following gives an error\n",
    "boy_names_tuple[1] = \"adriaan\""
   ]
  },
  {
   "cell_type": "markdown",
   "metadata": {},
   "source": [
    "List slicing \n",
    "---------"
   ]
  },
  {
   "cell_type": "code",
   "execution_count": 22,
   "metadata": {
    "collapsed": true
   },
   "outputs": [],
   "source": [
    "girl_names = [\"alice\", \"beatrice\", \"candy\", \n",
    "    \"dolly\", \"elaine\", \"francine\", \"geraldine\"]"
   ]
  },
  {
   "cell_type": "code",
   "execution_count": 23,
   "metadata": {},
   "outputs": [
    {
     "data": {
      "text/plain": [
       "['beatrice', 'candy', 'dolly', 'elaine', 'francine', 'geraldine']"
      ]
     },
     "execution_count": 23,
     "metadata": {},
     "output_type": "execute_result"
    }
   ],
   "source": [
    "# ... a list made up of the oneth, twoth, etc. elements\n",
    "girl_names[1:] "
   ]
  },
  {
   "cell_type": "code",
   "execution_count": 25,
   "metadata": {},
   "outputs": [
    {
     "data": {
      "text/plain": [
       "['alice', 'beatrice', 'candy']"
      ]
     },
     "execution_count": 25,
     "metadata": {},
     "output_type": "execute_result"
    }
   ],
   "source": [
    "# ... a list made up of the zeroth, oneth, twoth elements,\n",
    "# but excluding the threeth element onwards\n",
    "girl_names[:3] "
   ]
  },
  {
   "cell_type": "code",
   "execution_count": 26,
   "metadata": {},
   "outputs": [
    {
     "data": {
      "text/plain": [
       "['alice', 'beatrice', 'candy', 'dolly', 'elaine', 'francine']"
      ]
     },
     "execution_count": 26,
     "metadata": {},
     "output_type": "execute_result"
    }
   ],
   "source": [
    "# ... all but the last-th element\n",
    "girl_names[:-1]"
   ]
  },
  {
   "cell_type": "code",
   "execution_count": 19,
   "metadata": {},
   "outputs": [
    {
     "data": {
      "text/plain": [
       "['alice', 'beatrice', 'candy', 'dolly', 'elaine']"
      ]
     },
     "execution_count": 19,
     "metadata": {},
     "output_type": "execute_result"
    }
   ],
   "source": [
    "# ... all but the lastth and second lastth element\n",
    "girl_names[:-2]"
   ]
  },
  {
   "cell_type": "code",
   "execution_count": 20,
   "metadata": {},
   "outputs": [
    {
     "data": {
      "text/plain": [
       "['beatrice', 'candy', 'dolly', 'elaine']"
      ]
     },
     "execution_count": 20,
     "metadata": {},
     "output_type": "execute_result"
    }
   ],
   "source": [
    "# the oneth, twoth, threeth, fourth, elements \n",
    "# excluding the fiveth element\n",
    "girl_names[1:5] "
   ]
  },
  {
   "cell_type": "code",
   "execution_count": 31,
   "metadata": {},
   "outputs": [
    {
     "data": {
      "text/plain": [
       "'ando'"
      ]
     },
     "execution_count": 31,
     "metadata": {},
     "output_type": "execute_result"
    }
   ],
   "source": [
    "# Slicing also works for strings!\n",
    "name = \"Marlon Brando\"\n",
    "name[-4:]"
   ]
  },
  {
   "cell_type": "markdown",
   "metadata": {
    "collapsed": true
   },
   "source": [
    "Sorting\n",
    "----------"
   ]
  },
  {
   "cell_type": "code",
   "execution_count": 7,
   "metadata": {
    "collapsed": true
   },
   "outputs": [],
   "source": [
    "boy_names = [\n",
    "    \"benny\", \"adam\", \"bobby\", \n",
    "    \"randal\", \"timmy\", \"cartman\", \n",
    "    \"morty\",\"junior-son\", \n",
    "    \"voldemort\", \"boeta\", \"pula\",\n",
    "    \"zane\"]"
   ]
  },
  {
   "cell_type": "code",
   "execution_count": 3,
   "metadata": {},
   "outputs": [
    {
     "data": {
      "text/plain": [
       "['adam',\n",
       " 'benny',\n",
       " 'bobby',\n",
       " 'boeta',\n",
       " 'cartman',\n",
       " 'junior-son',\n",
       " 'morty',\n",
       " 'pula',\n",
       " 'randal',\n",
       " 'timmy',\n",
       " 'voldemort',\n",
       " 'zane']"
      ]
     },
     "execution_count": 3,
     "metadata": {},
     "output_type": "execute_result"
    }
   ],
   "source": [
    "# We can easily sort alphabetically\n",
    "sorted(boy_names)"
   ]
  },
  {
   "cell_type": "code",
   "execution_count": 4,
   "metadata": {},
   "outputs": [
    {
     "data": {
      "text/plain": [
       "['zane',\n",
       " 'voldemort',\n",
       " 'timmy',\n",
       " 'randal',\n",
       " 'pula',\n",
       " 'morty',\n",
       " 'junior-son',\n",
       " 'cartman',\n",
       " 'boeta',\n",
       " 'bobby',\n",
       " 'benny',\n",
       " 'adam']"
      ]
     },
     "execution_count": 4,
     "metadata": {},
     "output_type": "execute_result"
    }
   ],
   "source": [
    "# ... or reverse alphabetically\n",
    "sorted(boy_names, reverse=True)"
   ]
  },
  {
   "cell_type": "code",
   "execution_count": 5,
   "metadata": {},
   "outputs": [
    {
     "data": {
      "text/plain": [
       "['adam',\n",
       " 'pula',\n",
       " 'zane',\n",
       " 'benny',\n",
       " 'bobby',\n",
       " 'timmy',\n",
       " 'morty',\n",
       " 'boeta',\n",
       " 'randal',\n",
       " 'cartman',\n",
       " 'voldemort',\n",
       " 'junior-son']"
      ]
     },
     "execution_count": 5,
     "metadata": {},
     "output_type": "execute_result"
    }
   ],
   "source": [
    "# ... or by length\n",
    "sorted(boy_names, key = len)"
   ]
  },
  {
   "cell_type": "code",
   "execution_count": 6,
   "metadata": {},
   "outputs": [
    {
     "data": {
      "text/plain": [
       "['randal',\n",
       " 'cartman',\n",
       " 'zane',\n",
       " 'adam',\n",
       " 'benny',\n",
       " 'timmy',\n",
       " 'bobby',\n",
       " 'morty',\n",
       " 'voldemort',\n",
       " 'boeta',\n",
       " 'junior-son',\n",
       " 'pula']"
      ]
     },
     "execution_count": 6,
     "metadata": {},
     "output_type": "execute_result"
    }
   ],
   "source": [
    "# ... or by the oneth letter\n",
    "# (See the section on functions to understand the lambda expression)\n",
    "sorted(boy_names, key = lambda item: item[1])"
   ]
  },
  {
   "cell_type": "markdown",
   "metadata": {},
   "source": [
    "Zipping \n",
    "---------------------"
   ]
  },
  {
   "cell_type": "code",
   "execution_count": 63,
   "metadata": {},
   "outputs": [
    {
     "data": {
      "text/plain": [
       "<zip at 0x7f12303b9b88>"
      ]
     },
     "execution_count": 63,
     "metadata": {},
     "output_type": "execute_result"
    }
   ],
   "source": [
    "# Let us define two lists. \n",
    "# One with the names of girls we know,\n",
    "# and one with their respective ages\n",
    "\n",
    "girl_names = [\"alice\", \"beatrice\", \"candy\", \"dolly\", \"elaine\"]\n",
    "their_ages = [10, 11, 10, 9, 8]\n",
    "\n",
    "# We can \"zip\" these two lists together\n",
    "# into one list of pairs. To get a \"zip\"  object.\n",
    "name_age_pairs = zip(girl_names, their_ages)\n",
    "name_age_pairs"
   ]
  },
  {
   "cell_type": "code",
   "execution_count": 64,
   "metadata": {},
   "outputs": [
    {
     "data": {
      "text/plain": [
       "[('alice', 10), ('beatrice', 11), ('candy', 10), ('dolly', 9), ('elaine', 8)]"
      ]
     },
     "execution_count": 64,
     "metadata": {},
     "output_type": "execute_result"
    }
   ],
   "source": [
    "# ... which we can convert into a list of pairs\n",
    "list(name_age_pairs)"
   ]
  },
  {
   "cell_type": "code",
   "execution_count": 68,
   "metadata": {},
   "outputs": [
    {
     "data": {
      "text/plain": [
       "[('a', 1), ('b', 2), ('c', 3)]"
      ]
     },
     "execution_count": 68,
     "metadata": {},
     "output_type": "execute_result"
    }
   ],
   "source": [
    "# Warning! When zipping lists of \n",
    "# unequal length the result will \n",
    "# have the length of the shortest\n",
    "# list\n",
    "result = list(zip([\"a\",\"b\",\"c\"], [1,2,3,4,5,6]))\n",
    "result"
   ]
  },
  {
   "cell_type": "code",
   "execution_count": 81,
   "metadata": {},
   "outputs": [
    {
     "data": {
      "text/plain": [
       "[('a', 1, 'alpha'), ('b', 2, 'beta'), ('c', 3, 'gamma')]"
      ]
     },
     "execution_count": 81,
     "metadata": {},
     "output_type": "execute_result"
    }
   ],
   "source": [
    "# We can also zip more than two lists\n",
    "threezip = list(zip([\"a\",\"b\",\"c\"], [1,2,3], [\"alpha\", \"beta\", \"gamma\"]))\n",
    "threezip"
   ]
  },
  {
   "cell_type": "markdown",
   "metadata": {},
   "source": [
    "Unzipping\n",
    "---------"
   ]
  },
  {
   "cell_type": "code",
   "execution_count": 74,
   "metadata": {
    "collapsed": true
   },
   "outputs": [],
   "source": [
    "name_age_pairs = [\n",
    "    ('alice', 10), ('beatrice', 11), ('candy', 10), #\n",
    "    ('dolly', 9), ('elaine', 8)\n",
    "]\n",
    "\n",
    "# We can also \"unzip\" a list of pairs\n",
    "# notice the \"*\" in zip(* ... )\n",
    "unzipped_names, unzipped_ages = zip(*name_age_pairs)"
   ]
  },
  {
   "cell_type": "code",
   "execution_count": 75,
   "metadata": {},
   "outputs": [
    {
     "data": {
      "text/plain": [
       "('alice', 'beatrice', 'candy', 'dolly', 'elaine')"
      ]
     },
     "execution_count": 75,
     "metadata": {},
     "output_type": "execute_result"
    }
   ],
   "source": [
    "unzipped_names"
   ]
  },
  {
   "cell_type": "code",
   "execution_count": 76,
   "metadata": {},
   "outputs": [
    {
     "data": {
      "text/plain": [
       "(10, 11, 10, 9, 8)"
      ]
     },
     "execution_count": 76,
     "metadata": {},
     "output_type": "execute_result"
    }
   ],
   "source": [
    "unzipped_ages"
   ]
  },
  {
   "cell_type": "code",
   "execution_count": 77,
   "metadata": {
    "collapsed": true
   },
   "outputs": [],
   "source": [
    "# ... we can also unzip a list of triples\n",
    "threezip = [('a', 1, 'alpha'), ('b', 2, 'beta'), ('c', 3, 'gamma')]\n",
    "abc, onetwothree, alphabetagamma = zip(*threezip)\n"
   ]
  },
  {
   "cell_type": "code",
   "execution_count": 78,
   "metadata": {},
   "outputs": [
    {
     "data": {
      "text/plain": [
       "('a', 'b', 'c')"
      ]
     },
     "execution_count": 78,
     "metadata": {},
     "output_type": "execute_result"
    }
   ],
   "source": [
    "abc"
   ]
  },
  {
   "cell_type": "code",
   "execution_count": 79,
   "metadata": {},
   "outputs": [
    {
     "data": {
      "text/plain": [
       "(1, 2, 3)"
      ]
     },
     "execution_count": 79,
     "metadata": {},
     "output_type": "execute_result"
    }
   ],
   "source": [
    "onetwothree"
   ]
  },
  {
   "cell_type": "code",
   "execution_count": 80,
   "metadata": {},
   "outputs": [
    {
     "data": {
      "text/plain": [
       "('alpha', 'beta', 'gamma')"
      ]
     },
     "execution_count": 80,
     "metadata": {},
     "output_type": "execute_result"
    }
   ],
   "source": [
    "alphabetagamma"
   ]
  },
  {
   "cell_type": "markdown",
   "metadata": {},
   "source": [
    "Extra material\n",
    "-------------\n",
    "### Socratica videos\n",
    "\n",
    "* Lists : https://youtu.be/ohCDWZgNIU0\n",
    "* Sorting : https://youtu.be/QtwhlHP_tqc\n"
   ]
  }
 ],
 "metadata": {
  "kernelspec": {
   "display_name": "Python 3",
   "language": "python",
   "name": "python3"
  },
  "language_info": {
   "codemirror_mode": {
    "name": "ipython",
    "version": 3
   },
   "file_extension": ".py",
   "mimetype": "text/x-python",
   "name": "python",
   "nbconvert_exporter": "python",
   "pygments_lexer": "ipython3",
   "version": "3.5.2"
  }
 },
 "nbformat": 4,
 "nbformat_minor": 2
}
