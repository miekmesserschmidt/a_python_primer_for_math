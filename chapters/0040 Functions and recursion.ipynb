{
 "cells": [
  {
   "cell_type": "markdown",
   "metadata": {},
   "source": [
    "Functions\n",
    "======\n",
    "\n",
    "Functions allow for the easy reuse of bits of code. They take parameters/input, and can return a result. Functions are defined using the *def* keyword. \n",
    "\n",
    "## Example: Say hello\n",
    "We define a function that takes *name* as parameter, and prints a greeting for that name:"
   ]
  },
  {
   "cell_type": "code",
   "execution_count": 4,
   "metadata": {
    "collapsed": true
   },
   "outputs": [],
   "source": [
    "def say_hello_to(name):\n",
    "    print(\"Hello \" + name + \"!\")\n",
    "\n"
   ]
  },
  {
   "cell_type": "markdown",
   "metadata": {},
   "source": [
    "We can now call this function with different inputs:"
   ]
  },
  {
   "cell_type": "code",
   "execution_count": 6,
   "metadata": {},
   "outputs": [
    {
     "name": "stdout",
     "output_type": "stream",
     "text": [
      "Hello World!\n",
      "Hello Gary!\n",
      "Hello Alice!\n",
      "Hello Crocubot!\n"
     ]
    }
   ],
   "source": [
    "say_hello_to(\"World\")\n",
    "say_hello_to(\"Gary\")\n",
    "say_hello_to(\"Alice\")\n",
    "say_hello_to(\"Crocubot\")\n"
   ]
  },
  {
   "cell_type": "markdown",
   "metadata": {},
   "source": [
    "## Example: Divisible by 11\n",
    "We define a function that takes *number* as input and *returns* whether or not the number is divisible by 11"
   ]
  },
  {
   "cell_type": "code",
   "execution_count": 7,
   "metadata": {
    "collapsed": true
   },
   "outputs": [],
   "source": [
    "def is_divisible_by_11(number):\n",
    "    return number % 11 == 0"
   ]
  },
  {
   "cell_type": "markdown",
   "metadata": {},
   "source": [
    "Lets check which numbers of 10,11,12,...,24 are divisible by 11"
   ]
  },
  {
   "cell_type": "code",
   "execution_count": 8,
   "metadata": {},
   "outputs": [
    {
     "name": "stdout",
     "output_type": "stream",
     "text": [
      "10 is divisible by 11 :  False\n",
      "11 is divisible by 11 :  True\n",
      "12 is divisible by 11 :  False\n",
      "13 is divisible by 11 :  False\n",
      "14 is divisible by 11 :  False\n",
      "15 is divisible by 11 :  False\n",
      "16 is divisible by 11 :  False\n",
      "17 is divisible by 11 :  False\n",
      "18 is divisible by 11 :  False\n",
      "19 is divisible by 11 :  False\n",
      "20 is divisible by 11 :  False\n",
      "21 is divisible by 11 :  False\n",
      "22 is divisible by 11 :  True\n",
      "23 is divisible by 11 :  False\n",
      "24 is divisible by 11 :  False\n"
     ]
    }
   ],
   "source": [
    "\n",
    "for number in range(10, 25):\n",
    "    print(number, \"is divisible by 11 : \", is_divisible_by_11(number))"
   ]
  },
  {
   "cell_type": "markdown",
   "metadata": {},
   "source": [
    "## Example: The Collatz function\n",
    "\n",
    "Example: We define the *collatz* function according to the following specification. \n",
    "    \n",
    "Input: \n",
    "\n",
    "- A number $n$.\n",
    "    \n",
    "Output: \n",
    "\n",
    "- return $1$ if $n = 1$\n",
    "\n",
    "- return $n/2$ if $n$ is even\n",
    "\n",
    "- return $3n+1$ if $n$ is odd\n"
   ]
  },
  {
   "cell_type": "code",
   "execution_count": 9,
   "metadata": {
    "collapsed": true
   },
   "outputs": [],
   "source": [
    "def collatz(number):\n",
    "    if number  == 1:\n",
    "        return number\n",
    "    elif number % 2 == 0: \n",
    "        return number // 2\n",
    "    else:\n",
    "        return 3*number + 1\n",
    "    \n"
   ]
  },
  {
   "cell_type": "markdown",
   "metadata": {},
   "source": [
    "Let's try it out on 3,11,24 and 65"
   ]
  },
  {
   "cell_type": "code",
   "execution_count": 10,
   "metadata": {},
   "outputs": [
    {
     "name": "stdout",
     "output_type": "stream",
     "text": [
      "3  ->  10\n",
      "11  ->  34\n",
      "24  ->  12\n",
      "65  ->  196\n"
     ]
    }
   ],
   "source": [
    "\n",
    "for n in [3, 11, 24, 65]:\n",
    "    print(n, \" -> \",collatz(n))"
   ]
  },
  {
   "cell_type": "markdown",
   "metadata": {},
   "source": [
    "Let's repeatedly apply the collatz function to a number using a while loop. We always tend to get back to 1... why is that?\n",
    "\n",
    "See https://en.wikipedia.org/wiki/Collatz_conjecture"
   ]
  },
  {
   "cell_type": "code",
   "execution_count": 12,
   "metadata": {},
   "outputs": [
    {
     "name": "stdout",
     "output_type": "stream",
     "text": [
      "46\n",
      "23\n",
      "70\n",
      "35\n",
      "106\n",
      "53\n",
      "160\n",
      "80\n",
      "40\n",
      "20\n",
      "10\n",
      "5\n",
      "16\n",
      "8\n",
      "4\n",
      "2\n",
      "1\n"
     ]
    }
   ],
   "source": [
    "current_number = 15\n",
    "while current_number != 1:    \n",
    "    current_number = collatz(current_number)\n",
    "    print(current_number)"
   ]
  },
  {
   "cell_type": "markdown",
   "metadata": {},
   "source": [
    "Recursion\n",
    "-------"
   ]
  },
  {
   "cell_type": "markdown",
   "metadata": {},
   "source": [
    "Recursion is what happens when a functon calls itself. \n",
    "\n",
    "### Example: Fibonacci numbers\n",
    "A good example of recursion is the process of generating Fibonacci numbers $1,1,2,3,5,8,13,21,34,55,\\ldots$. These are formally defined as the sequence $(f_n)$ with $f_1:=1$, $f_2:=1$ and $f_n:=f_{n-1}+f_{n-2}$ for all $n\\in \\{3,4,5\\ldots\\}$\n",
    "\n",
    "Pay attention how the following function calls itself:"
   ]
  },
  {
   "cell_type": "code",
   "execution_count": 21,
   "metadata": {
    "collapsed": true
   },
   "outputs": [],
   "source": [
    "\n",
    "def fibonacci(n):\n",
    "    if n == 1:\n",
    "        return 1\n",
    "    elif n == 2:\n",
    "        return 1\n",
    "    else:\n",
    "        return fibonacci(n-1) + fibonacci(n-2)\n",
    "\n",
    "    "
   ]
  },
  {
   "cell_type": "markdown",
   "metadata": {},
   "source": [
    "Let's compute the first 20 fibonacci numbers"
   ]
  },
  {
   "cell_type": "code",
   "execution_count": 14,
   "metadata": {},
   "outputs": [
    {
     "name": "stdout",
     "output_type": "stream",
     "text": [
      "1\n",
      "1\n",
      "2\n",
      "3\n",
      "5\n",
      "8\n",
      "13\n",
      "21\n",
      "34\n",
      "55\n",
      "89\n",
      "144\n",
      "233\n",
      "377\n",
      "610\n",
      "987\n",
      "1597\n",
      "2584\n",
      "4181\n"
     ]
    }
   ],
   "source": [
    "\n",
    "for i in range(1,20):\n",
    "    print(fibonacci(i))"
   ]
  },
  {
   "cell_type": "markdown",
   "metadata": {},
   "source": [
    "Making functions with lambda expressions\n",
    "----------------"
   ]
  },
  {
   "cell_type": "markdown",
   "metadata": {},
   "source": [
    "Very simple functions can be defined using *lambda* expressions. We've already briefly encountered lambda expressions in the section on sorting."
   ]
  },
  {
   "cell_type": "code",
   "execution_count": 16,
   "metadata": {
    "collapsed": true
   },
   "outputs": [],
   "source": [
    "\n",
    "f = lambda x: 3*x"
   ]
  },
  {
   "cell_type": "markdown",
   "metadata": {},
   "source": [
    "Make sure you understand why f(4)=12"
   ]
  },
  {
   "cell_type": "code",
   "execution_count": 19,
   "metadata": {},
   "outputs": [
    {
     "data": {
      "text/plain": [
       "12"
      ]
     },
     "execution_count": 19,
     "metadata": {},
     "output_type": "execute_result"
    }
   ],
   "source": [
    "f(4)"
   ]
  },
  {
   "cell_type": "markdown",
   "metadata": {},
   "source": [
    "...and f('a')='aaa'"
   ]
  },
  {
   "cell_type": "code",
   "execution_count": 20,
   "metadata": {},
   "outputs": [
    {
     "data": {
      "text/plain": [
       "'aaa'"
      ]
     },
     "execution_count": 20,
     "metadata": {},
     "output_type": "execute_result"
    }
   ],
   "source": [
    "\n",
    "f(\"a\")"
   ]
  },
  {
   "cell_type": "markdown",
   "metadata": {},
   "source": [
    "docstrings\n",
    "----------------"
   ]
  },
  {
   "cell_type": "markdown",
   "metadata": {},
   "source": [
    "One's code is usually used by other people. These people might need to know what a function you wrote does. One may do this by writing a short explanation in a *docstring* in the first line of the function definition. This can be accessed by calling the help function on an object."
   ]
  },
  {
   "cell_type": "code",
   "execution_count": 25,
   "metadata": {
    "collapsed": true
   },
   "outputs": [],
   "source": [
    "\n",
    "def fibonacci_undocumented(n):\n",
    "    if n == 1:\n",
    "        return 1\n",
    "    elif n == 2:\n",
    "        return 1\n",
    "    else:\n",
    "        return fibonacci(n-1) + fibonacci(n-2)\n"
   ]
  },
  {
   "cell_type": "markdown",
   "metadata": {},
   "source": [
    "No help is forthcoming..."
   ]
  },
  {
   "cell_type": "code",
   "execution_count": 26,
   "metadata": {},
   "outputs": [
    {
     "name": "stdout",
     "output_type": "stream",
     "text": [
      "Help on function fibonacci_undocumented in module __main__:\n",
      "\n",
      "fibonacci_undocumented(n)\n",
      "\n"
     ]
    }
   ],
   "source": [
    "help(fibonacci_undocumented)"
   ]
  },
  {
   "cell_type": "markdown",
   "metadata": {},
   "source": [
    "... unless we give it:"
   ]
  },
  {
   "cell_type": "code",
   "execution_count": 29,
   "metadata": {
    "collapsed": true
   },
   "outputs": [],
   "source": [
    "def fibonacci(n):\n",
    "    \"\"\"\n",
    "    Returns the nth fibonacci number. \n",
    "    \n",
    "    Input: n\n",
    "    Output: the nth fibonacci number\n",
    "    \n",
    "    E.g.fibonacci(1) = 1\n",
    "        fibonacci(2) = 1\n",
    "        fibonacci(3) = 2\n",
    "        ...\n",
    "    \"\"\"\n",
    "    if n == 1:\n",
    "        return 1\n",
    "    elif n == 2:\n",
    "        return 1\n",
    "    else:\n",
    "        return fibonacci(n-1) + fibonacci(n-2)"
   ]
  },
  {
   "cell_type": "code",
   "execution_count": 30,
   "metadata": {},
   "outputs": [
    {
     "name": "stdout",
     "output_type": "stream",
     "text": [
      "Help on function fibonacci in module __main__:\n",
      "\n",
      "fibonacci(n)\n",
      "    Returns the nth fibonacci number. \n",
      "    \n",
      "    Input: n\n",
      "    Output: the nth fibonacci number\n",
      "    \n",
      "    E.g.fibonacci(1) = 1\n",
      "        fibonacci(2) = 1\n",
      "        fibonacci(3) = 2\n",
      "        ...\n",
      "\n"
     ]
    }
   ],
   "source": [
    "help(fibonacci)"
   ]
  }
 ],
 "metadata": {
  "kernelspec": {
   "display_name": "Python 3",
   "language": "python",
   "name": "python3"
  },
  "language_info": {
   "codemirror_mode": {
    "name": "ipython",
    "version": 3
   },
   "file_extension": ".py",
   "mimetype": "text/x-python",
   "name": "python",
   "nbconvert_exporter": "python",
   "pygments_lexer": "ipython3",
   "version": "3.5.2"
  }
 },
 "nbformat": 4,
 "nbformat_minor": 2
}
