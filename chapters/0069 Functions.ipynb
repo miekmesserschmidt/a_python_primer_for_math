{
 "cells": [
  {
   "cell_type": "markdown",
   "metadata": {},
   "source": [
    "Functions\n",
    "======\n",
    "\n",
    "Functions allow for the easy reuse of bits of code. They take parameters/input, and can **return** a result. \n",
    "\n",
    "\n",
    "## Defining a function.  Example: Say hello\n",
    "Functions are defined using the **def** keyword. \n",
    "We define a function that takes *name* as parameter, and *returns* a greeting for that name:"
   ]
  },
  {
   "cell_type": "code",
   "execution_count": 4,
   "metadata": {},
   "outputs": [],
   "source": [
    "def say_hello_to(name):\n",
    "    return \"Hello \" + name + \"!\"\n"
   ]
  },
  {
   "cell_type": "markdown",
   "metadata": {},
   "source": [
    "## Calling a function\n",
    "\n",
    "We can now *call* this function with different inputs. Make sure you understand the output of the function `say_hello_to`, defined above, given its definition and the values of the parameters passed to it."
   ]
  },
  {
   "cell_type": "code",
   "execution_count": 2,
   "metadata": {},
   "outputs": [
    {
     "data": {
      "text/plain": [
       "'Hello World!'"
      ]
     },
     "execution_count": 2,
     "metadata": {},
     "output_type": "execute_result"
    }
   ],
   "source": [
    "say_hello_to(\"World\")"
   ]
  },
  {
   "cell_type": "code",
   "execution_count": 3,
   "metadata": {},
   "outputs": [
    {
     "data": {
      "text/plain": [
       "'Hello Gary!'"
      ]
     },
     "execution_count": 3,
     "metadata": {},
     "output_type": "execute_result"
    }
   ],
   "source": [
    "say_hello_to(\"Gary\")"
   ]
  },
  {
   "cell_type": "code",
   "execution_count": 4,
   "metadata": {},
   "outputs": [
    {
     "data": {
      "text/plain": [
       "'Hello Alice!'"
      ]
     },
     "execution_count": 4,
     "metadata": {},
     "output_type": "execute_result"
    }
   ],
   "source": [
    "say_hello_to(\"Alice\")"
   ]
  },
  {
   "cell_type": "code",
   "execution_count": 5,
   "metadata": {},
   "outputs": [
    {
     "data": {
      "text/plain": [
       "'Hello Crocubot!'"
      ]
     },
     "execution_count": 5,
     "metadata": {},
     "output_type": "execute_result"
    }
   ],
   "source": [
    "say_hello_to(\"Crocubot\")"
   ]
  },
  {
   "cell_type": "markdown",
   "metadata": {},
   "source": [
    "## Functions calling functions\n",
    "\n",
    "Functions can also call other functions. Make sure you understand what the function `demo`, defined below, returns when we call it. Also make sure you understand the text printed to the screen, including the order in which the messages are printed. Notice that the string `\"this is never printed!\"` is *not* printed to the screen, because once a function calls `return`, it immediately stops and hands back control the function that called it.\n"
   ]
  },
  {
   "cell_type": "code",
   "execution_count": 21,
   "metadata": {},
   "outputs": [],
   "source": [
    "def times_two(n):\n",
    "    print(\"doubling\")\n",
    "    return 2*n\n",
    "\n",
    "def times_three(n):\n",
    "    print(\"input to times_three is \", n)\n",
    "    return 3*n\n",
    "\n",
    "def times_four(n):\n",
    "    print(\"calling times_four\")\n",
    "    return 4*n\n",
    "    print(\"this is never printed!\")\n",
    "\n",
    "def demo():\n",
    "    c = times_three(3)   # 3*3 == 9\n",
    "    b = times_four(2)    # 4*2 == 8\n",
    "    a = times_two(5)     # 2*5 == 10\n",
    "    return a + b + c     # 10 + 8 + 9 == 27\n",
    "    \n"
   ]
  },
  {
   "cell_type": "code",
   "execution_count": 20,
   "metadata": {},
   "outputs": [
    {
     "name": "stdout",
     "output_type": "stream",
     "text": [
      "input to times_three is  3\n",
      "calling times_four\n",
      "doubling\n"
     ]
    },
    {
     "data": {
      "text/plain": [
       "27"
      ]
     },
     "execution_count": 20,
     "metadata": {},
     "output_type": "execute_result"
    }
   ],
   "source": [
    "demo()"
   ]
  },
  {
   "cell_type": "markdown",
   "metadata": {},
   "source": [
    "## Example: Divisible by 11\n",
    "We define a function that takes *number* as input and *returns* whether or not the number is divisible by 11"
   ]
  },
  {
   "cell_type": "code",
   "execution_count": 6,
   "metadata": {},
   "outputs": [],
   "source": [
    "def is_divisible_by_11(number):\n",
    "    return number % 11 == 0"
   ]
  },
  {
   "cell_type": "markdown",
   "metadata": {},
   "source": [
    "Lets check which numbers of 10,11,12,...,24 are divisible by 11"
   ]
  },
  {
   "cell_type": "code",
   "execution_count": 7,
   "metadata": {},
   "outputs": [
    {
     "name": "stdout",
     "output_type": "stream",
     "text": [
      "10 is divisible by 11 :  False\n",
      "11 is divisible by 11 :  True\n",
      "12 is divisible by 11 :  False\n",
      "13 is divisible by 11 :  False\n",
      "14 is divisible by 11 :  False\n",
      "15 is divisible by 11 :  False\n",
      "16 is divisible by 11 :  False\n",
      "17 is divisible by 11 :  False\n",
      "18 is divisible by 11 :  False\n",
      "19 is divisible by 11 :  False\n",
      "20 is divisible by 11 :  False\n",
      "21 is divisible by 11 :  False\n",
      "22 is divisible by 11 :  True\n",
      "23 is divisible by 11 :  False\n",
      "24 is divisible by 11 :  False\n"
     ]
    }
   ],
   "source": [
    "\n",
    "for number in range(10, 25):\n",
    "    print(number, \"is divisible by 11 : \", is_divisible_by_11(number))"
   ]
  },
  {
   "cell_type": "markdown",
   "metadata": {},
   "source": [
    "## Example: Checking primality\n",
    "\n",
    "\n",
    "We define a function that checks whether or not a number is prime, named ``is_prime``\n",
    "\n",
    "```\n",
    "Name: is_prime\n",
    "\n",
    "Input: \n",
    "  A natural number n.\n",
    "    \n",
    "Output: \n",
    "   True if n is a prime number.\n",
    "   False if n is not a prime number.\n",
    "   \n",
    "\n",
    "\n",
    "\n",
    "```\n",
    "It is very important to understand the definition of the term *prime number* before starting! How do we know whether or not a number is prime or not? We need to check whether it has any divisors other than 1 and itself.\n",
    "\n"
   ]
  },
  {
   "cell_type": "code",
   "execution_count": 2,
   "metadata": {},
   "outputs": [],
   "source": [
    "def is_prime(n):\n",
    "    if n <= 1:                # No number less than or equal to one is prime.\n",
    "        return False\n",
    "    \n",
    "    else:\n",
    "        for i in range(2,n):  # for all the numbers i in {2,...,n-1},\n",
    "            if n % i == 0:    # if the remainder when dividing n by i is zero, ...\n",
    "                return False  # ... then we know that i is a divisor of n, so n is not prime. \n",
    "            \n",
    "        \n",
    "        return True           # If we did not find any divisor, then we know n is prime.\n",
    "             \n",
    "    \n",
    "    "
   ]
  },
  {
   "cell_type": "markdown",
   "metadata": {},
   "source": [
    "We check a few known cases:"
   ]
  },
  {
   "cell_type": "code",
   "execution_count": 9,
   "metadata": {},
   "outputs": [
    {
     "name": "stdout",
     "output_type": "stream",
     "text": [
      "4 is prime? : False\n",
      "6 is prime? : False\n",
      "8 is prime? : False\n",
      "25 is prime? : False\n",
      "100 is prime? : False\n",
      "81 is prime? : False\n",
      "1000 is prime? : False\n",
      "49 is prime? : False\n"
     ]
    }
   ],
   "source": [
    "non_primes = [4, 6, 8, 25, 100, 81, 1000, 49]\n",
    "for i in non_primes:\n",
    "    print(str(i) + \" is prime? :\", is_prime(i))\n"
   ]
  },
  {
   "cell_type": "code",
   "execution_count": 10,
   "metadata": {},
   "outputs": [
    {
     "name": "stdout",
     "output_type": "stream",
     "text": [
      "2 is prime? : True\n",
      "5 is prime? : True\n",
      "7 is prime? : True\n",
      "11 is prime? : True\n",
      "13 is prime? : True\n",
      "59 is prime? : True\n",
      "101 is prime? : True\n",
      "103 is prime? : True\n",
      "109 is prime? : True\n"
     ]
    }
   ],
   "source": [
    "primes = [2, 5, 7, 11, 13, 59, 101, 103, 109]\n",
    "for i in primes:\n",
    "    print(str(i) + \" is prime? :\", is_prime(i))\n"
   ]
  },
  {
   "cell_type": "markdown",
   "metadata": {},
   "source": [
    "### Example: Combining `is_prime` with a list comprehension\n",
    "\n",
    "We can now easily construct a list of prime numbers from 900 to 1000 using a conditional list comprehension.\n",
    "\n"
   ]
  },
  {
   "cell_type": "code",
   "execution_count": 11,
   "metadata": {},
   "outputs": [],
   "source": [
    "primes_from_900_to_1000 = [n for n in range(900, 1001) if is_prime(n)]"
   ]
  },
  {
   "cell_type": "code",
   "execution_count": 12,
   "metadata": {},
   "outputs": [
    {
     "data": {
      "text/plain": [
       "[907, 911, 919, 929, 937, 941, 947, 953, 967, 971, 977, 983, 991, 997]"
      ]
     },
     "execution_count": 12,
     "metadata": {},
     "output_type": "execute_result"
    }
   ],
   "source": [
    "primes_from_900_to_1000"
   ]
  },
  {
   "cell_type": "markdown",
   "metadata": {},
   "source": [
    "## Example: The Collatz function\n",
    "\n",
    "Example: We define the *collatz* function according to the following specification. \n",
    "\n",
    "\n",
    "```\n",
    "Name: collatz\n",
    "\n",
    "Input:\n",
    "    A natural number n\n",
    "\n",
    "Output:\n",
    "    If n == 1, then return 1.\n",
    "    If n is even, then return n divided by 2.\n",
    "    If n is odd, then return 3n+1.\n",
    "```\n",
    "    "
   ]
  },
  {
   "cell_type": "code",
   "execution_count": 13,
   "metadata": {},
   "outputs": [],
   "source": [
    "def collatz(number):\n",
    "    if number  == 1:\n",
    "        return number\n",
    "    elif number % 2 == 0: \n",
    "        return number // 2\n",
    "    else:\n",
    "        return 3*number + 1\n",
    "    \n"
   ]
  },
  {
   "cell_type": "markdown",
   "metadata": {},
   "source": [
    "Let's try it out on 3,11,24 and 65"
   ]
  },
  {
   "cell_type": "code",
   "execution_count": 24,
   "metadata": {},
   "outputs": [
    {
     "name": "stdout",
     "output_type": "stream",
     "text": [
      "collatz(3)  =  10\n",
      "collatz(11)  =  34\n",
      "collatz(24)  =  12\n",
      "collatz(65)  =  196\n"
     ]
    }
   ],
   "source": [
    "for n in [3, 11, 24, 65]:\n",
    "    print(\"collatz(\"+str(n)+\")\", \" = \",collatz(n))"
   ]
  },
  {
   "cell_type": "markdown",
   "metadata": {},
   "source": [
    "Let's repeatedly apply the collatz function to a number using a while loop. We always tend to get back to 1... why is that?\n",
    "\n",
    "See https://en.wikipedia.org/wiki/Collatz_conjecture"
   ]
  },
  {
   "cell_type": "code",
   "execution_count": 15,
   "metadata": {},
   "outputs": [
    {
     "name": "stdout",
     "output_type": "stream",
     "text": [
      "46\n",
      "23\n",
      "70\n",
      "35\n",
      "106\n",
      "53\n",
      "160\n",
      "80\n",
      "40\n",
      "20\n",
      "10\n",
      "5\n",
      "16\n",
      "8\n",
      "4\n",
      "2\n",
      "1\n"
     ]
    }
   ],
   "source": [
    "current_number = 15\n",
    "while current_number != 1:    \n",
    "    current_number = collatz(current_number)\n",
    "    print(current_number)"
   ]
  },
  {
   "cell_type": "markdown",
   "metadata": {},
   "source": [
    "Making functions with lambda expressions\n",
    "----------------"
   ]
  },
  {
   "cell_type": "markdown",
   "metadata": {},
   "source": [
    "Very simple functions can be defined using *lambda* expressions. We've already briefly encountered lambda expressions in the section on sorting."
   ]
  },
  {
   "cell_type": "code",
   "execution_count": 16,
   "metadata": {},
   "outputs": [],
   "source": [
    "\n",
    "f = lambda x: 3*x"
   ]
  },
  {
   "cell_type": "markdown",
   "metadata": {},
   "source": [
    "Make sure you understand why f(4)=12"
   ]
  },
  {
   "cell_type": "code",
   "execution_count": 17,
   "metadata": {},
   "outputs": [
    {
     "data": {
      "text/plain": [
       "12"
      ]
     },
     "execution_count": 17,
     "metadata": {},
     "output_type": "execute_result"
    }
   ],
   "source": [
    "f(4)"
   ]
  },
  {
   "cell_type": "markdown",
   "metadata": {},
   "source": [
    "...and f('a')='aaa'"
   ]
  },
  {
   "cell_type": "code",
   "execution_count": 18,
   "metadata": {},
   "outputs": [
    {
     "data": {
      "text/plain": [
       "'aaa'"
      ]
     },
     "execution_count": 18,
     "metadata": {},
     "output_type": "execute_result"
    }
   ],
   "source": [
    "\n",
    "f(\"a\")"
   ]
  },
  {
   "cell_type": "markdown",
   "metadata": {},
   "source": [
    "docstrings\n",
    "----------------"
   ]
  },
  {
   "cell_type": "markdown",
   "metadata": {},
   "source": [
    "One's code is usually used by other people. These people might need to know what a function you wrote does. One may do this by writing a short explanation in a *docstring* in the first line of the function definition. This can be accessed by calling the help function on an object."
   ]
  },
  {
   "cell_type": "code",
   "execution_count": 19,
   "metadata": {},
   "outputs": [],
   "source": [
    "\n",
    "def fibonacci_undocumented(n):\n",
    "    if n == 1:\n",
    "        return 1\n",
    "    elif n == 2:\n",
    "        return 1\n",
    "    else:\n",
    "        return fibonacci(n-1) + fibonacci(n-2)\n"
   ]
  },
  {
   "cell_type": "markdown",
   "metadata": {},
   "source": [
    "No help is forthcoming..."
   ]
  },
  {
   "cell_type": "code",
   "execution_count": 20,
   "metadata": {
    "scrolled": true
   },
   "outputs": [
    {
     "name": "stdout",
     "output_type": "stream",
     "text": [
      "Help on function fibonacci_undocumented in module __main__:\n",
      "\n",
      "fibonacci_undocumented(n)\n",
      "\n"
     ]
    }
   ],
   "source": [
    "help(fibonacci_undocumented)"
   ]
  },
  {
   "cell_type": "markdown",
   "metadata": {},
   "source": [
    "... unless we give it:"
   ]
  },
  {
   "cell_type": "code",
   "execution_count": 21,
   "metadata": {},
   "outputs": [],
   "source": [
    "def fibonacci(n):\n",
    "    \"\"\"\n",
    "    Returns the nth fibonacci number. \n",
    "    \n",
    "    Input: n\n",
    "    Output: the nth fibonacci number\n",
    "    \n",
    "    E.g.fibonacci(1) = 1\n",
    "        fibonacci(2) = 1\n",
    "        fibonacci(3) = 2\n",
    "        ...\n",
    "    \"\"\"\n",
    "    if n == 1:\n",
    "        return 1\n",
    "    elif n == 2:\n",
    "        return 1\n",
    "    else:\n",
    "        return fibonacci(n-1) + fibonacci(n-2)"
   ]
  },
  {
   "cell_type": "code",
   "execution_count": 22,
   "metadata": {
    "scrolled": true
   },
   "outputs": [
    {
     "name": "stdout",
     "output_type": "stream",
     "text": [
      "Help on function fibonacci in module __main__:\n",
      "\n",
      "fibonacci(n)\n",
      "    Returns the nth fibonacci number. \n",
      "    \n",
      "    Input: n\n",
      "    Output: the nth fibonacci number\n",
      "    \n",
      "    E.g.fibonacci(1) = 1\n",
      "        fibonacci(2) = 1\n",
      "        fibonacci(3) = 2\n",
      "        ...\n",
      "\n"
     ]
    }
   ],
   "source": [
    "help(fibonacci)"
   ]
  }
 ],
 "metadata": {
  "kernelspec": {
   "display_name": "Python 3",
   "language": "python",
   "name": "python3"
  },
  "language_info": {
   "codemirror_mode": {
    "name": "ipython",
    "version": 3
   },
   "file_extension": ".py",
   "mimetype": "text/x-python",
   "name": "python",
   "nbconvert_exporter": "python",
   "pygments_lexer": "ipython3",
   "version": "3.6.9"
  }
 },
 "nbformat": 4,
 "nbformat_minor": 2
}
