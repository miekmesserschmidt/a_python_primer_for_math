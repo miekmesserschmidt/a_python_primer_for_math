{
 "cells": [
  {
   "cell_type": "markdown",
   "metadata": {},
   "source": [
    "Recursion\n",
    "======"
   ]
  },
  {
   "cell_type": "markdown",
   "metadata": {},
   "source": [
    "Recursion is what happens when a functon **calls itself**. \n",
    "\n",
    "## Example: Fibonacci numbers (recursive)\n",
    "A good example of recursion is the process of generating Fibonacci numbers $1,1,2,3,5,8,13,21,34,55,\\ldots$. These are formally defined as the sequence $(f_n)$ with $f_0:=1$, $f_1:=1$ and $f_n:=f_{n-1}+f_{n-2}$ for all $n\\in \\{2,3,4,5\\ldots\\}$\n",
    "\n",
    "We define a function `fibonacci_recursive` that in input $n$, computes and returns the value of $f_n$.\n",
    "\n",
    "Pay attention how the following function calls itself:"
   ]
  },
  {
   "cell_type": "code",
   "execution_count": 1,
   "metadata": {},
   "outputs": [],
   "source": [
    "\n",
    "def fibonacci_recursive(n):\n",
    "    if n == 0:\n",
    "        return 1\n",
    "    elif n == 1:\n",
    "        return 1\n",
    "    else:\n",
    "        return fibonacci_recursive(n-1) + fibonacci_recursive(n-2) #<--- Notice! \n",
    "\n",
    "    "
   ]
  },
  {
   "cell_type": "markdown",
   "metadata": {},
   "source": [
    "Let's compute the first 20 fibonacci numbers"
   ]
  },
  {
   "cell_type": "code",
   "execution_count": 2,
   "metadata": {},
   "outputs": [
    {
     "name": "stdout",
     "output_type": "stream",
     "text": [
      "f_0 = 1\n",
      "f_1 = 1\n",
      "f_2 = 2\n",
      "f_3 = 3\n",
      "f_4 = 5\n",
      "f_5 = 8\n",
      "f_6 = 13\n",
      "f_7 = 21\n",
      "f_8 = 34\n",
      "f_9 = 55\n",
      "f_10 = 89\n",
      "f_11 = 144\n",
      "f_12 = 233\n",
      "f_13 = 377\n",
      "f_14 = 610\n",
      "f_15 = 987\n",
      "f_16 = 1597\n",
      "f_17 = 2584\n",
      "f_18 = 4181\n",
      "f_19 = 6765\n"
     ]
    }
   ],
   "source": [
    "\n",
    "for i in range(0,20):\n",
    "    print(\"f_\"+str(i)+\" =\", fibonacci_recursive(i))"
   ]
  },
  {
   "cell_type": "markdown",
   "metadata": {},
   "source": [
    "## Example: Fibonacci numbers (non-recursive)\n",
    "\n",
    "For the purposes of illustration we implement the same specification, but non-recursively. We will call this function ``fibonacci_non_recursive``, and will do this by constructing a list of fibonacci numbers instead of calling the function itself."
   ]
  },
  {
   "cell_type": "code",
   "execution_count": 3,
   "metadata": {},
   "outputs": [],
   "source": [
    "def fibonacci_non_recursive(n):\n",
    "    fib_numbers = [1,1]       \n",
    "    for i in range(2, n+1):\n",
    "        fib_numbers.append( fib_numbers[i-1] + fib_numbers[i - 2] )\n",
    "    \n",
    "    return fib_numbers[n]"
   ]
  },
  {
   "cell_type": "markdown",
   "metadata": {},
   "source": [
    "Let's again compute the first 20 fibonacci numbers"
   ]
  },
  {
   "cell_type": "code",
   "execution_count": 4,
   "metadata": {},
   "outputs": [
    {
     "name": "stdout",
     "output_type": "stream",
     "text": [
      "f_0 = 1\n",
      "f_1 = 1\n",
      "f_2 = 2\n",
      "f_3 = 3\n",
      "f_4 = 5\n",
      "f_5 = 8\n",
      "f_6 = 13\n",
      "f_7 = 21\n",
      "f_8 = 34\n",
      "f_9 = 55\n",
      "f_10 = 89\n",
      "f_11 = 144\n",
      "f_12 = 233\n",
      "f_13 = 377\n",
      "f_14 = 610\n",
      "f_15 = 987\n",
      "f_16 = 1597\n",
      "f_17 = 2584\n",
      "f_18 = 4181\n",
      "f_19 = 6765\n"
     ]
    }
   ],
   "source": [
    "\n",
    "for i in range(0,20):\n",
    "    print(\"f_\"+str(i)+\" =\", fibonacci_non_recursive(i))"
   ]
  },
  {
   "cell_type": "markdown",
   "metadata": {},
   "source": [
    "## Analysis: Recursive vs Non-recursive Fibonacci numbers "
   ]
  },
  {
   "cell_type": "markdown",
   "metadata": {},
   "source": [
    "Let us try computing some large fibonacci numbers. "
   ]
  },
  {
   "cell_type": "code",
   "execution_count": 5,
   "metadata": {},
   "outputs": [
    {
     "data": {
      "text/plain": [
       "39088169"
      ]
     },
     "execution_count": 5,
     "metadata": {},
     "output_type": "execute_result"
    }
   ],
   "source": [
    "fibonacci_non_recursive(37)  # instant"
   ]
  },
  {
   "cell_type": "code",
   "execution_count": 6,
   "metadata": {},
   "outputs": [
    {
     "data": {
      "text/plain": [
       "39088169"
      ]
     },
     "execution_count": 6,
     "metadata": {},
     "output_type": "execute_result"
    }
   ],
   "source": [
    "fibonacci_recursive(37)  # takes a few seconds"
   ]
  },
  {
   "cell_type": "code",
   "execution_count": 7,
   "metadata": {},
   "outputs": [
    {
     "data": {
      "text/plain": [
       "70330367711422815821835254877183549770181269836358732742604905087154537118196933579742249494562611733487750449241765991088186363265450223647106012053374121273867339111198139373125598767690091902245245323403501"
      ]
     },
     "execution_count": 7,
     "metadata": {},
     "output_type": "execute_result"
    }
   ],
   "source": [
    "fibonacci_non_recursive(1000)  # instant"
   ]
  },
  {
   "cell_type": "code",
   "execution_count": 8,
   "metadata": {},
   "outputs": [
    {
     "ename": "RecursionError",
     "evalue": "maximum recursion depth exceeded in comparison",
     "output_type": "error",
     "traceback": [
      "\u001b[0;31m---------------------------------------------------------------------------\u001b[0m",
      "\u001b[0;31mRecursionError\u001b[0m                            Traceback (most recent call last)",
      "\u001b[0;32m<ipython-input-8-fe914d1729d7>\u001b[0m in \u001b[0;36m<module>\u001b[0;34m()\u001b[0m\n\u001b[0;32m----> 1\u001b[0;31m \u001b[0mfibonacci_recursive\u001b[0m\u001b[0;34m(\u001b[0m\u001b[0;36m1000\u001b[0m\u001b[0;34m)\u001b[0m   \u001b[0;31m# Fails!\u001b[0m\u001b[0;34m\u001b[0m\u001b[0;34m\u001b[0m\u001b[0m\n\u001b[0m",
      "\u001b[0;32m<ipython-input-1-fe726392d6db>\u001b[0m in \u001b[0;36mfibonacci_recursive\u001b[0;34m(n)\u001b[0m\n\u001b[1;32m      6\u001b[0m         \u001b[0;32mreturn\u001b[0m \u001b[0;36m1\u001b[0m\u001b[0;34m\u001b[0m\u001b[0;34m\u001b[0m\u001b[0m\n\u001b[1;32m      7\u001b[0m     \u001b[0;32melse\u001b[0m\u001b[0;34m:\u001b[0m\u001b[0;34m\u001b[0m\u001b[0;34m\u001b[0m\u001b[0m\n\u001b[0;32m----> 8\u001b[0;31m         \u001b[0;32mreturn\u001b[0m \u001b[0mfibonacci_recursive\u001b[0m\u001b[0;34m(\u001b[0m\u001b[0mn\u001b[0m\u001b[0;34m-\u001b[0m\u001b[0;36m1\u001b[0m\u001b[0;34m)\u001b[0m \u001b[0;34m+\u001b[0m \u001b[0mfibonacci_recursive\u001b[0m\u001b[0;34m(\u001b[0m\u001b[0mn\u001b[0m\u001b[0;34m-\u001b[0m\u001b[0;36m2\u001b[0m\u001b[0;34m)\u001b[0m \u001b[0;31m#<--- Notice!\u001b[0m\u001b[0;34m\u001b[0m\u001b[0;34m\u001b[0m\u001b[0m\n\u001b[0m\u001b[1;32m      9\u001b[0m \u001b[0;34m\u001b[0m\u001b[0m\n\u001b[1;32m     10\u001b[0m \u001b[0;34m\u001b[0m\u001b[0m\n",
      "... last 1 frames repeated, from the frame below ...\n",
      "\u001b[0;32m<ipython-input-1-fe726392d6db>\u001b[0m in \u001b[0;36mfibonacci_recursive\u001b[0;34m(n)\u001b[0m\n\u001b[1;32m      6\u001b[0m         \u001b[0;32mreturn\u001b[0m \u001b[0;36m1\u001b[0m\u001b[0;34m\u001b[0m\u001b[0;34m\u001b[0m\u001b[0m\n\u001b[1;32m      7\u001b[0m     \u001b[0;32melse\u001b[0m\u001b[0;34m:\u001b[0m\u001b[0;34m\u001b[0m\u001b[0;34m\u001b[0m\u001b[0m\n\u001b[0;32m----> 8\u001b[0;31m         \u001b[0;32mreturn\u001b[0m \u001b[0mfibonacci_recursive\u001b[0m\u001b[0;34m(\u001b[0m\u001b[0mn\u001b[0m\u001b[0;34m-\u001b[0m\u001b[0;36m1\u001b[0m\u001b[0;34m)\u001b[0m \u001b[0;34m+\u001b[0m \u001b[0mfibonacci_recursive\u001b[0m\u001b[0;34m(\u001b[0m\u001b[0mn\u001b[0m\u001b[0;34m-\u001b[0m\u001b[0;36m2\u001b[0m\u001b[0;34m)\u001b[0m \u001b[0;31m#<--- Notice!\u001b[0m\u001b[0;34m\u001b[0m\u001b[0;34m\u001b[0m\u001b[0m\n\u001b[0m\u001b[1;32m      9\u001b[0m \u001b[0;34m\u001b[0m\u001b[0m\n\u001b[1;32m     10\u001b[0m \u001b[0;34m\u001b[0m\u001b[0m\n",
      "\u001b[0;31mRecursionError\u001b[0m: maximum recursion depth exceeded in comparison"
     ]
    }
   ],
   "source": [
    "fibonacci_recursive(1000)   # Fails!\n",
    "\n",
    "\n",
    "\n",
    "\n"
   ]
  },
  {
   "cell_type": "markdown",
   "metadata": {},
   "source": [
    "```\n",
    "\n",
    "\n",
    "\n",
    "\n",
    "\n",
    "--------------------------------------------------\n",
    "\n",
    "\n",
    "\n",
    "\n",
    "--\n",
    "```\n",
    "Calling our recursive implementation with input 1000 fails. Why? Consider the number of calls to `fibonacci_recursive` when we call `fibonacci_recursive(1000)`: Every call to `fibonacci_recursive` calls `fibonacci_recursive` two more times. See the digram below:"
   ]
  },
  {
   "cell_type": "markdown",
   "metadata": {},
   "source": [
    "```\n",
    "fibonacci_recursive(1000) --- fibonacci_recursive(999) --- fibonacci_recursive(998)...\n",
    "                      \\                            \\\n",
    "                       \\                            \\  \n",
    "                        \\                            fibonacci_recursive(997)...\n",
    "                         \\\n",
    "                         fibonacci_recursive(998) --- fibonacci_recursive(997)...\n",
    "                           \\\n",
    "                            \\\n",
    "                            fibonacci_recursive(996)....\n",
    "\n",
    "\n",
    "\n",
    "\n",
    "```  "
   ]
  },
  {
   "cell_type": "markdown",
   "metadata": {},
   "source": [
    "Therefore `fibonacci_recursive(1000)` will make (roughly) $2^{1000}$ calls to the function `fibonacci_recursive` and $2^{1000}$ is quite a large number."
   ]
  },
  {
   "cell_type": "code",
   "execution_count": 9,
   "metadata": {},
   "outputs": [
    {
     "data": {
      "text/plain": [
       "10715086071862673209484250490600018105614048117055336074437503883703510511249361224931983788156958581275946729175531468251871452856923140435984577574698574803934567774824230985421074605062371141877954182153046474983581941267398767559165543946077062914571196477686542167660429831652624386837205668069376"
      ]
     },
     "execution_count": 9,
     "metadata": {},
     "output_type": "execute_result"
    }
   ],
   "source": [
    "2**1000"
   ]
  },
  {
   "cell_type": "markdown",
   "metadata": {},
   "source": [
    "Compare this to `fibonacci_non_recursive(1000).` Starting from a list with length two, to construct the next fibonacci number we add the last two numbers in the list and append it to the list. In the end the list will have 1001 elements, so our function only does $1001-2 = 999$ additions. Compared to $2^{1000}$ function calls in the recursive case, 999 additions is far fewer operations to perform.\n",
    "\n",
    "\n",
    "**Important!** Recursion is not inherently slow! Our choice to use recursion in this particular case is the problem. There are cases where recursion is the correct choice and results in efficient and elegant algorithms (see quicksort and bubblesort below). "
   ]
  },
  {
   "cell_type": "markdown",
   "metadata": {},
   "source": [
    "## Example: Quicksort (recursive)"
   ]
  },
  {
   "cell_type": "markdown",
   "metadata": {},
   "source": [
    "As another example of recursion we implement the quicksort algorithm (https://en.wikipedia.org/wiki/Quicksort). **Warning:**  (This example is only for illustration. In practice we should not implement our own sorting algorithm but rather use the built in `sorted` function that is part of the python language (See the chapter on lists). Furthermore, the implementation presented here is also not as efficient as it can be, but is designed to be as simple and understandable as it can be)\n",
    "\n",
    "\n",
    "\n",
    "The idea of the `quicksort` algorithm is as follows. Suppose you have a queue of people that you want to sort from short to tall, finally with shortest on the left, tallest on the right. \n",
    "\n",
    "    1. Take the first person, call them P. \n",
    "    Put all people shorter than P to the left of P. \n",
    "    Put all people taller than P to the right of P.\n",
    "\n",
    "    2. Sort the left group of people.\n",
    "    3. Sort the right group of people.\n",
    "    \n",
    "\n",
    "The idea is to repeateatedly perform the same process from step 1., keeping in mind that once we get a group with zero or one person in it, the group is automatically sorted.\n",
    "    \n",
    "\n",
    "\n",
    "We first give its specification:\n",
    "\n",
    "```\n",
    "Name : quicksort\n",
    "\n",
    "Input:\n",
    "    L : A list of unique numbers in any order.\n",
    "    \n",
    "    \n",
    "Output:\n",
    "    A list containing all the numbers in the input list L\n",
    "    in ascending order.\n",
    "    \n",
    "    \n",
    " ------------------------\n",
    "        \n",
    "```\n",
    "\n",
    "\n",
    "Implementation of `quicksort` in pseudo code:\n",
    "\n",
    "```\n",
    "\n",
    "    If L has length 0 or one, \n",
    "        then it is already sorted, so return L\n",
    "\n",
    "    Otherwise:\n",
    "        Set the variable P to take the value of the zeroth element of L        \n",
    "        Make a new list named 'left' containing all the elements strictly smaller than P        \n",
    "        Make a new list 'right' containing all the elements strictly larger than P\n",
    "        \n",
    "        Return the concatenatation the following three lists:\n",
    "            output of quicksort(left)\n",
    "            [P]\n",
    "            output of quicksort(right)\n",
    "        \n",
    "\n",
    "\n",
    "```\n"
   ]
  },
  {
   "cell_type": "code",
   "execution_count": 10,
   "metadata": {},
   "outputs": [],
   "source": [
    "def quicksort(L):\n",
    "    if len(L) == 0 or len(L) == 1: # Lists of length zero or one are already sorted\n",
    "        return L\n",
    "   \n",
    "    else:\n",
    "        P = L[0]\n",
    "        left = [item for item in L if item < P]          \n",
    "        right = [item for item in L if item > P]\n",
    "        return quicksort(left) + [P] + quicksort(right)  # <--- Notice the recursion\n",
    "    "
   ]
  },
  {
   "cell_type": "markdown",
   "metadata": {},
   "source": [
    "Make sure you understand why the implementation above is recursive!\n",
    "\n",
    "We run a few test cases."
   ]
  },
  {
   "cell_type": "code",
   "execution_count": 11,
   "metadata": {},
   "outputs": [
    {
     "data": {
      "text/plain": [
       "[2, 5, 8, 10, 11, 15]"
      ]
     },
     "execution_count": 11,
     "metadata": {},
     "output_type": "execute_result"
    }
   ],
   "source": [
    "quicksort([5,8,2,10,11,15])"
   ]
  },
  {
   "cell_type": "code",
   "execution_count": 12,
   "metadata": {},
   "outputs": [
    {
     "data": {
      "text/plain": [
       "[0, 1, 2, 3, 4, 5, 6, 7, 8, 9, 10, 11, 12, 13, 14, 15, 16, 17, 18, 19]"
      ]
     },
     "execution_count": 12,
     "metadata": {},
     "output_type": "execute_result"
    }
   ],
   "source": [
    "quicksort([8, 19, 10, 12, 1, 0, 16, 6, 11, 7, 17, 18, 14, 13, 15, 4, 5, 2, 3, 9])"
   ]
  },
  {
   "cell_type": "markdown",
   "metadata": {},
   "source": [
    "## Example: Bubblesort (non-recursive)\n",
    "\n",
    "We implement the bubblesort algorithm non-recursively (https://en.wikipedia.org/wiki/Bubble_sort). **Warning:**  (This example is only for illustration. In practice we should not implement our own sorting algorithm but rather use the built in `sorted` function that is part of the python language (See the chapter on lists). Furthermore, the implementation presented here is also not as efficient as it can be, but is designed to be as simple and understandable as it can be).\n",
    "\n",
    "The idea of the `bubblesort` algorithm is as follows. Suppose you have a queue of people that you want to sort from short to tall, finally with shortest on the left, tallest on the right. \n",
    "\n",
    "    0. Position yourself on the leftmost point of the queue facing the people in the queue.\n",
    "    \n",
    "    1. While you haven't reached the rightmost endpoint do the following:\n",
    "            If at your current position the person to the right is shorter than the person in front of you:\n",
    "                swap them and immediately go back to the leftmost end of the queue.\n",
    "        \n",
    "            Otherwise move one step to the right.\n",
    "        \n",
    "       \n",
    "\n",
    "\n",
    "We first give its specification:\n",
    "\n",
    "```\n",
    "Name : bubblesort\n",
    "\n",
    "Input:\n",
    "    L : A list of unique numbers in any order.\n",
    "    \n",
    "    \n",
    "Output:\n",
    "    A list containing all the numbers in the input list L\n",
    "    in ascending order.\n",
    "    \n",
    "    \n",
    "\n",
    "        \n",
    "```\n",
    "Notice how the above specification is exactly the same as `quicksort`, except for the name.\n",
    "\n",
    "\n",
    "Implementation of `bubblesort` in pseudo code:\n",
    "\n",
    "```\n",
    "    \n",
    "    Set 'position' equal to 0\n",
    "    Set 'last_position' equal to the index of the last item in the list L\n",
    "    \n",
    "    While position is strictly less than last_position do the following:\n",
    "        If the position-th element in L is strctly bigger than (position+1)-th element in L then\n",
    "            swap these two elements and set position to equal 0.\n",
    "            \n",
    "        Otherwise, increase position by one.\n",
    "        \n",
    "\n",
    "\n",
    "```\n",
    "       \n"
   ]
  },
  {
   "cell_type": "code",
   "execution_count": 24,
   "metadata": {},
   "outputs": [],
   "source": [
    "def bubblesort(L):\n",
    "    L = L.copy() # This is optional. This line can be deleted.                \n",
    "                 # We do this to have a pure function:\n",
    "                 # https://en.wikipedia.org/wiki/Pure_function\n",
    "                 # Do try to understand the effect of this line\n",
    "                 # and what is meant by a 'side effect'.\n",
    "                \n",
    "    \n",
    "    position = 0\n",
    "    last_position = len(L)-1\n",
    "    while position < last_position:\n",
    "        if L[position] > L[position+1]:                              # If out of order...\n",
    "            L[position], L[position+1] = L[position+1], L[position]  # ... then swap them\n",
    "            position = 0\n",
    "        else:\n",
    "            position += 1\n",
    "    \n",
    "    return L  \n",
    "        \n",
    "        \n",
    "        "
   ]
  },
  {
   "cell_type": "markdown",
   "metadata": {},
   "source": [
    "Make sure you understand why the implementation above is non-recursive!\n",
    "\n",
    "We run a few test cases."
   ]
  },
  {
   "cell_type": "code",
   "execution_count": 14,
   "metadata": {},
   "outputs": [
    {
     "data": {
      "text/plain": [
       "[2, 5, 8, 10, 11, 15]"
      ]
     },
     "execution_count": 14,
     "metadata": {},
     "output_type": "execute_result"
    }
   ],
   "source": [
    "bubblesort([5,8,2,10,11,15])"
   ]
  },
  {
   "cell_type": "code",
   "execution_count": 15,
   "metadata": {},
   "outputs": [
    {
     "data": {
      "text/plain": [
       "[0, 1, 2, 3, 4, 5, 6, 7, 8, 9, 10, 11, 12, 13, 14, 15, 16, 17, 18, 19]"
      ]
     },
     "execution_count": 15,
     "metadata": {},
     "output_type": "execute_result"
    }
   ],
   "source": [
    "bubblesort([8, 19, 10, 12, 1, 0, 16, 6, 11, 7, 17, 18, 14, 13, 15, 4, 5, 2, 3, 9])"
   ]
  },
  {
   "cell_type": "markdown",
   "metadata": {},
   "source": [
    "## Experiment: Which is faster bubblesort (non-recursive) or quicksort (recursive)?"
   ]
  },
  {
   "cell_type": "markdown",
   "metadata": {},
   "source": [
    "We construct a list of 1000 numbers and shuffle them."
   ]
  },
  {
   "cell_type": "code",
   "execution_count": 22,
   "metadata": {},
   "outputs": [],
   "source": [
    "import random\n",
    "L = list(range(10**3))\n",
    "random.shuffle(L)"
   ]
  },
  {
   "cell_type": "markdown",
   "metadata": {},
   "source": [
    "Now compare how long `quicksort` (recursive) takes vs `bubblesort` (non-recursive). "
   ]
  },
  {
   "cell_type": "code",
   "execution_count": null,
   "metadata": {},
   "outputs": [],
   "source": [
    "quicksort(L)   # instant"
   ]
  },
  {
   "cell_type": "code",
   "execution_count": 21,
   "metadata": {},
   "outputs": [],
   "source": [
    "bubblesort(L)  # takes a couple of seconds"
   ]
  },
  {
   "cell_type": "markdown",
   "metadata": {},
   "source": [
    "Compare the outcome with the recursive and non-recursive implementations of our functions that generate **fibonacci numbers**. What you should notice is that sometimes a recursive algorithm is more efficient than a non-recursive algorithm and other times the reverse is true. It is the programmer's job to decide when and when not to use recursion. Sometimes recursion is a good choice, and other times not so good. We can only know which to use by analysing  algorithms and *understanding why* one might be slower than another."
   ]
  }
 ],
 "metadata": {
  "kernelspec": {
   "display_name": "Python 3",
   "language": "python",
   "name": "python3"
  },
  "language_info": {
   "codemirror_mode": {
    "name": "ipython",
    "version": 3
   },
   "file_extension": ".py",
   "mimetype": "text/x-python",
   "name": "python",
   "nbconvert_exporter": "python",
   "pygments_lexer": "ipython3",
   "version": "3.6.8"
  }
 },
 "nbformat": 4,
 "nbformat_minor": 2
}
