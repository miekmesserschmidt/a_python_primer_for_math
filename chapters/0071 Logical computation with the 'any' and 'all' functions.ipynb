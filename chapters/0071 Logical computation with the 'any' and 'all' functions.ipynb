{
 "cells": [
  {
   "cell_type": "markdown",
   "metadata": {},
   "source": [
    "Logical computation with the 'any' and 'all' functions\n",
    "=====================\n",
    "Sometimes one is required to decide if a number of statements in a list are *all* true. "
   ]
  },
  {
   "cell_type": "code",
   "execution_count": 4,
   "metadata": {},
   "outputs": [
    {
     "data": {
      "text/plain": [
       "True"
      ]
     },
     "execution_count": 4,
     "metadata": {},
     "output_type": "execute_result"
    }
   ],
   "source": [
    "all([True, True, True, True]) # All true? Yes."
   ]
  },
  {
   "cell_type": "code",
   "execution_count": 7,
   "metadata": {},
   "outputs": [
    {
     "data": {
      "text/plain": [
       "False"
      ]
     },
     "execution_count": 7,
     "metadata": {},
     "output_type": "execute_result"
    }
   ],
   "source": [
    "all([True, True, False, True]) # All true? No."
   ]
  },
  {
   "cell_type": "markdown",
   "metadata": {},
   "source": [
    "... and sometimes one is required to decide if *at least one* from a number of statements is true:"
   ]
  },
  {
   "cell_type": "code",
   "execution_count": 15,
   "metadata": {},
   "outputs": [
    {
     "data": {
      "text/plain": [
       "True"
      ]
     },
     "execution_count": 15,
     "metadata": {},
     "output_type": "execute_result"
    }
   ],
   "source": [
    "any([True, False, False, True]) # Is at least one statement true? Yes."
   ]
  },
  {
   "cell_type": "code",
   "execution_count": 10,
   "metadata": {},
   "outputs": [
    {
     "data": {
      "text/plain": [
       "False"
      ]
     },
     "execution_count": 10,
     "metadata": {},
     "output_type": "execute_result"
    }
   ],
   "source": [
    "any([False, False, False, False]) # Is at least one statement true? No."
   ]
  },
  {
   "cell_type": "markdown",
   "metadata": {},
   "source": [
    "*Examples*\n"
   ]
  },
  {
   "cell_type": "markdown",
   "metadata": {},
   "source": [
    "The following examples illustrate how the *all* and *any* functions can be used. "
   ]
  },
  {
   "cell_type": "code",
   "execution_count": 2,
   "metadata": {},
   "outputs": [
    {
     "data": {
      "text/plain": [
       "True"
      ]
     },
     "execution_count": 2,
     "metadata": {},
     "output_type": "execute_result"
    }
   ],
   "source": [
    "# Do *all* the letters \"a\", \"b\", \"l\" occur the phrase \"mary had a little lamb\"? \n",
    "# Yes. So the following evaluates to True.\n",
    "all([letter in \"mary had a little lamb\" for letter in [\"a\", \"b\", \"l\"]])"
   ]
  },
  {
   "cell_type": "code",
   "execution_count": 4,
   "metadata": {},
   "outputs": [
    {
     "data": {
      "text/plain": [
       "False"
      ]
     },
     "execution_count": 4,
     "metadata": {},
     "output_type": "execute_result"
    }
   ],
   "source": [
    "# Do *all* the letters \"a\", \"b\", \"q\" occur the phrase \"the quick brown fox\"?\n",
    "# No. The letter \"a\" does not occur, so the following evaluates to False.\n",
    "all([letter in \"the quick brown fox\" for letter in [\"a\", \"b\", \"q\"]])"
   ]
  },
  {
   "cell_type": "code",
   "execution_count": 7,
   "metadata": {},
   "outputs": [
    {
     "data": {
      "text/plain": [
       "True"
      ]
     },
     "execution_count": 7,
     "metadata": {},
     "output_type": "execute_result"
    }
   ],
   "source": [
    "# Does *at least one* of the letters \"a\", \"b\", \"z\" occur the phrase \"the quick brown fox\"?\n",
    "# Yes. The letter \"b\" occurs, so the following evaluates to True.\n",
    "any([letter in \"the quick brown fox\" for letter in [\"a\", \"b\", \"z\"]])"
   ]
  },
  {
   "cell_type": "code",
   "execution_count": 8,
   "metadata": {},
   "outputs": [
    {
     "data": {
      "text/plain": [
       "False"
      ]
     },
     "execution_count": 8,
     "metadata": {},
     "output_type": "execute_result"
    }
   ],
   "source": [
    "# Does *at least one* of the letters \"z\", \"q\", \"p\" occur the phrase \"mary had a little lamb\"?\n",
    "# No. none of the letters occur, so the following evaluates to True.\n",
    "any([letter in \"mary had a little lamb\" for letter in [\"z\", \"p\", \"q\"]])"
   ]
  },
  {
   "cell_type": "markdown",
   "metadata": {},
   "source": [
    "Challenge: is_prime in one line\n",
    "------------------------------"
   ]
  },
  {
   "cell_type": "markdown",
   "metadata": {},
   "source": [
    "A prime number is a number $n$ that greater than 1, **and** for which \"**not any** of the numbers $\\{2,3,4,\\ldots,n-1\\}$ divide the number $n$\". \n",
    "\n",
    "This can be expressed nearly as clearly in Python using the any function. Try to write a function whose body is one line long and impelements the following specification\n",
    "\n",
    "~~~\n",
    "Function name: is_prime\n",
    "\n",
    "Input:\n",
    "    n : any natural number\n",
    "    \n",
    "Output:\n",
    "    True if n is prime,\n",
    "    False if n is not prime\n",
    "    \n",
    "~~~"
   ]
  }
 ],
 "metadata": {
  "kernelspec": {
   "display_name": "Python 3",
   "language": "python",
   "name": "python3"
  },
  "language_info": {
   "codemirror_mode": {
    "name": "ipython",
    "version": 3
   },
   "file_extension": ".py",
   "mimetype": "text/x-python",
   "name": "python",
   "nbconvert_exporter": "python",
   "pygments_lexer": "ipython3",
   "version": "3.6.7"
  }
 },
 "nbformat": 4,
 "nbformat_minor": 2
}
