{
 "cells": [
  {
   "cell_type": "markdown",
   "metadata": {},
   "source": [
    "Code blocks and indentation\n",
    "=========="
   ]
  },
  {
   "cell_type": "markdown",
   "metadata": {},
   "source": [
    "Before we start, we point out the most striking feature of python: That code blocks are indicated by indentation. (See [https://en.wikipedia.org/wiki/Indentation_(typesetting)#Indentation_in_programming]). \n",
    "\n",
    "Indentation is an essential best practice in any programming language, even if code will still work without indentation. In older langauges indentation plays no role in the meaning of a program, and unindented code works just as well as indented code. The only reason to indent code is to make it more readable, and thereby easier to maintain when buggy -- and your code will be buggy.\n",
    "\n",
    "Python forces the user to indent their code properly, otherwise it will not even run.\n",
    "\n",
    "Below are functions written in C, Pascal and Python, each doing the same thing: Testing whether or not a number is prime.\n"
   ]
  },
  {
   "cell_type": "markdown",
   "metadata": {},
   "source": [
    "Code blocks in C: Between { ... }\n",
    "-------------\n",
    "Consider the following C function. Notice the how the characters '{' and '}' indicate the beginning and end of the code blocks how the code blocks is indented."
   ]
  },
  {
   "cell_type": "markdown",
   "metadata": {},
   "source": [
    "~~~\n",
    "int prime(int n) {\n",
    "\tint i;\n",
    "\tfor(i=2; i<n; i++) {\n",
    "\t\tif(n % i == 0) {\n",
    "\t\t\treturn 1;\t\n",
    "        }\n",
    "\t}\n",
    "\treturn 0;\n",
    "}\n",
    "~~~"
   ]
  },
  {
   "cell_type": "markdown",
   "metadata": {},
   "source": [
    "The following is also valid C code and will still work. However, this code is much harder to read and maintain if we discover a bug, since we cannot see where code blocks begin and end. We cannot even see which curly brackes match up to their partners. "
   ]
  },
  {
   "cell_type": "markdown",
   "metadata": {},
   "source": [
    "~~~\n",
    "int prime(int n) {\n",
    "int i;\n",
    "for(i=2; i<n; i++) {\n",
    "if(n % i == 0) {\n",
    "return 1;\t\n",
    "}} return 0;}\n",
    "~~~"
   ]
  },
  {
   "cell_type": "markdown",
   "metadata": {},
   "source": [
    "Code blocks in Pascal: Between begin ... end\n",
    "---------------------------------------------\n",
    "Consider the following Pascal function. Notice the how the keywords 'begin' and 'end' indicate the beginning and end of the code blocks how the code is indented.\n"
   ]
  },
  {
   "cell_type": "markdown",
   "metadata": {},
   "source": [
    "~~~\n",
    "function is_prime(number:longint):boolean;\n",
    "\n",
    "var i:longint;\n",
    "    return_value: boolean;\n",
    "    \n",
    "begin\n",
    "    return_value := true;\n",
    "\n",
    "    for i:=2 to number-1 do begin\n",
    "        if (number mod i = 0) then begin\n",
    "             return_value := false;\n",
    "             break;\n",
    "        end;\n",
    "    end;\n",
    "\n",
    "    if (return_value = true) then begin\n",
    "        if (number = 0) or (number = 1) then begin        \n",
    "            return_value := false;\n",
    "        end;\n",
    "    end;\n",
    "\n",
    "    is_prime := return_value;\n",
    "end;\n",
    "~~~"
   ]
  },
  {
   "cell_type": "markdown",
   "metadata": {},
   "source": [
    "The following is also valid Pascal code and will also work. However, is a lot harder to read, since we cannot see where code blocks begin and end."
   ]
  },
  {
   "cell_type": "markdown",
   "metadata": {},
   "source": [
    "~~~\n",
    "function is_prime(number:longint):boolean;\n",
    "\n",
    "var i:longint;\n",
    "return_value: boolean;\n",
    "\n",
    "begin\n",
    "return_value := true;\n",
    "for i:=2 to number-1 do begin if (number mod i = 0) then begin\n",
    "return_value := false; break; end;end;\n",
    "if (return_value = true) then begin if (number = 0) or (number = 1) then begin        \n",
    "return_value := false; end;end;\n",
    "is_prime := return_value;\n",
    "end;\n",
    "~~~"
   ]
  },
  {
   "cell_type": "markdown",
   "metadata": {},
   "source": [
    "Code blocks in Python: Purely by indentation\n",
    "---------------------------------------------\n",
    "Consider the following Python function."
   ]
  },
  {
   "cell_type": "code",
   "execution_count": 1,
   "metadata": {},
   "outputs": [],
   "source": [
    "def is_prime(n):\n",
    "    if n < 2:\n",
    "        return False\n",
    "    \n",
    "    for i in range(2,n):\n",
    "        if n % i == 0:\n",
    "            return False\n",
    "    return True"
   ]
  },
  {
   "cell_type": "markdown",
   "metadata": {},
   "source": [
    "Since Python code blocks are indicated by indentation, the following is ***not valid*** Python and will not work. Trying to run it results in an **IndentationError**.\n"
   ]
  },
  {
   "cell_type": "code",
   "execution_count": 3,
   "metadata": {},
   "outputs": [
    {
     "ename": "IndentationError",
     "evalue": "expected an indented block (<ipython-input-3-c6c5cc7430e0>, line 2)",
     "output_type": "error",
     "traceback": [
      "\u001b[0;36m  File \u001b[0;32m\"<ipython-input-3-c6c5cc7430e0>\"\u001b[0;36m, line \u001b[0;32m2\u001b[0m\n\u001b[0;31m    for i in range(2,n):\u001b[0m\n\u001b[0m      ^\u001b[0m\n\u001b[0;31mIndentationError\u001b[0m\u001b[0;31m:\u001b[0m expected an indented block\n"
     ]
    }
   ],
   "source": [
    "def is_prime(n):    \n",
    "for i in range(2,n):\n",
    "if n % i == 0:\n",
    "return False\n",
    "return True"
   ]
  },
  {
   "cell_type": "markdown",
   "metadata": {},
   "source": [
    "The Zen of Python\n",
    "-----------------\n",
    "By using indentation to indicate code blocks, Python forces its programmers to adhere to best practices and makes it impossible to write ugly unindented code that still works. You might still find some way to write ugly code, but it is harder than in other languages like C or Pascal.\n",
    "\n",
    "Notice further how much shorter the Python function is compared to the C and Pascal versions. Python is first and foremost designed to enable you to write beautiful, short and expressive code. Beauty is so important in Python that it is the first line in the 'Zen of Python' which codifies the entire Python philosophy. "
   ]
  },
  {
   "cell_type": "code",
   "execution_count": 1,
   "metadata": {},
   "outputs": [
    {
     "name": "stdout",
     "output_type": "stream",
     "text": [
      "The Zen of Python, by Tim Peters\n",
      "\n",
      "Beautiful is better than ugly.\n",
      "Explicit is better than implicit.\n",
      "Simple is better than complex.\n",
      "Complex is better than complicated.\n",
      "Flat is better than nested.\n",
      "Sparse is better than dense.\n",
      "Readability counts.\n",
      "Special cases aren't special enough to break the rules.\n",
      "Although practicality beats purity.\n",
      "Errors should never pass silently.\n",
      "Unless explicitly silenced.\n",
      "In the face of ambiguity, refuse the temptation to guess.\n",
      "There should be one-- and preferably only one --obvious way to do it.\n",
      "Although that way may not be obvious at first unless you're Dutch.\n",
      "Now is better than never.\n",
      "Although never is often better than *right* now.\n",
      "If the implementation is hard to explain, it's a bad idea.\n",
      "If the implementation is easy to explain, it may be a good idea.\n",
      "Namespaces are one honking great idea -- let's do more of those!\n"
     ]
    }
   ],
   "source": [
    "import this"
   ]
  }
 ],
 "metadata": {
  "kernelspec": {
   "display_name": "Python 3",
   "language": "python",
   "name": "python3"
  },
  "language_info": {
   "codemirror_mode": {
    "name": "ipython",
    "version": 3
   },
   "file_extension": ".py",
   "mimetype": "text/x-python",
   "name": "python",
   "nbconvert_exporter": "python",
   "pygments_lexer": "ipython3",
   "version": "3.6.8"
  }
 },
 "nbformat": 4,
 "nbformat_minor": 2
}
