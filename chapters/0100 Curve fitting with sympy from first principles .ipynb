{
 "cells": [
  {
   "cell_type": "markdown",
   "metadata": {},
   "source": [
    "Curve fitting with sympy from first principles \n",
    "========="
   ]
  },
  {
   "cell_type": "markdown",
   "metadata": {},
   "source": [
    "Say we are given a list on 20 data points:"
   ]
  },
  {
   "cell_type": "code",
   "execution_count": 1,
   "metadata": {
    "collapsed": true
   },
   "outputs": [],
   "source": [
    "\n",
    "data = [\n",
    "  (1.36, 3.18),\n",
    "  (1.19, 0.13),\n",
    "  (2.95, 10.54),\n",
    "  (2.84, 9.59),\n",
    "  (0.44, -1.69),\n",
    "  (2.83, 6.43),\n",
    "  (1.39, 0.13),\n",
    "  (1.88, 2.32),\n",
    "  (1.23, -0.41),\n",
    "  (0.92, -0.11),\n",
    "  (0.97, 1.14),\n",
    "  (2.19, 4.05),\n",
    "  (2.02, 4.39),\n",
    "  (2.48, 5.54),\n",
    "  (1.2, 0.94),\n",
    "  (0.22, -0.92),\n",
    "  (0.3, 1.8),\n",
    "  (1.02, 1.4),\n",
    "  (0.07, 0.94),\n",
    "  (2.82, 6.72),\n",
    "]"
   ]
  },
  {
   "cell_type": "markdown",
   "metadata": {},
   "source": [
    "Let's visualize our data on a scatter plot:\n"
   ]
  },
  {
   "cell_type": "code",
   "execution_count": 2,
   "metadata": {},
   "outputs": [
    {
     "data": {
      "image/png": "[encoded data removed]",
      "text/plain": [
       "<matplotlib.figure.Figure at 0x7f5a98043080>"
      ]
     },
     "metadata": {},
     "output_type": "display_data"
    }
   ],
   "source": [
    "import matplotlib.pyplot as plt\n",
    "import numpy as np\n",
    "\n",
    "fig,ax = plt.figure(), plt.axes()\n",
    "\n",
    "dataX, dataY = zip(*data)\n",
    "ax.plot(dataX, dataY, \"o\")\n",
    "\n",
    "plt.show()\n"
   ]
  },
  {
   "cell_type": "code",
   "execution_count": null,
   "metadata": {
    "collapsed": true
   },
   "outputs": [],
   "source": []
  },
  {
   "cell_type": "markdown",
   "metadata": {
    "collapsed": true
   },
   "source": [
    " We want to fit a curve through these data points\n",
    " as closely as possible.\n",
    " \n",
    "  First, we need to choose a type of curve\n",
    " before we can start fitting it to the data.\n",
    " Let's assume that we want to fit the graph of \n",
    " the following function to our data:\n",
    " $f(x) := ax^2 + bx +c$\n",
    " \n",
    "  Now, we need to find numbers the paremeters a,b and c \n",
    " so that the curve matches the data as closely as possible.\n",
    "\n",
    "We begin just by guessing: Say $f_1(x):=x^2 + 2x - 1$"
   ]
  },
  {
   "cell_type": "code",
   "execution_count": 3,
   "metadata": {
    "collapsed": true
   },
   "outputs": [],
   "source": [
    "import sympy\n",
    "from sympy.abc import x\n",
    "sympy.init_printing()\n",
    "\n",
    "f1 = sympy.lambdify([x], x**2 + 2*x - 1)"
   ]
  },
  {
   "cell_type": "markdown",
   "metadata": {},
   "source": [
    "Let's plot this guess, together with our data:"
   ]
  },
  {
   "cell_type": "code",
   "execution_count": 6,
   "metadata": {},
   "outputs": [
    {
     "data": {
      "image/png": "[encoded data removed]",
      "text/plain": [
       "<matplotlib.figure.Figure at 0x7f5a6d7bf5f8>"
      ]
     },
     "metadata": {},
     "output_type": "display_data"
    }
   ],
   "source": [
    "\n",
    "fig,ax = plt.figure(), plt.axes()\n",
    "\n",
    "X = np.linspace(-1,4)\n",
    "\n",
    "dataX, dataY = zip(*data)\n",
    "ax.plot(dataX, dataY, \"o\")\n",
    "ax.plot(X, f1(X))\n",
    "\n",
    "plt.show()"
   ]
  },
  {
   "cell_type": "markdown",
   "metadata": {},
   "source": [
    "Not bad! But it goes a bit high, let's shift it down in our next guess.\n",
    "\n",
    "Let's try $f_2(x):=x^2 + 2x - 4$."
   ]
  },
  {
   "cell_type": "code",
   "execution_count": 7,
   "metadata": {
    "collapsed": true
   },
   "outputs": [],
   "source": [
    "\n",
    "f2 = sympy.lambdify([x], x**2 + 2*x - 4)"
   ]
  },
  {
   "cell_type": "markdown",
   "metadata": {},
   "source": [
    "... and plot our guesses $f_1$ and $f_2$ with our given data:"
   ]
  },
  {
   "cell_type": "code",
   "execution_count": 8,
   "metadata": {},
   "outputs": [
    {
     "data": {
      "image/png": "[encoded data removed]",
      "text/plain": [
       "<matplotlib.figure.Figure at 0x7f5a6d6c59b0>"
      ]
     },
     "metadata": {},
     "output_type": "display_data"
    }
   ],
   "source": [
    "fig,ax = plt.figure(), plt.axes()\n",
    "\n",
    "X = np.linspace(-1,4)\n",
    "\n",
    "dataX, dataY = zip(*data)\n",
    "ax.plot(dataX, dataY, \"o\")\n",
    "\n",
    "ax.plot(X, f1(X))\n",
    "ax.plot(X, f2(X))\n",
    "\n",
    "plt.show()"
   ]
  },
  {
   "cell_type": "markdown",
   "metadata": {},
   "source": [
    "Better, but $f_2$'s graph is a bit low on the left.\n",
    "\n",
    "There must be a better way, rather than guessing!\n",
    "\n",
    " Our data is a set of 20 points\n",
    " $\\mathrm{data} = \\{(x_i, y_i) : i \\in \\{0,1,2,3,...19\\} \\}$.\n",
    " We want to simutaneously MINIMIZE the DISTANCE from the\n",
    " data points $(x_i, y_i)$ to the points on the \n",
    " graph of f, i.e., the points $(x_i, f(x_i))$\n",
    " For every $i$,  the distance from $(x_i, y_i)$\n",
    " to $(x_i, f(x_i))$ is:\n",
    " $$\\sqrt{ (x_i-x_i)^2+(y_i-f(x_i))^2 }\n",
    "     =\\sqrt{ (y_i-f(x_i))^2}=|y_i-f(x_i)|.$$ \n",
    "Minimization? Perhaps we can use calculus? \n",
    "\n",
    "The absoulte value $x\\mapsto|x|$ is NOT differentiable at zero.\n",
    "Rather let's use the square of the DISTANCE from the\n",
    " data points $(x_i, y_i)$ to the points on the \n",
    " graph of $f$. That is\n",
    "$$(x_i-x_i)^2+(y_i-f(x_i))^2=(y_i-f(x_i))^2.$$\n",
    " This is for one data point, but we want this \n",
    " quantity to be small for all datapoints.\n",
    "\n",
    " Lets consider the sum of all these quantities:\n",
    " $$\\sum_{(x_i,y_i)\\in{\\mathrm{data}}}(y_i-f(x_i))^2\n",
    "     =\\sum_{(x_i,y_i)\\in{\\mathrm{data}}}(y_i-(ax_i^2+bx_i+c))^2$$\n",
    " If we can find values of a,b,c that makes the \n",
    " above quantity small, as small as possible, we are in business!\n",
    " This is now our objective!\n",
    "\n",
    " Let's use sympy to compute the above quantity for our 20 \n",
    " given data points.     \n"
   ]
  },
  {
   "cell_type": "code",
   "execution_count": 9,
   "metadata": {
    "collapsed": true
   },
   "outputs": [],
   "source": [
    "from sympy.abc import x,a,b,c\n",
    "import sympy\n",
    "\n",
    "f = sympy.lambdify([x], a*x**2+ b*x+c)\n",
    "objective = sum( (y_i - f(x_i))**2 for x_i,y_i in data)"
   ]
  },
  {
   "cell_type": "code",
   "execution_count": 10,
   "metadata": {},
   "outputs": [
    {
     "data": {
      "image/png": "[encoded data removed]",
      "text/latex": [
       "$$374.39609912 a^{2} + 295.32802 a b + 125.212 a c - 725.80455 a + 62.606 b^{2} + 60.64 b c - 277.3806 b + 20.0 c^{2} - 112.22 c + 383.6073$$"
      ],
      "text/plain": [
       "              2                                                       2       \n",
       "374.39609912⋅a  + 295.32802⋅a⋅b + 125.212⋅a⋅c - 725.80455⋅a + 62.606⋅b  + 60.6\n",
       "\n",
       "                           2                      \n",
       "4⋅b⋅c - 277.3806⋅b + 20.0⋅c  - 112.22⋅c + 383.6073"
      ]
     },
     "execution_count": 10,
     "metadata": {},
     "output_type": "execute_result"
    }
   ],
   "source": [
    "sympy.simplify(objective)"
   ]
  },
  {
   "cell_type": "markdown",
   "metadata": {
    "collapsed": true
   },
   "source": [
    " Notice how this expression is only in the parameters a, b, and c.\n",
    " We must find the values a, b, and c for which the objective is a minimum.\n",
    " This can only happen where the objective has a critical point,\n",
    " i.e., its partial derivatives to a,b,c are simultaneously zero. \n",
    " This will be discussed in more detail in a course on multivariate calculus\n",
    " \n",
    " (See https://en.wikipedia.org/wiki/Critical_point_(mathematics)#Several_variables)\n",
    "\n",
    " I.e., We must solve the following system of three equations:"
   ]
  },
  {
   "cell_type": "code",
   "execution_count": 23,
   "metadata": {},
   "outputs": [
    {
     "data": {
      "image/png": "[encoded data removed]",
      "text/latex": [
       "$$\\left [ 748.79219824 a + 295.32802 b + 125.212 c - 725.80455 = 0, \\quad 295.32802 a + 125.212 b + 60.64 c - 277.3806 = 0, \\quad 125.212 a + 60.64 b + 40 c - 112.22 = 0\\right ]$$"
      ],
      "text/plain": [
       "[748.79219824⋅a + 295.32802⋅b + 125.212⋅c - 725.80455 = 0, 295.32802⋅a + 125.2\n",
       "12⋅b + 60.64⋅c - 277.3806 = 0, 125.212⋅a + 60.64⋅b + 40⋅c - 112.22 = 0]"
      ]
     },
     "execution_count": 23,
     "metadata": {},
     "output_type": "execute_result"
    }
   ],
   "source": [
    "[   \n",
    "    sympy.Eq(sympy.diff(objective, a), 0),\n",
    "    sympy.Eq(sympy.diff(objective, b), 0),\n",
    "    sympy.Eq(sympy.diff(objective, c), 0), \n",
    "]"
   ]
  },
  {
   "cell_type": "markdown",
   "metadata": {},
   "source": [
    "... call sympy.solve:"
   ]
  },
  {
   "cell_type": "code",
   "execution_count": 24,
   "metadata": {
    "collapsed": true
   },
   "outputs": [],
   "source": [
    "parameters = sympy.solve([\n",
    "    sympy.Eq(sympy.diff(objective, a), 0),\n",
    "    sympy.Eq(sympy.diff(objective, b), 0),\n",
    "    sympy.Eq(sympy.diff(objective, c), 0),            \n",
    "], [a,b,c])"
   ]
  },
  {
   "cell_type": "code",
   "execution_count": 25,
   "metadata": {},
   "outputs": [
    {
     "data": {
      "image/png": "[encoded data removed]",
      "text/latex": [
       "$$\\left \\{ a : 1.5425209779946, \\quad b : -1.66731287670701, \\quad c : 0.504592903671337\\right \\}$$"
      ],
      "text/plain": [
       "{a: 1.5425209779946, b: -1.66731287670701, c: 0.504592903671337}"
      ]
     },
     "execution_count": 25,
     "metadata": {},
     "output_type": "execute_result"
    }
   ],
   "source": [
    "parameters"
   ]
  },
  {
   "cell_type": "markdown",
   "metadata": {},
   "source": [
    "These are the parameters we want. Let's substiture into $ax^2+bx+c$"
   ]
  },
  {
   "cell_type": "code",
   "execution_count": 16,
   "metadata": {},
   "outputs": [
    {
     "data": {
      "image/png": "[encoded data removed]",
      "text/latex": [
       "$$1.5425209779946 x^{2} - 1.66731287670701 x + 0.504592903671337$$"
      ],
      "text/plain": [
       "                 2                                         \n",
       "1.5425209779946⋅x  - 1.66731287670701⋅x + 0.504592903671337"
      ]
     },
     "execution_count": 16,
     "metadata": {},
     "output_type": "execute_result"
    }
   ],
   "source": [
    "fitted_expression = (a*x**2+b*x+c).subs(parameters)\n",
    "fitted_expression"
   ]
  },
  {
   "cell_type": "markdown",
   "metadata": {},
   "source": [
    "Let's make a function out of this expression"
   ]
  },
  {
   "cell_type": "code",
   "execution_count": 19,
   "metadata": {
    "collapsed": true
   },
   "outputs": [],
   "source": [
    "\n",
    "fitted_f = sympy.lambdify([x], fitted_expression)"
   ]
  },
  {
   "cell_type": "markdown",
   "metadata": {},
   "source": [
    "... and plot it against our previous guesses and our data:"
   ]
  },
  {
   "cell_type": "code",
   "execution_count": 22,
   "metadata": {},
   "outputs": [
    {
     "data": {
      "image/png": "[encoded data removed]",
      "text/plain": [
       "<matplotlib.figure.Figure at 0x7f5a6d4346a0>"
      ]
     },
     "metadata": {},
     "output_type": "display_data"
    }
   ],
   "source": [
    "\n",
    "fig,ax = plt.figure(), plt.axes()\n",
    "\n",
    "X = np.linspace(-1,4)\n",
    "\n",
    "dataX, dataY = zip(*data)\n",
    "ax.plot(dataX, dataY, \"o\")\n",
    "\n",
    "ax.plot(X, f1(X))\n",
    "ax.plot(X, f2(X))\n",
    "ax.plot(X, fitted_f(X))\n",
    "\n",
    "plt.show()\n"
   ]
  },
  {
   "cell_type": "markdown",
   "metadata": {},
   "source": [
    "Notice, that our fitted function closely fits the data, closer than our arbitrary guesses."
   ]
  }
 ],
 "metadata": {
  "kernelspec": {
   "display_name": "Python3.5_devenv",
   "language": "python",
   "name": "python3.5_devenv"
  },
  "language_info": {
   "codemirror_mode": {
    "name": "ipython",
    "version": 3
   },
   "file_extension": ".py",
   "mimetype": "text/x-python",
   "name": "python",
   "nbconvert_exporter": "python",
   "pygments_lexer": "ipython3",
   "version": "3.6.3"
  }
 },
 "nbformat": 4,
 "nbformat_minor": 2
}
