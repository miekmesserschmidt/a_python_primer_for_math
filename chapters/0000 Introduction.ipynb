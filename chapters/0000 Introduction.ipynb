{
 "cells": [
  {
   "cell_type": "markdown",
   "metadata": {},
   "source": [
    "Introduction\n",
    "==============\n",
    "\n",
    "This document is meant to prime mathematics students into  using Python for doing mathematics symbolically and numerically. \n",
    "It is *not* meant to be used as a comprehensive text, but rather as a\n",
    "demonstrative cheatsheet to get up and running with the basics Python \n",
    "and for using Python for scientific computing as quickly as possible. \n",
    "\n",
    "We will give very brief introductory demonstrations of the basics of the Python language, before moving on to a few more advanced features and demonstrations of the packages *sympy*, *numpy*, and *matplotlib*  which are increasingly used in modern scientific computing. \n",
    "\n",
    "\n"
   ]
  },
  {
   "cell_type": "code",
   "execution_count": null,
   "metadata": {},
   "outputs": [],
   "source": []
  }
 ],
 "metadata": {
  "kernelspec": {
   "display_name": "Python 3",
   "language": "python",
   "name": "python3"
  },
  "language_info": {
   "codemirror_mode": {
    "name": "ipython",
    "version": 3
   },
   "file_extension": ".py",
   "mimetype": "text/x-python",
   "name": "python",
   "nbconvert_exporter": "python",
   "pygments_lexer": "ipython3",
   "version": "3.6.7"
  }
 },
 "nbformat": 4,
 "nbformat_minor": 2
}
