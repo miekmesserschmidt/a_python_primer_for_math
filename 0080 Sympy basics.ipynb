{
 "cells": [
  {
   "cell_type": "markdown",
   "metadata": {},
   "source": [
    "Sympy\n",
    "===="
   ]
  },
  {
   "cell_type": "markdown",
   "metadata": {},
   "source": [
    "Here, we will use sympy to see how to perform symbolic computations like solving equations,  differentiation and integration.\n",
    "\n"
   ]
  },
  {
   "cell_type": "code",
   "execution_count": 1,
   "metadata": {
    "collapsed": true
   },
   "outputs": [],
   "source": [
    "# The \"sympy\" module adds symbolic computation\n",
    "# funtionality to python. This is extremely\n",
    "# important to be able to do mathematics.\n",
    "import sympy\n",
    "\n",
    "# To make sympy print its output in a pretty way\n",
    "# in a Jupyter-notebook we run:\n",
    "sympy.init_printing()"
   ]
  },
  {
   "cell_type": "code",
   "execution_count": 2,
   "metadata": {
    "collapsed": true
   },
   "outputs": [],
   "source": [
    "# We define symbols as follows\n",
    "x,y  = sympy.symbols(\"x y\")"
   ]
  },
  {
   "cell_type": "code",
   "execution_count": 44,
   "metadata": {
    "collapsed": true
   },
   "outputs": [],
   "source": [
    "# ... or, often used symbols can be imported from the \n",
    "# \"sympy.abc\" submodule.\n",
    "from sympy.abc import x,y"
   ]
  },
  {
   "cell_type": "code",
   "execution_count": 45,
   "metadata": {},
   "outputs": [
    {
     "data": {
      "image/png": "[encoded data removed]",
      "text/latex": [
       "$$\\sin{\\left (x^{2} - x + \\operatorname{acos}{\\left (y \\right )} - 1 \\right )}$$"
      ],
      "text/plain": [
       "   ⎛ 2                  ⎞\n",
       "sin⎝x  - x + acos(y) - 1⎠"
      ]
     },
     "execution_count": 45,
     "metadata": {},
     "output_type": "execute_result"
    }
   ],
   "source": [
    "# We define an expression in the variables x and y\n",
    "an_expression = sympy.sin(x**2 - x - 1 + sympy.acos(y))\n",
    "an_expression"
   ]
  },
  {
   "cell_type": "markdown",
   "metadata": {},
   "source": [
    "Expanding, ractoring and simplifying expressions\n",
    "-----------------------"
   ]
  },
  {
   "cell_type": "code",
   "execution_count": 46,
   "metadata": {
    "collapsed": true
   },
   "outputs": [],
   "source": [
    "# We can expand expressions "
   ]
  },
  {
   "cell_type": "code",
   "execution_count": 7,
   "metadata": {},
   "outputs": [
    {
     "data": {
      "image/png": "[encoded data removed]",
      "text/latex": [
       "$$x^{2} - 2 x - 24$$"
      ],
      "text/plain": [
       " 2           \n",
       "x  - 2⋅x - 24"
      ]
     },
     "execution_count": 7,
     "metadata": {},
     "output_type": "execute_result"
    }
   ],
   "source": [
    "sympy.expand( (x+4)*(x-6) )"
   ]
  },
  {
   "cell_type": "code",
   "execution_count": null,
   "metadata": {
    "collapsed": true
   },
   "outputs": [],
   "source": [
    "# We can factor expressions"
   ]
  },
  {
   "cell_type": "code",
   "execution_count": 9,
   "metadata": {},
   "outputs": [
    {
     "data": {
      "image/png": "[encoded data removed]",
      "text/latex": [
       "$$\\left(x - 5\\right) \\left(x + 4\\right)$$"
      ],
      "text/plain": [
       "(x - 5)⋅(x + 4)"
      ]
     },
     "execution_count": 9,
     "metadata": {},
     "output_type": "execute_result"
    }
   ],
   "source": [
    "sympy.factor( x**2-x-20 )"
   ]
  },
  {
   "cell_type": "code",
   "execution_count": 47,
   "metadata": {},
   "outputs": [
    {
     "data": {
      "image/png": "[encoded data removed]",
      "text/latex": [
       "$$\\frac{x^{3} + x^{2} - x - 1}{x^{2} + 2 x + 1}$$"
      ],
      "text/plain": [
       " 3    2        \n",
       "x  + x  - x - 1\n",
       "───────────────\n",
       "   2           \n",
       "  x  + 2⋅x + 1 "
      ]
     },
     "execution_count": 47,
     "metadata": {},
     "output_type": "execute_result"
    }
   ],
   "source": [
    "# We can express complicated expressions ...\n",
    "(x**3 + x**2 - x - 1)/(x**2 + 2*x + 1)"
   ]
  },
  {
   "cell_type": "code",
   "execution_count": 48,
   "metadata": {},
   "outputs": [
    {
     "data": {
      "image/png": "[encoded data removed]",
      "text/latex": [
       "$$x - 1$$"
      ],
      "text/plain": [
       "x - 1"
      ]
     },
     "execution_count": 48,
     "metadata": {},
     "output_type": "execute_result"
    }
   ],
   "source": [
    "# ... and simplify them\n",
    "sympy.simplify( (x**3 + x**2 - x - 1)/(x**2 + 2*x + 1) )"
   ]
  },
  {
   "cell_type": "markdown",
   "metadata": {},
   "source": [
    "Substituting values into expressions\n",
    "----------------"
   ]
  },
  {
   "cell_type": "code",
   "execution_count": 78,
   "metadata": {
    "collapsed": true
   },
   "outputs": [],
   "source": [
    "# We're going to need the x symbol\n",
    "from sympy.abc import x\n",
    "quadratic_expression = x**2 - x - 1"
   ]
  },
  {
   "cell_type": "code",
   "execution_count": 79,
   "metadata": {},
   "outputs": [
    {
     "data": {
      "image/png": "[encoded data removed]",
      "text/latex": [
       "$$-1$$"
      ],
      "text/plain": [
       "-1"
      ]
     },
     "execution_count": 79,
     "metadata": {},
     "output_type": "execute_result"
    }
   ],
   "source": [
    "# We can substitute a value into an expression\n",
    "# with the .subs method\n",
    "\n",
    "quadratic_expression.subs({x : 1})\n",
    "# (1)^2 - 1 - 1 = -1"
   ]
  },
  {
   "cell_type": "code",
   "execution_count": 80,
   "metadata": {},
   "outputs": [
    {
     "data": {
      "image/png": "[encoded data removed]",
      "text/latex": [
       "$$5$$"
      ],
      "text/plain": [
       "5"
      ]
     },
     "execution_count": 80,
     "metadata": {},
     "output_type": "execute_result"
    }
   ],
   "source": [
    "quadratic_expression.subs({x : -2})\n",
    "# (-2)^2 - (-2) - 1 = 5"
   ]
  },
  {
   "cell_type": "markdown",
   "metadata": {},
   "source": [
    "Equations and solving them\n",
    "--------------"
   ]
  },
  {
   "cell_type": "code",
   "execution_count": 42,
   "metadata": {},
   "outputs": [
    {
     "data": {
      "image/png": "[encoded data removed]",
      "text/latex": [
       "$$x^{2} - x - 1 = 0$$"
      ],
      "text/plain": [
       " 2            \n",
       "x  - x - 1 = 0"
      ]
     },
     "execution_count": 42,
     "metadata": {},
     "output_type": "execute_result"
    }
   ],
   "source": [
    "# We're going to need the x symbol\n",
    "import sympy\n",
    "from sympy.abc import x\n",
    "\n",
    "# We make an equation using \"sympy.Eq\"\n",
    "sympy.Eq(x**2 - x - 1, 0)"
   ]
  },
  {
   "cell_type": "code",
   "execution_count": 21,
   "metadata": {},
   "outputs": [
    {
     "data": {
      "image/png": "[encoded data removed]",
      "text/latex": [
       "$$\\left [ \\frac{1}{2} + \\frac{\\sqrt{5}}{2}, \\quad - \\frac{\\sqrt{5}}{2} + \\frac{1}{2}\\right ]$$"
      ],
      "text/plain": [
       "⎡1   √5    √5   1⎤\n",
       "⎢─ + ──, - ── + ─⎥\n",
       "⎣2   2     2    2⎦"
      ]
     },
     "execution_count": 21,
     "metadata": {},
     "output_type": "execute_result"
    }
   ],
   "source": [
    "# ... and we can solve this equation\n",
    "# with the \"sympy.solve\" function \n",
    "sympy.solve(sympy.Eq(x**2 - x - 1, 0),  x)"
   ]
  },
  {
   "cell_type": "code",
   "execution_count": 22,
   "metadata": {},
   "outputs": [
    {
     "data": {
      "image/png": "[encoded data removed]",
      "text/latex": [
       "$$\\left [ \\frac{1}{2} + \\frac{\\sqrt{5}}{2}, \\quad - \\frac{\\sqrt{5}}{2} + \\frac{1}{2}\\right ]$$"
      ],
      "text/plain": [
       "⎡1   √5    √5   1⎤\n",
       "⎢─ + ──, - ── + ─⎥\n",
       "⎣2   2     2    2⎦"
      ]
     },
     "execution_count": 22,
     "metadata": {},
     "output_type": "execute_result"
    }
   ],
   "source": [
    "# By merely providing an expression,\n",
    "# sympy assumes that we want to solve\n",
    "# the equation expression == 0\n",
    "sympy.solve(x**2 - x - 1, x)"
   ]
  },
  {
   "cell_type": "code",
   "execution_count": null,
   "metadata": {
    "collapsed": true
   },
   "outputs": [],
   "source": [
    "# We can solve more complicated equations like "
   ]
  },
  {
   "cell_type": "markdown",
   "metadata": {},
   "source": [
    "$\\cos(\\theta) = \\sin(\\theta)$"
   ]
  },
  {
   "cell_type": "code",
   "execution_count": 43,
   "metadata": {},
   "outputs": [
    {
     "data": {
      "image/png": "[encoded data removed]",
      "text/latex": [
       "$$\\left\\{2 n \\pi + \\frac{5 \\pi}{4}\\; |\\; n \\in \\mathbb{Z}\\right\\} \\cup \\left\\{2 n \\pi + \\frac{\\pi}{4}\\; |\\; n \\in \\mathbb{Z}\\right\\}$$"
      ],
      "text/plain": [
       "⎧        5⋅π        ⎫   ⎧        π        ⎫\n",
       "⎨2⋅n⋅π + ─── | n ∊ ℤ⎬ ∪ ⎨2⋅n⋅π + ─ | n ∊ ℤ⎬\n",
       "⎩         4         ⎭   ⎩        4        ⎭"
      ]
     },
     "execution_count": 43,
     "metadata": {},
     "output_type": "execute_result"
    }
   ],
   "source": [
    "# We're going to need the theta symbol\n",
    "from sympy.abc import theta\n",
    "\n",
    "# ... we solve the above equation for theta \n",
    "# using the solveset function to obtain all \n",
    "# infinitely many solutions\n",
    "sympy.solveset(\n",
    "    sympy.Eq(sympy.cos(theta),  sympy.sin(theta)) \n",
    ")"
   ]
  },
  {
   "cell_type": "markdown",
   "metadata": {},
   "source": [
    "Solving systems of equations\n",
    "-----------------"
   ]
  },
  {
   "cell_type": "code",
   "execution_count": 25,
   "metadata": {
    "collapsed": true
   },
   "outputs": [],
   "source": [
    "# We can also solve systems of equations, \n",
    "# like the following:"
   ]
  },
  {
   "cell_type": "markdown",
   "metadata": {},
   "source": [
    "$$2x + 3y = 1$$\n",
    "$$3x + 2y = 2$$"
   ]
  },
  {
   "cell_type": "code",
   "execution_count": 26,
   "metadata": {},
   "outputs": [
    {
     "data": {
      "image/png": "[encoded data removed]",
      "text/latex": [
       "$$\\left \\{ x : \\frac{4}{5}, \\quad y : - \\frac{1}{5}\\right \\}$$"
      ],
      "text/plain": [
       "{x: 4/5, y: -1/5}"
      ]
     },
     "execution_count": 26,
     "metadata": {},
     "output_type": "execute_result"
    }
   ],
   "source": [
    "# We're going to need the x,y symbols\n",
    "from sympy.abc import x,y\n",
    "import sympy\n",
    "\n",
    "sympy.solve([\n",
    "    sympy.Eq(2*x + 3*y, 1),\n",
    "    sympy.Eq(3*x + 2*y, 2)\n",
    "]\n",
    ",[x,y])"
   ]
  },
  {
   "cell_type": "markdown",
   "metadata": {},
   "source": [
    "Generating complicated expressions\n",
    "---------------------"
   ]
  },
  {
   "cell_type": "code",
   "execution_count": 6,
   "metadata": {
    "collapsed": true
   },
   "outputs": [],
   "source": [
    "# We write a function that, for any number n\n",
    " # returns polynomials of the form "
   ]
  },
  {
   "cell_type": "markdown",
   "metadata": {
    "collapsed": true
   },
   "source": [
    "  $\\sum_{k=0}^{n} {k} x^k$"
   ]
  },
  {
   "cell_type": "code",
   "execution_count": 40,
   "metadata": {
    "collapsed": true
   },
   "outputs": [],
   "source": [
    "import sympy\n",
    "from sympy.abc import x\n",
    "\n",
    "def our_polynomial(n):\n",
    "    return sum( \n",
    "        k * x**k for k in range(n+1) \n",
    "    )"
   ]
  },
  {
   "cell_type": "code",
   "execution_count": 41,
   "metadata": {},
   "outputs": [
    {
     "data": {
      "image/png": "[encoded data removed]",
      "text/latex": [
       "$$6 x^{6} + 5 x^{5} + 4 x^{4} + 3 x^{3} + 2 x^{2} + x$$"
      ],
      "text/plain": [
       "   6      5      4      3      2    \n",
       "6⋅x  + 5⋅x  + 4⋅x  + 3⋅x  + 2⋅x  + x"
      ]
     },
     "execution_count": 41,
     "metadata": {},
     "output_type": "execute_result"
    }
   ],
   "source": [
    " # We can now obtain the 6th degree\n",
    " # polynomial of the given form:\n",
    "our_polynomial(6)"
   ]
  },
  {
   "cell_type": "code",
   "execution_count": 11,
   "metadata": {},
   "outputs": [
    {
     "data": {
      "image/png": "[encoded data removed]",
      "text/latex": [
       "$$10 x^{10} + 9 x^{9} + 8 x^{8} + 7 x^{7} + 6 x^{6} + 5 x^{5} + 4 x^{4} + 3 x^{3} + 2 x^{2} + x$$"
      ],
      "text/plain": [
       "    10      9      8      7      6      5      4      3      2    \n",
       "10⋅x   + 9⋅x  + 8⋅x  + 7⋅x  + 6⋅x  + 5⋅x  + 4⋅x  + 3⋅x  + 2⋅x  + x"
      ]
     },
     "execution_count": 11,
     "metadata": {},
     "output_type": "execute_result"
    }
   ],
   "source": [
    "# ... or the 10th degree polynomial:\n",
    "our_polynomial(10)"
   ]
  },
  {
   "cell_type": "code",
   "execution_count": 21,
   "metadata": {
    "collapsed": true
   },
   "outputs": [],
   "source": [
    "# Let us solve the following equation:"
   ]
  },
  {
   "cell_type": "markdown",
   "metadata": {},
   "source": [
    "$4x^4 + 3x^3 + 2x^2 + x = 0$"
   ]
  },
  {
   "cell_type": "code",
   "execution_count": 2,
   "metadata": {
    "collapsed": true
   },
   "outputs": [],
   "source": [
    "# ...by passing it to the \"sympy.solve\" function\n",
    "#\n",
    "# Don't worry about the answe being cut off.\n",
    "# This is just to illustrate that sympy can\n",
    "# solve complicated equations symbolically"
   ]
  },
  {
   "cell_type": "code",
   "execution_count": 16,
   "metadata": {},
   "outputs": [
    {
     "data": {
      "image/png": "[encoded data removed]",
      "text/latex": [
       "$$\\left [ 0, \\quad - \\frac{1}{4} + \\frac{5}{16 \\left(- \\frac{1}{2} - \\frac{\\sqrt{3} i}{2}\\right) \\sqrt[3]{\\frac{135}{64} + \\frac{15 \\sqrt{6}}{16}}} - \\frac{1}{3} \\left(- \\frac{1}{2} - \\frac{\\sqrt{3} i}{2}\\right) \\sqrt[3]{\\frac{135}{64} + \\frac{15 \\sqrt{6}}{16}}, \\quad - \\frac{1}{4} - \\frac{1}{3} \\left(- \\frac{1}{2} + \\frac{\\sqrt{3} i}{2}\\right) \\sqrt[3]{\\frac{135}{64} + \\frac{15 \\sqrt{6}}{16}} + \\frac{5}{16 \\left(- \\frac{1}{2} + \\frac{\\sqrt{3} i}{2}\\right) \\sqrt[3]{\\frac{135}{64} + \\frac{15 \\sqrt{6}}{16}}}, \\quad - \\frac{1}{3} \\sqrt[3]{\\frac{135}{64} + \\frac{15 \\sqrt{6}}{16}} - \\frac{1}{4} + \\frac{5}{16 \\sqrt[3]{\\frac{135}{64} + \\frac{15 \\sqrt{6}}{16}}}\\right ]$$"
      ],
      "text/plain": [
       "⎡                                                              _____________  \n",
       "⎢                                             ⎛  1   √3⋅ⅈ⎞    ╱ 135   15⋅√6   \n",
       "⎢                                             ⎜- ─ - ────⎟⋅3 ╱  ─── + ─────   \n",
       "⎢     1                   5                   ⎝  2    2  ⎠ ╲╱    64     16    \n",
       "⎢0, - ─ + ───────────────────────────────── - ──────────────────────────────, \n",
       "⎢     4                       _____________                 3                 \n",
       "⎢            ⎛  1   √3⋅ⅈ⎞    ╱ 135   15⋅√6                                    \n",
       "⎢         16⋅⎜- ─ - ────⎟⋅3 ╱  ─── + ─────                                    \n",
       "⎣            ⎝  2    2  ⎠ ╲╱    64     16                                     \n",
       "\n",
       "                       _____________                                          \n",
       "      ⎛  1   √3⋅ⅈ⎞    ╱ 135   15⋅√6                                           \n",
       "      ⎜- ─ + ────⎟⋅3 ╱  ─── + ─────                                         3 \n",
       "  1   ⎝  2    2  ⎠ ╲╱    64     16                     5                    ╲╱\n",
       "- ─ - ────────────────────────────── + ─────────────────────────────────, - ──\n",
       "  4                 3                                      _____________      \n",
       "                                          ⎛  1   √3⋅ⅈ⎞    ╱ 135   15⋅√6       \n",
       "                                       16⋅⎜- ─ + ────⎟⋅3 ╱  ─── + ─────       \n",
       "                                          ⎝  2    2  ⎠ ╲╱    64     16        \n",
       "\n",
       "  _____________                           ⎤\n",
       " ╱ 135   15⋅√6                            ⎥\n",
       "╱  ─── + ─────                            ⎥\n",
       "    64     16     1            5          ⎥\n",
       "─────────────── - ─ + ────────────────────⎥\n",
       "      3           4          _____________⎥\n",
       "                            ╱ 135   15⋅√6 ⎥\n",
       "                      16⋅3 ╱  ─── + ───── ⎥\n",
       "                         ╲╱    64     16  ⎦"
      ]
     },
     "execution_count": 16,
     "metadata": {},
     "output_type": "execute_result"
    }
   ],
   "source": [
    "sympy.solve( sympy.Eq( our_polynomial(4), 0 ),  x)"
   ]
  },
  {
   "cell_type": "markdown",
   "metadata": {},
   "source": [
    "Numerical approximation\n",
    "------------------"
   ]
  },
  {
   "cell_type": "code",
   "execution_count": 39,
   "metadata": {},
   "outputs": [
    {
     "data": {
      "image/png": "[encoded data removed]",
      "text/latex": [
       "$$\\pi$$"
      ],
      "text/plain": [
       "π"
      ]
     },
     "execution_count": 39,
     "metadata": {},
     "output_type": "execute_result"
    }
   ],
   "source": [
    "# We can use sympy to compute \n",
    "# arbitrarily close approximations\n",
    "import sympy\n",
    "\n",
    "# pi is pi\n",
    "sympy.pi"
   ]
  },
  {
   "cell_type": "code",
   "execution_count": 19,
   "metadata": {},
   "outputs": [
    {
     "data": {
      "image/png": "[encoded data removed]",
      "text/latex": [
       "$$3.1415926535897932384626433832795028841971693993751$$"
      ],
      "text/plain": [
       "3.1415926535897932384626433832795028841971693993751"
      ]
     },
     "execution_count": 19,
     "metadata": {},
     "output_type": "execute_result"
    }
   ],
   "source": [
    "# ... but pi approximated to 50 digits is\n",
    "sympy.pi.n(50)"
   ]
  },
  {
   "cell_type": "code",
   "execution_count": 91,
   "metadata": {},
   "outputs": [
    {
     "data": {
      "image/png": "[encoded data removed]",
      "text/latex": [
       "$$\\sqrt{2}$$"
      ],
      "text/plain": [
       "√2"
      ]
     },
     "execution_count": 91,
     "metadata": {},
     "output_type": "execute_result"
    }
   ],
   "source": [
    "# The square root of two is the square root of two\n",
    "sympy.sqrt(2)"
   ]
  },
  {
   "cell_type": "code",
   "execution_count": 21,
   "metadata": {},
   "outputs": [
    {
     "data": {
      "image/png": "[encoded data removed]",
      "text/latex": [
       "$$1.4142135623730950488016887242096980785696718753769$$"
      ],
      "text/plain": [
       "1.4142135623730950488016887242096980785696718753769"
      ]
     },
     "execution_count": 21,
     "metadata": {},
     "output_type": "execute_result"
    }
   ],
   "source": [
    "# ... but the square root of two approximated to 50 digits is\n",
    "sympy.sqrt(2).n(50)"
   ]
  },
  {
   "cell_type": "code",
   "execution_count": 95,
   "metadata": {},
   "outputs": [
    {
     "data": {
      "image/png": "[encoded data removed]",
      "text/latex": [
       "$$e^{\\sqrt[5]{-1 + \\sqrt{2}}}$$"
      ],
      "text/plain": [
       " 5 _________\n",
       " ╲╱ -1 + √2 \n",
       "ℯ           "
      ]
     },
     "execution_count": 95,
     "metadata": {},
     "output_type": "execute_result"
    }
   ],
   "source": [
    "# We can compute approximations to more complicated expressions\n",
    "sympy.exp(\n",
    "    sympy.root(sympy.sqrt(2)-1,5)\n",
    ")\n"
   ]
  },
  {
   "cell_type": "code",
   "execution_count": 22,
   "metadata": {},
   "outputs": [
    {
     "data": {
      "image/png": "[encoded data removed]",
      "text/latex": [
       "$$2.3126351501944463406364037678832846493032008107479$$"
      ],
      "text/plain": [
       "2.3126351501944463406364037678832846493032008107479"
      ]
     },
     "execution_count": 22,
     "metadata": {},
     "output_type": "execute_result"
    }
   ],
   "source": [
    "# ... to 50 digits\n",
    "sympy.exp(\n",
    "    sympy.root(sympy.sqrt(2)-1,5)\n",
    ").n(50)"
   ]
  },
  {
   "cell_type": "markdown",
   "metadata": {},
   "source": [
    "Symbolic differentiation\n",
    "----------------------"
   ]
  },
  {
   "cell_type": "code",
   "execution_count": null,
   "metadata": {
    "collapsed": true
   },
   "outputs": [],
   "source": [
    "# We can compute derivatives using sympy\n",
    "# Example:"
   ]
  },
  {
   "cell_type": "markdown",
   "metadata": {},
   "source": [
    "$\\frac{d}{dx}\\left(x^4+x^3+x^2+x+1\\right)$"
   ]
  },
  {
   "cell_type": "code",
   "execution_count": 23,
   "metadata": {},
   "outputs": [
    {
     "data": {
      "image/png": "[encoded data removed]",
      "text/latex": [
       "$$4 x^{3} + 3 x^{2} + 2 x + 1$$"
      ],
      "text/plain": [
       "   3      2          \n",
       "4⋅x  + 3⋅x  + 2⋅x + 1"
      ]
     },
     "execution_count": 23,
     "metadata": {},
     "output_type": "execute_result"
    }
   ],
   "source": [
    "import sympy\n",
    "from sympy.abc import x\n",
    "\n",
    "sympy.diff(x**4+x**3+x**2+x+1, x)\n",
    "#                              ^\n",
    "#               Note the variable we are taking the derivative toward"
   ]
  },
  {
   "cell_type": "code",
   "execution_count": 26,
   "metadata": {
    "collapsed": true
   },
   "outputs": [],
   "source": [
    "# ... a more complicated example,\n",
    "# that uses the product-- and the chain rule \n",
    "# for derivatives"
   ]
  },
  {
   "cell_type": "markdown",
   "metadata": {},
   "source": [
    "$\\frac{d}{dx} \\left( \n",
    "        (x^4+x^3+x^2+x+1)e^{x^2+\\sin(x^2)}                 \n",
    "\\right)$"
   ]
  },
  {
   "cell_type": "code",
   "execution_count": 27,
   "metadata": {},
   "outputs": [
    {
     "data": {
      "image/png": "[encoded data removed]",
      "text/latex": [
       "$$\\left(2 x \\cos{\\left (x^{2} \\right )} + 2 x\\right) \\left(x^{4} + x^{3} + x^{2} + x + 1\\right) e^{x^{2} + \\sin{\\left (x^{2} \\right )}} + \\left(4 x^{3} + 3 x^{2} + 2 x + 1\\right) e^{x^{2} + \\sin{\\left (x^{2} \\right )}}$$"
      ],
      "text/plain": [
       "                                             2      ⎛ 2⎞                      \n",
       "⎛       ⎛ 2⎞      ⎞ ⎛ 4    3    2        ⎞  x  + sin⎝x ⎠   ⎛   3      2       \n",
       "⎝2⋅x⋅cos⎝x ⎠ + 2⋅x⎠⋅⎝x  + x  + x  + x + 1⎠⋅ℯ             + ⎝4⋅x  + 3⋅x  + 2⋅x \n",
       "\n",
       "       2      ⎛ 2⎞\n",
       "   ⎞  x  + sin⎝x ⎠\n",
       "+ 1⎠⋅ℯ            "
      ]
     },
     "execution_count": 27,
     "metadata": {},
     "output_type": "execute_result"
    }
   ],
   "source": [
    "sympy.diff( (x**4+x**3+x**2+x+1)*sympy.exp(x**2 + sympy.sin(x**2)), x)"
   ]
  },
  {
   "cell_type": "markdown",
   "metadata": {
    "collapsed": true
   },
   "source": [
    "Symbolic integration\n",
    "-------------------------"
   ]
  },
  {
   "cell_type": "code",
   "execution_count": null,
   "metadata": {
    "collapsed": true
   },
   "outputs": [],
   "source": [
    "# We can compute infdefinite integrals using sympy\n",
    "# Example:"
   ]
  },
  {
   "cell_type": "markdown",
   "metadata": {},
   "source": [
    "$\\int x^2 -x -1\\,dx$"
   ]
  },
  {
   "cell_type": "code",
   "execution_count": 38,
   "metadata": {},
   "outputs": [
    {
     "data": {
      "image/png": "[encoded data removed]",
      "text/latex": [
       "$$\\frac{x^{3}}{3} - \\frac{x^{2}}{2} - x$$"
      ],
      "text/plain": [
       " 3    2    \n",
       "x    x     \n",
       "── - ── - x\n",
       "3    2     "
      ]
     },
     "execution_count": 38,
     "metadata": {},
     "output_type": "execute_result"
    }
   ],
   "source": [
    "import sympy\n",
    "from sympy.abc import x\n",
    "\n",
    "sympy.integrate(x**2 -x -1, x)\n",
    "#                           ^\n",
    "#               Note the variable we are taking the integral toward"
   ]
  },
  {
   "cell_type": "code",
   "execution_count": 28,
   "metadata": {
    "collapsed": true
   },
   "outputs": [],
   "source": [
    "# ... another example, that illustrates integration by parts:"
   ]
  },
  {
   "cell_type": "markdown",
   "metadata": {},
   "source": [
    "$\\int x e^x\\,dx$"
   ]
  },
  {
   "cell_type": "code",
   "execution_count": 29,
   "metadata": {},
   "outputs": [
    {
     "data": {
      "image/png": "[encoded data removed]",
      "text/latex": [
       "$$\\left(x - 1\\right) e^{x}$$"
      ],
      "text/plain": [
       "         x\n",
       "(x - 1)⋅ℯ "
      ]
     },
     "execution_count": 29,
     "metadata": {},
     "output_type": "execute_result"
    }
   ],
   "source": [
    "sympy.integrate(x * sympy.exp(x), x)"
   ]
  },
  {
   "cell_type": "code",
   "execution_count": 32,
   "metadata": {
    "collapsed": true
   },
   "outputs": [],
   "source": [
    "# ... and a definite integral:"
   ]
  },
  {
   "cell_type": "markdown",
   "metadata": {},
   "source": [
    "$\\int_0^5 xe^x\\,dx$"
   ]
  },
  {
   "cell_type": "code",
   "execution_count": 33,
   "metadata": {},
   "outputs": [
    {
     "data": {
      "image/png": "[encoded data removed]",
      "text/latex": [
       "$$1 + 4 e^{5}$$"
      ],
      "text/plain": [
       "       5\n",
       "1 + 4⋅ℯ "
      ]
     },
     "execution_count": 33,
     "metadata": {},
     "output_type": "execute_result"
    }
   ],
   "source": [
    "sympy.integrate(x * sympy.exp(x), (x, 0, 5))"
   ]
  },
  {
   "cell_type": "markdown",
   "metadata": {},
   "source": [
    "Making functions out of expressions\n",
    "----------------------------"
   ]
  },
  {
   "cell_type": "code",
   "execution_count": 49,
   "metadata": {
    "collapsed": true
   },
   "outputs": [],
   "source": [
    "# We can make functions out of sympy expressions\n",
    "# using the \"sympy.lambdify\" function\n",
    "# This is sometimes useful for plotting.\n",
    "import sympy\n",
    "from sympy.abc import x,y\n",
    "\n",
    "\n",
    "# We define the function f(x):=x**3 -x**2 +x +3\n",
    "cubic  = x**3 - x**2 + x +3\n",
    "f = sympy.lambdify([x], cubic)\n"
   ]
  },
  {
   "cell_type": "code",
   "execution_count": 35,
   "metadata": {},
   "outputs": [
    {
     "data": {
      "image/png": "[encoded data removed]",
      "text/latex": [
       "$$9$$"
      ],
      "text/plain": [
       "9"
      ]
     },
     "execution_count": 35,
     "metadata": {},
     "output_type": "execute_result"
    }
   ],
   "source": [
    "# We apply the function to 2. \n",
    "# Make sure you under stand why f(2) ==9\n",
    "f(2) "
   ]
  },
  {
   "cell_type": "code",
   "execution_count": 36,
   "metadata": {},
   "outputs": [
    {
     "data": {
      "image/png": "[encoded data removed]",
      "text/latex": [
       "$$x^{3} - x^{2} + x + 3$$"
      ],
      "text/plain": [
       " 3    2        \n",
       "x  - x  + x + 3"
      ]
     },
     "execution_count": 36,
     "metadata": {},
     "output_type": "execute_result"
    }
   ],
   "source": [
    "f(x)"
   ]
  },
  {
   "cell_type": "code",
   "execution_count": 37,
   "metadata": {},
   "outputs": [
    {
     "data": {
      "image/png": "[encoded data removed]",
      "text/latex": [
       "$$y^{3} - y^{2} + y + 3$$"
      ],
      "text/plain": [
       " 3    2        \n",
       "y  - y  + y + 3"
      ]
     },
     "execution_count": 37,
     "metadata": {},
     "output_type": "execute_result"
    }
   ],
   "source": [
    "f(y)"
   ]
  },
  {
   "cell_type": "code",
   "execution_count": null,
   "metadata": {
    "collapsed": true
   },
   "outputs": [],
   "source": []
  }
 ],
 "metadata": {
  "kernelspec": {
   "display_name": "Python 3",
   "language": "python",
   "name": "python3"
  },
  "language_info": {
   "codemirror_mode": {
    "name": "ipython",
    "version": 3
   },
   "file_extension": ".py",
   "mimetype": "text/x-python",
   "name": "python",
   "nbconvert_exporter": "python",
   "pygments_lexer": "ipython3",
   "version": "3.5.2"
  }
 },
 "nbformat": 4,
 "nbformat_minor": 2
}
