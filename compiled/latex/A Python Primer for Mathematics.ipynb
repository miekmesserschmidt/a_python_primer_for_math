{
 "cells": [
  {
   "cell_type": "markdown",
   "metadata": {},
   "source": [
    "Introduction\n",
    "==============\n",
    "\n",
    "This document is meant to prime mathematics students into  using Python for doing mathematics symbolically and numerically. \n",
    "It is *not* meant to be used as a comprehensive text, but rather as a\n",
    "demonstrative cheatsheet to get up and running with the basics Python \n",
    "and for using Python for scientific computing as quickly as possible. \n",
    "\n",
    "We will give very brief introductory demonstrations of the basics of the Python language, before moving on to a few more advanced features and demonstrations of the packages *sympy*, *numpy*, and *matplotlib*  which are increasingly used in modern scientific computing. \n",
    "\n",
    "\n"
   ]
  },
  {
   "cell_type": "code",
   "execution_count": null,
   "metadata": {},
   "outputs": [],
   "source": []
  },
  {
   "cell_type": "markdown",
   "metadata": {},
   "source": [
    "Code blocks and indentation\n",
    "=========="
   ]
  },
  {
   "cell_type": "markdown",
   "metadata": {},
   "source": [
    "Before we start, we point out the most striking feature of python: That code blocks are indicated by indentation. (See [https://en.wikipedia.org/wiki/Indentation_(typesetting)#Indentation_in_programming]). \n",
    "\n",
    "Indentation is an essential best practice in any programming language, even if code will still work without indentation. In older langauges indentation plays no role in the meaning of a program, and unindented code works just as well as indented code. The only reason to indent code is to make it more readable, and thereby easier to maintain when buggy -- and your code will be buggy.\n",
    "\n",
    "Python forces the user to indent their code properly, otherwise it will not even run.\n",
    "\n",
    "Below are functions written in C, Pascal and Python, each doing the same thing: Testing whether or not a number is prime.\n"
   ]
  },
  {
   "cell_type": "markdown",
   "metadata": {},
   "source": [
    "Code blocks in C: Between { ... }\n",
    "-------------\n",
    "Consider the following C function. Notice the how the characters '{' and '}' indicate the beginning and end of the code blocks how the code blocks is indented."
   ]
  },
  {
   "cell_type": "markdown",
   "metadata": {},
   "source": [
    "~~~\n",
    "int prime(int n) {\n",
    "\tint i;\n",
    "\tfor(i=2; i<n; i++) {\n",
    "\t\tif(n % i == 0) {\n",
    "\t\t\treturn 1;\t\n",
    "        }\n",
    "\t}\n",
    "\treturn 0;\n",
    "}\n",
    "~~~"
   ]
  },
  {
   "cell_type": "markdown",
   "metadata": {},
   "source": [
    "The following is also valid C code and will still work. However, this code is much harder to read and maintain if we discover a bug, since we cannot see where code blocks begin and end. We cannot even see which curly brackes match up to their partners. "
   ]
  },
  {
   "cell_type": "markdown",
   "metadata": {},
   "source": [
    "~~~\n",
    "int prime(int n) {\n",
    "int i;\n",
    "for(i=2; i<n; i++) {\n",
    "if(n % i == 0) {\n",
    "return 1;\t\n",
    "}} return 0;}\n",
    "~~~"
   ]
  },
  {
   "cell_type": "markdown",
   "metadata": {},
   "source": [
    "Code blocks in Pascal: Between begin ... end\n",
    "---------------------------------------------\n",
    "Consider the following Pascal function. Notice the how the keywords 'begin' and 'end' indicate the beginning and end of the code blocks how the code is indented.\n"
   ]
  },
  {
   "cell_type": "markdown",
   "metadata": {},
   "source": [
    "~~~\n",
    "function is_prime(number:longint):boolean;\n",
    "\n",
    "var i:longint;\n",
    "    return_value: boolean;\n",
    "    \n",
    "begin\n",
    "    return_value := true;\n",
    "\n",
    "    for i:=2 to number-1 do begin\n",
    "        if (number mod i = 0) then begin\n",
    "             return_value := false;\n",
    "             break;\n",
    "        end;\n",
    "    end;\n",
    "\n",
    "    if (return_value = true) then begin\n",
    "        if (number = 0) or (number = 1) then begin        \n",
    "            return_value := false;\n",
    "        end;\n",
    "    end;\n",
    "\n",
    "    is_prime := return_value;\n",
    "end;\n",
    "~~~"
   ]
  },
  {
   "cell_type": "markdown",
   "metadata": {},
   "source": [
    "The following is also valid Pascal code and will also work. However, is a lot harder to read, since we cannot see where code blocks begin and end."
   ]
  },
  {
   "cell_type": "markdown",
   "metadata": {},
   "source": [
    "~~~\n",
    "function is_prime(number:longint):boolean;\n",
    "\n",
    "var i:longint;\n",
    "return_value: boolean;\n",
    "\n",
    "begin\n",
    "return_value := true;\n",
    "for i:=2 to number-1 do begin if (number mod i = 0) then begin\n",
    "return_value := false; break; end;end;\n",
    "if (return_value = true) then begin if (number = 0) or (number = 1) then begin        \n",
    "return_value := false; end;end;\n",
    "is_prime := return_value;\n",
    "end;\n",
    "~~~"
   ]
  },
  {
   "cell_type": "markdown",
   "metadata": {},
   "source": [
    "Code blocks in Python: Purely by indentation\n",
    "---------------------------------------------\n",
    "Consider the following Python function."
   ]
  },
  {
   "cell_type": "code",
   "execution_count": 1,
   "metadata": {},
   "outputs": [],
   "source": [
    "def is_prime(n):\n",
    "    if n < 2:\n",
    "        return False\n",
    "    \n",
    "    for i in range(2,n):\n",
    "        if n % i == 0:\n",
    "            return False\n",
    "    return True"
   ]
  },
  {
   "cell_type": "markdown",
   "metadata": {},
   "source": [
    "Since Python code blocks are indicated by indentation, the following is ***not valid*** Python and will not work. Trying to run it results in an **IndentationError**.\n"
   ]
  },
  {
   "cell_type": "code",
   "execution_count": 3,
   "metadata": {},
   "outputs": [
    {
     "ename": "IndentationError",
     "evalue": "expected an indented block (<ipython-input-3-c6c5cc7430e0>, line 2)",
     "output_type": "error",
     "traceback": [
      "\u001b[0;36m  File \u001b[0;32m\"<ipython-input-3-c6c5cc7430e0>\"\u001b[0;36m, line \u001b[0;32m2\u001b[0m\n\u001b[0;31m    for i in range(2,n):\u001b[0m\n\u001b[0m      ^\u001b[0m\n\u001b[0;31mIndentationError\u001b[0m\u001b[0;31m:\u001b[0m expected an indented block\n"
     ]
    }
   ],
   "source": [
    "def is_prime(n):    \n",
    "for i in range(2,n):\n",
    "if n % i == 0:\n",
    "return False\n",
    "return True"
   ]
  },
  {
   "cell_type": "markdown",
   "metadata": {},
   "source": [
    "The Zen of Python\n",
    "-----------------\n",
    "By using indentation to indicate code blocks, Python forces its programmers to adhere to best practices and makes it impossible to write ugly unindented code that still works. You might still find some way to write ugly code, but it is harder than in other languages like C or Pascal.\n",
    "\n",
    "Notice further how much shorter the Python function is compared to the C and Pascal versions. Python is first and foremost designed to enable you to write beautiful, short and expressive code. Beauty is so important in Python that it is the first line in the 'Zen of Python' which codifies the entire Python philosophy. "
   ]
  },
  {
   "cell_type": "code",
   "execution_count": 1,
   "metadata": {},
   "outputs": [
    {
     "name": "stdout",
     "output_type": "stream",
     "text": [
      "The Zen of Python, by Tim Peters\n",
      "\n",
      "Beautiful is better than ugly.\n",
      "Explicit is better than implicit.\n",
      "Simple is better than complex.\n",
      "Complex is better than complicated.\n",
      "Flat is better than nested.\n",
      "Sparse is better than dense.\n",
      "Readability counts.\n",
      "Special cases aren't special enough to break the rules.\n",
      "Although practicality beats purity.\n",
      "Errors should never pass silently.\n",
      "Unless explicitly silenced.\n",
      "In the face of ambiguity, refuse the temptation to guess.\n",
      "There should be one-- and preferably only one --obvious way to do it.\n",
      "Although that way may not be obvious at first unless you're Dutch.\n",
      "Now is better than never.\n",
      "Although never is often better than *right* now.\n",
      "If the implementation is hard to explain, it's a bad idea.\n",
      "If the implementation is easy to explain, it may be a good idea.\n",
      "Namespaces are one honking great idea -- let's do more of those!\n"
     ]
    }
   ],
   "source": [
    "import this"
   ]
  },
  {
   "cell_type": "markdown",
   "metadata": {},
   "source": [
    "Python language basics\n",
    "==========\n"
   ]
  },
  {
   "cell_type": "markdown",
   "metadata": {},
   "source": [
    "Comments\n",
    "---------"
   ]
  },
  {
   "cell_type": "code",
   "execution_count": 1,
   "metadata": {
    "collapsed": true
   },
   "outputs": [],
   "source": [
    "# Everything on a line after a '#' is ignored by Python"
   ]
  },
  {
   "cell_type": "markdown",
   "metadata": {},
   "source": [
    "Basic calculations with numbers\n",
    "-----------------"
   ]
  },
  {
   "cell_type": "markdown",
   "metadata": {},
   "source": [
    "Addition works as expected"
   ]
  },
  {
   "cell_type": "code",
   "execution_count": 1,
   "metadata": {},
   "outputs": [
    {
     "data": {
      "text/plain": [
       "3"
      ]
     },
     "execution_count": 1,
     "metadata": {},
     "output_type": "execute_result"
    }
   ],
   "source": [
    "1+2"
   ]
  },
  {
   "cell_type": "markdown",
   "metadata": {},
   "source": [
    " ... so does subtraction"
   ]
  },
  {
   "cell_type": "code",
   "execution_count": 5,
   "metadata": {},
   "outputs": [
    {
     "data": {
      "text/plain": [
       "-3.5"
      ]
     },
     "execution_count": 5,
     "metadata": {},
     "output_type": "execute_result"
    }
   ],
   "source": [
    "2.5 - 6"
   ]
  },
  {
   "cell_type": "markdown",
   "metadata": {},
   "source": [
    "... and division."
   ]
  },
  {
   "cell_type": "code",
   "execution_count": 4,
   "metadata": {},
   "outputs": [
    {
     "data": {
      "text/plain": [
       "1.5"
      ]
     },
     "execution_count": 4,
     "metadata": {},
     "output_type": "execute_result"
    }
   ],
   "source": [
    "3/2    "
   ]
  },
  {
   "cell_type": "markdown",
   "metadata": {},
   "source": [
    "The floor division operator // throws away everything after the decimal point (as in long division)"
   ]
  },
  {
   "cell_type": "code",
   "execution_count": 1,
   "metadata": {},
   "outputs": [
    {
     "data": {
      "text/plain": [
       "2"
      ]
     },
     "execution_count": 1,
     "metadata": {},
     "output_type": "execute_result"
    }
   ],
   "source": [
    "13 // 5  # quotient of 13 divided by 5 (disragarding the fractional part or remainder)"
   ]
  },
  {
   "cell_type": "markdown",
   "metadata": {},
   "source": [
    "... and the % operator gives the remainder of a division (as in long division)"
   ]
  },
  {
   "cell_type": "code",
   "execution_count": 6,
   "metadata": {},
   "outputs": [
    {
     "data": {
      "text/plain": [
       "3"
      ]
     },
     "execution_count": 6,
     "metadata": {},
     "output_type": "execute_result"
    }
   ],
   "source": [
    "13 % 5  # remainder when 13 is divided by 5"
   ]
  },
  {
   "cell_type": "markdown",
   "metadata": {},
   "source": [
    "The power operator \\** is often useful $(2^4=16)$"
   ]
  },
  {
   "cell_type": "code",
   "execution_count": 8,
   "metadata": {},
   "outputs": [
    {
     "data": {
      "text/plain": [
       "16"
      ]
     },
     "execution_count": 8,
     "metadata": {},
     "output_type": "execute_result"
    }
   ],
   "source": [
    "2**4"
   ]
  },
  {
   "cell_type": "markdown",
   "metadata": {},
   "source": [
    "Variables\n",
    "---------"
   ]
  },
  {
   "cell_type": "markdown",
   "metadata": {},
   "source": [
    "We can assign values to variables"
   ]
  },
  {
   "cell_type": "code",
   "execution_count": 9,
   "metadata": {
    "collapsed": true
   },
   "outputs": [],
   "source": [
    "a = 5\n",
    "b = 6"
   ]
  },
  {
   "cell_type": "markdown",
   "metadata": {},
   "source": [
    "... and then compute with them:"
   ]
  },
  {
   "cell_type": "code",
   "execution_count": 11,
   "metadata": {},
   "outputs": [
    {
     "data": {
      "text/plain": [
       "11"
      ]
     },
     "execution_count": 11,
     "metadata": {},
     "output_type": "execute_result"
    }
   ],
   "source": [
    "a + b"
   ]
  },
  {
   "cell_type": "markdown",
   "metadata": {},
   "source": [
    "We can reassign their values,"
   ]
  },
  {
   "cell_type": "code",
   "execution_count": 15,
   "metadata": {
    "collapsed": true
   },
   "outputs": [],
   "source": [
    "a = 9"
   ]
  },
  {
   "cell_type": "markdown",
   "metadata": {},
   "source": [
    "... to change the outcome of the computation"
   ]
  },
  {
   "cell_type": "code",
   "execution_count": 16,
   "metadata": {},
   "outputs": [
    {
     "data": {
      "text/plain": [
       "15"
      ]
     },
     "execution_count": 16,
     "metadata": {},
     "output_type": "execute_result"
    }
   ],
   "source": [
    "a + b"
   ]
  },
  {
   "cell_type": "markdown",
   "metadata": {},
   "source": [
    "Strings (text)\n",
    "---------"
   ]
  },
  {
   "cell_type": "markdown",
   "metadata": {},
   "source": [
    "Strings store text. We use either ' ... ' or \" ... \" to denote a string"
   ]
  },
  {
   "cell_type": "code",
   "execution_count": 17,
   "metadata": {},
   "outputs": [
    {
     "data": {
      "text/plain": [
       "'This is a string'"
      ]
     },
     "execution_count": 17,
     "metadata": {},
     "output_type": "execute_result"
    }
   ],
   "source": [
    "\"This is a string\""
   ]
  },
  {
   "cell_type": "code",
   "execution_count": 18,
   "metadata": {},
   "outputs": [
    {
     "data": {
      "text/plain": [
       "'This is also a string'"
      ]
     },
     "execution_count": 18,
     "metadata": {},
     "output_type": "execute_result"
    }
   ],
   "source": [
    "'This is also a string'"
   ]
  },
  {
   "cell_type": "markdown",
   "metadata": {},
   "source": [
    "We can join strings using the \"+\" operator.\n",
    "This is called *concatenation*."
   ]
  },
  {
   "cell_type": "code",
   "execution_count": 19,
   "metadata": {},
   "outputs": [
    {
     "data": {
      "text/plain": [
       "'beginners'"
      ]
     },
     "execution_count": 19,
     "metadata": {},
     "output_type": "execute_result"
    }
   ],
   "source": [
    "\"begin\" + \"ner\" + \"s\""
   ]
  },
  {
   "cell_type": "markdown",
   "metadata": {},
   "source": [
    " We can assign strings to variables..."
   ]
  },
  {
   "cell_type": "code",
   "execution_count": 20,
   "metadata": {
    "collapsed": true
   },
   "outputs": [],
   "source": [
    "part1 = \"This is a message \"\n",
    "part2 = \"for you\""
   ]
  },
  {
   "cell_type": "markdown",
   "metadata": {},
   "source": [
    "... and concatenate the variables "
   ]
  },
  {
   "cell_type": "code",
   "execution_count": 22,
   "metadata": {},
   "outputs": [
    {
     "data": {
      "text/plain": [
       "'This is a message for you'"
      ]
     },
     "execution_count": 22,
     "metadata": {},
     "output_type": "execute_result"
    }
   ],
   "source": [
    "full_message = part1 + part2\n",
    "full_message"
   ]
  },
  {
   "cell_type": "markdown",
   "metadata": {},
   "source": [
    "We can access individual characters of a string.\n",
    "(Remember that we index from starting from zero!)"
   ]
  },
  {
   "cell_type": "code",
   "execution_count": 23,
   "metadata": {},
   "outputs": [
    {
     "data": {
      "text/plain": [
       "'i'"
      ]
     },
     "execution_count": 23,
     "metadata": {},
     "output_type": "execute_result"
    }
   ],
   "source": [
    "n = 2\n",
    "full_message[n] "
   ]
  },
  {
   "cell_type": "markdown",
   "metadata": {},
   "source": [
    "We can also multiply strings.\n",
    "\n",
    "Plug your ears and go ..."
   ]
  },
  {
   "cell_type": "code",
   "execution_count": 24,
   "metadata": {},
   "outputs": [
    {
     "data": {
      "text/plain": [
       "'lalalalalalalalalala'"
      ]
     },
     "execution_count": 24,
     "metadata": {},
     "output_type": "execute_result"
    }
   ],
   "source": [
    "\"la\"*10 "
   ]
  },
  {
   "cell_type": "markdown",
   "metadata": {},
   "source": [
    "Unpacking\n",
    "-----------"
   ]
  },
  {
   "cell_type": "markdown",
   "metadata": {},
   "source": [
    "There is a more efficient way of writing\n",
    "\n",
    "```python\n",
    "a = 1\n",
    "b = 2\n",
    "c = 3\n",
    "d = 4\n",
    "```\n",
    "\n",
    "The following is called *unpacking*:\n"
   ]
  },
  {
   "cell_type": "code",
   "execution_count": 29,
   "metadata": {
    "collapsed": true
   },
   "outputs": [],
   "source": [
    "a, b, c, d = 1,2,3,4\n",
    "# or\n",
    "a, b, c, d = (1,2,3,4)"
   ]
  },
  {
   "cell_type": "code",
   "execution_count": 30,
   "metadata": {},
   "outputs": [
    {
     "data": {
      "text/plain": [
       "4"
      ]
     },
     "execution_count": 30,
     "metadata": {},
     "output_type": "execute_result"
    }
   ],
   "source": [
    "d"
   ]
  },
  {
   "cell_type": "markdown",
   "metadata": {},
   "source": [
    "We are not restricted to just numbers.\n",
    "We can unpack anything"
   ]
  },
  {
   "cell_type": "code",
   "execution_count": 31,
   "metadata": {},
   "outputs": [
    {
     "data": {
      "text/plain": [
       "'von neumann'"
      ]
     },
     "execution_count": 31,
     "metadata": {},
     "output_type": "execute_result"
    }
   ],
   "source": [
    "firstname, lastname, age = (\"john\", \"von neumann\", 103)\n",
    "lastname"
   ]
  },
  {
   "cell_type": "code",
   "execution_count": 32,
   "metadata": {},
   "outputs": [
    {
     "data": {
      "text/plain": [
       "103"
      ]
     },
     "execution_count": 32,
     "metadata": {},
     "output_type": "execute_result"
    }
   ],
   "source": [
    "age"
   ]
  },
  {
   "cell_type": "markdown",
   "metadata": {},
   "source": [
    "Swapping values by unpacking\n",
    "-----------"
   ]
  },
  {
   "cell_type": "markdown",
   "metadata": {},
   "source": [
    "Often we might want to swap the values of variables."
   ]
  },
  {
   "cell_type": "code",
   "execution_count": 10,
   "metadata": {},
   "outputs": [],
   "source": [
    "a,b = 5,8"
   ]
  },
  {
   "cell_type": "markdown",
   "metadata": {},
   "source": [
    "We want to swap a to have value 8 and b to have value 5.\n",
    "\n",
    "In traditional languages we would need to use a temp variable as follows:\n"
   ]
  },
  {
   "cell_type": "code",
   "execution_count": 11,
   "metadata": {},
   "outputs": [],
   "source": [
    "temp = a    # DO NOT DO THIS!\n",
    "a = b\n",
    "b = temp"
   ]
  },
  {
   "cell_type": "code",
   "execution_count": 12,
   "metadata": {},
   "outputs": [
    {
     "name": "stdout",
     "output_type": "stream",
     "text": [
      "a= 8\n",
      "b= 5\n"
     ]
    }
   ],
   "source": [
    "print(\"a=\",a)\n",
    "print(\"b=\",b)"
   ]
  },
  {
   "cell_type": "markdown",
   "metadata": {},
   "source": [
    "The better way in python is to use unpacking:"
   ]
  },
  {
   "cell_type": "code",
   "execution_count": 13,
   "metadata": {},
   "outputs": [],
   "source": [
    "a,b = 5,8\n",
    "a,b = b,a   # DO THIS!"
   ]
  },
  {
   "cell_type": "code",
   "execution_count": 14,
   "metadata": {},
   "outputs": [
    {
     "name": "stdout",
     "output_type": "stream",
     "text": [
      "a= 8\n",
      "b= 5\n"
     ]
    }
   ],
   "source": [
    "print(\"a=\",a)\n",
    "print(\"b=\",b)"
   ]
  },
  {
   "cell_type": "markdown",
   "metadata": {},
   "source": [
    "The print function\n",
    "---------"
   ]
  },
  {
   "cell_type": "markdown",
   "metadata": {},
   "source": [
    "We can output text to the screen using the \"print\" function"
   ]
  },
  {
   "cell_type": "code",
   "execution_count": 34,
   "metadata": {},
   "outputs": [
    {
     "name": "stdout",
     "output_type": "stream",
     "text": [
      "9\n",
      "This is a message\n",
      "The answer is 42\n"
     ]
    }
   ],
   "source": [
    "print(5+4)\n",
    "print(\"This is a message\")\n",
    "print(\"The answer is\", 42)"
   ]
  },
  {
   "cell_type": "markdown",
   "metadata": {},
   "source": [
    "## The str, int and float functons"
   ]
  },
  {
   "cell_type": "markdown",
   "metadata": {},
   "source": [
    "We can convert numbers to strings with the str function:"
   ]
  },
  {
   "cell_type": "code",
   "execution_count": 1,
   "metadata": {},
   "outputs": [
    {
     "data": {
      "text/plain": [
       "'12'"
      ]
     },
     "execution_count": 1,
     "metadata": {},
     "output_type": "execute_result"
    }
   ],
   "source": [
    "str(12)"
   ]
  },
  {
   "cell_type": "markdown",
   "metadata": {},
   "source": [
    "... and strings to numbers using the int or float functions:"
   ]
  },
  {
   "cell_type": "code",
   "execution_count": 2,
   "metadata": {},
   "outputs": [
    {
     "data": {
      "text/plain": [
       "13"
      ]
     },
     "execution_count": 2,
     "metadata": {},
     "output_type": "execute_result"
    }
   ],
   "source": [
    "int(\"13\")"
   ]
  },
  {
   "cell_type": "code",
   "execution_count": 3,
   "metadata": {},
   "outputs": [
    {
     "data": {
      "text/plain": [
       "1.111"
      ]
     },
     "execution_count": 3,
     "metadata": {},
     "output_type": "execute_result"
    }
   ],
   "source": [
    "float(\"1.111\")"
   ]
  },
  {
   "cell_type": "markdown",
   "metadata": {},
   "source": [
    "Comparisons\n",
    "---------------"
   ]
  },
  {
   "cell_type": "markdown",
   "metadata": {},
   "source": [
    "We can ask Python if statements are true of false"
   ]
  },
  {
   "cell_type": "code",
   "execution_count": 35,
   "metadata": {},
   "outputs": [
    {
     "data": {
      "text/plain": [
       "True"
      ]
     },
     "execution_count": 35,
     "metadata": {},
     "output_type": "execute_result"
    }
   ],
   "source": [
    "4 < 6"
   ]
  },
  {
   "cell_type": "code",
   "execution_count": 36,
   "metadata": {},
   "outputs": [
    {
     "data": {
      "text/plain": [
       "True"
      ]
     },
     "execution_count": 36,
     "metadata": {},
     "output_type": "execute_result"
    }
   ],
   "source": [
    "4 <= 6 "
   ]
  },
  {
   "cell_type": "code",
   "execution_count": 37,
   "metadata": {},
   "outputs": [
    {
     "data": {
      "text/plain": [
       "False"
      ]
     },
     "execution_count": 37,
     "metadata": {},
     "output_type": "execute_result"
    }
   ],
   "source": [
    "4 >= 6 "
   ]
  },
  {
   "cell_type": "code",
   "execution_count": 38,
   "metadata": {},
   "outputs": [
    {
     "data": {
      "text/plain": [
       "False"
      ]
     },
     "execution_count": 38,
     "metadata": {},
     "output_type": "execute_result"
    }
   ],
   "source": [
    "5<5"
   ]
  },
  {
   "cell_type": "code",
   "execution_count": 39,
   "metadata": {},
   "outputs": [
    {
     "data": {
      "text/plain": [
       "True"
      ]
     },
     "execution_count": 39,
     "metadata": {},
     "output_type": "execute_result"
    }
   ],
   "source": [
    "5<=5"
   ]
  },
  {
   "cell_type": "markdown",
   "metadata": {},
   "source": [
    "Notice the double equals \"==\" when asking is an equality is true:"
   ]
  },
  {
   "cell_type": "code",
   "execution_count": 40,
   "metadata": {},
   "outputs": [
    {
     "data": {
      "text/plain": [
       "True"
      ]
     },
     "execution_count": 40,
     "metadata": {},
     "output_type": "execute_result"
    }
   ],
   "source": [
    "3 == 3 "
   ]
  },
  {
   "cell_type": "code",
   "execution_count": 41,
   "metadata": {},
   "outputs": [
    {
     "data": {
      "text/plain": [
       "False"
      ]
     },
     "execution_count": 41,
     "metadata": {},
     "output_type": "execute_result"
    }
   ],
   "source": [
    "3 == 4 "
   ]
  },
  {
   "cell_type": "markdown",
   "metadata": {},
   "source": [
    "... a single \"=\" will not work to compare numbers:"
   ]
  },
  {
   "cell_type": "code",
   "execution_count": 42,
   "metadata": {},
   "outputs": [
    {
     "ename": "SyntaxError",
     "evalue": "can't assign to literal (<ipython-input-42-49c8ce3fc03c>, line 2)",
     "output_type": "error",
     "traceback": [
      "\u001b[0;36m  File \u001b[0;32m\"<ipython-input-42-49c8ce3fc03c>\"\u001b[0;36m, line \u001b[0;32m2\u001b[0m\n\u001b[0;31m    3 = 3\u001b[0m\n\u001b[0m          ^\u001b[0m\n\u001b[0;31mSyntaxError\u001b[0m\u001b[0;31m:\u001b[0m can't assign to literal\n"
     ]
    }
   ],
   "source": [
    "\n",
    "3 = 3 "
   ]
  },
  {
   "cell_type": "markdown",
   "metadata": {},
   "source": [
    "The \"!=\" operator means \"not equal to\" "
   ]
  },
  {
   "cell_type": "code",
   "execution_count": 43,
   "metadata": {},
   "outputs": [
    {
     "data": {
      "text/plain": [
       "True"
      ]
     },
     "execution_count": 43,
     "metadata": {},
     "output_type": "execute_result"
    }
   ],
   "source": [
    "3 != 4 "
   ]
  },
  {
   "cell_type": "markdown",
   "metadata": {},
   "source": [
    "We can also compare variables"
   ]
  },
  {
   "cell_type": "code",
   "execution_count": 44,
   "metadata": {
    "collapsed": true
   },
   "outputs": [],
   "source": [
    "a,b,c = 5,6,7"
   ]
  },
  {
   "cell_type": "code",
   "execution_count": 45,
   "metadata": {},
   "outputs": [
    {
     "data": {
      "text/plain": [
       "True"
      ]
     },
     "execution_count": 45,
     "metadata": {},
     "output_type": "execute_result"
    }
   ],
   "source": [
    "b != 7"
   ]
  },
  {
   "cell_type": "code",
   "execution_count": 46,
   "metadata": {},
   "outputs": [
    {
     "data": {
      "text/plain": [
       "False"
      ]
     },
     "execution_count": 46,
     "metadata": {},
     "output_type": "execute_result"
    }
   ],
   "source": [
    "a < 5 "
   ]
  },
  {
   "cell_type": "code",
   "execution_count": 47,
   "metadata": {},
   "outputs": [
    {
     "data": {
      "text/plain": [
       "True"
      ]
     },
     "execution_count": 47,
     "metadata": {},
     "output_type": "execute_result"
    }
   ],
   "source": [
    "a <= 5 "
   ]
  },
  {
   "cell_type": "code",
   "execution_count": 48,
   "metadata": {},
   "outputs": [
    {
     "data": {
      "text/plain": [
       "False"
      ]
     },
     "execution_count": 48,
     "metadata": {},
     "output_type": "execute_result"
    }
   ],
   "source": [
    "b <= a"
   ]
  },
  {
   "cell_type": "code",
   "execution_count": 49,
   "metadata": {},
   "outputs": [
    {
     "data": {
      "text/plain": [
       "True"
      ]
     },
     "execution_count": 49,
     "metadata": {},
     "output_type": "execute_result"
    }
   ],
   "source": [
    "a < b < c "
   ]
  },
  {
   "cell_type": "markdown",
   "metadata": {},
   "source": [
    "We can also do computations in comparisons.\n",
    "Is the remainder when dividing by 2 equal to zero, i.e., Is b even? Is c even?"
   ]
  },
  {
   "cell_type": "code",
   "execution_count": 51,
   "metadata": {},
   "outputs": [
    {
     "data": {
      "text/plain": [
       "True"
      ]
     },
     "execution_count": 51,
     "metadata": {},
     "output_type": "execute_result"
    }
   ],
   "source": [
    "b % 2 == 0     # 6 is even"
   ]
  },
  {
   "cell_type": "code",
   "execution_count": 53,
   "metadata": {},
   "outputs": [
    {
     "data": {
      "text/plain": [
       "False"
      ]
     },
     "execution_count": 53,
     "metadata": {},
     "output_type": "execute_result"
    }
   ],
   "source": [
    "c % 2 == 0     # 7 is odd"
   ]
  },
  {
   "cell_type": "markdown",
   "metadata": {},
   "source": [
    "If statements\n",
    "=========="
   ]
  },
  {
   "cell_type": "markdown",
   "metadata": {},
   "source": [
    "With if statements we can control the flow of execution of a program."
   ]
  },
  {
   "cell_type": "markdown",
   "metadata": {},
   "source": [
    "If ... statements\n",
    "---------------------"
   ]
  },
  {
   "cell_type": "code",
   "execution_count": 2,
   "metadata": {},
   "outputs": [
    {
     "name": "stdout",
     "output_type": "stream",
     "text": [
      "a is less than or equal to b\n"
     ]
    }
   ],
   "source": [
    "a,b = 5,6\n",
    "if a == b:\n",
    "    # this is not executed because 'a == b' is false\n",
    "    print(\"a is equal to b\") \n",
    "\n",
    "if a <= b:\n",
    "    # this is executed because 'a <= b' is true\n",
    "    print(\"a is less than or equal to b\")\n"
   ]
  },
  {
   "cell_type": "markdown",
   "metadata": {},
   "source": [
    "If ... else ... statements\n",
    "---------------------"
   ]
  },
  {
   "cell_type": "code",
   "execution_count": 2,
   "metadata": {},
   "outputs": [
    {
     "name": "stdout",
     "output_type": "stream",
     "text": [
      "a is not equal to b\n"
     ]
    }
   ],
   "source": [
    "a,b = 5,6\n",
    "if a == b:\n",
    "    print(\"a is equal to b\")\n",
    "else:\n",
    "    # this is only executed if a == b is false\n",
    "    print(\"a is not equal to b\")\n"
   ]
  },
  {
   "cell_type": "markdown",
   "metadata": {},
   "source": [
    "If ... elif ... else ... statements\n",
    "---------------------"
   ]
  },
  {
   "cell_type": "code",
   "execution_count": 3,
   "metadata": {},
   "outputs": [
    {
     "name": "stdout",
     "output_type": "stream",
     "text": [
      "Hi Bob\n"
     ]
    }
   ],
   "source": [
    "name = \"bobby\"\n",
    "\n",
    "if name == \"alice\":\n",
    "    print(\"Hi Alice\")\n",
    "elif name == \"bobby\":\n",
    "    print(\"Hi Bob\")\n",
    "elif name == \"richard\":\n",
    "    print(\"Hi Ricky\")\n",
    "else:\n",
    "    print(\"Hi Stranger\")"
   ]
  },
  {
   "cell_type": "markdown",
   "metadata": {},
   "source": [
    "Lists\n",
    "========================"
   ]
  },
  {
   "cell_type": "markdown",
   "metadata": {},
   "source": [
    "Lists are a fundamental data structure in Python.\n",
    "As the name suggests, we use them to store a collection of objects in a list (order matters)\n",
    "\n",
    "We make a list using the [ ... ] notation."
   ]
  },
  {
   "cell_type": "code",
   "execution_count": 1,
   "metadata": {},
   "outputs": [],
   "source": [
    "boy_names = [\n",
    "    \"benny\", \"adam\", \"bobby\", \n",
    "    \"randal\", \"timmy\", \"cartman\", \n",
    "    \"morty\",\"junior-son\", \n",
    "    \"voldemort\", \"boeta\", \"pula\",\n",
    "    \"zane\"\n",
    "]"
   ]
  },
  {
   "cell_type": "markdown",
   "metadata": {},
   "source": [
    "How long is this list?"
   ]
  },
  {
   "cell_type": "code",
   "execution_count": 2,
   "metadata": {},
   "outputs": [
    {
     "data": {
      "text/plain": [
       "12"
      ]
     },
     "execution_count": 2,
     "metadata": {},
     "output_type": "execute_result"
    }
   ],
   "source": [
    "len(boy_names)"
   ]
  },
  {
   "cell_type": "markdown",
   "metadata": {},
   "source": [
    "Is \"morty\" in the list?"
   ]
  },
  {
   "cell_type": "code",
   "execution_count": 3,
   "metadata": {
    "scrolled": true
   },
   "outputs": [
    {
     "data": {
      "text/plain": [
       "True"
      ]
     },
     "execution_count": 3,
     "metadata": {},
     "output_type": "execute_result"
    }
   ],
   "source": [
    "\"morty\" in boy_names "
   ]
  },
  {
   "cell_type": "markdown",
   "metadata": {},
   "source": [
    "Is \"xavier\" in the list?"
   ]
  },
  {
   "cell_type": "code",
   "execution_count": 4,
   "metadata": {},
   "outputs": [
    {
     "data": {
      "text/plain": [
       "False"
      ]
     },
     "execution_count": 4,
     "metadata": {},
     "output_type": "execute_result"
    }
   ],
   "source": [
    "\"xavier\" in boy_names "
   ]
  },
  {
   "cell_type": "markdown",
   "metadata": {},
   "source": [
    "We can access the zeroth element in the list. "
   ]
  },
  {
   "cell_type": "code",
   "execution_count": 5,
   "metadata": {},
   "outputs": [
    {
     "data": {
      "text/plain": [
       "'benny'"
      ]
     },
     "execution_count": 5,
     "metadata": {},
     "output_type": "execute_result"
    }
   ],
   "source": [
    "boy_names[0] "
   ]
  },
  {
   "cell_type": "markdown",
   "metadata": {
    "collapsed": true
   },
   "source": [
    "WARNING!\n",
    "Remember that we always start index from zero!\n",
    "\n",
    "We will distinguish between the \"first\" and \"oneth\" element.\n",
    "\"First element of boy_names\" is ambiguous, \n",
    "do we mean boy_names[0] or boy_names[1] ?\n",
    "\n",
    "By \"oneth\" or \"1-th\" element of boy_names we will always mean boy_names[1]."
   ]
  },
  {
   "cell_type": "code",
   "execution_count": 6,
   "metadata": {},
   "outputs": [
    {
     "data": {
      "text/plain": [
       "'adam'"
      ]
     },
     "execution_count": 6,
     "metadata": {},
     "output_type": "execute_result"
    }
   ],
   "source": [
    "boy_names[1]"
   ]
  },
  {
   "cell_type": "markdown",
   "metadata": {},
   "source": [
    "We can access the last-th element in the list, by using the -1 index. (This is why we index starting from zero)"
   ]
  },
  {
   "cell_type": "code",
   "execution_count": 7,
   "metadata": {},
   "outputs": [
    {
     "data": {
      "text/plain": [
       "'zane'"
      ]
     },
     "execution_count": 7,
     "metadata": {},
     "output_type": "execute_result"
    }
   ],
   "source": [
    "boy_names[-1]\n",
    "\n"
   ]
  },
  {
   "cell_type": "markdown",
   "metadata": {},
   "source": [
    "... and can access the 2nd last-th element with the -2 index"
   ]
  },
  {
   "cell_type": "code",
   "execution_count": 8,
   "metadata": {},
   "outputs": [
    {
     "data": {
      "text/plain": [
       "'pula'"
      ]
     },
     "execution_count": 8,
     "metadata": {},
     "output_type": "execute_result"
    }
   ],
   "source": [
    "\n",
    "boy_names[-2]"
   ]
  },
  {
   "cell_type": "markdown",
   "metadata": {},
   "source": [
    "We can replace an element "
   ]
  },
  {
   "cell_type": "code",
   "execution_count": 9,
   "metadata": {},
   "outputs": [
    {
     "data": {
      "text/plain": [
       "['benny',\n",
       " 'adriaan',\n",
       " 'bobby',\n",
       " 'randal',\n",
       " 'timmy',\n",
       " 'cartman',\n",
       " 'morty',\n",
       " 'junior-son',\n",
       " 'voldemort',\n",
       " 'boeta',\n",
       " 'pula',\n",
       " 'zane']"
      ]
     },
     "execution_count": 9,
     "metadata": {},
     "output_type": "execute_result"
    }
   ],
   "source": [
    "\n",
    "boy_names[1] = \"adriaan\"\n",
    "boy_names"
   ]
  },
  {
   "cell_type": "markdown",
   "metadata": {},
   "source": [
    "... and remove an element"
   ]
  },
  {
   "cell_type": "code",
   "execution_count": 10,
   "metadata": {},
   "outputs": [
    {
     "data": {
      "text/plain": [
       "['benny',\n",
       " 'bobby',\n",
       " 'randal',\n",
       " 'timmy',\n",
       " 'cartman',\n",
       " 'morty',\n",
       " 'junior-son',\n",
       " 'voldemort',\n",
       " 'boeta',\n",
       " 'pula',\n",
       " 'zane']"
      ]
     },
     "execution_count": 10,
     "metadata": {},
     "output_type": "execute_result"
    }
   ],
   "source": [
    "del boy_names[1] \n",
    "boy_names"
   ]
  },
  {
   "cell_type": "markdown",
   "metadata": {},
   "source": [
    "... and append an element to the end of the list"
   ]
  },
  {
   "cell_type": "code",
   "execution_count": 11,
   "metadata": {},
   "outputs": [
    {
     "data": {
      "text/plain": [
       "['benny',\n",
       " 'bobby',\n",
       " 'randal',\n",
       " 'timmy',\n",
       " 'cartman',\n",
       " 'morty',\n",
       " 'junior-son',\n",
       " 'voldemort',\n",
       " 'boeta',\n",
       " 'pula',\n",
       " 'zane',\n",
       " 'sabelo']"
      ]
     },
     "execution_count": 11,
     "metadata": {},
     "output_type": "execute_result"
    }
   ],
   "source": [
    "boy_names.append(\"sabelo\")\n",
    "boy_names"
   ]
  },
  {
   "cell_type": "markdown",
   "metadata": {},
   "source": [
    "Tuples\n",
    "----------"
   ]
  },
  {
   "cell_type": "markdown",
   "metadata": {},
   "source": [
    "Tuples are like lists, but they are immutable. This means it is not possible to change tuples.\n",
    "\n",
    "We make a tuples using the ( ... ) notation"
   ]
  },
  {
   "cell_type": "code",
   "execution_count": 54,
   "metadata": {
    "collapsed": true
   },
   "outputs": [],
   "source": [
    "boy_names_tuple = (\n",
    "    \"benny\", \"adam\", \"bobby\", \n",
    "    \"randal\", \"timmy\", \"cartman\", \n",
    "    \"morty\",\"junior-son\", \n",
    "    \"voldemort\", \"boeta\", \"pula\",\n",
    "    \"zane\"\n",
    ")\n"
   ]
  },
  {
   "cell_type": "markdown",
   "metadata": {},
   "source": [
    "How long is the tuple?"
   ]
  },
  {
   "cell_type": "code",
   "execution_count": 15,
   "metadata": {},
   "outputs": [
    {
     "data": {
      "text/plain": [
       "12"
      ]
     },
     "execution_count": 15,
     "metadata": {},
     "output_type": "execute_result"
    }
   ],
   "source": [
    "len(boy_names_tuple)"
   ]
  },
  {
   "cell_type": "markdown",
   "metadata": {},
   "source": [
    "Is \"morty\" in the tuple?"
   ]
  },
  {
   "cell_type": "code",
   "execution_count": 16,
   "metadata": {},
   "outputs": [
    {
     "data": {
      "text/plain": [
       "True"
      ]
     },
     "execution_count": 16,
     "metadata": {},
     "output_type": "execute_result"
    }
   ],
   "source": [
    "\"morty\" in boy_names_tuple "
   ]
  },
  {
   "cell_type": "markdown",
   "metadata": {},
   "source": [
    "We can access the last-th element"
   ]
  },
  {
   "cell_type": "code",
   "execution_count": 24,
   "metadata": {},
   "outputs": [
    {
     "data": {
      "text/plain": [
       "'zane'"
      ]
     },
     "execution_count": 24,
     "metadata": {},
     "output_type": "execute_result"
    }
   ],
   "source": [
    "boy_names_tuple[-1]"
   ]
  },
  {
   "cell_type": "markdown",
   "metadata": {},
   "source": [
    "... but we cannot change the tuple by replacing elements. Trying results in an error."
   ]
  },
  {
   "cell_type": "code",
   "execution_count": 18,
   "metadata": {},
   "outputs": [
    {
     "ename": "TypeError",
     "evalue": "'tuple' object does not support item assignment",
     "output_type": "error",
     "traceback": [
      "\u001b[0;31m---------------------------------------------------------------------------\u001b[0m",
      "\u001b[0;31mTypeError\u001b[0m                                 Traceback (most recent call last)",
      "\u001b[0;32m<ipython-input-18-af5e5e9178b2>\u001b[0m in \u001b[0;36m<module>\u001b[0;34m()\u001b[0m\n\u001b[1;32m      1\u001b[0m \u001b[0;31m# We cannot change a tuple, so the\u001b[0m\u001b[0;34m\u001b[0m\u001b[0;34m\u001b[0m\u001b[0m\n\u001b[1;32m      2\u001b[0m \u001b[0;31m# following gives an error\u001b[0m\u001b[0;34m\u001b[0m\u001b[0;34m\u001b[0m\u001b[0m\n\u001b[0;32m----> 3\u001b[0;31m \u001b[0mboy_names_tuple\u001b[0m\u001b[0;34m[\u001b[0m\u001b[0;36m1\u001b[0m\u001b[0;34m]\u001b[0m \u001b[0;34m=\u001b[0m \u001b[0;34m\"adriaan\"\u001b[0m\u001b[0;34m\u001b[0m\u001b[0m\n\u001b[0m",
      "\u001b[0;31mTypeError\u001b[0m: 'tuple' object does not support item assignment"
     ]
    }
   ],
   "source": [
    "# We cannot change a tuple, so the\n",
    "# following gives an error\n",
    "boy_names_tuple[1] = \"adriaan\""
   ]
  },
  {
   "cell_type": "markdown",
   "metadata": {},
   "source": [
    "List slicing \n",
    "---------"
   ]
  },
  {
   "cell_type": "markdown",
   "metadata": {},
   "source": [
    "List slicing is an efficient method of cutting off parts if a list."
   ]
  },
  {
   "cell_type": "code",
   "execution_count": 19,
   "metadata": {
    "collapsed": true
   },
   "outputs": [],
   "source": [
    "girl_names = [\"alice\", \"beatrice\", \"candy\", \n",
    "    \"dolly\", \"elaine\", \"francine\", \"geraldine\"]"
   ]
  },
  {
   "cell_type": "markdown",
   "metadata": {},
   "source": [
    " We use the \":\" operator to make a slice. The following slice results in a new list containing the oneth,twoth, etc. elements:"
   ]
  },
  {
   "cell_type": "code",
   "execution_count": 22,
   "metadata": {},
   "outputs": [
    {
     "data": {
      "text/plain": [
       "['beatrice', 'candy', 'dolly', 'elaine', 'francine', 'geraldine']"
      ]
     },
     "execution_count": 22,
     "metadata": {},
     "output_type": "execute_result"
    }
   ],
   "source": [
    "\n",
    "girl_names[1:] "
   ]
  },
  {
   "cell_type": "markdown",
   "metadata": {},
   "source": [
    "We can also slice from the other end. The following list contains everything up to the twoth element, and excludes the threeth element onwards:"
   ]
  },
  {
   "cell_type": "code",
   "execution_count": 21,
   "metadata": {},
   "outputs": [
    {
     "data": {
      "text/plain": [
       "['alice', 'beatrice', 'candy']"
      ]
     },
     "execution_count": 21,
     "metadata": {},
     "output_type": "execute_result"
    }
   ],
   "source": [
    "\n",
    "girl_names[:3] "
   ]
  },
  {
   "cell_type": "markdown",
   "metadata": {},
   "source": [
    "We can also slice using negative indeces. The following  list contains everything but the last-th element."
   ]
  },
  {
   "cell_type": "code",
   "execution_count": 23,
   "metadata": {},
   "outputs": [
    {
     "data": {
      "text/plain": [
       "['alice', 'beatrice', 'candy', 'dolly', 'elaine', 'francine']"
      ]
     },
     "execution_count": 23,
     "metadata": {},
     "output_type": "execute_result"
    }
   ],
   "source": [
    "\n",
    "girl_names[:-1]"
   ]
  },
  {
   "cell_type": "markdown",
   "metadata": {},
   "source": [
    "... and all but the second-last-th and last-th elements:"
   ]
  },
  {
   "cell_type": "code",
   "execution_count": 25,
   "metadata": {},
   "outputs": [
    {
     "data": {
      "text/plain": [
       "['alice', 'beatrice', 'candy', 'dolly', 'elaine']"
      ]
     },
     "execution_count": 25,
     "metadata": {},
     "output_type": "execute_result"
    }
   ],
   "source": [
    "girl_names[:-2]"
   ]
  },
  {
   "cell_type": "markdown",
   "metadata": {},
   "source": [
    "The following list contains the oneth, twoth, threeth, fourth, elements (excluding the fiveth element onward)."
   ]
  },
  {
   "cell_type": "code",
   "execution_count": 27,
   "metadata": {},
   "outputs": [
    {
     "data": {
      "text/plain": [
       "['beatrice', 'candy', 'dolly', 'elaine']"
      ]
     },
     "execution_count": 27,
     "metadata": {},
     "output_type": "execute_result"
    }
   ],
   "source": [
    "girl_names[1:5] "
   ]
  },
  {
   "cell_type": "markdown",
   "metadata": {},
   "source": [
    "Slicing also works for tuples and for strings:"
   ]
  },
  {
   "cell_type": "code",
   "execution_count": 28,
   "metadata": {},
   "outputs": [
    {
     "data": {
      "text/plain": [
       "'ando'"
      ]
     },
     "execution_count": 28,
     "metadata": {},
     "output_type": "execute_result"
    }
   ],
   "source": [
    "name = \"Marlon Brando\"\n",
    "name[-4:]"
   ]
  },
  {
   "cell_type": "markdown",
   "metadata": {},
   "source": [
    "List concatenation\n",
    "---------\n",
    "\n",
    "Concatenation means combining two lists end to end. We can use the `+` operator to concatenate two or more lists."
   ]
  },
  {
   "cell_type": "code",
   "execution_count": 8,
   "metadata": {},
   "outputs": [],
   "source": [
    "A = [\"a\", \"b\", \"c\"]\n",
    "B = [1,2,3]\n",
    "C = [\"alpha\",\"beta\",\"gamma\", \"delta\"]"
   ]
  },
  {
   "cell_type": "code",
   "execution_count": 9,
   "metadata": {},
   "outputs": [
    {
     "data": {
      "text/plain": [
       "['a', 'b', 'c', 1, 2, 3]"
      ]
     },
     "execution_count": 9,
     "metadata": {},
     "output_type": "execute_result"
    }
   ],
   "source": [
    "A+B"
   ]
  },
  {
   "cell_type": "code",
   "execution_count": 10,
   "metadata": {},
   "outputs": [
    {
     "data": {
      "text/plain": [
       "['alpha', 'beta', 'gamma', 'delta', 1, 2, 3]"
      ]
     },
     "execution_count": 10,
     "metadata": {},
     "output_type": "execute_result"
    }
   ],
   "source": [
    "C+B"
   ]
  },
  {
   "cell_type": "markdown",
   "metadata": {
    "collapsed": true
   },
   "source": [
    "Sorting\n",
    "----------"
   ]
  },
  {
   "cell_type": "markdown",
   "metadata": {},
   "source": [
    "We very often want to sort lists. Python includes powerful methods to perform different kinds of sorting. We will work with the following list:"
   ]
  },
  {
   "cell_type": "code",
   "execution_count": 55,
   "metadata": {
    "collapsed": true
   },
   "outputs": [],
   "source": [
    "boy_names = [\n",
    "    \"benny\", \"adam\", \"bobby\", \n",
    "    \"randal\", \"timmy\", \"cartman\", \n",
    "    \"morty\",\"junior-son\", \n",
    "    \"voldemort\", \"boeta\", \"pula\",\n",
    "    \"zane\"\n",
    "]"
   ]
  },
  {
   "cell_type": "markdown",
   "metadata": {},
   "source": [
    "The default ordering for strings is alphabetically. We can just use the \"sorted\" function:"
   ]
  },
  {
   "cell_type": "code",
   "execution_count": 30,
   "metadata": {},
   "outputs": [
    {
     "data": {
      "text/plain": [
       "['adam',\n",
       " 'benny',\n",
       " 'bobby',\n",
       " 'boeta',\n",
       " 'cartman',\n",
       " 'junior-son',\n",
       " 'morty',\n",
       " 'pula',\n",
       " 'randal',\n",
       " 'timmy',\n",
       " 'voldemort',\n",
       " 'zane']"
      ]
     },
     "execution_count": 30,
     "metadata": {},
     "output_type": "execute_result"
    }
   ],
   "source": [
    "sorted(boy_names)"
   ]
  },
  {
   "cell_type": "markdown",
   "metadata": {},
   "source": [
    "We can easily sort reverse-alphabetically"
   ]
  },
  {
   "cell_type": "code",
   "execution_count": 4,
   "metadata": {},
   "outputs": [
    {
     "data": {
      "text/plain": [
       "['zane',\n",
       " 'voldemort',\n",
       " 'timmy',\n",
       " 'randal',\n",
       " 'pula',\n",
       " 'morty',\n",
       " 'junior-son',\n",
       " 'cartman',\n",
       " 'boeta',\n",
       " 'bobby',\n",
       " 'benny',\n",
       " 'adam']"
      ]
     },
     "execution_count": 4,
     "metadata": {},
     "output_type": "execute_result"
    }
   ],
   "source": [
    "sorted(boy_names, reverse=True)"
   ]
  },
  {
   "cell_type": "markdown",
   "metadata": {},
   "source": [
    "... or by length of the strings"
   ]
  },
  {
   "cell_type": "code",
   "execution_count": 5,
   "metadata": {},
   "outputs": [
    {
     "data": {
      "text/plain": [
       "['adam',\n",
       " 'pula',\n",
       " 'zane',\n",
       " 'benny',\n",
       " 'bobby',\n",
       " 'timmy',\n",
       " 'morty',\n",
       " 'boeta',\n",
       " 'randal',\n",
       " 'cartman',\n",
       " 'voldemort',\n",
       " 'junior-son']"
      ]
     },
     "execution_count": 5,
     "metadata": {},
     "output_type": "execute_result"
    }
   ],
   "source": [
    "sorted(boy_names, key = len)"
   ]
  },
  {
   "cell_type": "markdown",
   "metadata": {},
   "source": [
    "We can sort with respect to any conceivable ordering. E.g. The following sorts the list alphabetically according to the one-th letter. (See the section on lambda expressions)."
   ]
  },
  {
   "cell_type": "code",
   "execution_count": 31,
   "metadata": {},
   "outputs": [
    {
     "data": {
      "text/plain": [
       "['randal',\n",
       " 'cartman',\n",
       " 'zane',\n",
       " 'adam',\n",
       " 'benny',\n",
       " 'timmy',\n",
       " 'bobby',\n",
       " 'morty',\n",
       " 'voldemort',\n",
       " 'boeta',\n",
       " 'junior-son',\n",
       " 'pula']"
      ]
     },
     "execution_count": 31,
     "metadata": {},
     "output_type": "execute_result"
    }
   ],
   "source": [
    "sorted(boy_names, key = lambda item: item[1])"
   ]
  },
  {
   "cell_type": "markdown",
   "metadata": {},
   "source": [
    "Zipping \n",
    "---------------------"
   ]
  },
  {
   "cell_type": "markdown",
   "metadata": {},
   "source": [
    "Zipping is an efficient way to combine two (or more) lists pairwise. Consider the two lists:"
   ]
  },
  {
   "cell_type": "code",
   "execution_count": 37,
   "metadata": {
    "collapsed": true
   },
   "outputs": [],
   "source": [
    "girl_names = [\"alice\", \"beatrice\", \"candy\", \"dolly\", \"elaine\"]\n",
    "their_ages = [10, 11, 10, 9, 8]\n",
    "\n"
   ]
  },
  {
   "cell_type": "markdown",
   "metadata": {},
   "source": [
    "We can \"zip\" these two lists together to get a \"zip\"  object (zip objects are iterable objects. Their purpose is for optimizing RAM usage)."
   ]
  },
  {
   "cell_type": "code",
   "execution_count": 38,
   "metadata": {},
   "outputs": [
    {
     "data": {
      "text/plain": [
       "<zip at 0x7fed48073688>"
      ]
     },
     "execution_count": 38,
     "metadata": {},
     "output_type": "execute_result"
    }
   ],
   "source": [
    "name_age_pairs = zip(girl_names, their_ages)\n",
    "name_age_pairs"
   ]
  },
  {
   "cell_type": "markdown",
   "metadata": {},
   "source": [
    "The zip object can be converted to a list."
   ]
  },
  {
   "cell_type": "code",
   "execution_count": 39,
   "metadata": {},
   "outputs": [
    {
     "data": {
      "text/plain": [
       "[('alice', 10), ('beatrice', 11), ('candy', 10), ('dolly', 9), ('elaine', 8)]"
      ]
     },
     "execution_count": 39,
     "metadata": {},
     "output_type": "execute_result"
    }
   ],
   "source": [
    "list(name_age_pairs)"
   ]
  },
  {
   "cell_type": "markdown",
   "metadata": {},
   "source": [
    " Warning! When zipping lists of \n",
    " unequal length the result will \n",
    " have the length of the shortest\n",
    " list:"
   ]
  },
  {
   "cell_type": "code",
   "execution_count": 40,
   "metadata": {},
   "outputs": [
    {
     "data": {
      "text/plain": [
       "[('a', 1), ('b', 2), ('c', 3)]"
      ]
     },
     "execution_count": 40,
     "metadata": {},
     "output_type": "execute_result"
    }
   ],
   "source": [
    "\n",
    "result = list(zip([\"a\",\"b\",\"c\"], [1,2,3,4,5,6]))\n",
    "result"
   ]
  },
  {
   "cell_type": "markdown",
   "metadata": {},
   "source": [
    " We can also zip more than two lists:"
   ]
  },
  {
   "cell_type": "code",
   "execution_count": 41,
   "metadata": {},
   "outputs": [
    {
     "data": {
      "text/plain": [
       "[('a', 1, 'alpha'), ('b', 2, 'beta'), ('c', 3, 'gamma')]"
      ]
     },
     "execution_count": 41,
     "metadata": {},
     "output_type": "execute_result"
    }
   ],
   "source": [
    "\n",
    "threezip = list(zip([\"a\",\"b\",\"c\"], [1,2,3], [\"alpha\", \"beta\", \"gamma\"]))\n",
    "threezip"
   ]
  },
  {
   "cell_type": "markdown",
   "metadata": {},
   "source": [
    "Unzipping\n",
    "---------"
   ]
  },
  {
   "cell_type": "markdown",
   "metadata": {},
   "source": [
    "Unzipping is the opposite of zipping. I.e., Given a list of pairs, we can unzip the list into two lists: one list containing the first elements of the pairs and one list containing the second elements of the pairs.\n",
    "\n",
    "Consider:"
   ]
  },
  {
   "cell_type": "code",
   "execution_count": 43,
   "metadata": {
    "collapsed": true
   },
   "outputs": [],
   "source": [
    "name_age_pairs = [\n",
    "    ('alice', 10), ('beatrice', 11), ('candy', 10), #\n",
    "    ('dolly', 9), ('elaine', 8)\n",
    "]\n",
    "\n"
   ]
  },
  {
   "cell_type": "markdown",
   "metadata": {},
   "source": [
    "... which we unzip (notice the \"*\"):"
   ]
  },
  {
   "cell_type": "code",
   "execution_count": 44,
   "metadata": {
    "collapsed": true
   },
   "outputs": [],
   "source": [
    "unzipped_names, unzipped_ages = zip(*name_age_pairs)"
   ]
  },
  {
   "cell_type": "markdown",
   "metadata": {},
   "source": [
    "Let's inspect the lists unzipped_names and unzipped_ages"
   ]
  },
  {
   "cell_type": "code",
   "execution_count": 47,
   "metadata": {},
   "outputs": [
    {
     "data": {
      "text/plain": [
       "('alice', 'beatrice', 'candy', 'dolly', 'elaine')"
      ]
     },
     "execution_count": 47,
     "metadata": {},
     "output_type": "execute_result"
    }
   ],
   "source": [
    "unzipped_names"
   ]
  },
  {
   "cell_type": "code",
   "execution_count": 48,
   "metadata": {},
   "outputs": [
    {
     "data": {
      "text/plain": [
       "(10, 11, 10, 9, 8)"
      ]
     },
     "execution_count": 48,
     "metadata": {},
     "output_type": "execute_result"
    }
   ],
   "source": [
    "unzipped_ages"
   ]
  },
  {
   "cell_type": "markdown",
   "metadata": {},
   "source": [
    "We can also unzip lists of triples:"
   ]
  },
  {
   "cell_type": "code",
   "execution_count": 49,
   "metadata": {
    "collapsed": true
   },
   "outputs": [],
   "source": [
    "threezip = [('a', 1, 'alpha'), ('b', 2, 'beta'), ('c', 3, 'gamma')]\n",
    "abc, onetwothree, alphabetagamma = zip(*threezip)\n"
   ]
  },
  {
   "cell_type": "code",
   "execution_count": 50,
   "metadata": {},
   "outputs": [
    {
     "data": {
      "text/plain": [
       "('a', 'b', 'c')"
      ]
     },
     "execution_count": 50,
     "metadata": {},
     "output_type": "execute_result"
    }
   ],
   "source": [
    "abc"
   ]
  },
  {
   "cell_type": "code",
   "execution_count": 51,
   "metadata": {},
   "outputs": [
    {
     "data": {
      "text/plain": [
       "(1, 2, 3)"
      ]
     },
     "execution_count": 51,
     "metadata": {},
     "output_type": "execute_result"
    }
   ],
   "source": [
    "onetwothree"
   ]
  },
  {
   "cell_type": "code",
   "execution_count": 52,
   "metadata": {},
   "outputs": [
    {
     "data": {
      "text/plain": [
       "('alpha', 'beta', 'gamma')"
      ]
     },
     "execution_count": 52,
     "metadata": {},
     "output_type": "execute_result"
    }
   ],
   "source": [
    "alphabetagamma"
   ]
  },
  {
   "cell_type": "markdown",
   "metadata": {},
   "source": [
    "Application: Combining zip and list slicing to form adjacent pairs\n",
    "---------\n",
    "\n",
    "Say we have a list L=[1,2,3,4,5,6,7,8,9] and we want to construct a new list of all adjacent pairs from L : [(1,2),(2,3),(3,4),(5,6),(6,7),(7,8),(9,8)]. \n",
    "\n",
    "An elegant way of constucting this list is to use a zip with a list slice:"
   ]
  },
  {
   "cell_type": "code",
   "execution_count": 1,
   "metadata": {},
   "outputs": [],
   "source": [
    "L = [1,2,3,4,5,6,7,8,9]\n",
    "pairs = list(zip(L,L[1:]))"
   ]
  },
  {
   "cell_type": "code",
   "execution_count": 2,
   "metadata": {},
   "outputs": [
    {
     "data": {
      "text/plain": [
       "[(1, 2), (2, 3), (3, 4), (4, 5), (5, 6), (6, 7), (7, 8), (8, 9)]"
      ]
     },
     "execution_count": 2,
     "metadata": {},
     "output_type": "execute_result"
    }
   ],
   "source": [
    "pairs"
   ]
  },
  {
   "cell_type": "markdown",
   "metadata": {},
   "source": [
    "Do make sure you understand how the list slice and zip works together here."
   ]
  },
  {
   "cell_type": "markdown",
   "metadata": {},
   "source": [
    "Loops\n",
    "===="
   ]
  },
  {
   "cell_type": "markdown",
   "metadata": {},
   "source": [
    "Loops are used to perform a single operation over and over."
   ]
  },
  {
   "cell_type": "markdown",
   "metadata": {},
   "source": [
    "For-loops\n",
    "-------\n",
    "The for-loop is the most used kind of loop. One can think of their operation as follows: \"For every element in ...(container), do ...(action) \".\n",
    "\n",
    "The \"range\" functon is a useful container to loop over. The following example prints every number in the range 0,2,3,...,9:"
   ]
  },
  {
   "cell_type": "code",
   "execution_count": 1,
   "metadata": {},
   "outputs": [
    {
     "name": "stdout",
     "output_type": "stream",
     "text": [
      "0\n",
      "1\n",
      "2\n",
      "3\n",
      "4\n",
      "5\n",
      "6\n",
      "7\n",
      "8\n",
      "9\n"
     ]
    }
   ],
   "source": [
    "for i in range(10): \n",
    "    print(i)"
   ]
  },
  {
   "cell_type": "markdown",
   "metadata": {},
   "source": [
    "... do the same, but loop over 4,5,...,9"
   ]
  },
  {
   "cell_type": "code",
   "execution_count": 2,
   "metadata": {},
   "outputs": [
    {
     "name": "stdout",
     "output_type": "stream",
     "text": [
      "4\n",
      "5\n",
      "6\n",
      "7\n",
      "8\n",
      "9\n"
     ]
    }
   ],
   "source": [
    "for i in range(4, 10): \n",
    "    print(i)"
   ]
  },
  {
   "cell_type": "markdown",
   "metadata": {},
   "source": [
    "We are not limited to loop over \"ranges\", we can loop over any container. This is the preferred way to loop over a list in Python:"
   ]
  },
  {
   "cell_type": "code",
   "execution_count": 3,
   "metadata": {},
   "outputs": [
    {
     "name": "stdout",
     "output_type": "stream",
     "text": [
      "alice\n",
      "beatrice\n",
      "candy\n",
      "dolly\n",
      "elaine\n",
      "francine\n",
      "geraldine\n"
     ]
    }
   ],
   "source": [
    "girl_names = [\"alice\", \"beatrice\", \"candy\", \n",
    "    \"dolly\", \"elaine\", \"francine\", \"geraldine\"]\n",
    "\n",
    "for name in girl_names:\n",
    "    print(name)"
   ]
  },
  {
   "cell_type": "markdown",
   "metadata": {},
   "source": [
    "We can loop in reverse order by just applying the \"reversed\" function to our list:"
   ]
  },
  {
   "cell_type": "code",
   "execution_count": 4,
   "metadata": {},
   "outputs": [
    {
     "name": "stdout",
     "output_type": "stream",
     "text": [
      "geraldine\n",
      "francine\n",
      "elaine\n",
      "dolly\n",
      "candy\n",
      "beatrice\n",
      "alice\n"
     ]
    }
   ],
   "source": [
    "for name in reversed(girl_names):\n",
    "    print(name)"
   ]
  },
  {
   "cell_type": "markdown",
   "metadata": {},
   "source": [
    "Often one want's to keep a running index. This is easily done with the \"enumerate\" function."
   ]
  },
  {
   "cell_type": "code",
   "execution_count": 5,
   "metadata": {},
   "outputs": [
    {
     "name": "stdout",
     "output_type": "stream",
     "text": [
      "0  ->  alice\n",
      "1  ->  beatrice\n",
      "2  ->  candy\n",
      "3  ->  dolly\n",
      "4  ->  elaine\n",
      "5  ->  francine\n",
      "6  ->  geraldine\n"
     ]
    }
   ],
   "source": [
    "for index, name in enumerate(girl_names):   #<------(notice the unpacking)\n",
    "    print(index, \" -> \", name)"
   ]
  },
  {
   "cell_type": "markdown",
   "metadata": {},
   "source": [
    "We can also loop directly over zip objects using unpacking"
   ]
  },
  {
   "cell_type": "code",
   "execution_count": 14,
   "metadata": {},
   "outputs": [
    {
     "name": "stdout",
     "output_type": "stream",
     "text": [
      "name :  alice\n",
      "   age  :  3\n",
      "name :  beatrice\n",
      "   age  :  3\n",
      "name :  candy\n",
      "   age  :  7\n",
      "name :  dolly\n",
      "   age  :  10\n",
      "name :  elaine\n",
      "   age  :  15\n",
      "name :  francine\n",
      "   age  :  11\n",
      "name :  geraldine\n",
      "   age  :  31\n"
     ]
    }
   ],
   "source": [
    "girl_names = [\"alice\", \"beatrice\", \"candy\", \n",
    "    \"dolly\", \"elaine\", \"francine\", \"geraldine\"]\n",
    "their_ages = [3,3,7,10,15,11,31]\n",
    "\n",
    "for name, age in zip(girl_names, their_ages):\n",
    "    print(\"name : \", name )\n",
    "    print(\"   age  : \", age)"
   ]
  },
  {
   "cell_type": "markdown",
   "metadata": {},
   "source": [
    "While loops\n",
    "----------\n",
    "While loops are useful when we do not know before hand how many times a loop should execute. One can think of their operation as follows: \"While ... (condition) is True, do ...(action)\".\n"
   ]
  },
  {
   "cell_type": "code",
   "execution_count": 7,
   "metadata": {},
   "outputs": [
    {
     "name": "stdout",
     "output_type": "stream",
     "text": [
      "9\n"
     ]
    }
   ],
   "source": [
    "number = 144\n",
    "while number % 2 == 0 :   # while number is divisible by 2,  ...\n",
    "    number = number // 2  # divide it by two\n",
    "\n",
    "print(number)"
   ]
  },
  {
   "cell_type": "markdown",
   "metadata": {},
   "source": [
    "You should loop like a Pythonista not a C-snake.\n",
    "-----------------------"
   ]
  },
  {
   "cell_type": "markdown",
   "metadata": {},
   "source": [
    "Python is not like classic languages e.g., C. We should not use standard C-idioms in Python. Doing so will result in ugly, unreadable and un maintainable code.\n",
    "\n",
    "DO NOT DO ANY OF THE FOLLOWING THINGS IN PYTHON. Compare the following bad looping idioms with the proper Pythonic looping idioms above.\n"
   ]
  },
  {
   "cell_type": "markdown",
   "metadata": {},
   "source": [
    "Consider the lists"
   ]
  },
  {
   "cell_type": "code",
   "execution_count": 13,
   "metadata": {
    "collapsed": true
   },
   "outputs": [],
   "source": [
    "girl_names = [\"alice\", \"beatrice\", \"candy\", \n",
    "    \"dolly\", \"elaine\", \"francine\", \"geraldine\"]\n",
    "their_ages = [3,3,7,10,15,11,31]\n",
    "\n",
    "\n"
   ]
  },
  {
   "cell_type": "markdown",
   "metadata": {},
   "source": [
    "DO NOT Loop over a range object unecessarily:"
   ]
  },
  {
   "cell_type": "code",
   "execution_count": 9,
   "metadata": {},
   "outputs": [
    {
     "name": "stdout",
     "output_type": "stream",
     "text": [
      "alice\n",
      "beatrice\n",
      "candy\n",
      "dolly\n",
      "elaine\n",
      "francine\n",
      "geraldine\n"
     ]
    }
   ],
   "source": [
    "for i in range(len(girl_names)):\n",
    "    print(girl_names[i])    \n"
   ]
  },
  {
   "cell_type": "markdown",
   "metadata": {},
   "source": [
    "DO NOT loop in reverse order by accessing indeces:"
   ]
  },
  {
   "cell_type": "code",
   "execution_count": 13,
   "metadata": {},
   "outputs": [
    {
     "name": "stdout",
     "output_type": "stream",
     "text": [
      "geraldine\n",
      "francine\n",
      "elaine\n",
      "dolly\n",
      "candy\n",
      "beatrice\n",
      "alice\n"
     ]
    }
   ],
   "source": [
    "for i in range(len(girl_names)):\n",
    "    print(girl_names[len(girl_names) - i -1])    \n"
   ]
  },
  {
   "cell_type": "markdown",
   "metadata": {},
   "source": [
    "DO NOT keep a running index manually:"
   ]
  },
  {
   "cell_type": "code",
   "execution_count": 15,
   "metadata": {},
   "outputs": [
    {
     "name": "stdout",
     "output_type": "stream",
     "text": [
      "0  ->  alice\n",
      "1  ->  beatrice\n",
      "2  ->  candy\n",
      "3  ->  dolly\n",
      "4  ->  elaine\n",
      "5  ->  francine\n",
      "6  ->  geraldine\n"
     ]
    }
   ],
   "source": [
    "index = 0\n",
    "for name in girl_names:\n",
    "    print(index, \" -> \", name)\n",
    "    index = index +1"
   ]
  },
  {
   "cell_type": "markdown",
   "metadata": {},
   "source": [
    "DO NOT loop over two lists using indeces:"
   ]
  },
  {
   "cell_type": "code",
   "execution_count": 12,
   "metadata": {},
   "outputs": [
    {
     "name": "stdout",
     "output_type": "stream",
     "text": [
      "name :  alice\n",
      "   age  :  3\n",
      "name :  beatrice\n",
      "   age  :  3\n",
      "name :  candy\n",
      "   age  :  7\n",
      "name :  dolly\n",
      "   age  :  10\n",
      "name :  elaine\n",
      "   age  :  15\n",
      "name :  francine\n",
      "   age  :  11\n",
      "name :  geraldine\n",
      "   age  :  31\n"
     ]
    }
   ],
   "source": [
    "for i in range(min(len(girl_names), len(their_ages))):\n",
    "    print(\"name : \", girl_names[i] )\n",
    "    print(\"   age  : \", their_ages[i])        "
   ]
  },
  {
   "cell_type": "markdown",
   "metadata": {},
   "source": [
    "List comprehensions\n",
    "============="
   ]
  },
  {
   "cell_type": "markdown",
   "metadata": {},
   "source": [
    "List comprehensions are a concise way of constructing lists using a for-loop syntax.\n",
    "\n",
    "Consider the list:"
   ]
  },
  {
   "cell_type": "code",
   "execution_count": 1,
   "metadata": {
    "collapsed": true
   },
   "outputs": [],
   "source": [
    "girl_names = [\"alice\", \"beatrice\", \"candy\", \n",
    "    \"dolly\", \"elaine\", \"francine\", \"geraldine\"]\n",
    "\n"
   ]
  },
  {
   "cell_type": "markdown",
   "metadata": {},
   "source": [
    "We can use a list comprehension to make a new list containing the zeroth letter of each name in the list:\n"
   ]
  },
  {
   "cell_type": "code",
   "execution_count": 2,
   "metadata": {},
   "outputs": [
    {
     "data": {
      "text/plain": [
       "['a', 'b', 'c', 'd', 'e', 'f', 'g']"
      ]
     },
     "execution_count": 2,
     "metadata": {},
     "output_type": "execute_result"
    }
   ],
   "source": [
    "first_letters = [name[0] for name in girl_names]\n",
    "first_letters"
   ]
  },
  {
   "cell_type": "markdown",
   "metadata": {},
   "source": [
    "... or a list with the length of every name:"
   ]
  },
  {
   "cell_type": "code",
   "execution_count": 2,
   "metadata": {},
   "outputs": [
    {
     "data": {
      "text/plain": [
       "[5, 8, 5, 5, 6, 8, 9]"
      ]
     },
     "execution_count": 2,
     "metadata": {},
     "output_type": "execute_result"
    }
   ],
   "source": [
    "length_of_names = [len(name) for name in girl_names]\n",
    "length_of_names"
   ]
  },
  {
   "cell_type": "markdown",
   "metadata": {},
   "source": [
    "... or a list of name-length-pairs "
   ]
  },
  {
   "cell_type": "code",
   "execution_count": 3,
   "metadata": {},
   "outputs": [
    {
     "data": {
      "text/plain": [
       "[('alice', 5),\n",
       " ('beatrice', 8),\n",
       " ('candy', 5),\n",
       " ('dolly', 5),\n",
       " ('elaine', 6),\n",
       " ('francine', 8),\n",
       " ('geraldine', 9)]"
      ]
     },
     "execution_count": 3,
     "metadata": {},
     "output_type": "execute_result"
    }
   ],
   "source": [
    "names_length_pairs = [ ( name, len(name) ) for name in girl_names]\n",
    "names_length_pairs"
   ]
  },
  {
   "cell_type": "markdown",
   "metadata": {},
   "source": [
    "A useful feature is adding a conditional. The following makes a new list only containing the \"long\" names:"
   ]
  },
  {
   "cell_type": "code",
   "execution_count": 4,
   "metadata": {},
   "outputs": [
    {
     "data": {
      "text/plain": [
       "['beatrice', 'francine', 'geraldine']"
      ]
     },
     "execution_count": 4,
     "metadata": {},
     "output_type": "execute_result"
    }
   ],
   "source": [
    "only_long_names = [ name for name in girl_names if len(name) > 6 ]\n",
    "only_long_names"
   ]
  },
  {
   "cell_type": "markdown",
   "metadata": {},
   "source": [
    "Functions\n",
    "======\n",
    "\n",
    "Functions allow for the easy reuse of bits of code. They take parameters/input, and can **return** a result. \n",
    "\n",
    "\n",
    "## Defining a function.  Example: Say hello\n",
    "Functions are defined using the **def** keyword. \n",
    "We define a function that takes *name* as parameter, and returns a greeting for that name:"
   ]
  },
  {
   "cell_type": "code",
   "execution_count": 1,
   "metadata": {},
   "outputs": [],
   "source": [
    "def say_hello_to(name):\n",
    "    return \"Hello \" + name + \"!\"\n",
    "\n"
   ]
  },
  {
   "cell_type": "code",
   "execution_count": 2,
   "metadata": {},
   "outputs": [
    {
     "data": {
      "text/plain": [
       "'Hello World!'"
      ]
     },
     "execution_count": 2,
     "metadata": {},
     "output_type": "execute_result"
    }
   ],
   "source": [
    "say_hello_to(\"World\")"
   ]
  },
  {
   "cell_type": "markdown",
   "metadata": {},
   "source": [
    "## 'Calling' a function\n",
    "\n",
    "We can now call this function with different inputs. Make sure you understand the output of the function given its definition and the values of the parameters."
   ]
  },
  {
   "cell_type": "code",
   "execution_count": 3,
   "metadata": {},
   "outputs": [
    {
     "data": {
      "text/plain": [
       "'Hello Gary!'"
      ]
     },
     "execution_count": 3,
     "metadata": {},
     "output_type": "execute_result"
    }
   ],
   "source": [
    "say_hello_to(\"Gary\")"
   ]
  },
  {
   "cell_type": "code",
   "execution_count": 4,
   "metadata": {},
   "outputs": [
    {
     "data": {
      "text/plain": [
       "'Hello Alice!'"
      ]
     },
     "execution_count": 4,
     "metadata": {},
     "output_type": "execute_result"
    }
   ],
   "source": [
    "say_hello_to(\"Alice\")"
   ]
  },
  {
   "cell_type": "code",
   "execution_count": 5,
   "metadata": {},
   "outputs": [
    {
     "data": {
      "text/plain": [
       "'Hello Crocubot!'"
      ]
     },
     "execution_count": 5,
     "metadata": {},
     "output_type": "execute_result"
    }
   ],
   "source": [
    "say_hello_to(\"Crocubot\")"
   ]
  },
  {
   "cell_type": "markdown",
   "metadata": {},
   "source": [
    "## Example: Divisible by 11\n",
    "We define a function that takes *number* as input and *returns* whether or not the number is divisible by 11"
   ]
  },
  {
   "cell_type": "code",
   "execution_count": 6,
   "metadata": {},
   "outputs": [],
   "source": [
    "def is_divisible_by_11(number):\n",
    "    return number % 11 == 0"
   ]
  },
  {
   "cell_type": "markdown",
   "metadata": {},
   "source": [
    "Lets check which numbers of 10,11,12,...,24 are divisible by 11"
   ]
  },
  {
   "cell_type": "code",
   "execution_count": 7,
   "metadata": {},
   "outputs": [
    {
     "name": "stdout",
     "output_type": "stream",
     "text": [
      "10 is divisible by 11 :  False\n",
      "11 is divisible by 11 :  True\n",
      "12 is divisible by 11 :  False\n",
      "13 is divisible by 11 :  False\n",
      "14 is divisible by 11 :  False\n",
      "15 is divisible by 11 :  False\n",
      "16 is divisible by 11 :  False\n",
      "17 is divisible by 11 :  False\n",
      "18 is divisible by 11 :  False\n",
      "19 is divisible by 11 :  False\n",
      "20 is divisible by 11 :  False\n",
      "21 is divisible by 11 :  False\n",
      "22 is divisible by 11 :  True\n",
      "23 is divisible by 11 :  False\n",
      "24 is divisible by 11 :  False\n"
     ]
    }
   ],
   "source": [
    "\n",
    "for number in range(10, 25):\n",
    "    print(number, \"is divisible by 11 : \", is_divisible_by_11(number))"
   ]
  },
  {
   "cell_type": "markdown",
   "metadata": {},
   "source": [
    "## Example: Checking primality\n",
    "\n",
    "\n",
    "We define a function that checks whether or not a number is prime, named ``is_prime``\n",
    "\n",
    "```\n",
    "Name: is_prime\n",
    "\n",
    "Input: \n",
    "  A natural number n.\n",
    "    \n",
    "Output: \n",
    "   True if n is a prime number.\n",
    "   False if n is not a prime number.\n",
    "   \n",
    "\n",
    "\n",
    "\n",
    "```\n",
    "It is very important to understand the definition of the term *prime number*. Before starting! How do we know whether or not a number is prime or not? We need to check whether it has any divisors other than 1 and itself.\n",
    "\n"
   ]
  },
  {
   "cell_type": "code",
   "execution_count": 8,
   "metadata": {},
   "outputs": [],
   "source": [
    "def is_prime(n):\n",
    "    if n <= 1:\n",
    "        return False\n",
    "    \n",
    "    else:\n",
    "        for i in range(2,n):  # for all the numbers i in {2,...,n-1},\n",
    "            if n % i == 0:    # if the remainder when dividing n by i is zero, ...\n",
    "                return False  # ... then we know that i is a divisor of n, so n is not prime. \n",
    "            \n",
    "        \n",
    "        return True           # If we did not find any divisor, then we know n is prime.\n",
    "             \n",
    "    \n",
    "    "
   ]
  },
  {
   "cell_type": "markdown",
   "metadata": {},
   "source": [
    "We check a few known cases:"
   ]
  },
  {
   "cell_type": "code",
   "execution_count": 9,
   "metadata": {},
   "outputs": [
    {
     "name": "stdout",
     "output_type": "stream",
     "text": [
      "4 is prime? : False\n",
      "6 is prime? : False\n",
      "8 is prime? : False\n",
      "25 is prime? : False\n",
      "100 is prime? : False\n",
      "81 is prime? : False\n",
      "1000 is prime? : False\n",
      "49 is prime? : False\n"
     ]
    }
   ],
   "source": [
    "non_primes = [4, 6, 8, 25, 100, 81, 1000, 49]\n",
    "for i in non_primes:\n",
    "    print(str(i) + \" is prime? :\", is_prime(i))\n"
   ]
  },
  {
   "cell_type": "code",
   "execution_count": 10,
   "metadata": {},
   "outputs": [
    {
     "name": "stdout",
     "output_type": "stream",
     "text": [
      "2 is prime? : True\n",
      "5 is prime? : True\n",
      "7 is prime? : True\n",
      "11 is prime? : True\n",
      "13 is prime? : True\n",
      "59 is prime? : True\n",
      "101 is prime? : True\n",
      "103 is prime? : True\n",
      "109 is prime? : True\n"
     ]
    }
   ],
   "source": [
    "primes = [2, 5, 7, 11, 13, 59, 101, 103, 109]\n",
    "for i in primes:\n",
    "    print(str(i) + \" is prime? :\", is_prime(i))\n"
   ]
  },
  {
   "cell_type": "markdown",
   "metadata": {},
   "source": [
    "### Example: Combining `is_prime` with a list comprehension\n",
    "\n",
    "We can now easily construct a list of prime numbers from 900 to 1000 using a conditional list comprehension.\n",
    "\n"
   ]
  },
  {
   "cell_type": "code",
   "execution_count": 11,
   "metadata": {},
   "outputs": [],
   "source": [
    "primes_from_900_to_1000 = [n for n in range(900, 1001) if is_prime(n)]"
   ]
  },
  {
   "cell_type": "code",
   "execution_count": 12,
   "metadata": {},
   "outputs": [
    {
     "data": {
      "text/plain": [
       "[907, 911, 919, 929, 937, 941, 947, 953, 967, 971, 977, 983, 991, 997]"
      ]
     },
     "execution_count": 12,
     "metadata": {},
     "output_type": "execute_result"
    }
   ],
   "source": [
    "primes_from_900_to_1000"
   ]
  },
  {
   "cell_type": "markdown",
   "metadata": {},
   "source": [
    "## Example: The Collatz function\n",
    "\n",
    "Example: We define the *collatz* function according to the following specification. \n",
    "\n",
    "\n",
    "```\n",
    "Name: collatz\n",
    "\n",
    "Input:\n",
    "    A natural number n\n",
    "    \n",
    "Output:\n",
    "    If n == 1, then return 1.\n",
    "    If n is even, then return n divided by 2.\n",
    "    If n is odd, then return 3n+1.\n",
    "```\n",
    "    "
   ]
  },
  {
   "cell_type": "code",
   "execution_count": 13,
   "metadata": {},
   "outputs": [],
   "source": [
    "def collatz(number):\n",
    "    if number  == 1:\n",
    "        return number\n",
    "    elif number % 2 == 0: \n",
    "        return number // 2\n",
    "    else:\n",
    "        return 3*number + 1\n",
    "    \n"
   ]
  },
  {
   "cell_type": "markdown",
   "metadata": {},
   "source": [
    "Let's try it out on 3,11,24 and 65"
   ]
  },
  {
   "cell_type": "code",
   "execution_count": 24,
   "metadata": {},
   "outputs": [
    {
     "name": "stdout",
     "output_type": "stream",
     "text": [
      "collatz(3)  =  10\n",
      "collatz(11)  =  34\n",
      "collatz(24)  =  12\n",
      "collatz(65)  =  196\n"
     ]
    }
   ],
   "source": [
    "for n in [3, 11, 24, 65]:\n",
    "    print(\"collatz(\"+str(n)+\")\", \" = \",collatz(n))"
   ]
  },
  {
   "cell_type": "markdown",
   "metadata": {},
   "source": [
    "Let's repeatedly apply the collatz function to a number using a while loop. We always tend to get back to 1... why is that?\n",
    "\n",
    "See https://en.wikipedia.org/wiki/Collatz_conjecture"
   ]
  },
  {
   "cell_type": "code",
   "execution_count": 15,
   "metadata": {},
   "outputs": [
    {
     "name": "stdout",
     "output_type": "stream",
     "text": [
      "46\n",
      "23\n",
      "70\n",
      "35\n",
      "106\n",
      "53\n",
      "160\n",
      "80\n",
      "40\n",
      "20\n",
      "10\n",
      "5\n",
      "16\n",
      "8\n",
      "4\n",
      "2\n",
      "1\n"
     ]
    }
   ],
   "source": [
    "current_number = 15\n",
    "while current_number != 1:    \n",
    "    current_number = collatz(current_number)\n",
    "    print(current_number)"
   ]
  },
  {
   "cell_type": "markdown",
   "metadata": {},
   "source": [
    "Making functions with lambda expressions\n",
    "----------------"
   ]
  },
  {
   "cell_type": "markdown",
   "metadata": {},
   "source": [
    "Very simple functions can be defined using *lambda* expressions. We've already briefly encountered lambda expressions in the section on sorting."
   ]
  },
  {
   "cell_type": "code",
   "execution_count": 16,
   "metadata": {},
   "outputs": [],
   "source": [
    "\n",
    "f = lambda x: 3*x"
   ]
  },
  {
   "cell_type": "markdown",
   "metadata": {},
   "source": [
    "Make sure you understand why f(4)=12"
   ]
  },
  {
   "cell_type": "code",
   "execution_count": 17,
   "metadata": {},
   "outputs": [
    {
     "data": {
      "text/plain": [
       "12"
      ]
     },
     "execution_count": 17,
     "metadata": {},
     "output_type": "execute_result"
    }
   ],
   "source": [
    "f(4)"
   ]
  },
  {
   "cell_type": "markdown",
   "metadata": {},
   "source": [
    "...and f('a')='aaa'"
   ]
  },
  {
   "cell_type": "code",
   "execution_count": 18,
   "metadata": {},
   "outputs": [
    {
     "data": {
      "text/plain": [
       "'aaa'"
      ]
     },
     "execution_count": 18,
     "metadata": {},
     "output_type": "execute_result"
    }
   ],
   "source": [
    "\n",
    "f(\"a\")"
   ]
  },
  {
   "cell_type": "markdown",
   "metadata": {},
   "source": [
    "docstrings\n",
    "----------------"
   ]
  },
  {
   "cell_type": "markdown",
   "metadata": {},
   "source": [
    "One's code is usually used by other people. These people might need to know what a function you wrote does. One may do this by writing a short explanation in a *docstring* in the first line of the function definition. This can be accessed by calling the help function on an object."
   ]
  },
  {
   "cell_type": "code",
   "execution_count": 19,
   "metadata": {},
   "outputs": [],
   "source": [
    "\n",
    "def fibonacci_undocumented(n):\n",
    "    if n == 1:\n",
    "        return 1\n",
    "    elif n == 2:\n",
    "        return 1\n",
    "    else:\n",
    "        return fibonacci(n-1) + fibonacci(n-2)\n"
   ]
  },
  {
   "cell_type": "markdown",
   "metadata": {},
   "source": [
    "No help is forthcoming..."
   ]
  },
  {
   "cell_type": "code",
   "execution_count": 20,
   "metadata": {
    "scrolled": true
   },
   "outputs": [
    {
     "name": "stdout",
     "output_type": "stream",
     "text": [
      "Help on function fibonacci_undocumented in module __main__:\n",
      "\n",
      "fibonacci_undocumented(n)\n",
      "\n"
     ]
    }
   ],
   "source": [
    "help(fibonacci_undocumented)"
   ]
  },
  {
   "cell_type": "markdown",
   "metadata": {},
   "source": [
    "... unless we give it:"
   ]
  },
  {
   "cell_type": "code",
   "execution_count": 21,
   "metadata": {},
   "outputs": [],
   "source": [
    "def fibonacci(n):\n",
    "    \"\"\"\n",
    "    Returns the nth fibonacci number. \n",
    "    \n",
    "    Input: n\n",
    "    Output: the nth fibonacci number\n",
    "    \n",
    "    E.g.fibonacci(1) = 1\n",
    "        fibonacci(2) = 1\n",
    "        fibonacci(3) = 2\n",
    "        ...\n",
    "    \"\"\"\n",
    "    if n == 1:\n",
    "        return 1\n",
    "    elif n == 2:\n",
    "        return 1\n",
    "    else:\n",
    "        return fibonacci(n-1) + fibonacci(n-2)"
   ]
  },
  {
   "cell_type": "code",
   "execution_count": 22,
   "metadata": {
    "scrolled": true
   },
   "outputs": [
    {
     "name": "stdout",
     "output_type": "stream",
     "text": [
      "Help on function fibonacci in module __main__:\n",
      "\n",
      "fibonacci(n)\n",
      "    Returns the nth fibonacci number. \n",
      "    \n",
      "    Input: n\n",
      "    Output: the nth fibonacci number\n",
      "    \n",
      "    E.g.fibonacci(1) = 1\n",
      "        fibonacci(2) = 1\n",
      "        fibonacci(3) = 2\n",
      "        ...\n",
      "\n"
     ]
    }
   ],
   "source": [
    "help(fibonacci)"
   ]
  },
  {
   "cell_type": "markdown",
   "metadata": {},
   "source": [
    "Recursion\n",
    "======"
   ]
  },
  {
   "cell_type": "markdown",
   "metadata": {},
   "source": [
    "Recursion is what happens when a functon **calls itself**. \n",
    "\n",
    "## Example: Fibonacci numbers (recursive)\n",
    "A good example of recursion is the process of generating Fibonacci numbers $1,1,2,3,5,8,13,21,34,55,\\ldots$. These are formally defined as the sequence $(f_n)$ with $f_0:=1$, $f_1:=1$ and $f_n:=f_{n-1}+f_{n-2}$ for all $n\\in \\{2,3,4,5\\ldots\\}$\n",
    "\n",
    "We define a function `fibonacci_recursive` that in input $n$, computes and returns the value of $f_n$.\n",
    "\n",
    "Pay attention how the following function calls itself:"
   ]
  },
  {
   "cell_type": "code",
   "execution_count": 1,
   "metadata": {},
   "outputs": [],
   "source": [
    "\n",
    "def fibonacci_recursive(n):\n",
    "    if n == 0:\n",
    "        return 1\n",
    "    elif n == 1:\n",
    "        return 1\n",
    "    else:\n",
    "        return fibonacci_recursive(n-1) + fibonacci_recursive(n-2) #<--- Notice! \n",
    "\n",
    "    "
   ]
  },
  {
   "cell_type": "markdown",
   "metadata": {},
   "source": [
    "Let's compute the first 20 fibonacci numbers"
   ]
  },
  {
   "cell_type": "code",
   "execution_count": 2,
   "metadata": {},
   "outputs": [
    {
     "name": "stdout",
     "output_type": "stream",
     "text": [
      "f_0 = 1\n",
      "f_1 = 1\n",
      "f_2 = 2\n",
      "f_3 = 3\n",
      "f_4 = 5\n",
      "f_5 = 8\n",
      "f_6 = 13\n",
      "f_7 = 21\n",
      "f_8 = 34\n",
      "f_9 = 55\n",
      "f_10 = 89\n",
      "f_11 = 144\n",
      "f_12 = 233\n",
      "f_13 = 377\n",
      "f_14 = 610\n",
      "f_15 = 987\n",
      "f_16 = 1597\n",
      "f_17 = 2584\n",
      "f_18 = 4181\n",
      "f_19 = 6765\n"
     ]
    }
   ],
   "source": [
    "\n",
    "for i in range(0,20):\n",
    "    print(\"f_\"+str(i)+\" =\", fibonacci_recursive(i))"
   ]
  },
  {
   "cell_type": "markdown",
   "metadata": {},
   "source": [
    "## Example: Fibonacci numbers (non-recursive)\n",
    "\n",
    "For the purposes of illustration we implement the same specification, but non-recursively. We will call this function ``fibonacci_non_recursive``, and will do this by constructing a list of fibonacci numbers instead of calling the function itself."
   ]
  },
  {
   "cell_type": "code",
   "execution_count": 3,
   "metadata": {},
   "outputs": [],
   "source": [
    "def fibonacci_non_recursive(n):\n",
    "    fib_numbers = [1,1]       \n",
    "    for i in range(2, n+1):\n",
    "        fib_numbers.append( fib_numbers[i-1] + fib_numbers[i - 2] )\n",
    "    \n",
    "    return fib_numbers[n]"
   ]
  },
  {
   "cell_type": "markdown",
   "metadata": {},
   "source": [
    "Let's again compute the first 20 fibonacci numbers"
   ]
  },
  {
   "cell_type": "code",
   "execution_count": 4,
   "metadata": {},
   "outputs": [
    {
     "name": "stdout",
     "output_type": "stream",
     "text": [
      "f_0 = 1\n",
      "f_1 = 1\n",
      "f_2 = 2\n",
      "f_3 = 3\n",
      "f_4 = 5\n",
      "f_5 = 8\n",
      "f_6 = 13\n",
      "f_7 = 21\n",
      "f_8 = 34\n",
      "f_9 = 55\n",
      "f_10 = 89\n",
      "f_11 = 144\n",
      "f_12 = 233\n",
      "f_13 = 377\n",
      "f_14 = 610\n",
      "f_15 = 987\n",
      "f_16 = 1597\n",
      "f_17 = 2584\n",
      "f_18 = 4181\n",
      "f_19 = 6765\n"
     ]
    }
   ],
   "source": [
    "\n",
    "for i in range(0,20):\n",
    "    print(\"f_\"+str(i)+\" =\", fibonacci_non_recursive(i))"
   ]
  },
  {
   "cell_type": "markdown",
   "metadata": {},
   "source": [
    "## Analysis: Recursive vs Non-recursive Fibonacci numbers "
   ]
  },
  {
   "cell_type": "markdown",
   "metadata": {},
   "source": [
    "Let us try computing some large fibonacci numbers. "
   ]
  },
  {
   "cell_type": "code",
   "execution_count": 5,
   "metadata": {},
   "outputs": [
    {
     "data": {
      "text/plain": [
       "39088169"
      ]
     },
     "execution_count": 5,
     "metadata": {},
     "output_type": "execute_result"
    }
   ],
   "source": [
    "fibonacci_non_recursive(37)  # instant"
   ]
  },
  {
   "cell_type": "code",
   "execution_count": 6,
   "metadata": {},
   "outputs": [
    {
     "data": {
      "text/plain": [
       "39088169"
      ]
     },
     "execution_count": 6,
     "metadata": {},
     "output_type": "execute_result"
    }
   ],
   "source": [
    "fibonacci_recursive(37)  # takes a few seconds"
   ]
  },
  {
   "cell_type": "code",
   "execution_count": 7,
   "metadata": {},
   "outputs": [
    {
     "data": {
      "text/plain": [
       "70330367711422815821835254877183549770181269836358732742604905087154537118196933579742249494562611733487750449241765991088186363265450223647106012053374121273867339111198139373125598767690091902245245323403501"
      ]
     },
     "execution_count": 7,
     "metadata": {},
     "output_type": "execute_result"
    }
   ],
   "source": [
    "fibonacci_non_recursive(1000)  # instant"
   ]
  },
  {
   "cell_type": "code",
   "execution_count": 8,
   "metadata": {},
   "outputs": [
    {
     "ename": "RecursionError",
     "evalue": "maximum recursion depth exceeded in comparison",
     "output_type": "error",
     "traceback": [
      "\u001b[0;31m---------------------------------------------------------------------------\u001b[0m",
      "\u001b[0;31mRecursionError\u001b[0m                            Traceback (most recent call last)",
      "\u001b[0;32m<ipython-input-8-fe914d1729d7>\u001b[0m in \u001b[0;36m<module>\u001b[0;34m()\u001b[0m\n\u001b[0;32m----> 1\u001b[0;31m \u001b[0mfibonacci_recursive\u001b[0m\u001b[0;34m(\u001b[0m\u001b[0;36m1000\u001b[0m\u001b[0;34m)\u001b[0m   \u001b[0;31m# Fails!\u001b[0m\u001b[0;34m\u001b[0m\u001b[0;34m\u001b[0m\u001b[0m\n\u001b[0m",
      "\u001b[0;32m<ipython-input-1-fe726392d6db>\u001b[0m in \u001b[0;36mfibonacci_recursive\u001b[0;34m(n)\u001b[0m\n\u001b[1;32m      6\u001b[0m         \u001b[0;32mreturn\u001b[0m \u001b[0;36m1\u001b[0m\u001b[0;34m\u001b[0m\u001b[0;34m\u001b[0m\u001b[0m\n\u001b[1;32m      7\u001b[0m     \u001b[0;32melse\u001b[0m\u001b[0;34m:\u001b[0m\u001b[0;34m\u001b[0m\u001b[0;34m\u001b[0m\u001b[0m\n\u001b[0;32m----> 8\u001b[0;31m         \u001b[0;32mreturn\u001b[0m \u001b[0mfibonacci_recursive\u001b[0m\u001b[0;34m(\u001b[0m\u001b[0mn\u001b[0m\u001b[0;34m-\u001b[0m\u001b[0;36m1\u001b[0m\u001b[0;34m)\u001b[0m \u001b[0;34m+\u001b[0m \u001b[0mfibonacci_recursive\u001b[0m\u001b[0;34m(\u001b[0m\u001b[0mn\u001b[0m\u001b[0;34m-\u001b[0m\u001b[0;36m2\u001b[0m\u001b[0;34m)\u001b[0m \u001b[0;31m#<--- Notice!\u001b[0m\u001b[0;34m\u001b[0m\u001b[0;34m\u001b[0m\u001b[0m\n\u001b[0m\u001b[1;32m      9\u001b[0m \u001b[0;34m\u001b[0m\u001b[0m\n\u001b[1;32m     10\u001b[0m \u001b[0;34m\u001b[0m\u001b[0m\n",
      "... last 1 frames repeated, from the frame below ...\n",
      "\u001b[0;32m<ipython-input-1-fe726392d6db>\u001b[0m in \u001b[0;36mfibonacci_recursive\u001b[0;34m(n)\u001b[0m\n\u001b[1;32m      6\u001b[0m         \u001b[0;32mreturn\u001b[0m \u001b[0;36m1\u001b[0m\u001b[0;34m\u001b[0m\u001b[0;34m\u001b[0m\u001b[0m\n\u001b[1;32m      7\u001b[0m     \u001b[0;32melse\u001b[0m\u001b[0;34m:\u001b[0m\u001b[0;34m\u001b[0m\u001b[0;34m\u001b[0m\u001b[0m\n\u001b[0;32m----> 8\u001b[0;31m         \u001b[0;32mreturn\u001b[0m \u001b[0mfibonacci_recursive\u001b[0m\u001b[0;34m(\u001b[0m\u001b[0mn\u001b[0m\u001b[0;34m-\u001b[0m\u001b[0;36m1\u001b[0m\u001b[0;34m)\u001b[0m \u001b[0;34m+\u001b[0m \u001b[0mfibonacci_recursive\u001b[0m\u001b[0;34m(\u001b[0m\u001b[0mn\u001b[0m\u001b[0;34m-\u001b[0m\u001b[0;36m2\u001b[0m\u001b[0;34m)\u001b[0m \u001b[0;31m#<--- Notice!\u001b[0m\u001b[0;34m\u001b[0m\u001b[0;34m\u001b[0m\u001b[0m\n\u001b[0m\u001b[1;32m      9\u001b[0m \u001b[0;34m\u001b[0m\u001b[0m\n\u001b[1;32m     10\u001b[0m \u001b[0;34m\u001b[0m\u001b[0m\n",
      "\u001b[0;31mRecursionError\u001b[0m: maximum recursion depth exceeded in comparison"
     ]
    }
   ],
   "source": [
    "fibonacci_recursive(1000)   # Fails!\n",
    "\n",
    "\n",
    "\n",
    "\n"
   ]
  },
  {
   "cell_type": "markdown",
   "metadata": {},
   "source": [
    "```\n",
    "\n",
    "\n",
    "\n",
    "\n",
    "\n",
    "--------------------------------------------------\n",
    "\n",
    "\n",
    "\n",
    "\n",
    "--\n",
    "```\n",
    "Calling our recursive implementation with input 1000 fails. Why? Consider the number of calls to `fibonacci_recursive` when we call `fibonacci_recursive(1000)`: Every call to `fibonacci_recursive` calls `fibonacci_recursive` two more times. See the digram below:"
   ]
  },
  {
   "cell_type": "markdown",
   "metadata": {},
   "source": [
    "```\n",
    "fibonacci_recursive(1000) --- fibonacci_recursive(999) --- fibonacci_recursive(998)...\n",
    "                      \\                            \\\n",
    "                       \\                            \\  \n",
    "                        \\                            fibonacci_recursive(997)...\n",
    "                         \\\n",
    "                         fibonacci_recursive(998) --- fibonacci_recursive(997)...\n",
    "                           \\\n",
    "                            \\\n",
    "                            fibonacci_recursive(996)....\n",
    "\n",
    "\n",
    "\n",
    "\n",
    "```  "
   ]
  },
  {
   "cell_type": "markdown",
   "metadata": {},
   "source": [
    "Therefore `fibonacci_recursive(1000)` will make (roughly) $2^{1000}$ calls to the function `fibonacci_recursive` and $2^{1000}$ is quite a large number."
   ]
  },
  {
   "cell_type": "code",
   "execution_count": 9,
   "metadata": {},
   "outputs": [
    {
     "data": {
      "text/plain": [
       "10715086071862673209484250490600018105614048117055336074437503883703510511249361224931983788156958581275946729175531468251871452856923140435984577574698574803934567774824230985421074605062371141877954182153046474983581941267398767559165543946077062914571196477686542167660429831652624386837205668069376"
      ]
     },
     "execution_count": 9,
     "metadata": {},
     "output_type": "execute_result"
    }
   ],
   "source": [
    "2**1000"
   ]
  },
  {
   "cell_type": "markdown",
   "metadata": {},
   "source": [
    "Compare this to `fibonacci_non_recursive(1000).` Starting from a list with length two, to construct the next fibonacci number we add the last two numbers in the list and append it to the list. In the end the list will have 1001 elements, so our function only does $1001-2 = 999$ additions. Compared to $2^{1000}$ function calls in the recursive case, 999 additions is far fewer operations to perform.\n",
    "\n",
    "\n",
    "**Important!** Recursion is not inherently slow! Our choice to use recursion in this particular case is the problem. There are cases where recursion is the correct choice and results in efficient and elegant algorithms (see quicksort and bubblesort below). "
   ]
  },
  {
   "cell_type": "markdown",
   "metadata": {},
   "source": [
    "## Example: Quicksort (recursive)"
   ]
  },
  {
   "cell_type": "markdown",
   "metadata": {},
   "source": [
    "As another example of recursion we implement the quicksort algorithm (https://en.wikipedia.org/wiki/Quicksort). **Warning:**  (This example is only for illustration. In practice we should not implement our own sorting algorithm but rather use the built in `sorted` function that is part of the python language (See the chapter on lists). Furthermore, the implementation presented here is also not as efficient as it can be, but is designed to be as simple and understandable as it can be)\n",
    "\n",
    "\n",
    "\n",
    "The idea of the `quicksort` algorithm is as follows. Suppose you have a queue of people that you want to sort from short to tall, finally with shortest on the left, tallest on the right. \n",
    "\n",
    "    1. Take the first person, call them P. \n",
    "    Put all people shorter than P to the left of P. \n",
    "    Put all people taller than P to the right of P.\n",
    "\n",
    "    2. Sort the left group of people.\n",
    "    3. Sort the right group of people.\n",
    "    \n",
    "\n",
    "The idea is to repeateatedly perform the same process from step 1., keeping in mind that once we get a group with zero or one person in it, the group is automatically sorted.\n",
    "    \n",
    "\n",
    "\n",
    "We first give its specification:\n",
    "\n",
    "```\n",
    "Name : quicksort\n",
    "\n",
    "Input:\n",
    "    L : A list of unique numbers in any order.\n",
    "    \n",
    "    \n",
    "Output:\n",
    "    A list containing all the numbers in the input list L\n",
    "    in ascending order.\n",
    "    \n",
    "    \n",
    " ------------------------\n",
    "        \n",
    "```\n",
    "\n",
    "\n",
    "Implementation of `quicksort` in pseudo code:\n",
    "\n",
    "```\n",
    "\n",
    "    If L has length 0 or one, \n",
    "        then it is already sorted, so return L\n",
    "\n",
    "    Otherwise:\n",
    "        Set the variable P to take the value of the zeroth element of L        \n",
    "        Make a new list named 'left' containing all the elements strictly smaller than P        \n",
    "        Make a new list 'right' containing all the elements strictly larger than P\n",
    "        \n",
    "        Return the concatenatation the following three lists:\n",
    "            output of quicksort(left)\n",
    "            [P]\n",
    "            output of quicksort(right)\n",
    "        \n",
    "\n",
    "\n",
    "```\n"
   ]
  },
  {
   "cell_type": "code",
   "execution_count": 10,
   "metadata": {},
   "outputs": [],
   "source": [
    "def quicksort(L):\n",
    "    if len(L) == 0 or len(L) == 1: # Lists of length zero or one are already sorted\n",
    "        return L\n",
    "   \n",
    "    else:\n",
    "        P = L[0]\n",
    "        left = [item for item in L if item < P]          \n",
    "        right = [item for item in L if item > P]\n",
    "        return quicksort(left) + [P] + quicksort(right)  # <--- Notice the recursion\n",
    "    "
   ]
  },
  {
   "cell_type": "markdown",
   "metadata": {},
   "source": [
    "Make sure you understand why the implementation above is recursive!\n",
    "\n",
    "We run a few test cases."
   ]
  },
  {
   "cell_type": "code",
   "execution_count": 11,
   "metadata": {},
   "outputs": [
    {
     "data": {
      "text/plain": [
       "[2, 5, 8, 10, 11, 15]"
      ]
     },
     "execution_count": 11,
     "metadata": {},
     "output_type": "execute_result"
    }
   ],
   "source": [
    "quicksort([5,8,2,10,11,15])"
   ]
  },
  {
   "cell_type": "code",
   "execution_count": 12,
   "metadata": {},
   "outputs": [
    {
     "data": {
      "text/plain": [
       "[0, 1, 2, 3, 4, 5, 6, 7, 8, 9, 10, 11, 12, 13, 14, 15, 16, 17, 18, 19]"
      ]
     },
     "execution_count": 12,
     "metadata": {},
     "output_type": "execute_result"
    }
   ],
   "source": [
    "quicksort([8, 19, 10, 12, 1, 0, 16, 6, 11, 7, 17, 18, 14, 13, 15, 4, 5, 2, 3, 9])"
   ]
  },
  {
   "cell_type": "markdown",
   "metadata": {},
   "source": [
    "## Example: Bubblesort (non-recursive)\n",
    "\n",
    "We implement the bubblesort algorithm non-recursively (https://en.wikipedia.org/wiki/Bubble_sort). **Warning:**  (This example is only for illustration. In practice we should not implement our own sorting algorithm but rather use the built in `sorted` function that is part of the python language (See the chapter on lists). Furthermore, the implementation presented here is also not as efficient as it can be, but is designed to be as simple and understandable as it can be).\n",
    "\n",
    "The idea of the `bubblesort` algorithm is as follows. Suppose you have a queue of people that you want to sort from short to tall, finally with shortest on the left, tallest on the right. \n",
    "\n",
    "    0. Position yourself on the leftmost point of the queue facing the people in the queue.\n",
    "    \n",
    "    1. While you haven't reached the rightmost endpoint do the following:\n",
    "            If at your current position the person to the right is shorter than the person in front of you:\n",
    "                swap them and immediately go back to the leftmost end of the queue.\n",
    "        \n",
    "            Otherwise move one step to the right.\n",
    "        \n",
    "       \n",
    "\n",
    "\n",
    "We first give its specification:\n",
    "\n",
    "```\n",
    "Name : bubblesort\n",
    "\n",
    "Input:\n",
    "    L : A list of unique numbers in any order.\n",
    "    \n",
    "    \n",
    "Output:\n",
    "    A list containing all the numbers in the input list L\n",
    "    in ascending order.\n",
    "    \n",
    "    \n",
    "\n",
    "        \n",
    "```\n",
    "Notice how the above specification is exactly the same as `quicksort`, except for the name.\n",
    "\n",
    "\n",
    "Implementation of `bubblesort` in pseudo code:\n",
    "\n",
    "```\n",
    "    \n",
    "    Set 'position' equal to 0\n",
    "    Set 'last_position' equal to the index of the last item in the list L\n",
    "    \n",
    "    While position is strictly less than last_position do the following:\n",
    "        If the position-th element in L is strctly bigger than (position+1)-th element in L then\n",
    "            swap these two elements and set position to equal 0.\n",
    "            \n",
    "        Otherwise, increase position by one.\n",
    "        \n",
    "\n",
    "\n",
    "```\n",
    "       \n"
   ]
  },
  {
   "cell_type": "code",
   "execution_count": 24,
   "metadata": {},
   "outputs": [],
   "source": [
    "def bubblesort(L):\n",
    "    L = L.copy() # This is optional. This line can be deleted.                \n",
    "                 # We do this to have a pure function:\n",
    "                 # https://en.wikipedia.org/wiki/Pure_function\n",
    "                 # Do try to understand the effect of this line\n",
    "                 # and what is meant by a 'side effect'.\n",
    "                \n",
    "    \n",
    "    position = 0\n",
    "    last_position = len(L)-1\n",
    "    while position < last_position:\n",
    "        if L[position] > L[position+1]:                              # If out of order...\n",
    "            L[position], L[position+1] = L[position+1], L[position]  # ... then swap them\n",
    "            position = 0\n",
    "        else:\n",
    "            position += 1\n",
    "    \n",
    "    return L  \n",
    "        \n",
    "        \n",
    "        "
   ]
  },
  {
   "cell_type": "markdown",
   "metadata": {},
   "source": [
    "Make sure you understand why the implementation above is non-recursive!\n",
    "\n",
    "We run a few test cases."
   ]
  },
  {
   "cell_type": "code",
   "execution_count": 14,
   "metadata": {},
   "outputs": [
    {
     "data": {
      "text/plain": [
       "[2, 5, 8, 10, 11, 15]"
      ]
     },
     "execution_count": 14,
     "metadata": {},
     "output_type": "execute_result"
    }
   ],
   "source": [
    "bubblesort([5,8,2,10,11,15])"
   ]
  },
  {
   "cell_type": "code",
   "execution_count": 15,
   "metadata": {},
   "outputs": [
    {
     "data": {
      "text/plain": [
       "[0, 1, 2, 3, 4, 5, 6, 7, 8, 9, 10, 11, 12, 13, 14, 15, 16, 17, 18, 19]"
      ]
     },
     "execution_count": 15,
     "metadata": {},
     "output_type": "execute_result"
    }
   ],
   "source": [
    "bubblesort([8, 19, 10, 12, 1, 0, 16, 6, 11, 7, 17, 18, 14, 13, 15, 4, 5, 2, 3, 9])"
   ]
  },
  {
   "cell_type": "markdown",
   "metadata": {},
   "source": [
    "## Experiment: Which is faster bubblesort (non-recursive) or quicksort (recursive)?"
   ]
  },
  {
   "cell_type": "markdown",
   "metadata": {},
   "source": [
    "We construct a list of 1000 numbers and shuffle them."
   ]
  },
  {
   "cell_type": "code",
   "execution_count": 22,
   "metadata": {},
   "outputs": [],
   "source": [
    "import random\n",
    "L = list(range(10**3))\n",
    "random.shuffle(L)"
   ]
  },
  {
   "cell_type": "markdown",
   "metadata": {},
   "source": [
    "Now compare how long `quicksort` (recursive) takes vs `bubblesort` (non-recursive). "
   ]
  },
  {
   "cell_type": "code",
   "execution_count": null,
   "metadata": {},
   "outputs": [],
   "source": [
    "quicksort(L)   # instant"
   ]
  },
  {
   "cell_type": "code",
   "execution_count": 21,
   "metadata": {},
   "outputs": [],
   "source": [
    "bubblesort(L)  # takes a couple of seconds"
   ]
  },
  {
   "cell_type": "markdown",
   "metadata": {},
   "source": [
    "Compare the outcome with the recursive and non-recursive implementations of our functions that generate **fibonacci numbers**. What you should notice is that sometimes a recursive algorithm is more efficient than a non-recursive algorithm and other times the reverse is true. It is the programmer's job to decide when and when not to use recursion. Sometimes recursion is a good choice, and other times not so good. We can only know which to use by analysing  algorithms and *understanding why* one might be slower than another."
   ]
  },
  {
   "cell_type": "markdown",
   "metadata": {},
   "source": [
    "Logical computation with the 'any' and 'all' functions\n",
    "=====================\n",
    "Sometimes one is required to decide if a number of statements in a list are *all* true. "
   ]
  },
  {
   "cell_type": "code",
   "execution_count": 4,
   "metadata": {},
   "outputs": [
    {
     "data": {
      "text/plain": [
       "True"
      ]
     },
     "execution_count": 4,
     "metadata": {},
     "output_type": "execute_result"
    }
   ],
   "source": [
    "all([True, True, True, True]) # All true? Yes."
   ]
  },
  {
   "cell_type": "code",
   "execution_count": 7,
   "metadata": {},
   "outputs": [
    {
     "data": {
      "text/plain": [
       "False"
      ]
     },
     "execution_count": 7,
     "metadata": {},
     "output_type": "execute_result"
    }
   ],
   "source": [
    "all([True, True, False, True]) # All true? No."
   ]
  },
  {
   "cell_type": "markdown",
   "metadata": {},
   "source": [
    "... and sometimes one is required to decide if *at least one* from a number of statements is true:"
   ]
  },
  {
   "cell_type": "code",
   "execution_count": 15,
   "metadata": {},
   "outputs": [
    {
     "data": {
      "text/plain": [
       "True"
      ]
     },
     "execution_count": 15,
     "metadata": {},
     "output_type": "execute_result"
    }
   ],
   "source": [
    "any([True, False, False, True]) # Is at least one statement true? Yes."
   ]
  },
  {
   "cell_type": "code",
   "execution_count": 10,
   "metadata": {},
   "outputs": [
    {
     "data": {
      "text/plain": [
       "False"
      ]
     },
     "execution_count": 10,
     "metadata": {},
     "output_type": "execute_result"
    }
   ],
   "source": [
    "any([False, False, False, False]) # Is at least one statement true? No."
   ]
  },
  {
   "cell_type": "markdown",
   "metadata": {},
   "source": [
    "*Examples*\n"
   ]
  },
  {
   "cell_type": "markdown",
   "metadata": {},
   "source": [
    "The following examples illustrate how the *all* and *any* functions can be used. "
   ]
  },
  {
   "cell_type": "code",
   "execution_count": 2,
   "metadata": {},
   "outputs": [
    {
     "data": {
      "text/plain": [
       "True"
      ]
     },
     "execution_count": 2,
     "metadata": {},
     "output_type": "execute_result"
    }
   ],
   "source": [
    "# Do *all* the letters \"a\", \"b\", \"l\" occur the phrase \"mary had a little lamb\"? \n",
    "# Yes. So the following evaluates to True.\n",
    "all([letter in \"mary had a little lamb\" for letter in [\"a\", \"b\", \"l\"]])"
   ]
  },
  {
   "cell_type": "code",
   "execution_count": 4,
   "metadata": {},
   "outputs": [
    {
     "data": {
      "text/plain": [
       "False"
      ]
     },
     "execution_count": 4,
     "metadata": {},
     "output_type": "execute_result"
    }
   ],
   "source": [
    "# Do *all* the letters \"a\", \"b\", \"q\" occur the phrase \"the quick brown fox\"?\n",
    "# No. The letter \"a\" does not occur, so the following evaluates to False.\n",
    "all([letter in \"the quick brown fox\" for letter in [\"a\", \"b\", \"q\"]])"
   ]
  },
  {
   "cell_type": "code",
   "execution_count": 7,
   "metadata": {},
   "outputs": [
    {
     "data": {
      "text/plain": [
       "True"
      ]
     },
     "execution_count": 7,
     "metadata": {},
     "output_type": "execute_result"
    }
   ],
   "source": [
    "# Does *at least one* of the letters \"a\", \"b\", \"z\" occur the phrase \"the quick brown fox\"?\n",
    "# Yes. The letter \"b\" occurs, so the following evaluates to True.\n",
    "any([letter in \"the quick brown fox\" for letter in [\"a\", \"b\", \"z\"]])"
   ]
  },
  {
   "cell_type": "code",
   "execution_count": 8,
   "metadata": {},
   "outputs": [
    {
     "data": {
      "text/plain": [
       "False"
      ]
     },
     "execution_count": 8,
     "metadata": {},
     "output_type": "execute_result"
    }
   ],
   "source": [
    "# Does *at least one* of the letters \"z\", \"q\", \"p\" occur the phrase \"mary had a little lamb\"?\n",
    "# No. none of the letters occur, so the following evaluates to True.\n",
    "any([letter in \"mary had a little lamb\" for letter in [\"z\", \"p\", \"q\"]])"
   ]
  },
  {
   "cell_type": "markdown",
   "metadata": {},
   "source": [
    "Challenge: is_prime in one line\n",
    "------------------------------"
   ]
  },
  {
   "cell_type": "markdown",
   "metadata": {},
   "source": [
    "A prime number is a number $n$ that greater than 1, **and** for which \"**not any** of the numbers $\\{2,3,4,\\ldots,n-1\\}$ divide the number $n$\". \n",
    "\n",
    "This can be expressed nearly as clearly in Python using the any function. Try to write a function whose body is one line long and impelements the following specification\n",
    "\n",
    "~~~\n",
    "Function name: is_prime\n",
    "\n",
    "Input:\n",
    "    n : any natural number\n",
    "    \n",
    "Output:\n",
    "    True if n is prime,\n",
    "    False if n is not prime\n",
    "    \n",
    "~~~"
   ]
  },
  {
   "cell_type": "markdown",
   "metadata": {},
   "source": [
    "Computing with lists \n",
    "=============\n",
    "sum, max, min\n",
    "--------------"
   ]
  },
  {
   "cell_type": "markdown",
   "metadata": {},
   "source": [
    "the sum, min and max functions allow for concisely expressing often occuring computations that we might perform on lists.\n",
    "\n",
    "Consider the list:"
   ]
  },
  {
   "cell_type": "code",
   "execution_count": 3,
   "metadata": {},
   "outputs": [],
   "source": [
    "numbers = [3,5,10, 44,100,1,99]"
   ]
  },
  {
   "cell_type": "markdown",
   "metadata": {},
   "source": [
    "...the sum of all the numbers in this list is"
   ]
  },
  {
   "cell_type": "code",
   "execution_count": 4,
   "metadata": {},
   "outputs": [
    {
     "data": {
      "text/plain": [
       "262"
      ]
     },
     "execution_count": 4,
     "metadata": {},
     "output_type": "execute_result"
    }
   ],
   "source": [
    "sum(numbers)"
   ]
  },
  {
   "cell_type": "markdown",
   "metadata": {},
   "source": [
    "... the smallest is"
   ]
  },
  {
   "cell_type": "code",
   "execution_count": 5,
   "metadata": {},
   "outputs": [
    {
     "data": {
      "text/plain": [
       "1"
      ]
     },
     "execution_count": 5,
     "metadata": {},
     "output_type": "execute_result"
    }
   ],
   "source": [
    "min(numbers)"
   ]
  },
  {
   "cell_type": "markdown",
   "metadata": {},
   "source": [
    "... and the largest is"
   ]
  },
  {
   "cell_type": "code",
   "execution_count": 6,
   "metadata": {},
   "outputs": [
    {
     "data": {
      "text/plain": [
       "100"
      ]
     },
     "execution_count": 6,
     "metadata": {},
     "output_type": "execute_result"
    }
   ],
   "source": [
    "max(numbers)"
   ]
  },
  {
   "cell_type": "markdown",
   "metadata": {},
   "source": [
    "Computing with comprehensions: sum\n",
    "-----------"
   ]
  },
  {
   "cell_type": "markdown",
   "metadata": {},
   "source": [
    "We can perform computations with comprehensions. This is useful, because it makes our code easy to read and maintain.\n",
    "\n",
    "We can compute the sum $1+2+3+4+\\ldots+100$:"
   ]
  },
  {
   "cell_type": "code",
   "execution_count": 9,
   "metadata": {},
   "outputs": [
    {
     "data": {
      "text/plain": [
       "5050"
      ]
     },
     "execution_count": 9,
     "metadata": {},
     "output_type": "execute_result"
    }
   ],
   "source": [
    "sum(i for i in range(1, 101)) # Why 101?"
   ]
  },
  {
   "cell_type": "markdown",
   "metadata": {},
   "source": [
    "... or the sum of squares: $1+2^2+3^2+4^2+\\ldots+100^2$:"
   ]
  },
  {
   "cell_type": "code",
   "execution_count": 6,
   "metadata": {},
   "outputs": [
    {
     "data": {
      "text/plain": [
       "338350"
      ]
     },
     "execution_count": 6,
     "metadata": {},
     "output_type": "execute_result"
    }
   ],
   "source": [
    "sum(i**2 for i in range(1, 101))"
   ]
  },
  {
   "cell_type": "markdown",
   "metadata": {},
   "source": [
    "... or the sum of squares of even numbers: $2^2+4^2+6^2+\\ldots+10000^2$:"
   ]
  },
  {
   "cell_type": "code",
   "execution_count": 8,
   "metadata": {},
   "outputs": [
    {
     "data": {
      "text/plain": [
       "166716670000"
      ]
     },
     "execution_count": 8,
     "metadata": {},
     "output_type": "execute_result"
    }
   ],
   "source": [
    "\n",
    "sum(i**2 for i in range(1, 10001)  if i % 2 == 0)"
   ]
  },
  {
   "cell_type": "markdown",
   "metadata": {},
   "source": [
    "Computing with comprehensions: min, max\n",
    "-----------"
   ]
  },
  {
   "cell_type": "markdown",
   "metadata": {},
   "source": [
    "We can also use the max or the min functions with comprehensions.\n",
    "\n",
    "E.g., the smallest square number whose square lies in the interval \\[536,9000\\] is..."
   ]
  },
  {
   "cell_type": "code",
   "execution_count": 3,
   "metadata": {},
   "outputs": [
    {
     "data": {
      "text/plain": [
       "24"
      ]
     },
     "execution_count": 3,
     "metadata": {},
     "output_type": "execute_result"
    }
   ],
   "source": [
    "min(i for i in range(1,9001) if 536 <= i**2 <= 9000 )"
   ]
  },
  {
   "cell_type": "markdown",
   "metadata": {},
   "source": [
    "... and the largest is"
   ]
  },
  {
   "cell_type": "code",
   "execution_count": 4,
   "metadata": {},
   "outputs": [
    {
     "data": {
      "text/plain": [
       "94"
      ]
     },
     "execution_count": 4,
     "metadata": {},
     "output_type": "execute_result"
    }
   ],
   "source": [
    "max(i for i in range(1,9001) if 536 <= i**2 <= 9000 )"
   ]
  },
  {
   "cell_type": "markdown",
   "metadata": {},
   "source": [
    "If we define we can do more advanced searches as well. \n",
    "\n",
    "E.g., finding the smallest prime number in the interval  [536,9000] :"
   ]
  },
  {
   "cell_type": "code",
   "execution_count": 1,
   "metadata": {},
   "outputs": [],
   "source": [
    "def is_prime(n):\n",
    "    return n > 1 and not any (n % j==0 for j in range(2,n)) "
   ]
  },
  {
   "cell_type": "code",
   "execution_count": 2,
   "metadata": {},
   "outputs": [
    {
     "data": {
      "text/plain": [
       "541"
      ]
     },
     "execution_count": 2,
     "metadata": {},
     "output_type": "execute_result"
    }
   ],
   "source": [
    "min(p for p in range(536,9001) if is_prime(p))"
   ]
  },
  {
   "cell_type": "markdown",
   "metadata": {},
   "source": [
    "...and the largest"
   ]
  },
  {
   "cell_type": "code",
   "execution_count": 3,
   "metadata": {},
   "outputs": [
    {
     "data": {
      "text/plain": [
       "8999"
      ]
     },
     "execution_count": 3,
     "metadata": {},
     "output_type": "execute_result"
    }
   ],
   "source": [
    "max(p for p in range(536,9001) if is_prime(p))"
   ]
  },
  {
   "cell_type": "markdown",
   "metadata": {},
   "source": [
    "More computing with min and max\n",
    "------------------"
   ]
  },
  {
   "cell_type": "markdown",
   "metadata": {},
   "source": [
    "We can use min and max with any objects that can be compared, like strings which are compared by their alphabetical order."
   ]
  },
  {
   "cell_type": "code",
   "execution_count": 1,
   "metadata": {},
   "outputs": [],
   "source": [
    "names = [\"randall\", \"jamie\", \"robert\", \"danaeris\",\n",
    "         \"aegon\", \"tyrrion\", \"mother-of-dragons-and-breaker-of-chains\"]"
   ]
  },
  {
   "cell_type": "markdown",
   "metadata": {},
   "source": [
    "The last name alphabetically is"
   ]
  },
  {
   "cell_type": "code",
   "execution_count": 2,
   "metadata": {},
   "outputs": [
    {
     "data": {
      "text/plain": [
       "'tyrrion'"
      ]
     },
     "execution_count": 2,
     "metadata": {},
     "output_type": "execute_result"
    }
   ],
   "source": [
    "max(names)"
   ]
  },
  {
   "cell_type": "markdown",
   "metadata": {},
   "source": [
    "... the first"
   ]
  },
  {
   "cell_type": "code",
   "execution_count": 3,
   "metadata": {},
   "outputs": [
    {
     "data": {
      "text/plain": [
       "'aegon'"
      ]
     },
     "execution_count": 3,
     "metadata": {},
     "output_type": "execute_result"
    }
   ],
   "source": [
    "min(names)"
   ]
  },
  {
   "cell_type": "markdown",
   "metadata": {},
   "source": [
    "... and the longest we can find by using len as a key function (see section on sorting)"
   ]
  },
  {
   "cell_type": "code",
   "execution_count": 4,
   "metadata": {},
   "outputs": [
    {
     "data": {
      "text/plain": [
       "'mother-of-dragons-and-breaker-of-chains'"
      ]
     },
     "execution_count": 4,
     "metadata": {},
     "output_type": "execute_result"
    }
   ],
   "source": [
    "max(names, key=len)"
   ]
  },
  {
   "cell_type": "markdown",
   "metadata": {},
   "source": [
    "...and the shortest "
   ]
  },
  {
   "cell_type": "code",
   "execution_count": 5,
   "metadata": {},
   "outputs": [
    {
     "data": {
      "text/plain": [
       "'jamie'"
      ]
     },
     "execution_count": 5,
     "metadata": {},
     "output_type": "execute_result"
    }
   ],
   "source": [
    "min(names, key=len)"
   ]
  },
  {
   "cell_type": "markdown",
   "metadata": {},
   "source": [
    "... and more advanced, the shortest and alphabetically first"
   ]
  },
  {
   "cell_type": "code",
   "execution_count": 6,
   "metadata": {},
   "outputs": [
    {
     "data": {
      "text/plain": [
       "'aegon'"
      ]
     },
     "execution_count": 6,
     "metadata": {},
     "output_type": "execute_result"
    }
   ],
   "source": [
    "min(names, key=lambda x:(len(x), x))"
   ]
  },
  {
   "cell_type": "markdown",
   "metadata": {},
   "source": [
    "To understand this last example, understand that tuples are compared lexicographically (See https://en.wikipedia.org/wiki/Lexicographical_order)"
   ]
  },
  {
   "cell_type": "markdown",
   "metadata": {},
   "source": [
    "Challenge: greatest_common_divisor in one line\n",
    "-------------------------\n",
    "\n",
    "Use the max funtion and conditional a list comprehension to implement a function according to the following specification and whose body is one line line.\n",
    "\n",
    "~~~\n",
    "Funciton name: greatest_common_divisor\n",
    "\n",
    "Input:\n",
    "    n, m: Natural numbers\n",
    "    \n",
    "Output:\n",
    "    The largest number which divides into both m and n evenly.\n",
    "~~~"
   ]
  },
  {
   "cell_type": "markdown",
   "metadata": {},
   "source": [
    "Dictionaries\n",
    "========"
   ]
  },
  {
   "cell_type": "markdown",
   "metadata": {},
   "source": [
    "Dictionaries are datastructures that map one object to another.  We create a dictionary using the { ... : ... } notation.\n",
    "\n",
    "Consider the dictionary:"
   ]
  },
  {
   "cell_type": "code",
   "execution_count": 1,
   "metadata": {},
   "outputs": [
    {
     "data": {
      "text/plain": [
       "{'alice': 'munro', 'doris': 'lessing', 'john': 'mphako', 'kevin': 'de koker'}"
      ]
     },
     "execution_count": 1,
     "metadata": {},
     "output_type": "execute_result"
    }
   ],
   "source": [
    "surname_dictionary = {\n",
    "    # key   : #value,\n",
    "    \"kevin\" : \"de koker\",\n",
    "    \"john\"  : \"mphako\",\n",
    "    \"alice\" : \"munro\",\n",
    "    \"doris\" : \"lessing\",\n",
    "}\n",
    "surname_dictionary"
   ]
  },
  {
   "cell_type": "markdown",
   "metadata": {},
   "source": [
    "We can access a *value* associated to a specific *key*:"
   ]
  },
  {
   "cell_type": "code",
   "execution_count": 2,
   "metadata": {},
   "outputs": [
    {
     "data": {
      "text/plain": [
       "'de koker'"
      ]
     },
     "execution_count": 2,
     "metadata": {},
     "output_type": "execute_result"
    }
   ],
   "source": [
    "surname_dictionary[\"kevin\"]"
   ]
  },
  {
   "cell_type": "code",
   "execution_count": 3,
   "metadata": {},
   "outputs": [
    {
     "data": {
      "text/plain": [
       "'munro'"
      ]
     },
     "execution_count": 3,
     "metadata": {},
     "output_type": "execute_result"
    }
   ],
   "source": [
    "surname_dictionary[\"alice\"]"
   ]
  },
  {
   "cell_type": "markdown",
   "metadata": {},
   "source": [
    "An error is raised if the key is not in the dictionary:"
   ]
  },
  {
   "cell_type": "code",
   "execution_count": 4,
   "metadata": {},
   "outputs": [
    {
     "ename": "KeyError",
     "evalue": "'bobby'",
     "output_type": "error",
     "traceback": [
      "\u001b[0;31m---------------------------------------------------------------------------\u001b[0m",
      "\u001b[0;31mKeyError\u001b[0m                                  Traceback (most recent call last)",
      "\u001b[0;32m<ipython-input-4-aebb82606656>\u001b[0m in \u001b[0;36m<module>\u001b[0;34m()\u001b[0m\n\u001b[0;32m----> 1\u001b[0;31m \u001b[0msurname_dictionary\u001b[0m\u001b[0;34m[\u001b[0m\u001b[0;34m\"bobby\"\u001b[0m\u001b[0;34m]\u001b[0m\u001b[0;34m\u001b[0m\u001b[0m\n\u001b[0m",
      "\u001b[0;31mKeyError\u001b[0m: 'bobby'"
     ]
    }
   ],
   "source": [
    "surname_dictionary[\"bobby\"]"
   ]
  },
  {
   "cell_type": "markdown",
   "metadata": {},
   "source": [
    "We can ask if a key is in the dictionary:"
   ]
  },
  {
   "cell_type": "code",
   "execution_count": 5,
   "metadata": {},
   "outputs": [
    {
     "data": {
      "text/plain": [
       "True"
      ]
     },
     "execution_count": 5,
     "metadata": {},
     "output_type": "execute_result"
    }
   ],
   "source": [
    "\"kevin\" in surname_dictionary"
   ]
  },
  {
   "cell_type": "code",
   "execution_count": 6,
   "metadata": {},
   "outputs": [
    {
     "data": {
      "text/plain": [
       "False"
      ]
     },
     "execution_count": 6,
     "metadata": {},
     "output_type": "execute_result"
    }
   ],
   "source": [
    "\"bobby\" in surname_dictionary"
   ]
  },
  {
   "cell_type": "markdown",
   "metadata": {},
   "source": [
    "... the *in* operator only checks keys, not values:"
   ]
  },
  {
   "cell_type": "code",
   "execution_count": 7,
   "metadata": {},
   "outputs": [
    {
     "data": {
      "text/plain": [
       "False"
      ]
     },
     "execution_count": 7,
     "metadata": {},
     "output_type": "execute_result"
    }
   ],
   "source": [
    "\"de koker\" in surname_dictionary "
   ]
  },
  {
   "cell_type": "markdown",
   "metadata": {},
   "source": [
    "We can add elements:"
   ]
  },
  {
   "cell_type": "code",
   "execution_count": 8,
   "metadata": {},
   "outputs": [
    {
     "data": {
      "text/plain": [
       "{'alice': 'munro',\n",
       " 'doris': 'lessing',\n",
       " 'john': 'mphako',\n",
       " 'katie': 'van der merwe',\n",
       " 'kevin': 'de koker'}"
      ]
     },
     "execution_count": 8,
     "metadata": {},
     "output_type": "execute_result"
    }
   ],
   "source": [
    "surname_dictionary[\"katie\"] = \"van der merwe\" \n",
    "surname_dictionary"
   ]
  },
  {
   "cell_type": "markdown",
   "metadata": {},
   "source": [
    "... and remove elements:"
   ]
  },
  {
   "cell_type": "code",
   "execution_count": 10,
   "metadata": {},
   "outputs": [
    {
     "data": {
      "text/plain": [
       "{'doris': 'lessing',\n",
       " 'john': 'mphako',\n",
       " 'katie': 'van der merwe',\n",
       " 'kevin': 'de koker'}"
      ]
     },
     "execution_count": 10,
     "metadata": {},
     "output_type": "execute_result"
    }
   ],
   "source": [
    "del surname_dictionary[\"alice\"] \n",
    "surname_dictionary"
   ]
  },
  {
   "cell_type": "markdown",
   "metadata": {},
   "source": [
    "Iterating over a dictionary, iterates over the keys:"
   ]
  },
  {
   "cell_type": "code",
   "execution_count": 11,
   "metadata": {},
   "outputs": [
    {
     "name": "stdout",
     "output_type": "stream",
     "text": [
      "doris\n",
      "john\n",
      "kevin\n",
      "katie\n"
     ]
    }
   ],
   "source": [
    "for key in surname_dictionary:\n",
    "    print(key)"
   ]
  },
  {
   "cell_type": "markdown",
   "metadata": {},
   "source": [
    "... but we can also iterate over the values using *.values()*:"
   ]
  },
  {
   "cell_type": "code",
   "execution_count": 12,
   "metadata": {},
   "outputs": [
    {
     "name": "stdout",
     "output_type": "stream",
     "text": [
      "lessing\n",
      "mphako\n",
      "de koker\n",
      "van der merwe\n"
     ]
    }
   ],
   "source": [
    "for key in surname_dictionary.values():\n",
    "    print(key)"
   ]
  },
  {
   "cell_type": "markdown",
   "metadata": {},
   "source": [
    "... or we can iterate over key-value pairs using *.items()*:"
   ]
  },
  {
   "cell_type": "code",
   "execution_count": 13,
   "metadata": {},
   "outputs": [
    {
     "name": "stdout",
     "output_type": "stream",
     "text": [
      "('doris', 'lessing')\n",
      "('john', 'mphako')\n",
      "('kevin', 'de koker')\n",
      "('katie', 'van der merwe')\n"
     ]
    }
   ],
   "source": [
    "for pair in surname_dictionary.items(): \n",
    "    print(pair)"
   ]
  },
  {
   "cell_type": "markdown",
   "metadata": {},
   "source": [
    "It is often useful to unpack such pairs:"
   ]
  },
  {
   "cell_type": "code",
   "execution_count": 14,
   "metadata": {},
   "outputs": [
    {
     "name": "stdout",
     "output_type": "stream",
     "text": [
      "doris --> l\n",
      "john --> m\n",
      "kevin --> d\n",
      "katie --> v\n"
     ]
    }
   ],
   "source": [
    "for firstname, lastname in surname_dictionary.items():  \n",
    "    print(firstname, \"-->\", lastname[0])"
   ]
  },
  {
   "cell_type": "markdown",
   "metadata": {},
   "source": [
    "Dictionary comprehensions\n",
    "==============="
   ]
  },
  {
   "cell_type": "markdown",
   "metadata": {},
   "source": [
    "Dictionary comprehension is a concise way to construct dictionaries using a for-loop syntax.\n",
    "\n",
    "Consider:"
   ]
  },
  {
   "cell_type": "code",
   "execution_count": 1,
   "metadata": {},
   "outputs": [
    {
     "data": {
      "text/plain": [
       "{'alice': 'munro', 'doris': 'lessing', 'john': 'mphako', 'kevin': 'de koker'}"
      ]
     },
     "execution_count": 1,
     "metadata": {},
     "output_type": "execute_result"
    }
   ],
   "source": [
    "surname_dictionary = {\n",
    "    # key   : #value,\n",
    "    \"kevin\" : \"de koker\",\n",
    "    \"john\" : \"mphako\",\n",
    "    \"alice\" : \"munro\",\n",
    "    \"doris\" : \"lessing\",\n",
    "}\n",
    "surname_dictionary"
   ]
  },
  {
   "cell_type": "markdown",
   "metadata": {},
   "source": [
    "We construct a dictionary which maps a name to the length of the surname."
   ]
  },
  {
   "cell_type": "code",
   "execution_count": 2,
   "metadata": {},
   "outputs": [
    {
     "data": {
      "text/plain": [
       "{'alice': 5, 'doris': 7, 'john': 6, 'kevin': 8}"
      ]
     },
     "execution_count": 2,
     "metadata": {},
     "output_type": "execute_result"
    }
   ],
   "source": [
    "length_of_surname_dictionary = {\n",
    "    firstname : len(lastname) for firstname, lastname in surname_dictionary.items() \n",
    "}\n",
    "length_of_surname_dictionary"
   ]
  },
  {
   "cell_type": "markdown",
   "metadata": {},
   "source": [
    "We construct a dictionary which filtered all items whose last name start with \"m\""
   ]
  },
  {
   "cell_type": "code",
   "execution_count": 3,
   "metadata": {},
   "outputs": [
    {
     "data": {
      "text/plain": [
       "{'alice': 'munro', 'john': 'mphako'}"
      ]
     },
     "execution_count": 3,
     "metadata": {},
     "output_type": "execute_result"
    }
   ],
   "source": [
    "last_name_starts_with_m = {\n",
    "    firstname : lastname \n",
    "        for firstname, lastname in surname_dictionary.items()                            \n",
    "            if \"m\" == lastname[0]\n",
    "}\n",
    "last_name_starts_with_m"
   ]
  },
  {
   "cell_type": "markdown",
   "metadata": {},
   "source": [
    "Importing modules and interactive help\n",
    "========="
   ]
  },
  {
   "cell_type": "markdown",
   "metadata": {},
   "source": [
    "Not all Python functionality is builtin. Extra functionality is provided in *modules*. To use the extra functionality provided by a module we must *import* the module.\n",
    "\n",
    "The syntax for importing modules are:\n",
    "\n",
    "```\n",
    "import ...\n",
    "from ... import ...\n",
    "import ... as ...\n",
    "```\n"
   ]
  },
  {
   "cell_type": "markdown",
   "metadata": {},
   "source": [
    "Let's import the *math* module:"
   ]
  },
  {
   "cell_type": "code",
   "execution_count": 2,
   "metadata": {
    "collapsed": true
   },
   "outputs": [],
   "source": [
    "import math\n"
   ]
  },
  {
   "cell_type": "markdown",
   "metadata": {},
   "source": [
    "We can see what objects the math module provides by calling the *dir* method on it:"
   ]
  },
  {
   "cell_type": "code",
   "execution_count": 3,
   "metadata": {},
   "outputs": [
    {
     "data": {
      "text/plain": [
       "['__doc__',\n",
       " '__loader__',\n",
       " '__name__',\n",
       " '__package__',\n",
       " '__spec__',\n",
       " 'acos',\n",
       " 'acosh',\n",
       " 'asin',\n",
       " 'asinh',\n",
       " 'atan',\n",
       " 'atan2',\n",
       " 'atanh',\n",
       " 'ceil',\n",
       " 'copysign',\n",
       " 'cos',\n",
       " 'cosh',\n",
       " 'degrees',\n",
       " 'e',\n",
       " 'erf',\n",
       " 'erfc',\n",
       " 'exp',\n",
       " 'expm1',\n",
       " 'fabs',\n",
       " 'factorial',\n",
       " 'floor',\n",
       " 'fmod',\n",
       " 'frexp',\n",
       " 'fsum',\n",
       " 'gamma',\n",
       " 'gcd',\n",
       " 'hypot',\n",
       " 'inf',\n",
       " 'isclose',\n",
       " 'isfinite',\n",
       " 'isinf',\n",
       " 'isnan',\n",
       " 'ldexp',\n",
       " 'lgamma',\n",
       " 'log',\n",
       " 'log10',\n",
       " 'log1p',\n",
       " 'log2',\n",
       " 'modf',\n",
       " 'nan',\n",
       " 'pi',\n",
       " 'pow',\n",
       " 'radians',\n",
       " 'sin',\n",
       " 'sinh',\n",
       " 'sqrt',\n",
       " 'tan',\n",
       " 'tanh',\n",
       " 'trunc']"
      ]
     },
     "execution_count": 3,
     "metadata": {},
     "output_type": "execute_result"
    }
   ],
   "source": [
    "\n",
    "dir(math)"
   ]
  },
  {
   "cell_type": "markdown",
   "metadata": {},
   "source": [
    "If we need to know more about an object, then we can the *help* funciton on it:"
   ]
  },
  {
   "cell_type": "code",
   "execution_count": 4,
   "metadata": {},
   "outputs": [
    {
     "name": "stdout",
     "output_type": "stream",
     "text": [
      "Help on built-in function acos in module math:\n",
      "\n",
      "acos(...)\n",
      "    acos(x)\n",
      "    \n",
      "    Return the arc cosine (measured in radians) of x.\n",
      "\n"
     ]
    }
   ],
   "source": [
    "help(math.acos)"
   ]
  },
  {
   "cell_type": "code",
   "execution_count": 6,
   "metadata": {},
   "outputs": [
    {
     "name": "stdout",
     "output_type": "stream",
     "text": [
      "Help on built-in function radians in module math:\n",
      "\n",
      "radians(...)\n",
      "    radians(x)\n",
      "    \n",
      "    Convert angle x from degrees to radians.\n",
      "\n"
     ]
    }
   ],
   "source": [
    "help(math.radians)"
   ]
  },
  {
   "cell_type": "markdown",
   "metadata": {},
   "source": [
    "With the math module imported, we can access its contents and call the functions it defines:"
   ]
  },
  {
   "cell_type": "code",
   "execution_count": 7,
   "metadata": {},
   "outputs": [
    {
     "data": {
      "text/plain": [
       "3.141592653589793"
      ]
     },
     "execution_count": 7,
     "metadata": {},
     "output_type": "execute_result"
    }
   ],
   "source": [
    "math.pi"
   ]
  },
  {
   "cell_type": "code",
   "execution_count": 8,
   "metadata": {},
   "outputs": [
    {
     "data": {
      "text/plain": [
       "3.141592653589793"
      ]
     },
     "execution_count": 8,
     "metadata": {},
     "output_type": "execute_result"
    }
   ],
   "source": [
    "math.acos(-1)"
   ]
  },
  {
   "cell_type": "code",
   "execution_count": 9,
   "metadata": {},
   "outputs": [
    {
     "data": {
      "text/plain": [
       "1.0"
      ]
     },
     "execution_count": 9,
     "metadata": {},
     "output_type": "execute_result"
    }
   ],
   "source": [
    "math.sin(math.radians(90))"
   ]
  },
  {
   "cell_type": "markdown",
   "metadata": {},
   "source": [
    "Sympy\n",
    "===="
   ]
  },
  {
   "cell_type": "markdown",
   "metadata": {},
   "source": [
    "Sympy is an external Python module that allows for symbolic computations like solving equations,  differentiation and integration.\n",
    "\n"
   ]
  },
  {
   "cell_type": "markdown",
   "metadata": {},
   "source": [
    "We import the *sympy* module"
   ]
  },
  {
   "cell_type": "code",
   "execution_count": 2,
   "metadata": {},
   "outputs": [],
   "source": [
    "import sympy"
   ]
  },
  {
   "cell_type": "markdown",
   "metadata": {},
   "source": [
    "If we want to have pretty output inside a Jupyter notebook, we call sympy.init_printing"
   ]
  },
  {
   "cell_type": "code",
   "execution_count": 3,
   "metadata": {
    "collapsed": true
   },
   "outputs": [],
   "source": [
    "sympy.init_printing()"
   ]
  },
  {
   "cell_type": "markdown",
   "metadata": {},
   "source": [
    "We can import standard symbols from the sympy.abc module"
   ]
  },
  {
   "cell_type": "code",
   "execution_count": 5,
   "metadata": {
    "collapsed": true
   },
   "outputs": [],
   "source": [
    "from sympy.abc import x,y"
   ]
  },
  {
   "cell_type": "markdown",
   "metadata": {},
   "source": [
    " With these symbols, we can define an algebraic expression in the variables x and y"
   ]
  },
  {
   "cell_type": "code",
   "execution_count": 6,
   "metadata": {},
   "outputs": [
    {
     "data": {
      "image/png": "[encoded data removed]",
      "text/latex": [
       "$$\\sin{\\left (x^{2} - x + \\operatorname{acos}{\\left (y \\right )} - 1 \\right )}$$"
      ],
      "text/plain": [
       "   ⎛ 2                  ⎞\n",
       "sin⎝x  - x + acos(y) - 1⎠"
      ]
     },
     "execution_count": 6,
     "metadata": {},
     "output_type": "execute_result"
    }
   ],
   "source": [
    "an_expression = sympy.sin(x**2 - x - 1 + sympy.acos(y))\n",
    "an_expression"
   ]
  },
  {
   "cell_type": "markdown",
   "metadata": {},
   "source": [
    "We can define custom symbols using the sympy.symbols function:"
   ]
  },
  {
   "cell_type": "code",
   "execution_count": 3,
   "metadata": {},
   "outputs": [],
   "source": [
    "bob  = sympy.symbols(\"bob\")"
   ]
  },
  {
   "cell_type": "code",
   "execution_count": 7,
   "metadata": {},
   "outputs": [
    {
     "data": {
      "text/latex": [
       "$\\displaystyle 5 bob$"
      ],
      "text/plain": [
       "5*bob"
      ]
     },
     "execution_count": 7,
     "metadata": {},
     "output_type": "execute_result"
    }
   ],
   "source": [
    "bob + bob + 3*bob # should be 5*bob"
   ]
  },
  {
   "cell_type": "markdown",
   "metadata": {},
   "source": [
    "Expanding, factoring and simplifying expressions\n",
    "-----------------------"
   ]
  },
  {
   "cell_type": "markdown",
   "metadata": {
    "collapsed": true
   },
   "source": [
    "We can expand expressions  using sympy.expand"
   ]
  },
  {
   "cell_type": "code",
   "execution_count": 7,
   "metadata": {},
   "outputs": [
    {
     "data": {
      "image/png": "[encoded data removed]",
      "text/latex": [
       "$$x^{2} - 2 x - 24$$"
      ],
      "text/plain": [
       " 2           \n",
       "x  - 2⋅x - 24"
      ]
     },
     "execution_count": 7,
     "metadata": {},
     "output_type": "execute_result"
    }
   ],
   "source": [
    "sympy.expand( (x+4)*(x-6) )"
   ]
  },
  {
   "cell_type": "markdown",
   "metadata": {
    "collapsed": true
   },
   "source": [
    " We can factor expressions using sympy.factor"
   ]
  },
  {
   "cell_type": "code",
   "execution_count": 8,
   "metadata": {},
   "outputs": [
    {
     "data": {
      "image/png": "[encoded data removed]",
      "text/latex": [
       "$$\\left(x - 5\\right) \\left(x + 4\\right)$$"
      ],
      "text/plain": [
       "(x - 5)⋅(x + 4)"
      ]
     },
     "execution_count": 8,
     "metadata": {},
     "output_type": "execute_result"
    }
   ],
   "source": [
    "sympy.factor( x**2-x-20 )"
   ]
  },
  {
   "cell_type": "markdown",
   "metadata": {},
   "source": [
    "We can make more complicated expressions ..."
   ]
  },
  {
   "cell_type": "code",
   "execution_count": 47,
   "metadata": {},
   "outputs": [
    {
     "data": {
      "image/png": "[encoded data removed]",
      "text/latex": [
       "$$\\frac{x^{3} + x^{2} - x - 1}{x^{2} + 2 x + 1}$$"
      ],
      "text/plain": [
       " 3    2        \n",
       "x  + x  - x - 1\n",
       "───────────────\n",
       "   2           \n",
       "  x  + 2⋅x + 1 "
      ]
     },
     "execution_count": 47,
     "metadata": {},
     "output_type": "execute_result"
    }
   ],
   "source": [
    "\n",
    "(x**3 + x**2 - x - 1)/(x**2 + 2*x + 1)"
   ]
  },
  {
   "cell_type": "markdown",
   "metadata": {},
   "source": [
    " ... and simplify them using sympy.simplify"
   ]
  },
  {
   "cell_type": "code",
   "execution_count": 9,
   "metadata": {},
   "outputs": [
    {
     "data": {
      "image/png": "[encoded data removed]",
      "text/latex": [
       "$$x - 1$$"
      ],
      "text/plain": [
       "x - 1"
      ]
     },
     "execution_count": 9,
     "metadata": {},
     "output_type": "execute_result"
    }
   ],
   "source": [
    "\n",
    "sympy.simplify( (x**3 + x**2 - x - 1)/(x**2 + 2*x + 1) )"
   ]
  },
  {
   "cell_type": "markdown",
   "metadata": {},
   "source": [
    "Substituting values into expressions\n",
    "----------------"
   ]
  },
  {
   "cell_type": "markdown",
   "metadata": {},
   "source": [
    "Let's define the quadratic expression $x^2 - x - 1$"
   ]
  },
  {
   "cell_type": "code",
   "execution_count": 10,
   "metadata": {
    "collapsed": true
   },
   "outputs": [],
   "source": [
    "from sympy.abc import x\n",
    "quadratic_expression = x**2 - x - 1"
   ]
  },
  {
   "cell_type": "markdown",
   "metadata": {},
   "source": [
    "... and substitute the value 1 for the symbol $x$ using the .subs function. \n",
    "\n",
    "Notice the dictionary! Make sure you understand why the result is -1."
   ]
  },
  {
   "cell_type": "code",
   "execution_count": 12,
   "metadata": {},
   "outputs": [
    {
     "data": {
      "image/png": "[encoded data removed]",
      "text/latex": [
       "$$-1$$"
      ],
      "text/plain": [
       "-1"
      ]
     },
     "execution_count": 12,
     "metadata": {},
     "output_type": "execute_result"
    }
   ],
   "source": [
    "quadratic_expression.subs({x : 1})\n"
   ]
  },
  {
   "cell_type": "markdown",
   "metadata": {},
   "source": [
    "We substitute the value -2 for the symbol $x$ using the .subs function.   Make sure you understand why the result is 5."
   ]
  },
  {
   "cell_type": "code",
   "execution_count": 15,
   "metadata": {},
   "outputs": [
    {
     "data": {
      "image/png": "[encoded data removed]",
      "text/latex": [
       "$$5$$"
      ],
      "text/plain": [
       "5"
      ]
     },
     "execution_count": 15,
     "metadata": {},
     "output_type": "execute_result"
    }
   ],
   "source": [
    "quadratic_expression.subs({x : -2})\n"
   ]
  },
  {
   "cell_type": "markdown",
   "metadata": {},
   "source": [
    "Solving equations\n",
    "--------------"
   ]
  },
  {
   "cell_type": "markdown",
   "metadata": {},
   "source": [
    "We can solve equations with sympy. \n",
    "\n",
    "WARNING: We cannot use \"=\" or \"==\" to define equations, we must use sympy.Eq.\n",
    "\n",
    "We make the equation $x^2 - x - 1= 0$."
   ]
  },
  {
   "cell_type": "code",
   "execution_count": 17,
   "metadata": {},
   "outputs": [
    {
     "data": {
      "image/png": "[encoded data removed]",
      "text/latex": [
       "$$x^{2} - x - 1 = 0$$"
      ],
      "text/plain": [
       " 2            \n",
       "x  - x - 1 = 0"
      ]
     },
     "execution_count": 17,
     "metadata": {},
     "output_type": "execute_result"
    }
   ],
   "source": [
    "import sympy\n",
    "from sympy.abc import x\n",
    "\n",
    "sympy.Eq(x**2 - x - 1, 0)"
   ]
  },
  {
   "cell_type": "markdown",
   "metadata": {},
   "source": [
    "... and solve for $x$ in this equation by calling the sympy.solve function\n"
   ]
  },
  {
   "cell_type": "code",
   "execution_count": 18,
   "metadata": {},
   "outputs": [
    {
     "data": {
      "image/png": "[encoded data removed]",
      "text/latex": [
       "$$\\left [ \\frac{1}{2} + \\frac{\\sqrt{5}}{2}, \\quad - \\frac{\\sqrt{5}}{2} + \\frac{1}{2}\\right ]$$"
      ],
      "text/plain": [
       "⎡1   √5    √5   1⎤\n",
       "⎢─ + ──, - ── + ─⎥\n",
       "⎣2   2     2    2⎦"
      ]
     },
     "execution_count": 18,
     "metadata": {},
     "output_type": "execute_result"
    }
   ],
   "source": [
    "\n",
    "sympy.solve(sympy.Eq(x**2 - x - 1, 0),  x)"
   ]
  },
  {
   "cell_type": "markdown",
   "metadata": {},
   "source": [
    "... by just providing an expression to sympy.solve, it solves the equation expression=0."
   ]
  },
  {
   "cell_type": "code",
   "execution_count": 19,
   "metadata": {},
   "outputs": [
    {
     "data": {
      "image/png": "[encoded data removed]",
      "text/latex": [
       "$$\\left [ \\frac{1}{2} + \\frac{\\sqrt{5}}{2}, \\quad - \\frac{\\sqrt{5}}{2} + \\frac{1}{2}\\right ]$$"
      ],
      "text/plain": [
       "⎡1   √5    √5   1⎤\n",
       "⎢─ + ──, - ── + ─⎥\n",
       "⎣2   2     2    2⎦"
      ]
     },
     "execution_count": 19,
     "metadata": {},
     "output_type": "execute_result"
    }
   ],
   "source": [
    "\n",
    "sympy.solve(x**2 - x - 1, x)"
   ]
  },
  {
   "cell_type": "code",
   "execution_count": null,
   "metadata": {
    "collapsed": true
   },
   "outputs": [],
   "source": []
  },
  {
   "cell_type": "markdown",
   "metadata": {},
   "source": [
    "\n",
    "We can solve more complicated equations. Let's solve for $\\theta$ in:"
   ]
  },
  {
   "cell_type": "markdown",
   "metadata": {},
   "source": [
    "$\\cos(\\theta) = \\sin(\\theta)$"
   ]
  },
  {
   "cell_type": "markdown",
   "metadata": {},
   "source": [
    "The equation has infinitely many solutions in $\\theta$. However, sympy.solve only gives two:"
   ]
  },
  {
   "cell_type": "code",
   "execution_count": 24,
   "metadata": {},
   "outputs": [
    {
     "data": {
      "image/png": "[encoded data removed]",
      "text/latex": [
       "$$\\left [ - \\frac{3 \\pi}{4}, \\quad \\frac{\\pi}{4}\\right ]$$"
      ],
      "text/plain": [
       "⎡-3⋅π   π⎤\n",
       "⎢─────, ─⎥\n",
       "⎣  4    4⎦"
      ]
     },
     "execution_count": 24,
     "metadata": {},
     "output_type": "execute_result"
    }
   ],
   "source": [
    "from sympy.abc import theta\n",
    "sympy.solve( sympy.Eq(sympy.cos(theta),  sympy.sin(theta)), theta)"
   ]
  },
  {
   "cell_type": "markdown",
   "metadata": {},
   "source": [
    "... sympy.solveset gives all infinitely many solutions"
   ]
  },
  {
   "cell_type": "code",
   "execution_count": 25,
   "metadata": {},
   "outputs": [
    {
     "data": {
      "image/png": "[encoded data removed]",
      "text/latex": [
       "$$\\left\\{2 n \\pi + \\frac{5 \\pi}{4}\\; |\\; n \\in \\mathbb{Z}\\right\\} \\cup \\left\\{2 n \\pi + \\frac{\\pi}{4}\\; |\\; n \\in \\mathbb{Z}\\right\\}$$"
      ],
      "text/plain": [
       "⎧        5⋅π        ⎫   ⎧        π        ⎫\n",
       "⎨2⋅n⋅π + ─── | n ∊ ℤ⎬ ∪ ⎨2⋅n⋅π + ─ | n ∊ ℤ⎬\n",
       "⎩         4         ⎭   ⎩        4        ⎭"
      ]
     },
     "execution_count": 25,
     "metadata": {},
     "output_type": "execute_result"
    }
   ],
   "source": [
    "\n",
    "sympy.solveset( sympy.Eq(sympy.cos(theta),  sympy.sin(theta)), theta)"
   ]
  },
  {
   "cell_type": "markdown",
   "metadata": {},
   "source": [
    "Solving systems of equations\n",
    "-----------------"
   ]
  },
  {
   "cell_type": "markdown",
   "metadata": {
    "collapsed": true
   },
   "source": [
    " We can also solve systems of equations  like the following in $x$ and $y$:"
   ]
  },
  {
   "cell_type": "markdown",
   "metadata": {},
   "source": [
    "$$2x + 3y = 1$$\n",
    "$$3x + 2y = 2$$"
   ]
  },
  {
   "cell_type": "code",
   "execution_count": 26,
   "metadata": {},
   "outputs": [
    {
     "data": {
      "image/png": "[encoded data removed]",
      "text/latex": [
       "$$\\left \\{ x : \\frac{4}{5}, \\quad y : - \\frac{1}{5}\\right \\}$$"
      ],
      "text/plain": [
       "{x: 4/5, y: -1/5}"
      ]
     },
     "execution_count": 26,
     "metadata": {},
     "output_type": "execute_result"
    }
   ],
   "source": [
    "from sympy.abc import x,y\n",
    "import sympy\n",
    "\n",
    "sympy.solve([\n",
    "    sympy.Eq(2*x + 3*y, 1),\n",
    "    sympy.Eq(3*x + 2*y, 2)\n",
    "]\n",
    ",[x,y])"
   ]
  },
  {
   "cell_type": "markdown",
   "metadata": {},
   "source": [
    "Generating complicated expressions\n",
    "---------------------"
   ]
  },
  {
   "cell_type": "markdown",
   "metadata": {
    "collapsed": true
   },
   "source": [
    "  We can use functions to generate complicated expressions.\n",
    "\n",
    " Let's define a function *P* that, for any number n,\n",
    "  returns a polynomial of the form \n",
    "  \n",
    "  $$\\sum_{k=0}^{n}{k}x^k$$"
   ]
  },
  {
   "cell_type": "code",
   "execution_count": 59,
   "metadata": {
    "collapsed": true
   },
   "outputs": [],
   "source": [
    "import sympy\n",
    "from sympy.abc import x\n",
    "\n",
    "def P(n):\n",
    "    return sum( k * x**k for k in range(n+1) )"
   ]
  },
  {
   "cell_type": "markdown",
   "metadata": {},
   "source": [
    "  We can now obtain the 6th degree\n",
    "  polynomial of the given form by calling P(6)"
   ]
  },
  {
   "cell_type": "code",
   "execution_count": 60,
   "metadata": {},
   "outputs": [
    {
     "data": {
      "image/png": "[encoded data removed]",
      "text/latex": [
       "$$6 x^{6} + 5 x^{5} + 4 x^{4} + 3 x^{3} + 2 x^{2} + x$$"
      ],
      "text/plain": [
       "   6      5      4      3      2    \n",
       "6⋅x  + 5⋅x  + 4⋅x  + 3⋅x  + 2⋅x  + x"
      ]
     },
     "execution_count": 60,
     "metadata": {},
     "output_type": "execute_result"
    }
   ],
   "source": [
    "\n",
    "P(6)"
   ]
  },
  {
   "cell_type": "markdown",
   "metadata": {},
   "source": [
    "... or the 10th degree polynomial by calling P(10)"
   ]
  },
  {
   "cell_type": "code",
   "execution_count": 33,
   "metadata": {},
   "outputs": [
    {
     "data": {
      "image/png": "[encoded data removed]",
      "text/latex": [
       "$$10 x^{10} + 9 x^{9} + 8 x^{8} + 7 x^{7} + 6 x^{6} + 5 x^{5} + 4 x^{4} + 3 x^{3} + 2 x^{2} + x$$"
      ],
      "text/plain": [
       "    10      9      8      7      6      5      4      3      2    \n",
       "10⋅x   + 9⋅x  + 8⋅x  + 7⋅x  + 6⋅x  + 5⋅x  + 4⋅x  + 3⋅x  + 2⋅x  + x"
      ]
     },
     "execution_count": 33,
     "metadata": {},
     "output_type": "execute_result"
    }
   ],
   "source": [
    "\n",
    "P(10)"
   ]
  },
  {
   "cell_type": "markdown",
   "metadata": {},
   "source": [
    "For fun, let's solve the equation $4x^4 + 3x^3 + 2x^2 + x = 0$."
   ]
  },
  {
   "cell_type": "code",
   "execution_count": 35,
   "metadata": {},
   "outputs": [
    {
     "data": {
      "image/png": "[encoded data removed]",
      "text/latex": [
       "$$\\left [ 0, \\quad - \\frac{1}{4} + \\frac{5}{16 \\left(- \\frac{1}{2} - \\frac{\\sqrt{3} i}{2}\\right) \\sqrt[3]{\\frac{135}{64} + \\frac{15 \\sqrt{6}}{16}}} - \\frac{1}{3} \\left(- \\frac{1}{2} - \\frac{\\sqrt{3} i}{2}\\right) \\sqrt[3]{\\frac{135}{64} + \\frac{15 \\sqrt{6}}{16}}, \\quad - \\frac{1}{4} - \\frac{1}{3} \\left(- \\frac{1}{2} + \\frac{\\sqrt{3} i}{2}\\right) \\sqrt[3]{\\frac{135}{64} + \\frac{15 \\sqrt{6}}{16}} + \\frac{5}{16 \\left(- \\frac{1}{2} + \\frac{\\sqrt{3} i}{2}\\right) \\sqrt[3]{\\frac{135}{64} + \\frac{15 \\sqrt{6}}{16}}}, \\quad - \\frac{1}{3} \\sqrt[3]{\\frac{135}{64} + \\frac{15 \\sqrt{6}}{16}} - \\frac{1}{4} + \\frac{5}{16 \\sqrt[3]{\\frac{135}{64} + \\frac{15 \\sqrt{6}}{16}}}\\right ]$$"
      ],
      "text/plain": [
       "⎡                                                              _____________  \n",
       "⎢                                             ⎛  1   √3⋅ⅈ⎞    ╱ 135   15⋅√6   \n",
       "⎢                                             ⎜- ─ - ────⎟⋅3 ╱  ─── + ─────   \n",
       "⎢     1                   5                   ⎝  2    2  ⎠ ╲╱    64     16    \n",
       "⎢0, - ─ + ───────────────────────────────── - ──────────────────────────────, \n",
       "⎢     4                       _____________                 3                 \n",
       "⎢            ⎛  1   √3⋅ⅈ⎞    ╱ 135   15⋅√6                                    \n",
       "⎢         16⋅⎜- ─ - ────⎟⋅3 ╱  ─── + ─────                                    \n",
       "⎣            ⎝  2    2  ⎠ ╲╱    64     16                                     \n",
       "\n",
       "                       _____________                                          \n",
       "      ⎛  1   √3⋅ⅈ⎞    ╱ 135   15⋅√6                                           \n",
       "      ⎜- ─ + ────⎟⋅3 ╱  ─── + ─────                                         3 \n",
       "  1   ⎝  2    2  ⎠ ╲╱    64     16                     5                    ╲╱\n",
       "- ─ - ────────────────────────────── + ─────────────────────────────────, - ──\n",
       "  4                 3                                      _____________      \n",
       "                                          ⎛  1   √3⋅ⅈ⎞    ╱ 135   15⋅√6       \n",
       "                                       16⋅⎜- ─ + ────⎟⋅3 ╱  ─── + ─────       \n",
       "                                          ⎝  2    2  ⎠ ╲╱    64     16        \n",
       "\n",
       "  _____________                           ⎤\n",
       " ╱ 135   15⋅√6                            ⎥\n",
       "╱  ─── + ─────                            ⎥\n",
       "    64     16     1            5          ⎥\n",
       "─────────────── - ─ + ────────────────────⎥\n",
       "      3           4          _____________⎥\n",
       "                            ╱ 135   15⋅√6 ⎥\n",
       "                      16⋅3 ╱  ─── + ───── ⎥\n",
       "                         ╲╱    64     16  ⎦"
      ]
     },
     "execution_count": 35,
     "metadata": {},
     "output_type": "execute_result"
    }
   ],
   "source": [
    "sympy.solve( P(4),  x)"
   ]
  },
  {
   "cell_type": "markdown",
   "metadata": {},
   "source": [
    "Numerical approximation\n",
    "------------------"
   ]
  },
  {
   "cell_type": "markdown",
   "metadata": {},
   "source": [
    "Sometimes we want numerical approximations to mathematical constants. We can compute them to arbitrary precision with the sympy's  .n function."
   ]
  },
  {
   "cell_type": "code",
   "execution_count": 36,
   "metadata": {
    "collapsed": true
   },
   "outputs": [],
   "source": [
    "import sympy\n",
    "\n"
   ]
  },
  {
   "cell_type": "code",
   "execution_count": 37,
   "metadata": {},
   "outputs": [
    {
     "data": {
      "image/png": "[encoded data removed]",
      "text/latex": [
       "$$\\pi$$"
      ],
      "text/plain": [
       "π"
      ]
     },
     "execution_count": 37,
     "metadata": {},
     "output_type": "execute_result"
    }
   ],
   "source": [
    "sympy.pi"
   ]
  },
  {
   "cell_type": "markdown",
   "metadata": {},
   "source": [
    "... pi approximated to 50 digits is:"
   ]
  },
  {
   "cell_type": "code",
   "execution_count": 40,
   "metadata": {},
   "outputs": [
    {
     "data": {
      "image/png": "[encoded data removed]",
      "text/latex": [
       "$$3.1415926535897932384626433832795028841971693993751$$"
      ],
      "text/plain": [
       "3.1415926535897932384626433832795028841971693993751"
      ]
     },
     "execution_count": 40,
     "metadata": {},
     "output_type": "execute_result"
    }
   ],
   "source": [
    "sympy.pi.n(50)"
   ]
  },
  {
   "cell_type": "code",
   "execution_count": 41,
   "metadata": {},
   "outputs": [
    {
     "data": {
      "image/png": "[encoded data removed]",
      "text/latex": [
       "$$\\sqrt{2}$$"
      ],
      "text/plain": [
       "√2"
      ]
     },
     "execution_count": 41,
     "metadata": {},
     "output_type": "execute_result"
    }
   ],
   "source": [
    "sympy.sqrt(2)"
   ]
  },
  {
   "cell_type": "markdown",
   "metadata": {},
   "source": [
    "$\\sqrt{2}$ two approximated to 50 digits is"
   ]
  },
  {
   "cell_type": "code",
   "execution_count": 42,
   "metadata": {},
   "outputs": [
    {
     "data": {
      "image/png": "[encoded data removed]",
      "text/latex": [
       "$$1.4142135623730950488016887242096980785696718753769$$"
      ],
      "text/plain": [
       "1.4142135623730950488016887242096980785696718753769"
      ]
     },
     "execution_count": 42,
     "metadata": {},
     "output_type": "execute_result"
    }
   ],
   "source": [
    "\n",
    "sympy.sqrt(2).n(50)"
   ]
  },
  {
   "cell_type": "markdown",
   "metadata": {},
   "source": [
    "... we can even find approximations to more complicated expressions:\n"
   ]
  },
  {
   "cell_type": "code",
   "execution_count": 44,
   "metadata": {},
   "outputs": [
    {
     "data": {
      "image/png": "[encoded data removed]",
      "text/latex": [
       "$$e^{\\sqrt[5]{-1 + \\sqrt{2}}}$$"
      ],
      "text/plain": [
       " 5 _________\n",
       " ╲╱ -1 + √2 \n",
       "ℯ           "
      ]
     },
     "execution_count": 44,
     "metadata": {},
     "output_type": "execute_result"
    }
   ],
   "source": [
    "\n",
    "sympy.exp( sympy.root(sympy.sqrt(2)-1,5) )\n"
   ]
  },
  {
   "cell_type": "code",
   "execution_count": 45,
   "metadata": {},
   "outputs": [
    {
     "data": {
      "image/png": "[encoded data removed]",
      "text/latex": [
       "$$2.3126351501944463406364037678832846493032008107479$$"
      ],
      "text/plain": [
       "2.3126351501944463406364037678832846493032008107479"
      ]
     },
     "execution_count": 45,
     "metadata": {},
     "output_type": "execute_result"
    }
   ],
   "source": [
    "sympy.exp( sympy.root(sympy.sqrt(2)-1,5) ).n(50)"
   ]
  },
  {
   "cell_type": "markdown",
   "metadata": {},
   "source": [
    "Symbolic differentiation\n",
    "----------------------"
   ]
  },
  {
   "cell_type": "markdown",
   "metadata": {},
   "source": [
    "We can use sympy to compute derivatives of expressions using the sympy.diff function.\n",
    "\n",
    "Let's compute $\\frac{d}{dx}\\left(x^4+x^3+x^2+x+1\\right)$"
   ]
  },
  {
   "cell_type": "code",
   "execution_count": 46,
   "metadata": {},
   "outputs": [
    {
     "data": {
      "image/png": "[encoded data removed]",
      "text/latex": [
       "$$4 x^{3} + 3 x^{2} + 2 x + 1$$"
      ],
      "text/plain": [
       "   3      2          \n",
       "4⋅x  + 3⋅x  + 2⋅x + 1"
      ]
     },
     "execution_count": 46,
     "metadata": {},
     "output_type": "execute_result"
    }
   ],
   "source": [
    "import sympy\n",
    "from sympy.abc import x\n",
    "\n",
    "sympy.diff(x**4+x**3+x**2+x+1, x)\n"
   ]
  },
  {
   "cell_type": "markdown",
   "metadata": {},
   "source": [
    "... or the more complicated derivative\n",
    "$\\frac{d}{dx} \\left( \n",
    "        (x^4+x^3+x^2+x+1)e^{x^2+\\sin(x^2)}                 \n",
    "\\right)$"
   ]
  },
  {
   "cell_type": "code",
   "execution_count": 47,
   "metadata": {},
   "outputs": [
    {
     "data": {
      "image/png": "[encoded data removed]",
      "text/latex": [
       "$$\\left(2 x \\cos{\\left (x^{2} \\right )} + 2 x\\right) \\left(x^{4} + x^{3} + x^{2} + x + 1\\right) e^{x^{2} + \\sin{\\left (x^{2} \\right )}} + \\left(4 x^{3} + 3 x^{2} + 2 x + 1\\right) e^{x^{2} + \\sin{\\left (x^{2} \\right )}}$$"
      ],
      "text/plain": [
       "                                             2      ⎛ 2⎞                      \n",
       "⎛       ⎛ 2⎞      ⎞ ⎛ 4    3    2        ⎞  x  + sin⎝x ⎠   ⎛   3      2       \n",
       "⎝2⋅x⋅cos⎝x ⎠ + 2⋅x⎠⋅⎝x  + x  + x  + x + 1⎠⋅ℯ             + ⎝4⋅x  + 3⋅x  + 2⋅x \n",
       "\n",
       "       2      ⎛ 2⎞\n",
       "   ⎞  x  + sin⎝x ⎠\n",
       "+ 1⎠⋅ℯ            "
      ]
     },
     "execution_count": 47,
     "metadata": {},
     "output_type": "execute_result"
    }
   ],
   "source": [
    "sympy.diff( (x**4+x**3+x**2+x+1)*sympy.exp(x**2 + sympy.sin(x**2)), x)"
   ]
  },
  {
   "cell_type": "markdown",
   "metadata": {
    "collapsed": true
   },
   "source": [
    "Symbolic integration\n",
    "-------------------------"
   ]
  },
  {
   "cell_type": "markdown",
   "metadata": {},
   "source": [
    "We can use sympy to compute derivatives of expressions using the sympy.integrate function.\n",
    "\n",
    "Let's compute $\\int (x^2 -x -1)\\,dx$:"
   ]
  },
  {
   "cell_type": "code",
   "execution_count": 48,
   "metadata": {},
   "outputs": [
    {
     "data": {
      "image/png": "[encoded data removed]",
      "text/latex": [
       "$$\\frac{x^{3}}{3} - \\frac{x^{2}}{2} - x$$"
      ],
      "text/plain": [
       " 3    2    \n",
       "x    x     \n",
       "── - ── - x\n",
       "3    2     "
      ]
     },
     "execution_count": 48,
     "metadata": {},
     "output_type": "execute_result"
    }
   ],
   "source": [
    "import sympy\n",
    "from sympy.abc import x\n",
    "\n",
    "sympy.integrate(x**2 -x -1, x)\n"
   ]
  },
  {
   "cell_type": "code",
   "execution_count": 28,
   "metadata": {
    "collapsed": true
   },
   "outputs": [],
   "source": [
    "# ... another example, that illustrates integration by parts:"
   ]
  },
  {
   "cell_type": "markdown",
   "metadata": {},
   "source": [
    "... or another example (notice the integration by parts):\n",
    "$\\int x e^x\\,dx$"
   ]
  },
  {
   "cell_type": "code",
   "execution_count": 49,
   "metadata": {},
   "outputs": [
    {
     "data": {
      "image/png": "[encoded data removed]",
      "text/latex": [
       "$$\\left(x - 1\\right) e^{x}$$"
      ],
      "text/plain": [
       "         x\n",
       "(x - 1)⋅ℯ "
      ]
     },
     "execution_count": 49,
     "metadata": {},
     "output_type": "execute_result"
    }
   ],
   "source": [
    "sympy.integrate(x * sympy.exp(x), x)"
   ]
  },
  {
   "cell_type": "markdown",
   "metadata": {},
   "source": [
    "We can also compute  definite integrals. E.g., $\\int_0^5 xe^x\\,dx$."
   ]
  },
  {
   "cell_type": "code",
   "execution_count": 51,
   "metadata": {},
   "outputs": [
    {
     "data": {
      "image/png": "[encoded data removed]",
      "text/latex": [
       "$$1 + 4 e^{5}$$"
      ],
      "text/plain": [
       "       5\n",
       "1 + 4⋅ℯ "
      ]
     },
     "execution_count": 51,
     "metadata": {},
     "output_type": "execute_result"
    }
   ],
   "source": [
    "sympy.integrate(x * sympy.exp(x), (x, 0, 5))"
   ]
  },
  {
   "cell_type": "markdown",
   "metadata": {},
   "source": [
    "Making functions out of expressions\n",
    "----------------------------"
   ]
  },
  {
   "cell_type": "markdown",
   "metadata": {},
   "source": [
    "Especially for plotting, it is useful to be able to make a function out of a sympy expression.\n",
    "We can do this with the sympy.lambdify function"
   ]
  },
  {
   "cell_type": "code",
   "execution_count": 52,
   "metadata": {
    "collapsed": true
   },
   "outputs": [],
   "source": [
    "import sympy\n",
    "from sympy.abc import x,y\n",
    "\n",
    "cubic  = x**3 - x**2 + x +3\n",
    "f = sympy.lambdify([x], cubic)\n"
   ]
  },
  {
   "cell_type": "code",
   "execution_count": null,
   "metadata": {
    "collapsed": true
   },
   "outputs": [],
   "source": []
  },
  {
   "cell_type": "markdown",
   "metadata": {},
   "source": [
    "Now we have the function $f(x):=x^3-x^2+x+3$ and we can call it:"
   ]
  },
  {
   "cell_type": "code",
   "execution_count": 56,
   "metadata": {},
   "outputs": [
    {
     "data": {
      "image/png": "[encoded data removed]",
      "text/latex": [
       "$$9$$"
      ],
      "text/plain": [
       "9"
      ]
     },
     "execution_count": 56,
     "metadata": {},
     "output_type": "execute_result"
    }
   ],
   "source": [
    "\n",
    "f(2) "
   ]
  },
  {
   "cell_type": "code",
   "execution_count": 57,
   "metadata": {},
   "outputs": [
    {
     "data": {
      "image/png": "[encoded data removed]",
      "text/latex": [
       "$$x^{3} - x^{2} + x + 3$$"
      ],
      "text/plain": [
       " 3    2        \n",
       "x  - x  + x + 3"
      ]
     },
     "execution_count": 57,
     "metadata": {},
     "output_type": "execute_result"
    }
   ],
   "source": [
    "f(x)"
   ]
  },
  {
   "cell_type": "code",
   "execution_count": 58,
   "metadata": {},
   "outputs": [
    {
     "data": {
      "image/png": "[encoded data removed]",
      "text/latex": [
       "$$y^{3} - y^{2} + y + 3$$"
      ],
      "text/plain": [
       " 3    2        \n",
       "y  - y  + y + 3"
      ]
     },
     "execution_count": 58,
     "metadata": {},
     "output_type": "execute_result"
    }
   ],
   "source": [
    "f(y)"
   ]
  },
  {
   "cell_type": "markdown",
   "metadata": {},
   "source": [
    "Numpy\n",
    "======"
   ]
  },
  {
   "cell_type": "markdown",
   "metadata": {},
   "source": [
    "Numpy is a widely used external package for doing matrix computations. It is designed to be very fast."
   ]
  },
  {
   "cell_type": "markdown",
   "metadata": {},
   "source": [
    "Arrays\n",
    "-------"
   ]
  },
  {
   "cell_type": "markdown",
   "metadata": {},
   "source": [
    "The array is the basic datastructure of numpy. We can think of them as vectors."
   ]
  },
  {
   "cell_type": "code",
   "execution_count": 3,
   "metadata": {},
   "outputs": [
    {
     "data": {
      "text/plain": [
       "array([5, 5, 6])"
      ]
     },
     "execution_count": 3,
     "metadata": {},
     "output_type": "execute_result"
    }
   ],
   "source": [
    "import numpy as np\n",
    "\n",
    "a = np.array([1,2,3])\n",
    "b = np.array([4,3,3])\n",
    "a + b"
   ]
  },
  {
   "cell_type": "markdown",
   "metadata": {},
   "source": [
    "... we can compute the dot product:"
   ]
  },
  {
   "cell_type": "code",
   "execution_count": 4,
   "metadata": {},
   "outputs": [
    {
     "data": {
      "text/plain": [
       "19"
      ]
     },
     "execution_count": 4,
     "metadata": {},
     "output_type": "execute_result"
    }
   ],
   "source": [
    "\n",
    "a.dot(b) # 4 + 6 + 9"
   ]
  },
  {
   "cell_type": "markdown",
   "metadata": {},
   "source": [
    "Numpy functions\n",
    "-------------"
   ]
  },
  {
   "cell_type": "markdown",
   "metadata": {},
   "source": [
    "Numpy provides many mathematical functions like numpy.sin, numpy.cos, etc. When applying these to arrays, they are applied entry-wise. This is useful for plotting."
   ]
  },
  {
   "cell_type": "code",
   "execution_count": 5,
   "metadata": {
    "collapsed": true
   },
   "outputs": [],
   "source": [
    "import numpy as np\n",
    "\n",
    "a = np.array([0,1,2,3,4,5,6,7,8,9,10])\n",
    "b = np.sin(a)\n",
    "c = np.sqrt(a)"
   ]
  },
  {
   "cell_type": "code",
   "execution_count": 6,
   "metadata": {},
   "outputs": [
    {
     "data": {
      "text/plain": [
       "array([ 0.        ,  0.84147098,  0.90929743,  0.14112001, -0.7568025 ,\n",
       "       -0.95892427, -0.2794155 ,  0.6569866 ,  0.98935825,  0.41211849,\n",
       "       -0.54402111])"
      ]
     },
     "execution_count": 6,
     "metadata": {},
     "output_type": "execute_result"
    }
   ],
   "source": [
    "# b == [sin(0), sin(1), sin(2), ... , sin(10)]\n",
    "b"
   ]
  },
  {
   "cell_type": "code",
   "execution_count": 7,
   "metadata": {},
   "outputs": [
    {
     "data": {
      "text/plain": [
       "array([ 0.        ,  1.        ,  1.41421356,  1.73205081,  2.        ,\n",
       "        2.23606798,  2.44948974,  2.64575131,  2.82842712,  3.        ,\n",
       "        3.16227766])"
      ]
     },
     "execution_count": 7,
     "metadata": {},
     "output_type": "execute_result"
    }
   ],
   "source": [
    "# c == [sqrt(0), sqrt(1), sqrt(2), ... , sqrt(10)]\n",
    "c"
   ]
  },
  {
   "cell_type": "markdown",
   "metadata": {},
   "source": [
    "Matrices\n",
    "-----------"
   ]
  },
  {
   "cell_type": "markdown",
   "metadata": {},
   "source": [
    "Matrices can be represented as 2D numpy arrays"
   ]
  },
  {
   "cell_type": "code",
   "execution_count": 12,
   "metadata": {
    "collapsed": true
   },
   "outputs": [],
   "source": [
    "import numpy as np\n",
    "\n",
    "M = np.array([\n",
    "    [1, 2, 3],\n",
    "    [4, 5, 6],\n",
    "    [7, 8, 9],\n",
    "])"
   ]
  },
  {
   "cell_type": "markdown",
   "metadata": {},
   "source": [
    "We can access columns, e.g., the twoth column:"
   ]
  },
  {
   "cell_type": "code",
   "execution_count": 13,
   "metadata": {},
   "outputs": [
    {
     "data": {
      "text/plain": [
       "array([3, 6, 9])"
      ]
     },
     "execution_count": 13,
     "metadata": {},
     "output_type": "execute_result"
    }
   ],
   "source": [
    "M[:,2]"
   ]
  },
  {
   "cell_type": "markdown",
   "metadata": {},
   "source": [
    "We can access columns, e.g., the oneth row:"
   ]
  },
  {
   "cell_type": "code",
   "execution_count": 15,
   "metadata": {},
   "outputs": [
    {
     "data": {
      "text/plain": [
       "array([4, 5, 6])"
      ]
     },
     "execution_count": 15,
     "metadata": {},
     "output_type": "execute_result"
    }
   ],
   "source": [
    "\n",
    "M[1,:]"
   ]
  },
  {
   "cell_type": "markdown",
   "metadata": {},
   "source": [
    "We can compute multiply a matrix with a vector using the .dot function: "
   ]
  },
  {
   "cell_type": "code",
   "execution_count": 17,
   "metadata": {},
   "outputs": [
    {
     "data": {
      "text/plain": [
       "array([14, 32, 50])"
      ]
     },
     "execution_count": 17,
     "metadata": {},
     "output_type": "execute_result"
    }
   ],
   "source": [
    "v = np.array([1,2,3,])\n",
    "M.dot(v)"
   ]
  },
  {
   "cell_type": "markdown",
   "metadata": {},
   "source": [
    "We can multiply a matrix with another matrix, also using the .dot function :"
   ]
  },
  {
   "cell_type": "code",
   "execution_count": 18,
   "metadata": {},
   "outputs": [
    {
     "data": {
      "text/plain": [
       "array([[ 30,  36,  42],\n",
       "       [ 66,  81,  96],\n",
       "       [102, 126, 150]])"
      ]
     },
     "execution_count": 18,
     "metadata": {},
     "output_type": "execute_result"
    }
   ],
   "source": [
    "M.dot(M)"
   ]
  },
  {
   "cell_type": "markdown",
   "metadata": {},
   "source": [
    "Waring: The * operator does entrywise multiplication!"
   ]
  },
  {
   "cell_type": "code",
   "execution_count": 19,
   "metadata": {},
   "outputs": [
    {
     "data": {
      "text/plain": [
       "array([[ 1,  4,  9],\n",
       "       [16, 25, 36],\n",
       "       [49, 64, 81]])"
      ]
     },
     "execution_count": 19,
     "metadata": {},
     "output_type": "execute_result"
    }
   ],
   "source": [
    "M*M"
   ]
  },
  {
   "cell_type": "markdown",
   "metadata": {},
   "source": [
    "## Matrix row/column operations\n",
    "\n",
    "Consider:"
   ]
  },
  {
   "cell_type": "code",
   "execution_count": 24,
   "metadata": {
    "collapsed": true
   },
   "outputs": [],
   "source": [
    "import numpy as np\n",
    "\n",
    "M = np.array([\n",
    "    [1, 2, 3],\n",
    "    [4, 5, 6],\n",
    "    [7, 8, 9],\n",
    "])\n",
    "\n"
   ]
  },
  {
   "cell_type": "markdown",
   "metadata": {},
   "source": [
    "We can easily perform row/column swaps. \n",
    "\n",
    "The following swaps the zeroth and oneth rows of M:"
   ]
  },
  {
   "cell_type": "code",
   "execution_count": 25,
   "metadata": {
    "collapsed": true
   },
   "outputs": [],
   "source": [
    "M[[1,0],:] = M[[0,1],:] "
   ]
  },
  {
   "cell_type": "code",
   "execution_count": 26,
   "metadata": {},
   "outputs": [
    {
     "data": {
      "text/plain": [
       "array([[4, 5, 6],\n",
       "       [1, 2, 3],\n",
       "       [7, 8, 9]])"
      ]
     },
     "execution_count": 26,
     "metadata": {},
     "output_type": "execute_result"
    }
   ],
   "source": [
    "M"
   ]
  },
  {
   "cell_type": "markdown",
   "metadata": {},
   "source": [
    "The following swaps the oneth and twoth columns of M:"
   ]
  },
  {
   "cell_type": "code",
   "execution_count": 27,
   "metadata": {
    "collapsed": true
   },
   "outputs": [],
   "source": [
    "M[:,[1,2]] = M[:,[2,1]]"
   ]
  },
  {
   "cell_type": "code",
   "execution_count": 29,
   "metadata": {},
   "outputs": [
    {
     "data": {
      "text/plain": [
       "array([[4, 6, 5],\n",
       "       [1, 3, 2],\n",
       "       [7, 9, 8]])"
      ]
     },
     "execution_count": 29,
     "metadata": {},
     "output_type": "execute_result"
    }
   ],
   "source": [
    "M"
   ]
  },
  {
   "cell_type": "markdown",
   "metadata": {},
   "source": [
    "... and we can perform elementary row operations (e.g., for implementing Gauss elimination).  \n",
    "\n",
    "The following  replaces the twoth row with \n",
    " 4 times the twoth row - 7 times the zeroth row"
   ]
  },
  {
   "cell_type": "code",
   "execution_count": 30,
   "metadata": {
    "collapsed": true
   },
   "outputs": [],
   "source": [
    "M[2,:] = 4*M[2,:] - 7*M[0,:]"
   ]
  },
  {
   "cell_type": "code",
   "execution_count": 31,
   "metadata": {},
   "outputs": [
    {
     "data": {
      "text/plain": [
       "array([[ 4,  6,  5],\n",
       "       [ 1,  3,  2],\n",
       "       [ 0, -6, -3]])"
      ]
     },
     "execution_count": 31,
     "metadata": {},
     "output_type": "execute_result"
    }
   ],
   "source": [
    "M"
   ]
  },
  {
   "cell_type": "markdown",
   "metadata": {},
   "source": [
    "Transposing is easy."
   ]
  },
  {
   "cell_type": "code",
   "execution_count": 33,
   "metadata": {},
   "outputs": [
    {
     "data": {
      "text/plain": [
       "array([[ 4,  1,  0],\n",
       "       [ 6,  3, -6],\n",
       "       [ 5,  2, -3]])"
      ]
     },
     "execution_count": 33,
     "metadata": {},
     "output_type": "execute_result"
    }
   ],
   "source": [
    "M.transpose()\n"
   ]
  },
  {
   "cell_type": "markdown",
   "metadata": {},
   "source": [
    "Basic plotting with matplotlib\n",
    "========="
   ]
  },
  {
   "cell_type": "markdown",
   "metadata": {},
   "source": [
    "Matplotlib is a powerful plotting module for python. It is a bit difficult to use, however.\n",
    "\n",
    "We usually use it together with numpy."
   ]
  },
  {
   "cell_type": "code",
   "execution_count": 2,
   "metadata": {
    "collapsed": true
   },
   "outputs": [],
   "source": [
    "import matplotlib.pyplot as plt\n",
    "import numpy as np"
   ]
  },
  {
   "cell_type": "markdown",
   "metadata": {},
   "source": [
    "Basic line plots\n",
    "----------------"
   ]
  },
  {
   "cell_type": "markdown",
   "metadata": {},
   "source": [
    "We can make basic line plots with matplotlib.\n",
    "\n",
    "We first import it with numpy:"
   ]
  },
  {
   "cell_type": "markdown",
   "metadata": {},
   "source": [
    "### Example $y=x^2+2$\n",
    "... we will plot the points satisfying the equation $y=x^2+2$ with $x\\in (-1,1)$."
   ]
  },
  {
   "cell_type": "code",
   "execution_count": 1,
   "metadata": {},
   "outputs": [
    {
     "data": {
      "image/png": "[encoded data removed]",
      "text/plain": [
       "<matplotlib.figure.Figure at 0x7f0dd0c48710>"
      ]
     },
     "metadata": {},
     "output_type": "display_data"
    }
   ],
   "source": [
    "import matplotlib.pyplot as plt\n",
    "import numpy as np\n",
    "\n",
    "# We create a figure and axes to plot on\n",
    "fig, ax = plt.figure(), plt.axes()\n",
    "\n",
    "X = np.linspace(-1, 1, 10) # We take 10 evenly spaced x-values in the interval (-1,1)\n",
    "Y = X**2 + 2               # We compute the Y-values\n",
    "\n",
    "ax.plot(X, Y) # We plot the data on the axes\n",
    "plt.show()      # We show the plot"
   ]
  },
  {
   "cell_type": "markdown",
   "metadata": {},
   "source": [
    "### Example: $f(x):=\\sin(x) + \\frac{1}{2}\\sin(4x)$\n",
    "We plot the graph of the function $f(x):=\\sin(x) + \\frac{1}{2}\\sin(4x)$ on the interval $(-\\pi,3\\pi)$"
   ]
  },
  {
   "cell_type": "code",
   "execution_count": 4,
   "metadata": {},
   "outputs": [
    {
     "data": {
      "image/png": "[encoded data removed]",
      "text/plain": [
       "<matplotlib.figure.Figure at 0x7f0da8b46f60>"
      ]
     },
     "metadata": {},
     "output_type": "display_data"
    }
   ],
   "source": [
    "import matplotlib.pyplot as plt\n",
    "import numpy as np\n",
    "\n",
    "fig, ax = plt.figure(), plt.axes()\n",
    "\n",
    "f = lambda x : np.sin(x) + .5*np.sin(4*x)\n",
    "\n",
    "X = np.linspace(-np.pi, 3*np.pi, 100)\n",
    "\n",
    "ax.plot(X, f(X))\n",
    "plt.show()"
   ]
  },
  {
   "cell_type": "markdown",
   "metadata": {},
   "source": [
    "Basic scatter plots\n",
    "-----------------"
   ]
  },
  {
   "cell_type": "markdown",
   "metadata": {},
   "source": [
    "Scatter plots are plots of discrete points."
   ]
  },
  {
   "cell_type": "code",
   "execution_count": 14,
   "metadata": {
    "collapsed": true
   },
   "outputs": [],
   "source": [
    "import matplotlib.pyplot as plt\n",
    "import numpy as np"
   ]
  },
  {
   "cell_type": "code",
   "execution_count": 5,
   "metadata": {},
   "outputs": [
    {
     "data": {
      "image/png": "[encoded data removed]",
      "text/plain": [
       "<matplotlib.figure.Figure at 0x7f0da8b46ac8>"
      ]
     },
     "metadata": {},
     "output_type": "display_data"
    }
   ],
   "source": [
    "# We make a figure and axes.\n",
    "fig, ax = plt.figure(), plt.axes()\n",
    "\n",
    "# The points we want to plot.\n",
    "points = [\n",
    "    (4  , 5),\n",
    "    (5  , 5),\n",
    "    (5.5, 5.5),\n",
    "    (3  , 3.45),\n",
    "    (3.6, 4.36),\n",
    "]\n",
    "\n",
    "xvals, yvals = zip(*points)\n",
    "ax.plot(xvals, yvals, \"o\")\n",
    "plt.show()"
   ]
  },
  {
   "cell_type": "markdown",
   "metadata": {},
   "source": [
    "Parametric plots\n",
    "----------------"
   ]
  },
  {
   "cell_type": "markdown",
   "metadata": {},
   "source": [
    "We can also plot parametric funcitons:\n",
    "\n",
    "We will plot the vector function $f:[0,4]\\to\\mathbb{R}^2$ defined by $f(t):=(\\cos(t), \\sin(t))$ for $t\\in[0,4]$."
   ]
  },
  {
   "cell_type": "code",
   "execution_count": 6,
   "metadata": {},
   "outputs": [
    {
     "data": {
      "image/png": "[encoded data removed]",
      "text/plain": [
       "<matplotlib.figure.Figure at 0x7f0da8b46860>"
      ]
     },
     "metadata": {},
     "output_type": "display_data"
    }
   ],
   "source": [
    "import matplotlib.pyplot as plt\n",
    "import numpy as np\n",
    "\n",
    "fig, ax = plt.figure(), plt.axes()\n",
    "\n",
    "f = lambda t: (np.cos(t), np.sin(t))\n",
    "\n",
    "T = np.linspace(0,4, 100)\n",
    "X,Y = f(T)\n",
    "\n",
    "ax.plot(X, Y)\n",
    "plt.show()"
   ]
  },
  {
   "cell_type": "markdown",
   "metadata": {},
   "source": [
    "Changing the aspect ratio, plot range and size\n",
    "----------------"
   ]
  },
  {
   "cell_type": "markdown",
   "metadata": {},
   "source": [
    "Sometimes our plots are squashed, we can control this by changing the axes' aspect ratio.\n",
    "\n",
    "See: https://en.wikipedia.org/wiki/Aspect_ratio_(image)"
   ]
  },
  {
   "cell_type": "code",
   "execution_count": 9,
   "metadata": {},
   "outputs": [
    {
     "data": {
      "image/png": "[encoded data removed]",
      "text/plain": [
       "<matplotlib.figure.Figure at 0x7f0da89f2e48>"
      ]
     },
     "metadata": {},
     "output_type": "display_data"
    }
   ],
   "source": [
    "import matplotlib.pyplot as plt\n",
    "import numpy as np\n",
    "\n",
    "fig, ax = plt.figure(), plt.axes()\n",
    "ax.set_aspect(1) # axes' \"aspect ratio\"  equal to 1\n",
    "\n",
    "f = lambda t: (np.cos(t), np.sin(t))\n",
    "\n",
    "T = np.linspace(0,4, 100)\n",
    "X,Y = f(T)\n",
    "\n",
    "ax.plot(X, Y)\n",
    "plt.show()\n"
   ]
  },
  {
   "cell_type": "markdown",
   "metadata": {},
   "source": [
    "We can control the plot range with the functions axes.set_xlim and axes.set_ylim"
   ]
  },
  {
   "cell_type": "code",
   "execution_count": 10,
   "metadata": {},
   "outputs": [
    {
     "data": {
      "image/png": "[encoded data removed]",
      "text/plain": [
       "<matplotlib.figure.Figure at 0x7f0da89c6e10>"
      ]
     },
     "metadata": {},
     "output_type": "display_data"
    }
   ],
   "source": [
    "import matplotlib.pyplot as plt\n",
    "import numpy as np\n",
    "\n",
    "fig, ax = plt.figure(), plt.axes()\n",
    "ax.set_aspect(1)\n",
    "\n",
    "ax.set_xlim(0,1) # We restrict to the first quadrant\n",
    "ax.set_ylim(0,1)\n",
    "\n",
    "f = lambda t: (np.cos(t), np.sin(t))\n",
    "\n",
    "T = np.linspace(0,4, 100)\n",
    "X,Y = f(T)\n",
    "\n",
    "ax.plot(X, Y)\n",
    "plt.show()\n",
    "\n"
   ]
  },
  {
   "cell_type": "markdown",
   "metadata": {},
   "source": [
    "... or we can make our plots a bit larger:"
   ]
  },
  {
   "cell_type": "code",
   "execution_count": 11,
   "metadata": {},
   "outputs": [
    {
     "data": {
      "image/png": "[encoded data removed]",
      "text/plain": [
       "<matplotlib.figure.Figure at 0x7f0da8936208>"
      ]
     },
     "metadata": {},
     "output_type": "display_data"
    }
   ],
   "source": [
    "import matplotlib.pyplot as plt\n",
    "import numpy as np\n",
    "\n",
    "# We can make our plot a bit larger\n",
    "fig  = plt.figure(figsize=(10,10)) # in inches!   D:<  \n",
    "ax = plt.axes()\n",
    "ax.set_aspect(1)\n",
    "\n",
    "\n",
    "f = lambda t: (np.cos(t), np.sin(t))\n",
    "\n",
    "T = np.linspace(0,4, 100)\n",
    "X,Y = f(T)\n",
    "\n",
    "ax.plot(X, Y)\n",
    "plt.show()"
   ]
  },
  {
   "cell_type": "markdown",
   "metadata": {},
   "source": [
    "Plotting with sympy\n",
    "-------------------"
   ]
  },
  {
   "cell_type": "markdown",
   "metadata": {},
   "source": [
    "Often we want to plot sympy expressions. We can do this easily by converting expressions to functons using the sympy.lambdify function.\n",
    "\n",
    "Let's plot the graph of $f:[-1,1]\\to\\mathbb{R}$ defined by $f(x):= x^3 -x^2 +x +3$ with $x \\in (-1,1)$."
   ]
  },
  {
   "cell_type": "code",
   "execution_count": 2,
   "metadata": {},
   "outputs": [
    {
     "data": {
      "image/png": "[encoded data removed]",
      "text/plain": [
       "<Figure size 432x288 with 1 Axes>"
      ]
     },
     "metadata": {
      "needs_background": "light"
     },
     "output_type": "display_data"
    }
   ],
   "source": [
    "import matplotlib.pyplot as plt\n",
    "import numpy as np\n",
    "\n",
    "from sympy.abc import x\n",
    "import sympy\n",
    "\n",
    "fig, ax = plt.figure(), plt.axes()\n",
    "\n",
    "f = sympy.lambdify([x], x**3 - x**2 + x +3) # We define the function f\n",
    "X = np.linspace(-1, 1, 100)\n",
    "\n",
    "ax.plot(X, f(X))\n",
    "plt.show()"
   ]
  },
  {
   "cell_type": "markdown",
   "metadata": {},
   "source": [
    "Multiple plots on the same axis\n",
    "--------------------------"
   ]
  },
  {
   "cell_type": "markdown",
   "metadata": {},
   "source": [
    "We can easily plot multiple functions on the same set of axes:"
   ]
  },
  {
   "cell_type": "code",
   "execution_count": 3,
   "metadata": {},
   "outputs": [
    {
     "data": {
      "image/png": "[encoded data removed]",
      "text/plain": [
       "<Figure size 432x288 with 1 Axes>"
      ]
     },
     "metadata": {
      "needs_background": "light"
     },
     "output_type": "display_data"
    }
   ],
   "source": [
    "import matplotlib.pyplot as plt\n",
    "import numpy as np\n",
    "\n",
    "from sympy.abc import x\n",
    "import sympy\n",
    "\n",
    "fig, ax = plt.figure(), plt.axes()\n",
    "\n",
    "f = sympy.lambdify([x], x**3 - x**2 + x +3)\n",
    "g = sympy.lambdify([x], -x**2 + x +2)\n",
    "\n",
    "X = np.linspace(-2,2,100)\n",
    "\n",
    "ax.plot(X, f(X))\n",
    "ax.plot(X, g(X))\n",
    "plt.show()"
   ]
  },
  {
   "cell_type": "markdown",
   "metadata": {},
   "source": [
    "Curve fitting with sympy from first principles \n",
    "========="
   ]
  },
  {
   "cell_type": "markdown",
   "metadata": {},
   "source": [
    "Say we are given a list on 20 data points:"
   ]
  },
  {
   "cell_type": "code",
   "execution_count": 1,
   "metadata": {
    "collapsed": true
   },
   "outputs": [],
   "source": [
    "\n",
    "data = [\n",
    "  (1.36, 3.18),\n",
    "  (1.19, 0.13),\n",
    "  (2.95, 10.54),\n",
    "  (2.84, 9.59),\n",
    "  (0.44, -1.69),\n",
    "  (2.83, 6.43),\n",
    "  (1.39, 0.13),\n",
    "  (1.88, 2.32),\n",
    "  (1.23, -0.41),\n",
    "  (0.92, -0.11),\n",
    "  (0.97, 1.14),\n",
    "  (2.19, 4.05),\n",
    "  (2.02, 4.39),\n",
    "  (2.48, 5.54),\n",
    "  (1.2, 0.94),\n",
    "  (0.22, -0.92),\n",
    "  (0.3, 1.8),\n",
    "  (1.02, 1.4),\n",
    "  (0.07, 0.94),\n",
    "  (2.82, 6.72),\n",
    "]"
   ]
  },
  {
   "cell_type": "markdown",
   "metadata": {},
   "source": [
    "Let's visualize our data on a scatter plot:\n"
   ]
  },
  {
   "cell_type": "code",
   "execution_count": 2,
   "metadata": {},
   "outputs": [
    {
     "data": {
      "image/png": "[encoded data removed]",
      "text/plain": [
       "<matplotlib.figure.Figure at 0x7f5a98043080>"
      ]
     },
     "metadata": {},
     "output_type": "display_data"
    }
   ],
   "source": [
    "import matplotlib.pyplot as plt\n",
    "import numpy as np\n",
    "\n",
    "fig,ax = plt.figure(), plt.axes()\n",
    "\n",
    "dataX, dataY = zip(*data)\n",
    "ax.plot(dataX, dataY, \"o\")\n",
    "\n",
    "plt.show()\n"
   ]
  },
  {
   "cell_type": "code",
   "execution_count": null,
   "metadata": {
    "collapsed": true
   },
   "outputs": [],
   "source": []
  },
  {
   "cell_type": "markdown",
   "metadata": {
    "collapsed": true
   },
   "source": [
    " We want to fit a curve through these data points\n",
    " as closely as possible.\n",
    " \n",
    "  First, we need to choose a type of curve\n",
    " before we can start fitting it to the data.\n",
    " Let's assume that we want to fit the graph of \n",
    " the following function to our data:\n",
    " $f(x) := ax^2 + bx +c$\n",
    " \n",
    "  Now, we need to find numbers the parameters a,b and c \n",
    " so that the curve matches the data as closely as possible.\n",
    "\n",
    "We begin just by guessing: Say $f_1(x):=x^2 + 2x - 1$"
   ]
  },
  {
   "cell_type": "code",
   "execution_count": 3,
   "metadata": {
    "collapsed": true
   },
   "outputs": [],
   "source": [
    "import sympy\n",
    "from sympy.abc import x\n",
    "sympy.init_printing()\n",
    "\n",
    "f1 = sympy.lambdify([x], x**2 + 2*x - 1)"
   ]
  },
  {
   "cell_type": "markdown",
   "metadata": {},
   "source": [
    "Let's plot this guess, together with our data:"
   ]
  },
  {
   "cell_type": "code",
   "execution_count": 6,
   "metadata": {},
   "outputs": [
    {
     "data": {
      "image/png": "[encoded data removed]",
      "text/plain": [
       "<matplotlib.figure.Figure at 0x7f5a6d7bf5f8>"
      ]
     },
     "metadata": {},
     "output_type": "display_data"
    }
   ],
   "source": [
    "\n",
    "fig,ax = plt.figure(), plt.axes()\n",
    "\n",
    "X = np.linspace(-1,4)\n",
    "\n",
    "dataX, dataY = zip(*data)\n",
    "ax.plot(dataX, dataY, \"o\")\n",
    "ax.plot(X, f1(X))\n",
    "\n",
    "plt.show()"
   ]
  },
  {
   "cell_type": "markdown",
   "metadata": {},
   "source": [
    "Not bad! But it goes a bit high, let's shift it down in our next guess.\n",
    "\n",
    "Let's try $f_2(x):=x^2 + 2x - 4$."
   ]
  },
  {
   "cell_type": "code",
   "execution_count": 7,
   "metadata": {
    "collapsed": true
   },
   "outputs": [],
   "source": [
    "\n",
    "f2 = sympy.lambdify([x], x**2 + 2*x - 4)"
   ]
  },
  {
   "cell_type": "markdown",
   "metadata": {},
   "source": [
    "... and plot our guesses $f_1$ and $f_2$ with our given data:"
   ]
  },
  {
   "cell_type": "code",
   "execution_count": 8,
   "metadata": {},
   "outputs": [
    {
     "data": {
      "image/png": "[encoded data removed]",
      "text/plain": [
       "<matplotlib.figure.Figure at 0x7f5a6d6c59b0>"
      ]
     },
     "metadata": {},
     "output_type": "display_data"
    }
   ],
   "source": [
    "fig,ax = plt.figure(), plt.axes()\n",
    "\n",
    "X = np.linspace(-1,4)\n",
    "\n",
    "dataX, dataY = zip(*data)\n",
    "ax.plot(dataX, dataY, \"o\")\n",
    "\n",
    "ax.plot(X, f1(X))\n",
    "ax.plot(X, f2(X))\n",
    "\n",
    "plt.show()"
   ]
  },
  {
   "cell_type": "markdown",
   "metadata": {},
   "source": [
    "Better, but $f_2$'s graph is a bit low on the left.\n",
    "\n",
    "There must be a better way, rather than guessing!\n",
    "\n",
    " Our data is a set of 20 points\n",
    " $\\mathrm{data} = \\{(x_i, y_i) : i \\in \\{0,1,2,3,...19\\} \\}$.\n",
    " We want to simutaneously MINIMIZE the DISTANCE from the\n",
    " data points $(x_i, y_i)$ to the points on the \n",
    " graph of f, i.e., the points $(x_i, f(x_i))$\n",
    " For every $i$,  the distance from $(x_i, y_i)$\n",
    " to $(x_i, f(x_i))$ is:\n",
    " $$\\sqrt{ (x_i-x_i)^2+(y_i-f(x_i))^2 }\n",
    "     =\\sqrt{ (y_i-f(x_i))^2}=|y_i-f(x_i)|.$$ \n",
    "Minimization? Perhaps we can use calculus? \n",
    "\n",
    "The absoulte value $x\\mapsto|x|$ is NOT differentiable at zero.\n",
    "Rather let's use the square of the DISTANCE from the\n",
    " data points $(x_i, y_i)$ to the points on the \n",
    " graph of $f$. That is\n",
    "$$(x_i-x_i)^2+(y_i-f(x_i))^2=(y_i-f(x_i))^2.$$\n",
    " This is for one data point, but we want this \n",
    " quantity to be small for all datapoints.\n",
    "\n",
    " Lets consider the sum of all these quantities:\n",
    " $$\\sum_{(x_i,y_i)\\in{\\mathrm{data}}}(y_i-f(x_i))^2\n",
    "     =\\sum_{(x_i,y_i)\\in{\\mathrm{data}}}(y_i-(ax_i^2+bx_i+c))^2$$\n",
    " If we can find values of a,b,c that makes the \n",
    " above quantity small, as small as possible, we are in business!\n",
    " This is now our objective!\n",
    "\n",
    " Let's use sympy to compute the above quantity for our 20 \n",
    " given data points.     \n"
   ]
  },
  {
   "cell_type": "code",
   "execution_count": 9,
   "metadata": {
    "collapsed": true
   },
   "outputs": [],
   "source": [
    "from sympy.abc import x,a,b,c\n",
    "import sympy\n",
    "\n",
    "f = sympy.lambdify([x], a*x**2+ b*x+c)\n",
    "objective = sum( (y_i - f(x_i))**2 for x_i,y_i in data)"
   ]
  },
  {
   "cell_type": "code",
   "execution_count": 10,
   "metadata": {},
   "outputs": [
    {
     "data": {
      "image/png": "[encoded data removed]",
      "text/latex": [
       "$$374.39609912 a^{2} + 295.32802 a b + 125.212 a c - 725.80455 a + 62.606 b^{2} + 60.64 b c - 277.3806 b + 20.0 c^{2} - 112.22 c + 383.6073$$"
      ],
      "text/plain": [
       "              2                                                       2       \n",
       "374.39609912⋅a  + 295.32802⋅a⋅b + 125.212⋅a⋅c - 725.80455⋅a + 62.606⋅b  + 60.6\n",
       "\n",
       "                           2                      \n",
       "4⋅b⋅c - 277.3806⋅b + 20.0⋅c  - 112.22⋅c + 383.6073"
      ]
     },
     "execution_count": 10,
     "metadata": {},
     "output_type": "execute_result"
    }
   ],
   "source": [
    "sympy.simplify(objective)"
   ]
  },
  {
   "cell_type": "markdown",
   "metadata": {
    "collapsed": true
   },
   "source": [
    " Notice how this expression is only in the parameters a, b, and c.\n",
    " We must find the values a, b, and c for which the objective is a minimum.\n",
    " This can only happen where the objective has a critical point,\n",
    " i.e., its partial derivatives to a,b,c are simultaneously zero. \n",
    " This will be discussed in more detail in a course on multivariate calculus\n",
    " \n",
    " (See https://en.wikipedia.org/wiki/Critical_point_(mathematics)#Several_variables)\n",
    "\n",
    " I.e., We must solve the following system of three equations:"
   ]
  },
  {
   "cell_type": "code",
   "execution_count": 23,
   "metadata": {},
   "outputs": [
    {
     "data": {
      "image/png": "[encoded data removed]",
      "text/latex": [
       "$$\\left [ 748.79219824 a + 295.32802 b + 125.212 c - 725.80455 = 0, \\quad 295.32802 a + 125.212 b + 60.64 c - 277.3806 = 0, \\quad 125.212 a + 60.64 b + 40 c - 112.22 = 0\\right ]$$"
      ],
      "text/plain": [
       "[748.79219824⋅a + 295.32802⋅b + 125.212⋅c - 725.80455 = 0, 295.32802⋅a + 125.2\n",
       "12⋅b + 60.64⋅c - 277.3806 = 0, 125.212⋅a + 60.64⋅b + 40⋅c - 112.22 = 0]"
      ]
     },
     "execution_count": 23,
     "metadata": {},
     "output_type": "execute_result"
    }
   ],
   "source": [
    "[   \n",
    "    sympy.Eq(sympy.diff(objective, a), 0),\n",
    "    sympy.Eq(sympy.diff(objective, b), 0),\n",
    "    sympy.Eq(sympy.diff(objective, c), 0), \n",
    "]"
   ]
  },
  {
   "cell_type": "markdown",
   "metadata": {},
   "source": [
    "... call sympy.solve:"
   ]
  },
  {
   "cell_type": "code",
   "execution_count": 24,
   "metadata": {
    "collapsed": true
   },
   "outputs": [],
   "source": [
    "parameters = sympy.solve([\n",
    "    sympy.Eq(sympy.diff(objective, a), 0),\n",
    "    sympy.Eq(sympy.diff(objective, b), 0),\n",
    "    sympy.Eq(sympy.diff(objective, c), 0),            \n",
    "], [a,b,c])"
   ]
  },
  {
   "cell_type": "code",
   "execution_count": 25,
   "metadata": {},
   "outputs": [
    {
     "data": {
      "image/png": "[encoded data removed]",
      "text/latex": [
       "$$\\left \\{ a : 1.5425209779946, \\quad b : -1.66731287670701, \\quad c : 0.504592903671337\\right \\}$$"
      ],
      "text/plain": [
       "{a: 1.5425209779946, b: -1.66731287670701, c: 0.504592903671337}"
      ]
     },
     "execution_count": 25,
     "metadata": {},
     "output_type": "execute_result"
    }
   ],
   "source": [
    "parameters"
   ]
  },
  {
   "cell_type": "markdown",
   "metadata": {},
   "source": [
    "These are the parameters we want. Let's substiture into $ax^2+bx+c$"
   ]
  },
  {
   "cell_type": "code",
   "execution_count": 16,
   "metadata": {},
   "outputs": [
    {
     "data": {
      "image/png": "[encoded data removed]",
      "text/latex": [
       "$$1.5425209779946 x^{2} - 1.66731287670701 x + 0.504592903671337$$"
      ],
      "text/plain": [
       "                 2                                         \n",
       "1.5425209779946⋅x  - 1.66731287670701⋅x + 0.504592903671337"
      ]
     },
     "execution_count": 16,
     "metadata": {},
     "output_type": "execute_result"
    }
   ],
   "source": [
    "fitted_expression = (a*x**2+b*x+c).subs(parameters)\n",
    "fitted_expression"
   ]
  },
  {
   "cell_type": "markdown",
   "metadata": {},
   "source": [
    "Let's make a function out of this expression"
   ]
  },
  {
   "cell_type": "code",
   "execution_count": 19,
   "metadata": {
    "collapsed": true
   },
   "outputs": [],
   "source": [
    "\n",
    "fitted_f = sympy.lambdify([x], fitted_expression)"
   ]
  },
  {
   "cell_type": "markdown",
   "metadata": {},
   "source": [
    "... and plot it against our previous guesses and our data:"
   ]
  },
  {
   "cell_type": "code",
   "execution_count": 22,
   "metadata": {},
   "outputs": [
    {
     "data": {
      "image/png": "[encoded data removed]",
      "text/plain": [
       "<matplotlib.figure.Figure at 0x7f5a6d4346a0>"
      ]
     },
     "metadata": {},
     "output_type": "display_data"
    }
   ],
   "source": [
    "\n",
    "fig,ax = plt.figure(), plt.axes()\n",
    "\n",
    "X = np.linspace(-1,4)\n",
    "\n",
    "dataX, dataY = zip(*data)\n",
    "ax.plot(dataX, dataY, \"o\")\n",
    "\n",
    "ax.plot(X, f1(X))\n",
    "ax.plot(X, f2(X))\n",
    "ax.plot(X, fitted_f(X))\n",
    "\n",
    "plt.show()\n"
   ]
  },
  {
   "cell_type": "markdown",
   "metadata": {},
   "source": [
    "Notice, that our fitted function closely fits the data, closer than our arbitrary guesses."
   ]
  },
  {
   "cell_type": "markdown",
   "metadata": {},
   "source": [
    "Curve fitting with numpy\n",
    "========="
   ]
  },
  {
   "cell_type": "markdown",
   "metadata": {},
   "source": [
    "Say we are given a list on 20 data points:"
   ]
  },
  {
   "cell_type": "code",
   "execution_count": 4,
   "metadata": {
    "collapsed": true
   },
   "outputs": [],
   "source": [
    "\n",
    "data = [\n",
    "  (1.36, 3.18),\n",
    "  (1.19, 0.13),\n",
    "  (2.95, 10.54),\n",
    "  (2.84, 9.59),\n",
    "  (0.44, -1.69),\n",
    "  (2.83, 6.43),\n",
    "  (1.39, 0.13),\n",
    "  (1.88, 2.32),\n",
    "  (1.23, -0.41),\n",
    "  (0.92, -0.11),\n",
    "  (0.97, 1.14),\n",
    "  (2.19, 4.05),\n",
    "  (2.02, 4.39),\n",
    "  (2.48, 5.54),\n",
    "  (1.2, 0.94),\n",
    "  (0.22, -0.92),\n",
    "  (0.3, 1.8),\n",
    "  (1.02, 1.4),\n",
    "  (0.07, 0.94),\n",
    "  (2.82, 6.72),\n",
    "]"
   ]
  },
  {
   "cell_type": "markdown",
   "metadata": {},
   "source": [
    "Let's visualize our data on a scatter plot:"
   ]
  },
  {
   "cell_type": "code",
   "execution_count": 5,
   "metadata": {},
   "outputs": [
    {
     "data": {
      "image/png": "[encoded data removed]",
      "text/plain": [
       "<matplotlib.figure.Figure at 0x7fb7f002d438>"
      ]
     },
     "metadata": {},
     "output_type": "display_data"
    }
   ],
   "source": [
    "\n",
    "import matplotlib.pyplot as plt\n",
    "fig,ax = plt.figure(), plt.axes()\n",
    "\n",
    "dataX, dataY = zip(*data)\n",
    "ax.plot(dataX, dataY, \"o\")\n",
    "\n",
    "plt.show()\n"
   ]
  },
  {
   "cell_type": "markdown",
   "metadata": {},
   "source": [
    " We will use the numpy \"polyfit\" and \"poly1d  functions\n",
    " to fit polynomials to our data using a \"least squares fit\"\n",
    "\n",
    " We can look up these functions' help \n",
    " to understand how to use them:"
   ]
  },
  {
   "cell_type": "code",
   "execution_count": null,
   "metadata": {
    "collapsed": true
   },
   "outputs": [],
   "source": [
    "import numpy as np\n",
    "help(np.polyfit)\n"
   ]
  },
  {
   "cell_type": "code",
   "execution_count": null,
   "metadata": {
    "collapsed": true
   },
   "outputs": [],
   "source": [
    "help(np.poly1d)"
   ]
  },
  {
   "cell_type": "markdown",
   "metadata": {},
   "source": [
    " For any n points we can fit a unique \n",
    " (n-1)th-degree polynomial through the points\n",
    " so that the polynomial passes exactly through the \n",
    " data points.\n",
    "\n",
    " Lets find the coefficients of a\n",
    " 19th degree polynomial p that passes \n",
    " through all 20 points using the fucntion numpy.polyfit:"
   ]
  },
  {
   "cell_type": "code",
   "execution_count": 6,
   "metadata": {},
   "outputs": [
    {
     "name": "stderr",
     "output_type": "stream",
     "text": [
      "/home/miek/stuff/devenv/lib/python3.6/site-packages/ipykernel_launcher.py:2: RankWarning: Polyfit may be poorly conditioned\n",
      "  \n"
     ]
    }
   ],
   "source": [
    "import numpy as np\n",
    "p_coeffs = np.polyfit(dataX,dataY, 19)"
   ]
  },
  {
   "cell_type": "markdown",
   "metadata": {},
   "source": [
    "Let's look at these coefficients:"
   ]
  },
  {
   "cell_type": "code",
   "execution_count": 7,
   "metadata": {},
   "outputs": [
    {
     "data": {
      "text/plain": [
       "array([ -3.18539670e+02,   6.68603366e+03,  -5.89570950e+04,\n",
       "         2.67908425e+05,  -5.32306604e+05,  -5.99817584e+05,\n",
       "         5.72029885e+06,  -8.69702146e+06,  -2.55751219e+07,\n",
       "         1.56254880e+08,  -3.95305093e+08,   6.32806621e+08,\n",
       "        -7.01142368e+08,   5.51343098e+08,  -3.06943392e+08,\n",
       "         1.18340402e+08,  -3.02547577e+07,   4.75522618e+06,\n",
       "        -3.98557673e+05,   1.25918369e+04])"
      ]
     },
     "execution_count": 7,
     "metadata": {},
     "output_type": "execute_result"
    }
   ],
   "source": [
    "p_coeffs"
   ]
  },
  {
   "cell_type": "markdown",
   "metadata": {},
   "source": [
    " We construct a function using numpy.poly1d, that outputs the value\n",
    " of the polynomial with these coeficients"
   ]
  },
  {
   "cell_type": "code",
   "execution_count": 8,
   "metadata": {
    "collapsed": true
   },
   "outputs": [],
   "source": [
    "\n",
    "p = np.poly1d(p_coeffs)"
   ]
  },
  {
   "cell_type": "markdown",
   "metadata": {},
   "source": [
    " We can see what this polynomial is \n",
    " by evaluating p(x) with x \n",
    " some sympy symbol. \n"
   ]
  },
  {
   "cell_type": "code",
   "execution_count": 9,
   "metadata": {},
   "outputs": [
    {
     "data": {
      "image/png": "[encoded data removed]",
      "text/latex": [
       "$$- 318.53966981043 x^{19} + 6686.0336559197 x^{18} - 58957.0950235226 x^{17} + 267908.424710235 x^{16} - 532306.603594159 x^{15} - 599817.583786623 x^{14} + 5720298.84687654 x^{13} - 8697021.46134197 x^{12} - 25575121.9103217 x^{11} + 156254880.201103 x^{10} - 395305092.65404 x^{9} + 632806620.888263 x^{8} - 701142367.606734 x^{7} + 551343098.312033 x^{6} - 306943392.361484 x^{5} + 118340401.947435 x^{4} - 30254757.692942 x^{3} + 4755226.18257813 x^{2} - 398557.67261348 x + 12591.8368556302$$"
      ],
      "text/plain": [
       "                   19                    18                     17            \n",
       "- 318.53966981043⋅x   + 6686.0336559197⋅x   - 58957.0950235226⋅x   + 267908.42\n",
       "\n",
       "         16                     15                     14                     \n",
       "4710235⋅x   - 532306.603594159⋅x   - 599817.583786623⋅x   + 5720298.84687654⋅x\n",
       "\n",
       "13                     12                     11                     10       \n",
       "   - 8697021.46134197⋅x   - 25575121.9103217⋅x   + 156254880.201103⋅x   - 3953\n",
       "\n",
       "             9                     8                     7                    \n",
       "05092.65404⋅x  + 632806620.888263⋅x  - 701142367.606734⋅x  + 551343098.312033⋅\n",
       "\n",
       " 6                     5                     4                    3           \n",
       "x  - 306943392.361484⋅x  + 118340401.947435⋅x  - 30254757.692942⋅x  + 4755226.\n",
       "\n",
       "          2                                       \n",
       "18257813⋅x  - 398557.67261348⋅x + 12591.8368556302"
      ]
     },
     "execution_count": 9,
     "metadata": {},
     "output_type": "execute_result"
    }
   ],
   "source": [
    "\n",
    "import sympy\n",
    "sympy.init_printing()\n",
    "from sympy.abc import x\n",
    "\n",
    "sympy.expand(p(x))"
   ]
  },
  {
   "cell_type": "markdown",
   "metadata": {},
   "source": [
    " Compare the coefficients of our polynomial\n",
    " with the numbers in p_coeffs!"
   ]
  },
  {
   "cell_type": "markdown",
   "metadata": {
    "collapsed": true
   },
   "source": [
    " Let us plot our data and out polynomial p together:|"
   ]
  },
  {
   "cell_type": "code",
   "execution_count": 10,
   "metadata": {},
   "outputs": [
    {
     "data": {
      "image/png": "[encoded data removed]",
      "text/plain": [
       "<matplotlib.figure.Figure at 0x7fb7d5bc0208>"
      ]
     },
     "metadata": {},
     "output_type": "display_data"
    }
   ],
   "source": [
    "\n",
    "X = np.linspace(0,3,100)\n",
    "\n",
    "fig, ax = plt.figure(), plt.axes()\n",
    "\n",
    "ax.plot(dataX,dataY, \"o\")\n",
    "ax.plot(X,p(X))\n",
    "plt.show()"
   ]
  },
  {
   "cell_type": "markdown",
   "metadata": {},
   "source": [
    " Notice how this 19th degree polynomial passes\n",
    " through every data point, but oscilates\n",
    " quite wildly out of the range of the Y-coordinates \n",
    " of the data points: the interval [-2,9].\n",
    " This polynomial is \"over fitted\" to the data.\n",
    "\n",
    " Let's look closer:\n"
   ]
  },
  {
   "cell_type": "code",
   "execution_count": 12,
   "metadata": {},
   "outputs": [
    {
     "data": {
      "image/png": "[encoded data removed]",
      "text/plain": [
       "<matplotlib.figure.Figure at 0x7fb7d5afac88>"
      ]
     },
     "metadata": {},
     "output_type": "display_data"
    }
   ],
   "source": [
    "\n",
    "X = np.linspace(0,3,100)\n",
    "\n",
    "fig, ax = plt.figure(), plt.axes()\n",
    "ax.set_ylim(-5,20)\n",
    "\n",
    "ax.plot(dataX,dataY, \"o\")\n",
    "ax.plot(X,p(X))\n",
    "plt.show()"
   ]
  },
  {
   "cell_type": "markdown",
   "metadata": {},
   "source": [
    " Let us fit 2nd degree polynomial q, \n",
    " i.e., a parabola, to the same data (compare with the coefficients we computed in the previous chapter!):"
   ]
  },
  {
   "cell_type": "code",
   "execution_count": 13,
   "metadata": {},
   "outputs": [
    {
     "data": {
      "image/png": "[encoded data removed]",
      "text/latex": [
       "$$1.5425209779946 x^{2} - 1.66731287670702 x + 0.50459290367134$$"
      ],
      "text/plain": [
       "                 2                                        \n",
       "1.5425209779946⋅x  - 1.66731287670702⋅x + 0.50459290367134"
      ]
     },
     "execution_count": 13,
     "metadata": {},
     "output_type": "execute_result"
    }
   ],
   "source": [
    "\n",
    "q_coeffs = np.polyfit(dataX,dataY, 2)\n",
    "q = np.poly1d(q_coeffs)\n",
    "sympy.expand(q(x))"
   ]
  },
  {
   "cell_type": "markdown",
   "metadata": {},
   "source": [
    " ... and plot our data \n",
    " along with p and q \n",
    " on the same set of axes:"
   ]
  },
  {
   "cell_type": "code",
   "execution_count": 14,
   "metadata": {},
   "outputs": [
    {
     "data": {
      "image/png": "[encoded data removed]",
      "text/plain": [
       "<matplotlib.figure.Figure at 0x7fb7d5ab59b0>"
      ]
     },
     "metadata": {},
     "output_type": "display_data"
    }
   ],
   "source": [
    "\n",
    "fig, ax = plt.figure(), plt.axes()\n",
    "ax.set_ylim(-5,20)\n",
    "\n",
    "X = np.linspace(0,3,100)\n",
    "\n",
    "ax.plot(dataX,dataY, \"o\")\n",
    "ax.plot(X,p(X))\n",
    "ax.plot(X,q(X))\n",
    "\n",
    "plt.show()"
   ]
  },
  {
   "cell_type": "markdown",
   "metadata": {
    "collapsed": true
   },
   "source": [
    " Notice how the parabola does not \n",
    " pass through all the datapoints,\n",
    " but matches the overall trend of the data\n",
    " much closer than the 19th degree polynomial.\n",
    "\n",
    " That is not unexpected if you consider how our\n",
    " data points were generated:\n",
    "\n"
   ]
  },
  {
   "cell_type": "code",
   "execution_count": null,
   "metadata": {
    "collapsed": true
   },
   "outputs": [],
   "source": [
    "import random\n",
    "X = [round(random.uniform(0,3), 2) for _ in range(20)]\n",
    "Y = [round(x**2 + random.uniform(-2,2), 2) for x in X]\n",
    "data = list(zip(X,Y))\n"
   ]
  }
 ],
 "metadata": {
  "kernelspec": {
   "display_name": "Python 3",
   "language": "python",
   "name": "python3"
  },
  "language_info": {
   "codemirror_mode": {
    "name": "ipython",
    "version": 3
   },
   "file_extension": ".py",
   "mimetype": "text/x-python",
   "name": "python",
   "nbconvert_exporter": "python",
   "pygments_lexer": "ipython3",
   "version": "3.6.7"
  }
 },
 "nbformat": 4,
 "nbformat_minor": 2
}
