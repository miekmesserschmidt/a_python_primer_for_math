{
 "cells": [
  {
   "cell_type": "markdown",
   "metadata": {},
   "source": [
    "List comprehensions\n",
    "============="
   ]
  },
  {
   "cell_type": "code",
   "execution_count": 1,
   "metadata": {},
   "outputs": [
    {
     "data": {
      "text/plain": [
       "['a', 'b', 'c', 'd', 'e', 'f', 'g']"
      ]
     },
     "execution_count": 1,
     "metadata": {},
     "output_type": "execute_result"
    }
   ],
   "source": [
    "girl_names = [\"alice\", \"beatrice\", \"candy\", \n",
    "    \"dolly\", \"elaine\", \"francine\", \"geraldine\"]\n",
    "\n",
    "# We can use list comprehensions to \n",
    "# make new lists in a very compact way\n",
    "first_letters = [name[0] for name in girl_names]\n",
    "first_letters"
   ]
  },
  {
   "cell_type": "code",
   "execution_count": 2,
   "metadata": {},
   "outputs": [
    {
     "data": {
      "text/plain": [
       "[5, 8, 5, 5, 6, 8, 9]"
      ]
     },
     "execution_count": 2,
     "metadata": {},
     "output_type": "execute_result"
    }
   ],
   "source": [
    "length_of_names = [len(name) for name in girl_names]\n",
    "length_of_names"
   ]
  },
  {
   "cell_type": "code",
   "execution_count": 2,
   "metadata": {},
   "outputs": [
    {
     "data": {
      "text/plain": [
       "[('alice', 5),\n",
       " ('beatrice', 8),\n",
       " ('candy', 5),\n",
       " ('dolly', 5),\n",
       " ('elaine', 6),\n",
       " ('francine', 8),\n",
       " ('geraldine', 9)]"
      ]
     },
     "execution_count": 2,
     "metadata": {},
     "output_type": "execute_result"
    }
   ],
   "source": [
    "names_length_pairs = [ ( name, len(name) ) for name in girl_names]\n",
    "names_length_pairs"
   ]
  },
  {
   "cell_type": "code",
   "execution_count": 3,
   "metadata": {},
   "outputs": [
    {
     "data": {
      "text/plain": [
       "['beatrice', 'francine', 'geraldine']"
      ]
     },
     "execution_count": 3,
     "metadata": {},
     "output_type": "execute_result"
    }
   ],
   "source": [
    "only_long_names = [ name for name in girl_names if len(name) > 6 ]\n",
    "only_long_names"
   ]
  },
  {
   "cell_type": "markdown",
   "metadata": {},
   "source": [
    "Computing with comprehensions\n",
    "-----------"
   ]
  },
  {
   "cell_type": "code",
   "execution_count": 22,
   "metadata": {},
   "outputs": [
    {
     "data": {
      "text/plain": [
       "5050"
      ]
     },
     "execution_count": 22,
     "metadata": {},
     "output_type": "execute_result"
    }
   ],
   "source": [
    "# We can use use comprehensions \n",
    "# to perform computations too.\n",
    "\n",
    "# We can compute the sum of the numbers 1,2,3,4, ..., 100\n",
    "sum(i for i in range(1, 101))"
   ]
  },
  {
   "cell_type": "code",
   "execution_count": 17,
   "metadata": {},
   "outputs": [
    {
     "data": {
      "text/plain": [
       "338350"
      ]
     },
     "execution_count": 17,
     "metadata": {},
     "output_type": "execute_result"
    }
   ],
   "source": [
    "# ... or the sum of all the square numbers 1,4,9,16, ..., 100^2\n",
    "sum(i**2 for i in range(1, 101))"
   ]
  },
  {
   "cell_type": "code",
   "execution_count": 21,
   "metadata": {},
   "outputs": [
    {
     "data": {
      "text/plain": [
       "166716670000"
      ]
     },
     "execution_count": 21,
     "metadata": {},
     "output_type": "execute_result"
    }
   ],
   "source": [
    "# ... or sum of only the even square numbers 4,16,36  ..., 10000^2\n",
    "sum(\n",
    "    i**2 for i in range(1, 10001)  if i % 2 == 0\n",
    ")"
   ]
  },
  {
   "cell_type": "markdown",
   "metadata": {},
   "source": [
    "Extra material\n",
    "-------------\n",
    "### Socratica videos\n",
    "\n",
    "* List comprehensions    : https://youtu.be/AhSvKGTh28Q\n"
   ]
  },
  {
   "cell_type": "code",
   "execution_count": null,
   "metadata": {
    "collapsed": true
   },
   "outputs": [],
   "source": []
  }
 ],
 "metadata": {
  "kernelspec": {
   "display_name": "Python 3",
   "language": "python",
   "name": "python3"
  },
  "language_info": {
   "codemirror_mode": {
    "name": "ipython",
    "version": 3
   },
   "file_extension": ".py",
   "mimetype": "text/x-python",
   "name": "python",
   "nbconvert_exporter": "python",
   "pygments_lexer": "ipython3",
   "version": "3.5.2"
  }
 },
 "nbformat": 4,
 "nbformat_minor": 2
}
