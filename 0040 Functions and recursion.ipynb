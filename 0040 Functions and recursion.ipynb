{
 "cells": [
  {
   "cell_type": "markdown",
   "metadata": {},
   "source": [
    "Functions\n",
    "======"
   ]
  },
  {
   "cell_type": "code",
   "execution_count": 1,
   "metadata": {},
   "outputs": [
    {
     "name": "stdout",
     "output_type": "stream",
     "text": [
      "Hello Gary!\n",
      "Hello Alice!\n",
      "Hello Crocubot!\n"
     ]
    }
   ],
   "source": [
    "# We can use functions to perform the same action\n",
    "# on different inputs\n",
    "def say_hello_to(name):\n",
    "    print(\"Hello \" + name + \"!\")\n",
    "    \n",
    "say_hello_to(\"Gary\")\n",
    "say_hello_to(\"Alice\")\n",
    "say_hello_to(\"Crocubot\")\n"
   ]
  },
  {
   "cell_type": "code",
   "execution_count": 8,
   "metadata": {},
   "outputs": [],
   "source": [
    "# A function that checks if a number is \n",
    "# divisible by eleven.\n",
    "def is_divisible_by_11(number):\n",
    "    return number % 11 == 0"
   ]
  },
  {
   "cell_type": "code",
   "execution_count": 9,
   "metadata": {},
   "outputs": [
    {
     "name": "stdout",
     "output_type": "stream",
     "text": [
      "10 is divisible by 11 :  False\n",
      "11 is divisible by 11 :  True\n",
      "12 is divisible by 11 :  False\n",
      "13 is divisible by 11 :  False\n",
      "14 is divisible by 11 :  False\n",
      "15 is divisible by 11 :  False\n",
      "16 is divisible by 11 :  False\n",
      "17 is divisible by 11 :  False\n",
      "18 is divisible by 11 :  False\n",
      "19 is divisible by 11 :  False\n",
      "20 is divisible by 11 :  False\n",
      "21 is divisible by 11 :  False\n",
      "22 is divisible by 11 :  True\n",
      "23 is divisible by 11 :  False\n",
      "24 is divisible by 11 :  False\n"
     ]
    }
   ],
   "source": [
    "# Lets check which numbers of 10,11,12,...,24\n",
    "for number in range(10, 25):\n",
    "    print(number, \"is divisible by 11 : \", is_divisible_by_11(number))"
   ]
  },
  {
   "cell_type": "code",
   "execution_count": 4,
   "metadata": {},
   "outputs": [],
   "source": [
    "\n",
    "\n",
    "\n",
    "# An implementation of the Collatz function\n",
    "#\n",
    "#\n",
    "def collatz(number):\n",
    "    if number  == 1:\n",
    "        return number\n",
    "    elif number % 2 == 0: \n",
    "        return number // 2\n",
    "    else:\n",
    "        return 3*number + 1\n",
    "    \n"
   ]
  },
  {
   "cell_type": "code",
   "execution_count": 5,
   "metadata": {},
   "outputs": [
    {
     "name": "stdout",
     "output_type": "stream",
     "text": [
      "3  ->  10\n",
      "11  ->  34\n",
      "24  ->  12\n",
      "65  ->  196\n"
     ]
    }
   ],
   "source": [
    "# Let's see what the output is when\n",
    "# applyinhg the Collatz function to\n",
    "# 3,11,24 and 65.\n",
    "for n in [3, 11, 24, 65]:\n",
    "    print(n, \" -> \",collatz(n))"
   ]
  },
  {
   "cell_type": "code",
   "execution_count": 12,
   "metadata": {},
   "outputs": [
    {
     "name": "stdout",
     "output_type": "stream",
     "text": [
      "46\n",
      "23\n",
      "70\n",
      "35\n",
      "106\n",
      "53\n",
      "160\n",
      "80\n",
      "40\n",
      "20\n",
      "10\n",
      "5\n",
      "16\n",
      "8\n",
      "4\n",
      "2\n",
      "1\n"
     ]
    }
   ],
   "source": [
    "# We always seem end at 1 when we repeatedly\n",
    "# apply the Collatz function to a number\n",
    "#\n",
    "# See https://en.wikipedia.org/wiki/Collatz_conjecture\n",
    "\n",
    "current_number = 15\n",
    "while current_number != 1:    \n",
    "    current_number = collatz(current_number)\n",
    "    print(current_number)"
   ]
  },
  {
   "cell_type": "markdown",
   "metadata": {},
   "source": [
    "Recursion\n",
    "-------"
   ]
  },
  {
   "cell_type": "code",
   "execution_count": 6,
   "metadata": {},
   "outputs": [],
   "source": [
    "# Recursion is what happens happens \n",
    "# when a function invokes itself\n",
    "# \n",
    "# The following is an example of a recursive function\n",
    "# that computes the nth Fibonacci number\n",
    "#\n",
    "def fibonacci(n):\n",
    "    \"\"\"The n'th fibonacci number \"\"\"\n",
    "    if n == 1:\n",
    "        return 1\n",
    "    elif n == 2:\n",
    "        return 1\n",
    "    else:\n",
    "        return fibonacci(n-1) + fibonacci(n-2)\n",
    "\n",
    "    "
   ]
  },
  {
   "cell_type": "code",
   "execution_count": 7,
   "metadata": {},
   "outputs": [
    {
     "name": "stdout",
     "output_type": "stream",
     "text": [
      "1\n",
      "1\n",
      "2\n",
      "3\n",
      "5\n",
      "8\n",
      "13\n",
      "21\n",
      "34\n",
      "55\n"
     ]
    }
   ],
   "source": [
    "# Let's compute the first 10 fibonacci numbers\n",
    "for i in range(1,11):\n",
    "    print(fibonacci(i))"
   ]
  },
  {
   "cell_type": "markdown",
   "metadata": {},
   "source": [
    "Making functions with lambda expressions\n",
    "----------------"
   ]
  },
  {
   "cell_type": "code",
   "execution_count": 9,
   "metadata": {
    "collapsed": true
   },
   "outputs": [],
   "source": [
    "# Very simple functions can be defined\n",
    "# very succinctly with the \"lambda\" keyword\n",
    "f = lambda x: 3*x"
   ]
  },
  {
   "cell_type": "code",
   "execution_count": 10,
   "metadata": {},
   "outputs": [
    {
     "data": {
      "text/plain": [
       "12"
      ]
     },
     "execution_count": 10,
     "metadata": {},
     "output_type": "execute_result"
    }
   ],
   "source": [
    "# Make sure you understand why f(4)=12\n",
    "f(4)"
   ]
  },
  {
   "cell_type": "code",
   "execution_count": 11,
   "metadata": {},
   "outputs": [
    {
     "data": {
      "text/plain": [
       "'aaa'"
      ]
     },
     "execution_count": 11,
     "metadata": {},
     "output_type": "execute_result"
    }
   ],
   "source": [
    "# We are not limited to numbers. eg., f(\"a\")=\"aaa\".\n",
    "f(\"a\")"
   ]
  },
  {
   "cell_type": "markdown",
   "metadata": {},
   "source": [
    "Extra material\n",
    "------------\n",
    "### Socratica videos\n",
    "\n",
    "* Functions          : https://youtu.be/NE97ylAnrz4\n",
    "* Recursion          : https://youtu.be/Qk0zUZW-U_M\n",
    "* Lambda expressions : https://youtu.be/25ovCm9jKfA\n"
   ]
  }
 ],
 "metadata": {
  "kernelspec": {
   "display_name": "Python 3",
   "language": "python",
   "name": "python3"
  },
  "language_info": {
   "codemirror_mode": {
    "name": "ipython",
    "version": 3
   },
   "file_extension": ".py",
   "mimetype": "text/x-python",
   "name": "python",
   "nbconvert_exporter": "python",
   "pygments_lexer": "ipython3",
   "version": "3.5.2"
  }
 },
 "nbformat": 4,
 "nbformat_minor": 2
}
