{
 "cells": [
  {
   "cell_type": "markdown",
   "metadata": {},
   "source": [
    "Introduction\n",
    "==========\n",
    "\n",
    "\n",
    "This document is a primer for using Python for doing mathematics. \n",
    "It is not meant to be used as a comprehensive text, but rather as a\n",
    "demonstrative cheatsheet to get up and running with the basics Python \n",
    "and Python for scientific computing as quickly as possible.\n",
    "\n",
    "We will give very brief introductory demonstrations of the basics of the Python language, before moving on to demonstrations of some of the basic features of the packages *sympy*, *numpy*, and *matplotlib*  which are increasingly used in modern scientific computing. \n",
    "\n",
    "\n"
   ]
  }
 ],
 "metadata": {
  "kernelspec": {
   "display_name": "Python 3",
   "language": "python",
   "name": "python3"
  },
  "language_info": {
   "codemirror_mode": {
    "name": "ipython",
    "version": 3
   },
   "file_extension": ".py",
   "mimetype": "text/x-python",
   "name": "python",
   "nbconvert_exporter": "python",
   "pygments_lexer": "ipython3",
   "version": "3.5.2"
  }
 },
 "nbformat": 4,
 "nbformat_minor": 2
}
