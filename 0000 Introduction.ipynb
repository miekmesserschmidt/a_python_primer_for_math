{
 "cells": [
  {
   "cell_type": "markdown",
   "metadata": {},
   "source": [
    "Introduction\n",
    "==========\n",
    "\n",
    "\n",
    "This document is a primer for using Python for doing mathematics. \n",
    "This document is not meant to be used as a comprehensive text, but rather as a\n",
    "demonstrative cheatsheet to get up and running with the basics Python \n",
    "and Python for scientific computing as quickly as possible.\n",
    "\n",
    "\n",
    "We very briefly introduce the Python language's basics, and give brief introductions\n",
    "to the packages *numpy*, *matplotlib* and *sympy* which are increasingly used in\n",
    "modern scientific computing.\n",
    "\n"
   ]
  }
 ],
 "metadata": {
  "kernelspec": {
   "display_name": "Python 3",
   "language": "python",
   "name": "python3"
  },
  "language_info": {
   "codemirror_mode": {
    "name": "ipython",
    "version": 3
   },
   "file_extension": ".py",
   "mimetype": "text/x-python",
   "name": "python",
   "nbconvert_exporter": "python",
   "pygments_lexer": "ipython3",
   "version": "3.5.2"
  }
 },
 "nbformat": 4,
 "nbformat_minor": 2
}
