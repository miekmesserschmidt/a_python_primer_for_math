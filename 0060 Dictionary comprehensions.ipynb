{
 "cells": [
  {
   "cell_type": "markdown",
   "metadata": {},
   "source": [
    "Dictionary comprehensions\n",
    "==============="
   ]
  },
  {
   "cell_type": "code",
   "execution_count": 1,
   "metadata": {},
   "outputs": [
    {
     "data": {
      "text/plain": [
       "{'alice': 'munro', 'doris': 'lessing', 'john': 'mphako', 'kevin': 'de koker'}"
      ]
     },
     "execution_count": 1,
     "metadata": {},
     "output_type": "execute_result"
    }
   ],
   "source": [
    "surname_dictionary = {\n",
    "    # key   : #value,\n",
    "    \"kevin\" : \"de koker\",\n",
    "    \"john\" : \"mphako\",\n",
    "    \"alice\" : \"munro\",\n",
    "    \"doris\" : \"lessing\",\n",
    "}\n",
    "surname_dictionary"
   ]
  },
  {
   "cell_type": "code",
   "execution_count": 9,
   "metadata": {},
   "outputs": [
    {
     "data": {
      "text/plain": [
       "{'alice': 5, 'doris': 7, 'john': 6, 'kevin': 8}"
      ]
     },
     "execution_count": 9,
     "metadata": {},
     "output_type": "execute_result"
    }
   ],
   "source": [
    "# Make a dictionary which maps to the length of the surname.\n",
    "# (Notice the unpacking in the for loop).\n",
    "length_of_surname_dictionary = {\n",
    "    firstname : len(lastname) \n",
    "        for firstname, lastname in surname_dictionary.items() \n",
    "}\n",
    "length_of_surname_dictionary"
   ]
  },
  {
   "cell_type": "code",
   "execution_count": 8,
   "metadata": {},
   "outputs": [
    {
     "data": {
      "text/plain": [
       "{'alice': 'munro', 'john': 'mphako'}"
      ]
     },
     "execution_count": 8,
     "metadata": {},
     "output_type": "execute_result"
    }
   ],
   "source": [
    "# Make a dictionary which which filters out all\n",
    "# the items whos values (surname) name starts with \"m\"\n",
    "last_name_starts_with_m = {\n",
    "    firstname : lastname \n",
    "        for firstname, lastname in surname_dictionary.items()                            \n",
    "            if \"m\" == lastname[0]\n",
    "}\n",
    "last_name_starts_with_m"
   ]
  }
 ],
 "metadata": {
  "kernelspec": {
   "display_name": "Python 3",
   "language": "python",
   "name": "python3"
  },
  "language_info": {
   "codemirror_mode": {
    "name": "ipython",
    "version": 3
   },
   "file_extension": ".py",
   "mimetype": "text/x-python",
   "name": "python",
   "nbconvert_exporter": "python",
   "pygments_lexer": "ipython3",
   "version": "3.5.2"
  }
 },
 "nbformat": 4,
 "nbformat_minor": 2
}
