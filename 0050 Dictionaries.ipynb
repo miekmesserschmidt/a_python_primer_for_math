{
 "cells": [
  {
   "cell_type": "markdown",
   "metadata": {},
   "source": [
    "Dictionaries\n",
    "========"
   ]
  },
  {
   "cell_type": "markdown",
   "metadata": {},
   "source": [
    "Dictionaries are datastructures that map one object to another."
   ]
  },
  {
   "cell_type": "code",
   "execution_count": 20,
   "metadata": {},
   "outputs": [
    {
     "data": {
      "text/plain": [
       "{'alice': 'munro', 'doris': 'lessing', 'john': 'mphako', 'kevin': 'de koker'}"
      ]
     },
     "execution_count": 20,
     "metadata": {},
     "output_type": "execute_result"
    }
   ],
   "source": [
    "# We create a dictionary using the { ... : ... } notation.\n",
    "surname_dictionary = {\n",
    "    # key   : #value,\n",
    "    \"kevin\" : \"de koker\",\n",
    "    \"john\"  : \"mphako\",\n",
    "    \"alice\" : \"munro\",\n",
    "    \"doris\" : \"lessing\",\n",
    "}\n",
    "surname_dictionary"
   ]
  },
  {
   "cell_type": "code",
   "execution_count": 21,
   "metadata": {},
   "outputs": [
    {
     "data": {
      "text/plain": [
       "'de koker'"
      ]
     },
     "execution_count": 21,
     "metadata": {},
     "output_type": "execute_result"
    }
   ],
   "source": [
    "# get the value associated to a key\n",
    "surname_dictionary[\"kevin\"]"
   ]
  },
  {
   "cell_type": "code",
   "execution_count": 22,
   "metadata": {},
   "outputs": [
    {
     "data": {
      "text/plain": [
       "'munro'"
      ]
     },
     "execution_count": 22,
     "metadata": {},
     "output_type": "execute_result"
    }
   ],
   "source": [
    "# get the value associated to a different key\n",
    "surname_dictionary[\"alice\"]"
   ]
  },
  {
   "cell_type": "code",
   "execution_count": 23,
   "metadata": {},
   "outputs": [
    {
     "ename": "KeyError",
     "evalue": "'bobby'",
     "output_type": "error",
     "traceback": [
      "\u001b[0;31m---------------------------------------------------------------------------\u001b[0m",
      "\u001b[0;31mKeyError\u001b[0m                                  Traceback (most recent call last)",
      "\u001b[0;32m<ipython-input-23-b0777c4d78ec>\u001b[0m in \u001b[0;36m<module>\u001b[0;34m()\u001b[0m\n\u001b[1;32m      1\u001b[0m \u001b[0;31m# try to get the value associated to a key\u001b[0m\u001b[0;34m\u001b[0m\u001b[0;34m\u001b[0m\u001b[0m\n\u001b[1;32m      2\u001b[0m \u001b[0;31m# not in the dictionary results in an error\u001b[0m\u001b[0;34m\u001b[0m\u001b[0;34m\u001b[0m\u001b[0m\n\u001b[0;32m----> 3\u001b[0;31m \u001b[0msurname_dictionary\u001b[0m\u001b[0;34m[\u001b[0m\u001b[0;34m\"bobby\"\u001b[0m\u001b[0;34m]\u001b[0m\u001b[0;34m\u001b[0m\u001b[0m\n\u001b[0m",
      "\u001b[0;31mKeyError\u001b[0m: 'bobby'"
     ]
    }
   ],
   "source": [
    "# try to get the value associated to a key \n",
    "# not in the dictionary results in an error\n",
    "surname_dictionary[\"bobby\"]"
   ]
  },
  {
   "cell_type": "code",
   "execution_count": 24,
   "metadata": {},
   "outputs": [
    {
     "data": {
      "text/plain": [
       "True"
      ]
     },
     "execution_count": 24,
     "metadata": {},
     "output_type": "execute_result"
    }
   ],
   "source": [
    "# Is a key in the dictionary\n",
    "\"kevin\" in surname_dictionary"
   ]
  },
  {
   "cell_type": "code",
   "execution_count": 25,
   "metadata": {},
   "outputs": [
    {
     "data": {
      "text/plain": [
       "False"
      ]
     },
     "execution_count": 25,
     "metadata": {},
     "output_type": "execute_result"
    }
   ],
   "source": [
    "# Is a key in the dictionary\n",
    "\"bobby\" in surname_dictionary"
   ]
  },
  {
   "cell_type": "code",
   "execution_count": 26,
   "metadata": {},
   "outputs": [
    {
     "data": {
      "text/plain": [
       "False"
      ]
     },
     "execution_count": 26,
     "metadata": {},
     "output_type": "execute_result"
    }
   ],
   "source": [
    "# The 'in' operator checks if a key is in the dictionary, not a value\n",
    "\"de koker\" in surname_dictionary "
   ]
  },
  {
   "cell_type": "code",
   "execution_count": 27,
   "metadata": {},
   "outputs": [
    {
     "data": {
      "text/plain": [
       "{'alice': 'munro',\n",
       " 'doris': 'lessing',\n",
       " 'john': 'mphako',\n",
       " 'katie': 'van der merwe',\n",
       " 'kevin': 'de koker'}"
      ]
     },
     "execution_count": 27,
     "metadata": {},
     "output_type": "execute_result"
    }
   ],
   "source": [
    "# We can add an element\n",
    "surname_dictionary[\"katie\"] = \"van der merwe\" \n",
    "surname_dictionary"
   ]
  },
  {
   "cell_type": "code",
   "execution_count": 28,
   "metadata": {},
   "outputs": [
    {
     "data": {
      "text/plain": [
       "{'doris': 'lessing',\n",
       " 'john': 'mphako',\n",
       " 'katie': 'van der merwe',\n",
       " 'kevin': 'de koker'}"
      ]
     },
     "execution_count": 28,
     "metadata": {},
     "output_type": "execute_result"
    }
   ],
   "source": [
    "# We can remove an element\n",
    "del surname_dictionary[\"alice\"] \n",
    "surname_dictionary"
   ]
  },
  {
   "cell_type": "code",
   "execution_count": 29,
   "metadata": {},
   "outputs": [
    {
     "name": "stdout",
     "output_type": "stream",
     "text": [
      "doris\n",
      "kevin\n",
      "john\n",
      "katie\n"
     ]
    }
   ],
   "source": [
    "# iterating over a dictionary iterates over the keys\n",
    "for key in surname_dictionary:\n",
    "    print(key)"
   ]
  },
  {
   "cell_type": "code",
   "execution_count": 30,
   "metadata": {},
   "outputs": [
    {
     "name": "stdout",
     "output_type": "stream",
     "text": [
      "lessing\n",
      "de koker\n",
      "mphako\n",
      "van der merwe\n"
     ]
    }
   ],
   "source": [
    "# but we can iterate over the values using .values()\n",
    "for key in surname_dictionary.values():\n",
    "    print(key)"
   ]
  },
  {
   "cell_type": "code",
   "execution_count": 31,
   "metadata": {},
   "outputs": [
    {
     "name": "stdout",
     "output_type": "stream",
     "text": [
      "('doris', 'lessing')\n",
      "('kevin', 'de koker')\n",
      "('john', 'mphako')\n",
      "('katie', 'van der merwe')\n"
     ]
    }
   ],
   "source": [
    "# We can also iterate over key-value pairs using .items()\n",
    "for pair in surname_dictionary.items(): \n",
    "    print(pair)"
   ]
  },
  {
   "cell_type": "code",
   "execution_count": 33,
   "metadata": {},
   "outputs": [
    {
     "name": "stdout",
     "output_type": "stream",
     "text": [
      "doris --> l\n",
      "kevin --> d\n",
      "john --> m\n",
      "katie --> v\n"
     ]
    }
   ],
   "source": [
    "# We can unpack in an iteration over key-value pairs using .items()\n",
    "for firstname, lastname in surname_dictionary.items():  \n",
    "    print(firstname, \"-->\", lastname[0])"
   ]
  },
  {
   "cell_type": "markdown",
   "metadata": {},
   "source": [
    "Extra material\n",
    "----------\n",
    "### Socratica videos\n",
    "\n",
    "* Dictionaries : https://youtu.be/XCcpzWs-CI4\n",
    "\n"
   ]
  }
 ],
 "metadata": {
  "kernelspec": {
   "display_name": "Python 3",
   "language": "python",
   "name": "python3"
  },
  "language_info": {
   "codemirror_mode": {
    "name": "ipython",
    "version": 3
   },
   "file_extension": ".py",
   "mimetype": "text/x-python",
   "name": "python",
   "nbconvert_exporter": "python",
   "pygments_lexer": "ipython3",
   "version": "3.5.2"
  }
 },
 "nbformat": 4,
 "nbformat_minor": 2
}
