{
 "cells": [
  {
   "cell_type": "markdown",
   "metadata": {},
   "source": [
    "Curve fitting with numpy\n",
    "========="
   ]
  },
  {
   "cell_type": "code",
   "execution_count": 74,
   "metadata": {
    "collapsed": true
   },
   "outputs": [],
   "source": [
    "# We are given a list on 20 data points;\n",
    "data = [\n",
    "  (1.36, 3.18),\n",
    "  (1.19, 0.13),\n",
    "  (2.95, 10.54),\n",
    "  (2.84, 9.59),\n",
    "  (0.44, -1.69),\n",
    "  (2.83, 6.43),\n",
    "  (1.39, 0.13),\n",
    "  (1.88, 2.32),\n",
    "  (1.23, -0.41),\n",
    "  (0.92, -0.11),\n",
    "  (0.97, 1.14),\n",
    "  (2.19, 4.05),\n",
    "  (2.02, 4.39),\n",
    "  (2.48, 5.54),\n",
    "  (1.2, 0.94),\n",
    "  (0.22, -0.92),\n",
    "  (0.3, 1.8),\n",
    "  (1.02, 1.4),\n",
    "  (0.07, 0.94),\n",
    "  (2.82, 6.72),\n",
    "]"
   ]
  },
  {
   "cell_type": "code",
   "execution_count": 76,
   "metadata": {},
   "outputs": [
    {
     "data": {
      "image/png": "[encoded data removed]",
      "text/plain": [
       "<matplotlib.figure.Figure at 0x7fac1ed86748>"
      ]
     },
     "metadata": {},
     "output_type": "display_data"
    }
   ],
   "source": [
    "# Let us visualize our data as a scatter plot\n",
    "import matplotlib.pyplot as plt\n",
    "fig,ax = plt.figure(), plt.axes()\n",
    "\n",
    "dataX, dataY = zip(*data)\n",
    "ax.plot(dataX, dataY, \"o\")\n",
    "\n",
    "plt.show()\n"
   ]
  },
  {
   "cell_type": "code",
   "execution_count": 77,
   "metadata": {},
   "outputs": [
    {
     "name": "stdout",
     "output_type": "stream",
     "text": [
      "Help on function polyfit in module numpy.lib.polynomial:\n",
      "\n",
      "polyfit(x, y, deg, rcond=None, full=False, w=None, cov=False)\n",
      "    Least squares polynomial fit.\n",
      "    \n",
      "    Fit a polynomial ``p(x) = p[0] * x**deg + ... + p[deg]`` of degree `deg`\n",
      "    to points `(x, y)`. Returns a vector of coefficients `p` that minimises\n",
      "    the squared error.\n",
      "    \n",
      "    Parameters\n",
      "    ----------\n",
      "    x : array_like, shape (M,)\n",
      "        x-coordinates of the M sample points ``(x[i], y[i])``.\n",
      "    y : array_like, shape (M,) or (M, K)\n",
      "        y-coordinates of the sample points. Several data sets of sample\n",
      "        points sharing the same x-coordinates can be fitted at once by\n",
      "        passing in a 2D-array that contains one dataset per column.\n",
      "    deg : int\n",
      "        Degree of the fitting polynomial\n",
      "    rcond : float, optional\n",
      "        Relative condition number of the fit. Singular values smaller than\n",
      "        this relative to the largest singular value will be ignored. The\n",
      "        default value is len(x)*eps, where eps is the relative precision of\n",
      "        the float type, about 2e-16 in most cases.\n",
      "    full : bool, optional\n",
      "        Switch determining nature of return value. When it is False (the\n",
      "        default) just the coefficients are returned, when True diagnostic\n",
      "        information from the singular value decomposition is also returned.\n",
      "    w : array_like, shape (M,), optional\n",
      "        Weights to apply to the y-coordinates of the sample points. For\n",
      "        gaussian uncertainties, use 1/sigma (not 1/sigma**2).\n",
      "    cov : bool, optional\n",
      "        Return the estimate and the covariance matrix of the estimate\n",
      "        If full is True, then cov is not returned.\n",
      "    \n",
      "    Returns\n",
      "    -------\n",
      "    p : ndarray, shape (deg + 1,) or (deg + 1, K)\n",
      "        Polynomial coefficients, highest power first.  If `y` was 2-D, the\n",
      "        coefficients for `k`-th data set are in ``p[:,k]``.\n",
      "    \n",
      "    residuals, rank, singular_values, rcond\n",
      "        Present only if `full` = True.  Residuals of the least-squares fit,\n",
      "        the effective rank of the scaled Vandermonde coefficient matrix,\n",
      "        its singular values, and the specified value of `rcond`. For more\n",
      "        details, see `linalg.lstsq`.\n",
      "    \n",
      "    V : ndarray, shape (M,M) or (M,M,K)\n",
      "        Present only if `full` = False and `cov`=True.  The covariance\n",
      "        matrix of the polynomial coefficient estimates.  The diagonal of\n",
      "        this matrix are the variance estimates for each coefficient.  If y\n",
      "        is a 2-D array, then the covariance matrix for the `k`-th data set\n",
      "        are in ``V[:,:,k]``\n",
      "    \n",
      "    \n",
      "    Warns\n",
      "    -----\n",
      "    RankWarning\n",
      "        The rank of the coefficient matrix in the least-squares fit is\n",
      "        deficient. The warning is only raised if `full` = False.\n",
      "    \n",
      "        The warnings can be turned off by\n",
      "    \n",
      "        >>> import warnings\n",
      "        >>> warnings.simplefilter('ignore', np.RankWarning)\n",
      "    \n",
      "    See Also\n",
      "    --------\n",
      "    polyval : Compute polynomial values.\n",
      "    linalg.lstsq : Computes a least-squares fit.\n",
      "    scipy.interpolate.UnivariateSpline : Computes spline fits.\n",
      "    \n",
      "    Notes\n",
      "    -----\n",
      "    The solution minimizes the squared error\n",
      "    \n",
      "    .. math ::\n",
      "        E = \\sum_{j=0}^k |p(x_j) - y_j|^2\n",
      "    \n",
      "    in the equations::\n",
      "    \n",
      "        x[0]**n * p[0] + ... + x[0] * p[n-1] + p[n] = y[0]\n",
      "        x[1]**n * p[0] + ... + x[1] * p[n-1] + p[n] = y[1]\n",
      "        ...\n",
      "        x[k]**n * p[0] + ... + x[k] * p[n-1] + p[n] = y[k]\n",
      "    \n",
      "    The coefficient matrix of the coefficients `p` is a Vandermonde matrix.\n",
      "    \n",
      "    `polyfit` issues a `RankWarning` when the least-squares fit is badly\n",
      "    conditioned. This implies that the best fit is not well-defined due\n",
      "    to numerical error. The results may be improved by lowering the polynomial\n",
      "    degree or by replacing `x` by `x` - `x`.mean(). The `rcond` parameter\n",
      "    can also be set to a value smaller than its default, but the resulting\n",
      "    fit may be spurious: including contributions from the small singular\n",
      "    values can add numerical noise to the result.\n",
      "    \n",
      "    Note that fitting polynomial coefficients is inherently badly conditioned\n",
      "    when the degree of the polynomial is large or the interval of sample points\n",
      "    is badly centered. The quality of the fit should always be checked in these\n",
      "    cases. When polynomial fits are not satisfactory, splines may be a good\n",
      "    alternative.\n",
      "    \n",
      "    References\n",
      "    ----------\n",
      "    .. [1] Wikipedia, \"Curve fitting\",\n",
      "           http://en.wikipedia.org/wiki/Curve_fitting\n",
      "    .. [2] Wikipedia, \"Polynomial interpolation\",\n",
      "           http://en.wikipedia.org/wiki/Polynomial_interpolation\n",
      "    \n",
      "    Examples\n",
      "    --------\n",
      "    >>> x = np.array([0.0, 1.0, 2.0, 3.0,  4.0,  5.0])\n",
      "    >>> y = np.array([0.0, 0.8, 0.9, 0.1, -0.8, -1.0])\n",
      "    >>> z = np.polyfit(x, y, 3)\n",
      "    >>> z\n",
      "    array([ 0.08703704, -0.81349206,  1.69312169, -0.03968254])\n",
      "    \n",
      "    It is convenient to use `poly1d` objects for dealing with polynomials:\n",
      "    \n",
      "    >>> p = np.poly1d(z)\n",
      "    >>> p(0.5)\n",
      "    0.6143849206349179\n",
      "    >>> p(3.5)\n",
      "    -0.34732142857143039\n",
      "    >>> p(10)\n",
      "    22.579365079365115\n",
      "    \n",
      "    High-order polynomials may oscillate wildly:\n",
      "    \n",
      "    >>> p30 = np.poly1d(np.polyfit(x, y, 30))\n",
      "    /... RankWarning: Polyfit may be poorly conditioned...\n",
      "    >>> p30(4)\n",
      "    -0.80000000000000204\n",
      "    >>> p30(5)\n",
      "    -0.99999999999999445\n",
      "    >>> p30(4.5)\n",
      "    -0.10547061179440398\n",
      "    \n",
      "    Illustration:\n",
      "    \n",
      "    >>> import matplotlib.pyplot as plt\n",
      "    >>> xp = np.linspace(-2, 6, 100)\n",
      "    >>> _ = plt.plot(x, y, '.', xp, p(xp), '-', xp, p30(xp), '--')\n",
      "    >>> plt.ylim(-2,2)\n",
      "    (-2, 2)\n",
      "    >>> plt.show()\n",
      "\n"
     ]
    }
   ],
   "source": [
    "# We will use the numpy \"polyfit\" and \"poly1d  functions\n",
    "# to fit polynomials to our data using a \"least squares fit\"\n",
    "\n",
    "# We first look up these functions' help \n",
    "# to understand how to use them\n",
    "import numpy as np\n",
    "help(np.polyfit)"
   ]
  },
  {
   "cell_type": "code",
   "execution_count": 63,
   "metadata": {},
   "outputs": [
    {
     "name": "stdout",
     "output_type": "stream",
     "text": [
      "Help on class poly1d in module numpy.lib.polynomial:\n",
      "\n",
      "class poly1d(builtins.object)\n",
      " |  A one-dimensional polynomial class.\n",
      " |  \n",
      " |  A convenience class, used to encapsulate \"natural\" operations on\n",
      " |  polynomials so that said operations may take on their customary\n",
      " |  form in code (see Examples).\n",
      " |  \n",
      " |  Parameters\n",
      " |  ----------\n",
      " |  c_or_r : array_like\n",
      " |      The polynomial's coefficients, in decreasing powers, or if\n",
      " |      the value of the second parameter is True, the polynomial's\n",
      " |      roots (values where the polynomial evaluates to 0).  For example,\n",
      " |      ``poly1d([1, 2, 3])`` returns an object that represents\n",
      " |      :math:`x^2 + 2x + 3`, whereas ``poly1d([1, 2, 3], True)`` returns\n",
      " |      one that represents :math:`(x-1)(x-2)(x-3) = x^3 - 6x^2 + 11x -6`.\n",
      " |  r : bool, optional\n",
      " |      If True, `c_or_r` specifies the polynomial's roots; the default\n",
      " |      is False.\n",
      " |  variable : str, optional\n",
      " |      Changes the variable used when printing `p` from `x` to `variable`\n",
      " |      (see Examples).\n",
      " |  \n",
      " |  Examples\n",
      " |  --------\n",
      " |  Construct the polynomial :math:`x^2 + 2x + 3`:\n",
      " |  \n",
      " |  >>> p = np.poly1d([1, 2, 3])\n",
      " |  >>> print(np.poly1d(p))\n",
      " |     2\n",
      " |  1 x + 2 x + 3\n",
      " |  \n",
      " |  Evaluate the polynomial at :math:`x = 0.5`:\n",
      " |  \n",
      " |  >>> p(0.5)\n",
      " |  4.25\n",
      " |  \n",
      " |  Find the roots:\n",
      " |  \n",
      " |  >>> p.r\n",
      " |  array([-1.+1.41421356j, -1.-1.41421356j])\n",
      " |  >>> p(p.r)\n",
      " |  array([ -4.44089210e-16+0.j,  -4.44089210e-16+0.j])\n",
      " |  \n",
      " |  These numbers in the previous line represent (0, 0) to machine precision\n",
      " |  \n",
      " |  Show the coefficients:\n",
      " |  \n",
      " |  >>> p.c\n",
      " |  array([1, 2, 3])\n",
      " |  \n",
      " |  Display the order (the leading zero-coefficients are removed):\n",
      " |  \n",
      " |  >>> p.order\n",
      " |  2\n",
      " |  \n",
      " |  Show the coefficient of the k-th power in the polynomial\n",
      " |  (which is equivalent to ``p.c[-(i+1)]``):\n",
      " |  \n",
      " |  >>> p[1]\n",
      " |  2\n",
      " |  \n",
      " |  Polynomials can be added, subtracted, multiplied, and divided\n",
      " |  (returns quotient and remainder):\n",
      " |  \n",
      " |  >>> p * p\n",
      " |  poly1d([ 1,  4, 10, 12,  9])\n",
      " |  \n",
      " |  >>> (p**3 + 4) / p\n",
      " |  (poly1d([  1.,   4.,  10.,  12.,   9.]), poly1d([ 4.]))\n",
      " |  \n",
      " |  ``asarray(p)`` gives the coefficient array, so polynomials can be\n",
      " |  used in all functions that accept arrays:\n",
      " |  \n",
      " |  >>> p**2 # square of polynomial\n",
      " |  poly1d([ 1,  4, 10, 12,  9])\n",
      " |  \n",
      " |  >>> np.square(p) # square of individual coefficients\n",
      " |  array([1, 4, 9])\n",
      " |  \n",
      " |  The variable used in the string representation of `p` can be modified,\n",
      " |  using the `variable` parameter:\n",
      " |  \n",
      " |  >>> p = np.poly1d([1,2,3], variable='z')\n",
      " |  >>> print(p)\n",
      " |     2\n",
      " |  1 z + 2 z + 3\n",
      " |  \n",
      " |  Construct a polynomial from its roots:\n",
      " |  \n",
      " |  >>> np.poly1d([1, 2], True)\n",
      " |  poly1d([ 1, -3,  2])\n",
      " |  \n",
      " |  This is the same polynomial as obtained by:\n",
      " |  \n",
      " |  >>> np.poly1d([1, -1]) * np.poly1d([1, -2])\n",
      " |  poly1d([ 1, -3,  2])\n",
      " |  \n",
      " |  Methods defined here:\n",
      " |  \n",
      " |  __add__(self, other)\n",
      " |  \n",
      " |  __array__(self, t=None)\n",
      " |  \n",
      " |  __call__(self, val)\n",
      " |      Call self as a function.\n",
      " |  \n",
      " |  __div__(self, other)\n",
      " |  \n",
      " |  __eq__(self, other)\n",
      " |      Return self==value.\n",
      " |  \n",
      " |  __getitem__(self, val)\n",
      " |  \n",
      " |  __init__(self, c_or_r, r=False, variable=None)\n",
      " |      Initialize self.  See help(type(self)) for accurate signature.\n",
      " |  \n",
      " |  __iter__(self)\n",
      " |  \n",
      " |  __len__(self)\n",
      " |  \n",
      " |  __mul__(self, other)\n",
      " |  \n",
      " |  __ne__(self, other)\n",
      " |      Return self!=value.\n",
      " |  \n",
      " |  __neg__(self)\n",
      " |  \n",
      " |  __pos__(self)\n",
      " |  \n",
      " |  __pow__(self, val)\n",
      " |  \n",
      " |  __radd__(self, other)\n",
      " |  \n",
      " |  __rdiv__(self, other)\n",
      " |  \n",
      " |  __repr__(self)\n",
      " |      Return repr(self).\n",
      " |  \n",
      " |  __rmul__(self, other)\n",
      " |  \n",
      " |  __rsub__(self, other)\n",
      " |  \n",
      " |  __rtruediv__ = __rdiv__(self, other)\n",
      " |  \n",
      " |  __setitem__(self, key, val)\n",
      " |  \n",
      " |  __str__(self)\n",
      " |      Return str(self).\n",
      " |  \n",
      " |  __sub__(self, other)\n",
      " |  \n",
      " |  __truediv__ = __div__(self, other)\n",
      " |  \n",
      " |  deriv(self, m=1)\n",
      " |      Return a derivative of this polynomial.\n",
      " |      \n",
      " |      Refer to `polyder` for full documentation.\n",
      " |      \n",
      " |      See Also\n",
      " |      --------\n",
      " |      polyder : equivalent function\n",
      " |  \n",
      " |  integ(self, m=1, k=0)\n",
      " |      Return an antiderivative (indefinite integral) of this polynomial.\n",
      " |      \n",
      " |      Refer to `polyint` for full documentation.\n",
      " |      \n",
      " |      See Also\n",
      " |      --------\n",
      " |      polyint : equivalent function\n",
      " |  \n",
      " |  ----------------------------------------------------------------------\n",
      " |  Data descriptors defined here:\n",
      " |  \n",
      " |  __dict__\n",
      " |      dictionary for instance variables (if defined)\n",
      " |  \n",
      " |  __weakref__\n",
      " |      list of weak references to the object (if defined)\n",
      " |  \n",
      " |  c\n",
      " |      The polynomial coefficients\n",
      " |  \n",
      " |  coef\n",
      " |      The polynomial coefficients\n",
      " |  \n",
      " |  coefficients\n",
      " |      The polynomial coefficients\n",
      " |  \n",
      " |  coeffs\n",
      " |      The polynomial coefficients\n",
      " |  \n",
      " |  o\n",
      " |      The order or degree of the polynomial\n",
      " |  \n",
      " |  order\n",
      " |      The order or degree of the polynomial\n",
      " |  \n",
      " |  r\n",
      " |      The roots of the polynomial, where self(x) == 0\n",
      " |  \n",
      " |  roots\n",
      " |      The roots of the polynomial, where self(x) == 0\n",
      " |  \n",
      " |  variable\n",
      " |      The name of the polynomial variable\n",
      " |  \n",
      " |  ----------------------------------------------------------------------\n",
      " |  Data and other attributes defined here:\n",
      " |  \n",
      " |  __hash__ = None\n",
      "\n"
     ]
    }
   ],
   "source": [
    "help(np.poly1d)"
   ]
  },
  {
   "cell_type": "code",
   "execution_count": 94,
   "metadata": {},
   "outputs": [
    {
     "name": "stderr",
     "output_type": "stream",
     "text": [
      "/home/miek/stuff/devenv/lib/python3.6/site-packages/ipykernel_launcher.py:9: RankWarning: Polyfit may be poorly conditioned\n",
      "  if __name__ == '__main__':\n"
     ]
    }
   ],
   "source": [
    "# For any n points we can fit a unique \n",
    "# (n-1)th-degree polynomial through the points\n",
    "# so that the polynomial passes exactly through the \n",
    "# data points\n",
    "\n",
    "# Lets find the coefficients of a\n",
    "# 19th degree polynomial p that passes \n",
    "# through all 20 points\n",
    "p_coeffs = np.polyfit(dataX,dataY, 19)"
   ]
  },
  {
   "cell_type": "code",
   "execution_count": 95,
   "metadata": {},
   "outputs": [
    {
     "data": {
      "text/plain": [
       "array([ -3.18539670e+02,   6.68603366e+03,  -5.89570950e+04,\n",
       "         2.67908425e+05,  -5.32306604e+05,  -5.99817584e+05,\n",
       "         5.72029885e+06,  -8.69702146e+06,  -2.55751219e+07,\n",
       "         1.56254880e+08,  -3.95305093e+08,   6.32806621e+08,\n",
       "        -7.01142368e+08,   5.51343098e+08,  -3.06943392e+08,\n",
       "         1.18340402e+08,  -3.02547577e+07,   4.75522618e+06,\n",
       "        -3.98557673e+05,   1.25918369e+04])"
      ]
     },
     "execution_count": 95,
     "metadata": {},
     "output_type": "execute_result"
    }
   ],
   "source": [
    "p_coeffs"
   ]
  },
  {
   "cell_type": "code",
   "execution_count": 96,
   "metadata": {
    "collapsed": true
   },
   "outputs": [],
   "source": [
    "# We construct a function, that outputs the value\n",
    "# of the polynomial with these coeeficients\n",
    "p = np.poly1d(p_coeffs)"
   ]
  },
  {
   "cell_type": "code",
   "execution_count": 97,
   "metadata": {},
   "outputs": [
    {
     "data": {
      "image/png": "[encoded data removed]",
      "text/latex": [
       "$$- 318.53966981043 x^{19} + 6686.0336559197 x^{18} - 58957.0950235226 x^{17} + 267908.424710235 x^{16} - 532306.603594159 x^{15} - 599817.583786623 x^{14} + 5720298.84687654 x^{13} - 8697021.46134197 x^{12} - 25575121.9103217 x^{11} + 156254880.201103 x^{10} - 395305092.65404 x^{9} + 632806620.888263 x^{8} - 701142367.606734 x^{7} + 551343098.312033 x^{6} - 306943392.361484 x^{5} + 118340401.947435 x^{4} - 30254757.692942 x^{3} + 4755226.18257813 x^{2} - 398557.67261348 x + 12591.8368556302$$"
      ],
      "text/plain": [
       "                   19                    18                     17            \n",
       "- 318.53966981043⋅x   + 6686.0336559197⋅x   - 58957.0950235226⋅x   + 267908.42\n",
       "\n",
       "         16                     15                     14                     \n",
       "4710235⋅x   - 532306.603594159⋅x   - 599817.583786623⋅x   + 5720298.84687654⋅x\n",
       "\n",
       "13                     12                     11                     10       \n",
       "   - 8697021.46134197⋅x   - 25575121.9103217⋅x   + 156254880.201103⋅x   - 3953\n",
       "\n",
       "             9                     8                     7                    \n",
       "05092.65404⋅x  + 632806620.888263⋅x  - 701142367.606734⋅x  + 551343098.312033⋅\n",
       "\n",
       " 6                     5                     4                    3           \n",
       "x  - 306943392.361484⋅x  + 118340401.947435⋅x  - 30254757.692942⋅x  + 4755226.\n",
       "\n",
       "          2                                       \n",
       "18257813⋅x  - 398557.67261348⋅x + 12591.8368556302"
      ]
     },
     "execution_count": 97,
     "metadata": {},
     "output_type": "execute_result"
    }
   ],
   "source": [
    "# We can see what this polynomial is \n",
    "# by evaluating p9_function(x) with x \n",
    "# some sympy symbol. \n",
    "\n",
    "import sympy\n",
    "sympy.init_printing()\n",
    "from sympy.abc import x\n",
    "\n",
    "sympy.expand(p(x))"
   ]
  },
  {
   "cell_type": "code",
   "execution_count": null,
   "metadata": {
    "collapsed": true
   },
   "outputs": [],
   "source": [
    "# Compare the coefficients of our polynomial\n",
    "# with the numbers in p_coeffs"
   ]
  },
  {
   "cell_type": "code",
   "execution_count": 98,
   "metadata": {},
   "outputs": [
    {
     "data": {
      "image/png": "[encoded data removed]",
      "text/plain": [
       "<matplotlib.figure.Figure at 0x7fac1e7ec320>"
      ]
     },
     "metadata": {},
     "output_type": "display_data"
    }
   ],
   "source": [
    "# Let us plot our data and p_deg9 together\n",
    "X = np.linspace(0,3,100)\n",
    "Y = p(X)\n",
    "\n",
    "fig, ax = plt.figure(), plt.axes()\n",
    "\n",
    "ax.plot(dataX,dataY, \"o\")\n",
    "ax.plot(X,Y)\n",
    "plt.show()"
   ]
  },
  {
   "cell_type": "code",
   "execution_count": 99,
   "metadata": {},
   "outputs": [
    {
     "data": {
      "image/png": "[encoded data removed]",
      "text/plain": [
       "<matplotlib.figure.Figure at 0x7fac1e7d7780>"
      ]
     },
     "metadata": {},
     "output_type": "display_data"
    }
   ],
   "source": [
    "# Notice how this 19th degree polynomial passes\n",
    "# through every data point, but oscilates\n",
    "# quite wildly out of the range of the Y-coordinates \n",
    "# of the data points: the interval [-2,9].\n",
    "# This polynomial is \"over fitted\" to the data.\n",
    "\n",
    "# Let's look closer\n",
    "X = np.linspace(0,3,100)\n",
    "Y = p(X)\n",
    "\n",
    "fig, ax = plt.figure(), plt.axes()\n",
    "ax.set_ylim(-5,20)\n",
    "\n",
    "ax.plot(dataX,dataY, \"o\")\n",
    "ax.plot(X,Y)\n",
    "plt.show()"
   ]
  },
  {
   "cell_type": "code",
   "execution_count": 100,
   "metadata": {},
   "outputs": [
    {
     "data": {
      "image/png": "[encoded data removed]",
      "text/latex": [
       "$$1.5425209779946 x^{2} - 1.66731287670702 x + 0.50459290367134$$"
      ],
      "text/plain": [
       "                 2                                        \n",
       "1.5425209779946⋅x  - 1.66731287670702⋅x + 0.50459290367134"
      ]
     },
     "execution_count": 100,
     "metadata": {},
     "output_type": "execute_result"
    }
   ],
   "source": [
    "# Let us fit 2nd degree polynomial q, \n",
    "# i.e., a parabola, to the same data\n",
    "q_coeffs = np.polyfit(dataX,dataY, 2)\n",
    "q = np.poly1d(q_coeffs)\n",
    "sympy.expand(q(x))"
   ]
  },
  {
   "cell_type": "code",
   "execution_count": 102,
   "metadata": {},
   "outputs": [
    {
     "data": {
      "image/png": "[encoded data removed]",
      "text/plain": [
       "<matplotlib.figure.Figure at 0x7fac1ec801d0>"
      ]
     },
     "metadata": {},
     "output_type": "display_data"
    }
   ],
   "source": [
    "# ... and plot our data \n",
    "# along with p and q \n",
    "# on the same set of axes\n",
    "fig, ax = plt.figure(), plt.axes()\n",
    "ax.set_ylim(-5,20)\n",
    "\n",
    "X = np.linspace(0,3,100)\n",
    "\n",
    "ax.plot(dataX,dataY, \"o\")\n",
    "ax.plot(X,p(X))\n",
    "ax.plot(X,q(X))\n",
    "\n",
    "plt.show()"
   ]
  },
  {
   "cell_type": "code",
   "execution_count": 103,
   "metadata": {
    "collapsed": true
   },
   "outputs": [],
   "source": [
    "# Notice how the parabola does not \n",
    "# pass through all the datapoints,\n",
    "# but matches the trend of the data\n",
    "# much closer than the 19th degree polynomial.\n",
    "\n",
    "# That is not unexpected if you consider how our\n",
    "# data points were generated:\n",
    "#\n",
    "# import random\n",
    "# X = [round(random.uniform(0,3), 2) for _ in range(20)]\n",
    "# Y = [round(x**2 + random.uniform(-2,2), 2) for x in X]\n",
    "# data = list(zip(X,Y))"
   ]
  }
 ],
 "metadata": {
  "kernelspec": {
   "display_name": "Python3.5_devenv",
   "language": "python",
   "name": "python3.5_devenv"
  },
  "language_info": {
   "codemirror_mode": {
    "name": "ipython",
    "version": 3
   },
   "file_extension": ".py",
   "mimetype": "text/x-python",
   "name": "python",
   "nbconvert_exporter": "python",
   "pygments_lexer": "ipython3",
   "version": "3.6.3"
  }
 },
 "nbformat": 4,
 "nbformat_minor": 2
}
